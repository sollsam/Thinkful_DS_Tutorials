{
 "cells": [
  {
   "cell_type": "markdown",
   "metadata": {},
   "source": [
    "# Unsupervised capstone \n",
    "\n",
    "In this assignment we will use text corpora from project gutenburg. The objective is to generate features using unsupervised learning methods, predict the authors using supervised learning models, and create clusters and compare how the authors are clustered."
   ]
  },
  {
   "cell_type": "code",
   "execution_count": 1,
   "metadata": {},
   "outputs": [],
   "source": [
    "# imports \n",
    "%matplotlib inline\n",
    "import numpy as np\n",
    "import pandas as pd\n",
    "import scipy\n",
    "import sklearn\n",
    "import matplotlib.pyplot as plt\n",
    "import seaborn as sns\n",
    "import re\n",
    "import nltk\n",
    "from nltk.stem import SnowballStemmer\n",
    "from nltk.corpus import stopwords\n",
    "from sklearn.model_selection import train_test_split\n",
    "import time\n",
    "from sklearn import metrics\n",
    "\n",
    "from sklearn import ensemble\n",
    "from sklearn.neighbors import KNeighborsClassifier\n",
    "from sklearn.model_selection import GridSearchCV\n",
    "from sklearn.model_selection import cross_val_score\n"
   ]
  },
  {
   "cell_type": "code",
   "execution_count": 2,
   "metadata": {},
   "outputs": [
    {
     "name": "stdout",
     "output_type": "stream",
     "text": [
      "[nltk_data] Downloading package gutenberg to\n",
      "[nltk_data]     C:\\Users\\Omistaja\\AppData\\Roaming\\nltk_data...\n",
      "[nltk_data]   Package gutenberg is already up-to-date!\n"
     ]
    },
    {
     "data": {
      "text/plain": [
       "True"
      ]
     },
     "execution_count": 2,
     "metadata": {},
     "output_type": "execute_result"
    }
   ],
   "source": [
    "# download package\n",
    "nltk.download('gutenberg')"
   ]
  },
  {
   "cell_type": "code",
   "execution_count": 3,
   "metadata": {},
   "outputs": [],
   "source": [
    "# import corpus\n",
    "from nltk.corpus import gutenberg, stopwords"
   ]
  },
  {
   "cell_type": "code",
   "execution_count": 4,
   "metadata": {},
   "outputs": [
    {
     "name": "stdout",
     "output_type": "stream",
     "text": [
      "['austen-emma.txt', 'austen-persuasion.txt', 'austen-sense.txt', 'bible-kjv.txt', 'blake-poems.txt', 'bryant-stories.txt', 'burgess-busterbrown.txt', 'carroll-alice.txt', 'chesterton-ball.txt', 'chesterton-brown.txt', 'chesterton-thursday.txt', 'edgeworth-parents.txt', 'melville-moby_dick.txt', 'milton-paradise.txt', 'shakespeare-caesar.txt', 'shakespeare-hamlet.txt', 'shakespeare-macbeth.txt', 'whitman-leaves.txt']\n"
     ]
    }
   ],
   "source": [
    "# see all files\n",
    "print(gutenberg.fileids())"
   ]
  },
  {
   "cell_type": "code",
   "execution_count": 5,
   "metadata": {},
   "outputs": [],
   "source": [
    "# get file as paragraphs and assign to book title\n",
    "emma = gutenberg.paras('austen-emma.txt')\n",
    "leaves = gutenberg.paras('whitman-leaves.txt')\n",
    "moby = gutenberg.paras('melville-moby_dick.txt')\n",
    "stories = gutenberg.paras('bryant-stories.txt')\n",
    "busterbrown = gutenberg.paras('burgess-busterbrown.txt')\n",
    "alice = gutenberg.paras('carroll-alice.txt')\n",
    "ball = gutenberg.paras('chesterton-ball.txt')\n",
    "parents = gutenberg.paras('edgeworth-parents.txt')\n",
    "bible = gutenberg.paras('bible-kjv.txt')\n",
    "hamlet = gutenberg.paras('shakespeare-hamlet.txt')"
   ]
  },
  {
   "cell_type": "code",
   "execution_count": 6,
   "metadata": {},
   "outputs": [],
   "source": [
    "# Group into sentences.\n",
    "alice_paras = [[para, \"Carroll\"] for para in alice]\n",
    "emma_paras = [[para, 'Austen'] for para in emma]\n",
    "leaves_paras = [[para, 'Whitman'] for para in leaves]\n",
    "moby_paras = [[para, 'Melville'] for para in moby]\n",
    "stories_paras = [[para, 'Bryant'] for para in stories]\n",
    "busterbrown_paras = [[para, 'Burgess'] for para in busterbrown]\n",
    "ball_paras = [[para, 'Chesterton'] for para in ball]\n",
    "parents_paras = [[para, 'Edgeworth'] for para in parents]\n",
    "bible_paras = [[para, 'KJV'] for para in bible]\n",
    "hamlet_paras = [[para, 'Shakespeare'] for para in hamlet]\n",
    "\n",
    "\n",
    "# Combine the sentences from the two novels into one data frame.\n",
    "paragraphs = pd.DataFrame(alice_paras + emma_paras + leaves_paras + moby_paras + stories_paras + busterbrown_paras + \n",
    "                          ball_paras + parents_paras + bible_paras + hamlet_paras)\n"
   ]
  },
  {
   "cell_type": "code",
   "execution_count": 7,
   "metadata": {},
   "outputs": [
    {
     "data": {
      "text/html": [
       "<div>\n",
       "<style scoped>\n",
       "    .dataframe tbody tr th:only-of-type {\n",
       "        vertical-align: middle;\n",
       "    }\n",
       "\n",
       "    .dataframe tbody tr th {\n",
       "        vertical-align: top;\n",
       "    }\n",
       "\n",
       "    .dataframe thead th {\n",
       "        text-align: right;\n",
       "    }\n",
       "</style>\n",
       "<table border=\"1\" class=\"dataframe\">\n",
       "  <thead>\n",
       "    <tr style=\"text-align: right;\">\n",
       "      <th></th>\n",
       "      <th>0</th>\n",
       "      <th>1</th>\n",
       "    </tr>\n",
       "  </thead>\n",
       "  <tbody>\n",
       "    <tr>\n",
       "      <th>40799</th>\n",
       "      <td>[[Ham, .], [O, I, dye, Horatio, :, The, potent...</td>\n",
       "      <td>Shakespeare</td>\n",
       "    </tr>\n",
       "    <tr>\n",
       "      <th>40800</th>\n",
       "      <td>[[Dyes]]</td>\n",
       "      <td>Shakespeare</td>\n",
       "    </tr>\n",
       "    <tr>\n",
       "      <th>40801</th>\n",
       "      <td>[[Hora, .], [Now, cracke, a, Noble, heart, :, ...</td>\n",
       "      <td>Shakespeare</td>\n",
       "    </tr>\n",
       "    <tr>\n",
       "      <th>40802</th>\n",
       "      <td>[[Fortin, .], [Where, is, this, sight, ?], [Ho...</td>\n",
       "      <td>Shakespeare</td>\n",
       "    </tr>\n",
       "    <tr>\n",
       "      <th>40803</th>\n",
       "      <td>[[For, .], [His, quarry, cries, on, hauocke, ....</td>\n",
       "      <td>Shakespeare</td>\n",
       "    </tr>\n",
       "    <tr>\n",
       "      <th>40804</th>\n",
       "      <td>[[Amb, .], [The, sight, is, dismall, ,, And, o...</td>\n",
       "      <td>Shakespeare</td>\n",
       "    </tr>\n",
       "    <tr>\n",
       "      <th>40805</th>\n",
       "      <td>[[For, .], [Let, vs, hast, to, heare, it, ,, A...</td>\n",
       "      <td>Shakespeare</td>\n",
       "    </tr>\n",
       "    <tr>\n",
       "      <th>40806</th>\n",
       "      <td>[[For, .], [Let, foure, Captaines, Beare, Haml...</td>\n",
       "      <td>Shakespeare</td>\n",
       "    </tr>\n",
       "    <tr>\n",
       "      <th>40807</th>\n",
       "      <td>[[Exeunt, .], [Marching, :, after, the, which,...</td>\n",
       "      <td>Shakespeare</td>\n",
       "    </tr>\n",
       "    <tr>\n",
       "      <th>40808</th>\n",
       "      <td>[[FINIS, .], [The, tragedie, of, HAMLET, ,, Pr...</td>\n",
       "      <td>Shakespeare</td>\n",
       "    </tr>\n",
       "  </tbody>\n",
       "</table>\n",
       "</div>"
      ],
      "text/plain": [
       "                                                       0            1\n",
       "40799  [[Ham, .], [O, I, dye, Horatio, :, The, potent...  Shakespeare\n",
       "40800                                           [[Dyes]]  Shakespeare\n",
       "40801  [[Hora, .], [Now, cracke, a, Noble, heart, :, ...  Shakespeare\n",
       "40802  [[Fortin, .], [Where, is, this, sight, ?], [Ho...  Shakespeare\n",
       "40803  [[For, .], [His, quarry, cries, on, hauocke, ....  Shakespeare\n",
       "40804  [[Amb, .], [The, sight, is, dismall, ,, And, o...  Shakespeare\n",
       "40805  [[For, .], [Let, vs, hast, to, heare, it, ,, A...  Shakespeare\n",
       "40806  [[For, .], [Let, foure, Captaines, Beare, Haml...  Shakespeare\n",
       "40807  [[Exeunt, .], [Marching, :, after, the, which,...  Shakespeare\n",
       "40808  [[FINIS, .], [The, tragedie, of, HAMLET, ,, Pr...  Shakespeare"
      ]
     },
     "execution_count": 7,
     "metadata": {},
     "output_type": "execute_result"
    }
   ],
   "source": [
    "#preview \n",
    "paragraphs.tail(10)"
   ]
  },
  {
   "cell_type": "code",
   "execution_count": 8,
   "metadata": {
    "scrolled": false
   },
   "outputs": [
    {
     "name": "stdout",
     "output_type": "stream",
     "text": [
      "<class 'pandas.core.frame.DataFrame'>\n",
      "RangeIndex: 40809 entries, 0 to 40808\n",
      "Data columns (total 2 columns):\n",
      "0    40809 non-null object\n",
      "1    40809 non-null object\n",
      "dtypes: object(2)\n",
      "memory usage: 637.7+ KB\n"
     ]
    }
   ],
   "source": [
    "# inspect \n",
    "paragraphs.info()"
   ]
  },
  {
   "cell_type": "code",
   "execution_count": 9,
   "metadata": {},
   "outputs": [],
   "source": [
    "# rename columns\n",
    "paragraphs.columns = ['paragraph', 'Author']"
   ]
  },
  {
   "cell_type": "code",
   "execution_count": 11,
   "metadata": {
    "scrolled": true
   },
   "outputs": [
    {
     "data": {
      "text/html": [
       "<div>\n",
       "<style scoped>\n",
       "    .dataframe tbody tr th:only-of-type {\n",
       "        vertical-align: middle;\n",
       "    }\n",
       "\n",
       "    .dataframe tbody tr th {\n",
       "        vertical-align: top;\n",
       "    }\n",
       "\n",
       "    .dataframe thead th {\n",
       "        text-align: right;\n",
       "    }\n",
       "</style>\n",
       "<table border=\"1\" class=\"dataframe\">\n",
       "  <thead>\n",
       "    <tr style=\"text-align: right;\">\n",
       "      <th></th>\n",
       "      <th>paragraph</th>\n",
       "      <th>Author</th>\n",
       "    </tr>\n",
       "  </thead>\n",
       "  <tbody>\n",
       "    <tr>\n",
       "      <th>0</th>\n",
       "      <td>[['[', 'Alice', \"'\", 's', 'Adventures', 'in', ...</td>\n",
       "      <td>Carroll</td>\n",
       "    </tr>\n",
       "    <tr>\n",
       "      <th>1</th>\n",
       "      <td>[['CHAPTER', 'I', '.'], ['Down', 'the', 'Rabbi...</td>\n",
       "      <td>Carroll</td>\n",
       "    </tr>\n",
       "    <tr>\n",
       "      <th>2</th>\n",
       "      <td>[['Alice', 'was', 'beginning', 'to', 'get', 'v...</td>\n",
       "      <td>Carroll</td>\n",
       "    </tr>\n",
       "    <tr>\n",
       "      <th>3</th>\n",
       "      <td>[['So', 'she', 'was', 'considering', 'in', 'he...</td>\n",
       "      <td>Carroll</td>\n",
       "    </tr>\n",
       "    <tr>\n",
       "      <th>4</th>\n",
       "      <td>[['There', 'was', 'nothing', 'so', 'VERY', 're...</td>\n",
       "      <td>Carroll</td>\n",
       "    </tr>\n",
       "  </tbody>\n",
       "</table>\n",
       "</div>"
      ],
      "text/plain": [
       "                                           paragraph   Author\n",
       "0  [['[', 'Alice', \"'\", 's', 'Adventures', 'in', ...  Carroll\n",
       "1  [['CHAPTER', 'I', '.'], ['Down', 'the', 'Rabbi...  Carroll\n",
       "2  [['Alice', 'was', 'beginning', 'to', 'get', 'v...  Carroll\n",
       "3  [['So', 'she', 'was', 'considering', 'in', 'he...  Carroll\n",
       "4  [['There', 'was', 'nothing', 'so', 'VERY', 're...  Carroll"
      ]
     },
     "execution_count": 11,
     "metadata": {},
     "output_type": "execute_result"
    }
   ],
   "source": [
    "# inspect\n",
    "paragraphs.head()"
   ]
  },
  {
   "cell_type": "code",
   "execution_count": 13,
   "metadata": {},
   "outputs": [],
   "source": [
    "# we'll use stop words and stemmer to parse the paragraphs\n",
    "stemmer = SnowballStemmer('english')\n",
    "words = stopwords.words(\"english\")"
   ]
  },
  {
   "cell_type": "code",
   "execution_count": 14,
   "metadata": {},
   "outputs": [],
   "source": [
    "# clean our text data by applying the tools above and also keeping only characters A-Z  \n",
    "paragraphs['paragraph'] = paragraphs['paragraph'].apply(lambda x: \" \".join([stemmer.stem(i) for i in re.sub(\"[^a-zA-Z]\", \" \", x).split() if i not in words]).lower())"
   ]
  },
  {
   "cell_type": "code",
   "execution_count": 15,
   "metadata": {},
   "outputs": [
    {
     "data": {
      "text/html": [
       "<div>\n",
       "<style scoped>\n",
       "    .dataframe tbody tr th:only-of-type {\n",
       "        vertical-align: middle;\n",
       "    }\n",
       "\n",
       "    .dataframe tbody tr th {\n",
       "        vertical-align: top;\n",
       "    }\n",
       "\n",
       "    .dataframe thead th {\n",
       "        text-align: right;\n",
       "    }\n",
       "</style>\n",
       "<table border=\"1\" class=\"dataframe\">\n",
       "  <thead>\n",
       "    <tr style=\"text-align: right;\">\n",
       "      <th></th>\n",
       "      <th>paragraph</th>\n",
       "      <th>Author</th>\n",
       "    </tr>\n",
       "  </thead>\n",
       "  <tbody>\n",
       "    <tr>\n",
       "      <th>0</th>\n",
       "      <td>alic adventur wonderland lewi carrol</td>\n",
       "      <td>Carroll</td>\n",
       "    </tr>\n",
       "    <tr>\n",
       "      <th>1</th>\n",
       "      <td>chapter i down rabbit hole</td>\n",
       "      <td>Carroll</td>\n",
       "    </tr>\n",
       "    <tr>\n",
       "      <th>2</th>\n",
       "      <td>alic begin get tire sit sister bank noth twice...</td>\n",
       "      <td>Carroll</td>\n",
       "    </tr>\n",
       "    <tr>\n",
       "      <th>3</th>\n",
       "      <td>so consid mind well could hot day made feel sl...</td>\n",
       "      <td>Carroll</td>\n",
       "    </tr>\n",
       "    <tr>\n",
       "      <th>4</th>\n",
       "      <td>there noth veri remark alic think veri much wa...</td>\n",
       "      <td>Carroll</td>\n",
       "    </tr>\n",
       "  </tbody>\n",
       "</table>\n",
       "</div>"
      ],
      "text/plain": [
       "                                           paragraph   Author\n",
       "0               alic adventur wonderland lewi carrol  Carroll\n",
       "1                         chapter i down rabbit hole  Carroll\n",
       "2  alic begin get tire sit sister bank noth twice...  Carroll\n",
       "3  so consid mind well could hot day made feel sl...  Carroll\n",
       "4  there noth veri remark alic think veri much wa...  Carroll"
      ]
     },
     "execution_count": 15,
     "metadata": {},
     "output_type": "execute_result"
    }
   ],
   "source": [
    "#preview\n",
    "paragraphs.head()"
   ]
  },
  {
   "cell_type": "code",
   "execution_count": 16,
   "metadata": {},
   "outputs": [],
   "source": [
    "# keep paragraphs with 10 characters or more\n",
    "paragraphs_long = pd.DataFrame(paragraphs[paragraphs['paragraph'].apply(lambda x: len(x.split(' ')) > 10)])"
   ]
  },
  {
   "cell_type": "code",
   "execution_count": 17,
   "metadata": {},
   "outputs": [
    {
     "data": {
      "text/html": [
       "<div>\n",
       "<style scoped>\n",
       "    .dataframe tbody tr th:only-of-type {\n",
       "        vertical-align: middle;\n",
       "    }\n",
       "\n",
       "    .dataframe tbody tr th {\n",
       "        vertical-align: top;\n",
       "    }\n",
       "\n",
       "    .dataframe thead th {\n",
       "        text-align: right;\n",
       "    }\n",
       "</style>\n",
       "<table border=\"1\" class=\"dataframe\">\n",
       "  <thead>\n",
       "    <tr style=\"text-align: right;\">\n",
       "      <th></th>\n",
       "      <th>paragraph</th>\n",
       "      <th>Author</th>\n",
       "    </tr>\n",
       "  </thead>\n",
       "  <tbody>\n",
       "    <tr>\n",
       "      <th>2</th>\n",
       "      <td>alic begin get tire sit sister bank noth twice...</td>\n",
       "      <td>Carroll</td>\n",
       "    </tr>\n",
       "    <tr>\n",
       "      <th>3</th>\n",
       "      <td>so consid mind well could hot day made feel sl...</td>\n",
       "      <td>Carroll</td>\n",
       "    </tr>\n",
       "    <tr>\n",
       "      <th>4</th>\n",
       "      <td>there noth veri remark alic think veri much wa...</td>\n",
       "      <td>Carroll</td>\n",
       "    </tr>\n",
       "    <tr>\n",
       "      <th>6</th>\n",
       "      <td>the rabbit hole went straight like tunnel way ...</td>\n",
       "      <td>Carroll</td>\n",
       "    </tr>\n",
       "    <tr>\n",
       "      <th>7</th>\n",
       "      <td>either well deep fell slowli plenti time went ...</td>\n",
       "      <td>Carroll</td>\n",
       "    </tr>\n",
       "  </tbody>\n",
       "</table>\n",
       "</div>"
      ],
      "text/plain": [
       "                                           paragraph   Author\n",
       "2  alic begin get tire sit sister bank noth twice...  Carroll\n",
       "3  so consid mind well could hot day made feel sl...  Carroll\n",
       "4  there noth veri remark alic think veri much wa...  Carroll\n",
       "6  the rabbit hole went straight like tunnel way ...  Carroll\n",
       "7  either well deep fell slowli plenti time went ...  Carroll"
      ]
     },
     "execution_count": 17,
     "metadata": {},
     "output_type": "execute_result"
    }
   ],
   "source": [
    "paragraphs_long.head()"
   ]
  },
  {
   "cell_type": "code",
   "execution_count": 18,
   "metadata": {},
   "outputs": [
    {
     "data": {
      "text/plain": [
       "dtype('O')"
      ]
     },
     "execution_count": 18,
     "metadata": {},
     "output_type": "execute_result"
    }
   ],
   "source": [
    "paragraphs_long.paragraph.dtype"
   ]
  },
  {
   "cell_type": "code",
   "execution_count": 19,
   "metadata": {},
   "outputs": [
    {
     "data": {
      "text/plain": [
       "(28149, 2)"
      ]
     },
     "execution_count": 19,
     "metadata": {},
     "output_type": "execute_result"
    }
   ],
   "source": [
    "paragraphs_long.shape"
   ]
  },
  {
   "cell_type": "code",
   "execution_count": 20,
   "metadata": {
    "scrolled": true
   },
   "outputs": [
    {
     "name": "stdout",
     "output_type": "stream",
     "text": [
      "flow river flow flood tide ebb ebb tide frolic crest scallop edg wave gorgeous cloud sunset drench splendor men women generat cross shore shore countless crowd passeng stand tall mast mannahatta stand beauti hill brooklyn throb baffl curious brain throw question answer suspend everywher etern float solut gaze love thirst eye hous street public assembl sound voic young men loud music call nighest name live old life play part look back actor actress play old role role great small accord one make consid perus whether i may unknown way look upon be firm rail river support lean idl yet hast hast current fli sea bird fli sideway wheel larg circl high air receiv summer sky water faith hold till downcast eye time take diverg fine spoke light shape head one head sunlit water come ship lower bay pass white sail schooner sloop lighter flaunt away flag nation duli lower sunset burn high fire foundri chimney cast black shadow nightfal cast red yellow light top hous appear henceforth indic you necessari film continu envelop soul about bodi bodi hung divinest aroma thrive citi bring freight bring show ampl suffici river expand none els perhap spiritu keep place object none els last\n"
     ]
    }
   ],
   "source": [
    "# sample paragraph\n",
    "print(paragraphs_long.paragraph[3957])"
   ]
  },
  {
   "cell_type": "code",
   "execution_count": 22,
   "metadata": {},
   "outputs": [],
   "source": [
    "# reset index\n",
    "paragraphs_long=paragraphs_long.reset_index()"
   ]
  },
  {
   "cell_type": "code",
   "execution_count": 23,
   "metadata": {},
   "outputs": [],
   "source": [
    "# drop index column\n",
    "paragraphs_long=paragraphs_long.drop(['index'],axis=1)"
   ]
  },
  {
   "cell_type": "code",
   "execution_count": 24,
   "metadata": {},
   "outputs": [
    {
     "data": {
      "text/html": [
       "<div>\n",
       "<style scoped>\n",
       "    .dataframe tbody tr th:only-of-type {\n",
       "        vertical-align: middle;\n",
       "    }\n",
       "\n",
       "    .dataframe tbody tr th {\n",
       "        vertical-align: top;\n",
       "    }\n",
       "\n",
       "    .dataframe thead th {\n",
       "        text-align: right;\n",
       "    }\n",
       "</style>\n",
       "<table border=\"1\" class=\"dataframe\">\n",
       "  <thead>\n",
       "    <tr style=\"text-align: right;\">\n",
       "      <th></th>\n",
       "      <th>paragraph</th>\n",
       "      <th>Author</th>\n",
       "    </tr>\n",
       "  </thead>\n",
       "  <tbody>\n",
       "    <tr>\n",
       "      <th>0</th>\n",
       "      <td>alic begin get tire sit sister bank noth twice...</td>\n",
       "      <td>Carroll</td>\n",
       "    </tr>\n",
       "    <tr>\n",
       "      <th>1</th>\n",
       "      <td>so consid mind well could hot day made feel sl...</td>\n",
       "      <td>Carroll</td>\n",
       "    </tr>\n",
       "    <tr>\n",
       "      <th>2</th>\n",
       "      <td>there noth veri remark alic think veri much wa...</td>\n",
       "      <td>Carroll</td>\n",
       "    </tr>\n",
       "    <tr>\n",
       "      <th>3</th>\n",
       "      <td>the rabbit hole went straight like tunnel way ...</td>\n",
       "      <td>Carroll</td>\n",
       "    </tr>\n",
       "    <tr>\n",
       "      <th>4</th>\n",
       "      <td>either well deep fell slowli plenti time went ...</td>\n",
       "      <td>Carroll</td>\n",
       "    </tr>\n",
       "  </tbody>\n",
       "</table>\n",
       "</div>"
      ],
      "text/plain": [
       "                                           paragraph   Author\n",
       "0  alic begin get tire sit sister bank noth twice...  Carroll\n",
       "1  so consid mind well could hot day made feel sl...  Carroll\n",
       "2  there noth veri remark alic think veri much wa...  Carroll\n",
       "3  the rabbit hole went straight like tunnel way ...  Carroll\n",
       "4  either well deep fell slowli plenti time went ...  Carroll"
      ]
     },
     "execution_count": 24,
     "metadata": {},
     "output_type": "execute_result"
    }
   ],
   "source": [
    "# inspect\n",
    "paragraphs_long.head()"
   ]
  },
  {
   "cell_type": "code",
   "execution_count": 25,
   "metadata": {},
   "outputs": [
    {
     "data": {
      "text/plain": [
       "paragraph    object\n",
       "Author       object\n",
       "dtype: object"
      ]
     },
     "execution_count": 25,
     "metadata": {},
     "output_type": "execute_result"
    }
   ],
   "source": [
    "#check data type\n",
    "paragraphs_long.dtypes"
   ]
  },
  {
   "cell_type": "code",
   "execution_count": 26,
   "metadata": {
    "scrolled": false
   },
   "outputs": [
    {
     "name": "stdout",
     "output_type": "stream",
     "text": [
      "KJV            17002\n",
      "Edgeworth       2473\n",
      "Melville        2057\n",
      "Whitman         1904\n",
      "Austen          1810\n",
      "Chesterton      1067\n",
      "Bryant           760\n",
      "Carroll          455\n",
      "Shakespeare      434\n",
      "Burgess          187\n",
      "Name: Author, dtype: int64\n",
      "Number of Paragraphs by Authors\n"
     ]
    },
    {
     "data": {
      "image/png": "[encoded data removed]",
      "text/plain": [
       "<Figure size 432x288 with 1 Axes>"
      ]
     },
     "metadata": {},
     "output_type": "display_data"
    }
   ],
   "source": [
    "# Display class counts\n",
    "print(paragraphs_long.Author.value_counts())\n",
    "print('Number of Paragraphs by Authors')\n",
    "\n",
    "sns.countplot(x='Author', data=paragraphs_long, palette='hls')\n",
    "plt.title('Number of Paragraphs by Author')\n",
    "plt.xticks(rotation=90)\n",
    "plt.show()"
   ]
  },
  {
   "cell_type": "markdown",
   "metadata": {},
   "source": [
    "We're not looking for exactly balanced class groups but, KJV has a much higher paragraph count than the rest and to avoid the whole signal being dominated by it, we'll reduce it to a much closer count. "
   ]
  },
  {
   "cell_type": "code",
   "execution_count": 27,
   "metadata": {
    "scrolled": false
   },
   "outputs": [
    {
     "name": "stdout",
     "output_type": "stream",
     "text": [
      "KJV            3000\n",
      "Edgeworth      2473\n",
      "Melville       2057\n",
      "Whitman        1904\n",
      "Austen         1810\n",
      "Chesterton     1067\n",
      "Bryant          760\n",
      "Carroll         455\n",
      "Shakespeare     434\n",
      "Burgess         187\n",
      "Name: Author, dtype: int64\n",
      "KJV class downsampled\n"
     ]
    },
    {
     "data": {
      "image/png": "[encoded data removed]",
      "text/plain": [
       "<Figure size 432x288 with 1 Axes>"
      ]
     },
     "metadata": {},
     "output_type": "display_data"
    }
   ],
   "source": [
    "#Import module and resampling \n",
    "\n",
    "from sklearn.utils import resample\n",
    "\n",
    "# Separate majority and minority classes\n",
    "paragraphs_long_majority = paragraphs_long[paragraphs_long.Author=='KJV']\n",
    "paragraphs_long_minority = paragraphs_long[paragraphs_long.Author!='KJV']\n",
    " \n",
    "# Downsample majority overall class\n",
    "paragraphs_long_majority_downsampled = resample(paragraphs_long_majority, \n",
    "                                 replace=False,    # sample without replacement\n",
    "                                 n_samples=3000,     # Just higher than others as the length of each paragraph is smaller\n",
    "                                 random_state=123) # reproducible results\n",
    " \n",
    "# Combine minority class with downsampled majority overall class\n",
    "paragraphs_final = pd.concat([paragraphs_long_majority_downsampled, paragraphs_long_minority])\n",
    " \n",
    "# Display new class counts\n",
    "print(paragraphs_final.Author.value_counts())\n",
    "print('KJV class downsampled')\n",
    "\n",
    "sns.countplot(x='Author', data=paragraphs_final, palette='hls')\n",
    "plt.title('New class proportion')\n",
    "plt.xticks(rotation=90)\n",
    "plt.show()"
   ]
  },
  {
   "cell_type": "code",
   "execution_count": 28,
   "metadata": {},
   "outputs": [
    {
     "data": {
      "text/plain": [
       "paragraph    0\n",
       "Author       0\n",
       "dtype: int64"
      ]
     },
     "execution_count": 28,
     "metadata": {},
     "output_type": "execute_result"
    }
   ],
   "source": [
    "# check for missing values\n",
    "paragraphs_final.isnull().sum()"
   ]
  },
  {
   "cell_type": "code",
   "execution_count": 30,
   "metadata": {},
   "outputs": [],
   "source": [
    "# reset index again\n",
    "paragraphs_final=paragraphs_final.reset_index()"
   ]
  },
  {
   "cell_type": "code",
   "execution_count": 31,
   "metadata": {},
   "outputs": [],
   "source": [
    "# reset index again\n",
    "paragraphs_final=paragraphs_final.drop(['index'],axis=1)"
   ]
  },
  {
   "cell_type": "code",
   "execution_count": 32,
   "metadata": {},
   "outputs": [
    {
     "data": {
      "text/html": [
       "<div>\n",
       "<style scoped>\n",
       "    .dataframe tbody tr th:only-of-type {\n",
       "        vertical-align: middle;\n",
       "    }\n",
       "\n",
       "    .dataframe tbody tr th {\n",
       "        vertical-align: top;\n",
       "    }\n",
       "\n",
       "    .dataframe thead th {\n",
       "        text-align: right;\n",
       "    }\n",
       "</style>\n",
       "<table border=\"1\" class=\"dataframe\">\n",
       "  <thead>\n",
       "    <tr style=\"text-align: right;\">\n",
       "      <th></th>\n",
       "      <th>paragraph</th>\n",
       "      <th>Author</th>\n",
       "    </tr>\n",
       "  </thead>\n",
       "  <tbody>\n",
       "    <tr>\n",
       "      <th>0</th>\n",
       "      <td>and father refus said i know son i know also s...</td>\n",
       "      <td>KJV</td>\n",
       "    </tr>\n",
       "    <tr>\n",
       "      <th>1</th>\n",
       "      <td>for five thousand men and said discipl make si...</td>\n",
       "      <td>KJV</td>\n",
       "    </tr>\n",
       "    <tr>\n",
       "      <th>2</th>\n",
       "      <td>and aros prophet sinc israel like unto mose lo...</td>\n",
       "      <td>KJV</td>\n",
       "    </tr>\n",
       "    <tr>\n",
       "      <th>3</th>\n",
       "      <td>in first year darius son ahasuerus seed mede m...</td>\n",
       "      <td>KJV</td>\n",
       "    </tr>\n",
       "    <tr>\n",
       "      <th>4</th>\n",
       "      <td>and border drawn thenc compass corner sea sout...</td>\n",
       "      <td>KJV</td>\n",
       "    </tr>\n",
       "  </tbody>\n",
       "</table>\n",
       "</div>"
      ],
      "text/plain": [
       "                                           paragraph Author\n",
       "0  and father refus said i know son i know also s...    KJV\n",
       "1  for five thousand men and said discipl make si...    KJV\n",
       "2  and aros prophet sinc israel like unto mose lo...    KJV\n",
       "3  in first year darius son ahasuerus seed mede m...    KJV\n",
       "4  and border drawn thenc compass corner sea sout...    KJV"
      ]
     },
     "execution_count": 32,
     "metadata": {},
     "output_type": "execute_result"
    }
   ],
   "source": [
    "paragraphs_final.head()"
   ]
  },
  {
   "cell_type": "code",
   "execution_count": 33,
   "metadata": {},
   "outputs": [],
   "source": [
    "# define dependent and independent variables\n",
    "X = paragraphs_final['paragraph']\n",
    "Y = paragraphs_final['Author']"
   ]
  },
  {
   "cell_type": "code",
   "execution_count": 35,
   "metadata": {
    "scrolled": true
   },
   "outputs": [
    {
     "data": {
      "text/plain": [
       "0    and father refus said i know son i know also s...\n",
       "1    for five thousand men and said discipl make si...\n",
       "2    and aros prophet sinc israel like unto mose lo...\n",
       "3    in first year darius son ahasuerus seed mede m...\n",
       "4    and border drawn thenc compass corner sea sout...\n",
       "Name: paragraph, dtype: object"
      ]
     },
     "execution_count": 35,
     "metadata": {},
     "output_type": "execute_result"
    }
   ],
   "source": [
    "# inspect \n",
    "X.head()"
   ]
  },
  {
   "cell_type": "code",
   "execution_count": 36,
   "metadata": {},
   "outputs": [],
   "source": [
    "# split the data for training and testing.\n",
    "X_train, X_test, y_train, y_test = train_test_split(X, Y, test_size=0.3, random_state=42)"
   ]
  },
  {
   "cell_type": "code",
   "execution_count": 37,
   "metadata": {},
   "outputs": [
    {
     "data": {
      "text/plain": [
       "(9902,)"
      ]
     },
     "execution_count": 37,
     "metadata": {},
     "output_type": "execute_result"
    }
   ],
   "source": [
    "# inspect\n",
    "X_train.shape"
   ]
  },
  {
   "cell_type": "code",
   "execution_count": 38,
   "metadata": {
    "scrolled": true
   },
   "outputs": [
    {
     "data": {
      "text/plain": [
       "4053     yes entir entir choic colonel mrs campbel thin...\n",
       "12554    will i shall much oblig said ben away went boy...\n",
       "108      and went children israel priest levit singer p...\n",
       "6497     of state poet equabl man not thing grotesqu ec...\n",
       "4874     no said emma reckon low a conundrum mr weston ...\n",
       "Name: paragraph, dtype: object"
      ]
     },
     "execution_count": 38,
     "metadata": {},
     "output_type": "execute_result"
    }
   ],
   "source": [
    "# inspect\n",
    "X_train.head()"
   ]
  },
  {
   "cell_type": "markdown",
   "metadata": {},
   "source": [
    "## Unsupervised feature generation using tf-idf "
   ]
  },
  {
   "cell_type": "code",
   "execution_count": 39,
   "metadata": {},
   "outputs": [],
   "source": [
    "# import module and initialize vectorizer\n",
    "from sklearn.feature_extraction.text import TfidfVectorizer\n",
    "\n",
    "vectorizer = TfidfVectorizer(max_df=0.5, # drop words that occur in more than half the paragraphs\n",
    "                             min_df=2, # only use words that appear at least twice\n",
    "                             stop_words='english', \n",
    "                             lowercase=True, #convert everything to lower case (since Alice in Wonderland has the HABIT of CAPITALIZING WORDS for EMPHASIS)\n",
    "                             use_idf=True,#we definitely want to use inverse document frequencies in our weighting\n",
    "                             norm=u'l2', #Applies a correction factor so that longer paragraphs and shorter paragraphs get treated equally\n",
    "                             smooth_idf=True #Adds 1 to all document frequencies, as if an extra document existed that used every word once.  Prevents divide-by-zero errors\n",
    "                            )"
   ]
  },
  {
   "cell_type": "code",
   "execution_count": 40,
   "metadata": {},
   "outputs": [],
   "source": [
    "# fit and transform \n",
    "X_train_tf=vectorizer.fit_transform(X_train)\n",
    "X_test_tf=vectorizer.transform(X_test)"
   ]
  },
  {
   "cell_type": "code",
   "execution_count": 41,
   "metadata": {},
   "outputs": [
    {
     "name": "stdout",
     "output_type": "stream",
     "text": [
      "(9902,)\n",
      "(9902, 10136)\n"
     ]
    }
   ],
   "source": [
    "# inspect shape\n",
    "print(X_train.shape)\n",
    "print(X_train_tf.shape)"
   ]
  },
  {
   "cell_type": "markdown",
   "metadata": {},
   "source": [
    "## Supervised models with tfi-df features.\n",
    "\n",
    "Now we will use supervised learning thechniques to predict authors using features we generated using unsupervised method"
   ]
  },
  {
   "cell_type": "markdown",
   "metadata": {},
   "source": [
    "## KNN"
   ]
  },
  {
   "cell_type": "code",
   "execution_count": 43,
   "metadata": {
    "scrolled": false
   },
   "outputs": [
    {
     "name": "stdout",
     "output_type": "stream",
     "text": [
      "training set score [0.65156093 0.64127144 0.63838384 0.65098634 0.63682347]\n",
      "\n",
      "test set score [0.54449649 0.57344301 0.57294118 0.56737589 0.57345972]\n",
      "--- 9.316364351613036 seconds ---\n"
     ]
    }
   ],
   "source": [
    "# Fit the data to knn model \n",
    "start_time = time.clock()\n",
    "neigh = KNeighborsClassifier(n_neighbors=1000, weights='distance')\n",
    "\n",
    "neigh.fit(X_train_tf, y_train)\n",
    "y_knn = neigh.predict(X_test_tf)\n",
    "\n",
    "print('training set score', cross_val_score(neigh, X_train_tf, y_train, cv=5))\n",
    "print('\\ntest set score', cross_val_score(neigh, X_test_tf, y_test, cv=5))\n",
    "\n",
    "\n",
    "#print('Training set score:', neigh.score(X_train_tf, y_train))\n",
    "#print('\\nTest set score:', neigh.score(X_test_tf, y_test))\n",
    "\n",
    "#score_knn = cross_val_score(neigh, X, Y, cv=10)\n",
    "#print(score_knn)\n",
    "\n",
    "print(\"--- %s seconds ---\" % (time.clock() - start_time))"
   ]
  },
  {
   "cell_type": "markdown",
   "metadata": {},
   "source": [
    "The predictions are only a little better than random guess. KNN looks unsutable for high dimentional data. We'll next see logistics regression models as the regularization parameters might help with high dimentionality.  "
   ]
  },
  {
   "cell_type": "markdown",
   "metadata": {},
   "source": [
    "## Logistics regression"
   ]
  },
  {
   "cell_type": "code",
   "execution_count": 44,
   "metadata": {},
   "outputs": [
    {
     "name": "stdout",
     "output_type": "stream",
     "text": [
      "training set score [0.87311178 0.87588295 0.89393939 0.88517956 0.86899342]\n",
      "\n",
      "test set score [0.81498829 0.8213866  0.82235294 0.83451537 0.83412322]\n",
      "--- 4.269431811539384 seconds ---\n"
     ]
    }
   ],
   "source": [
    "# Binary classification using logistics \n",
    "from sklearn.linear_model import LogisticRegression\n",
    "start_time = time.clock()\n",
    "logreg = LogisticRegression()\n",
    "logreg.fit(X_train_tf, y_train)\n",
    "\n",
    "# Predict using the test set\n",
    "y_logreg = logreg.predict(X_test_tf)\n",
    "\n",
    "# Evaluations\n",
    "print('training set score', cross_val_score(logreg, X_train_tf, y_train, cv=5))\n",
    "print('\\ntest set score', cross_val_score(logreg, X_test_tf, y_test, cv=5))\n",
    "\n",
    "print(\"--- %s seconds ---\" % (time.clock() - start_time))"
   ]
  },
  {
   "cell_type": "markdown",
   "metadata": {},
   "source": [
    "The cross validation scores are high and consistent along training and test sets. "
   ]
  },
  {
   "cell_type": "markdown",
   "metadata": {},
   "source": [
    "## Lasso"
   ]
  },
  {
   "cell_type": "code",
   "execution_count": 45,
   "metadata": {},
   "outputs": [
    {
     "name": "stdout",
     "output_type": "stream",
     "text": [
      "training set score [0.83635448 0.83350151 0.85555556 0.84269095 0.83055134]\n",
      "\n",
      "test set score [0.77868852 0.77320799 0.78705882 0.77895981 0.76303318]\n",
      "--- 2.9938918321815464 seconds ---\n"
     ]
    }
   ],
   "source": [
    "start_time = time.clock()\n",
    "lasso = LogisticRegression(penalty='l1')\n",
    "lasso.fit(X_train_tf, y_train)\n",
    "\n",
    "y_lasso = lasso.predict(X_test_tf)\n",
    "\n",
    "# Evaluations\n",
    "print('training set score', cross_val_score(lasso, X_train_tf, y_train, cv=5))\n",
    "print('\\ntest set score', cross_val_score(lasso, X_test_tf, y_test, cv=5))\n",
    "\n",
    "print(\"--- %s seconds ---\" % (time.clock() - start_time))"
   ]
  },
  {
   "cell_type": "markdown",
   "metadata": {},
   "source": [
    "The 'l1' penalty doesn't seem to improve the score from the vanila logistics regression model. "
   ]
  },
  {
   "cell_type": "markdown",
   "metadata": {},
   "source": [
    "## Random Forest"
   ]
  },
  {
   "cell_type": "code",
   "execution_count": 46,
   "metadata": {},
   "outputs": [
    {
     "name": "stdout",
     "output_type": "stream",
     "text": [
      "training set score [0.77240685 0.75580222 0.77474747 0.7516439  0.72736469]\n",
      "\n",
      "test set score [0.73770492 0.73678026 0.75176471 0.71158392 0.73578199]\n",
      "--- 154.59453345433616 seconds ---\n"
     ]
    }
   ],
   "source": [
    "start_time = time.clock()\n",
    "forest_para = {'criterion':['gini','entropy'],'max_depth':[4,5,6,7,8,9,10,11,12,15,20,30,40,50,70,90,120,150, 200, 300, 500]}\n",
    "forest = GridSearchCV(ensemble.RandomForestClassifier(), forest_para, cv=5)\n",
    "grid_fit_forest = forest.fit(X_train_tf, y_train)\n",
    "\n",
    "best_forest = grid_fit_forest.best_estimator_\n",
    "y_forest = best_forest.predict(X_test_tf)\n",
    "\n",
    "print('training set score', cross_val_score(best_forest, X_train_tf, y_train, cv=5))\n",
    "print('\\ntest set score', cross_val_score(best_forest, X_test_tf, y_test, cv=5))\n",
    "\n",
    "print(\"--- %s seconds ---\" % (time.clock() - start_time))"
   ]
  },
  {
   "cell_type": "markdown",
   "metadata": {},
   "source": [
    "Logistics regression is the clear winner and we have demonstrated that features generated with unsupervised method can be used to fit supervised models and get a prediction with a high accuracy. "
   ]
  },
  {
   "cell_type": "code",
   "execution_count": 102,
   "metadata": {},
   "outputs": [
    {
     "name": "stdout",
     "output_type": "stream",
     "text": [
      "['Chesterton' 'Melville' 'Whitman' 'KJV' 'Edgeworth' 'Whitman' 'Whitman'\n",
      " 'Edgeworth' 'Edgeworth' 'Austen' 'Whitman' 'Edgeworth' 'Whitman'\n",
      " 'Melville' 'Whitman' 'Melville' 'Melville' 'KJV' 'Edgeworth' 'Edgeworth']\n"
     ]
    }
   ],
   "source": [
    "# the first 20 predictions\n",
    "print(y_logreg[:20])"
   ]
  },
  {
   "cell_type": "markdown",
   "metadata": {},
   "source": [
    "## Clustering the paragraphs\n",
    "\n",
    "### Dimentionality reduction using LSA\n",
    "\n",
    "So Latent Semantic Analysis (LSA) is the process of applying PCA to a tf-idf term-document matrix. What we get, in the end, is clusters of terms that presumably reflect a topic. Each document will get a score for each topic, with higher scores indicating that the document is relevant to the topic. "
   ]
  },
  {
   "cell_type": "code",
   "execution_count": 49,
   "metadata": {
    "scrolled": false
   },
   "outputs": [
    {
     "name": "stdout",
     "output_type": "stream",
     "text": [
      "Percent variance captured by all components: 94.38085058825797\n",
      "Component 0:\n",
      "paragraph\n",
      "the lord thi god rais unto thee prophet midst thee thi brethren like unto unto ye shall hearken accord thou desiredst lord thi god horeb day assembl say let hear voic lord god neither let see great fire i die                                                      0.429013\n",
      "then went king david sat lord said who i o lord god hous thou hast brought hitherto and yet small thing thi sight o lord god thou hast spoken also thi servant hous great come and manner man o lord god and david say unto thee thou lord god knowest thi servant    0.405742\n",
      "for coven i make hous israel day saith lord i put law mind write heart i god shall peopl and shall teach everi man neighbour everi man brother say know lord shall know least greatest                                                                                0.379364\n",
      "seven day shalt thou keep solemn feast unto lord thi god place lord shall choos lord thi god shall bless thee thine increas work thine hand therefor thou shalt sure rejoic                                                                                           0.376721\n",
      "then manoah intreat lord said o lord let man god thou didst send come unto us teach us shall unto child shall born                                                                                                                                                    0.376047\n",
      "Name: 0, dtype: float64\n",
      "Component 1:\n",
      "paragraph\n",
      "the lord shall bring thee thi king thou shalt set thee unto nation neither thou thi father known shalt thou serv god wood stone                                                                                                                                                                                     0.505947\n",
      "the lord thi god rais unto thee prophet midst thee thi brethren like unto unto ye shall hearken accord thou desiredst lord thi god horeb day assembl say let hear voic lord god neither let see great fire i die                                                                                                    0.493961\n",
      "and lord thi god enlarg thi coast hath sworn unto thi father give thee land promis give unto thi father if thou shalt keep command i command thee day love lord thi god walk ever way shalt thou add three citi thee besid three that innoc blood shed thi land lord thi god giveth thee inherit blood upon thee    0.486470\n",
      "seven day shalt thou keep solemn feast unto lord thi god place lord shall choos lord thi god shall bless thee thine increas work thine hand therefor thou shalt sure rejoic                                                                                                                                         0.481427\n",
      "and thi brother nigh unto thee thou know thou shalt bring unto thine hous shall thee thi brother seek thou shalt restor                                                                                                                                                                                             0.459631\n",
      "Name: 1, dtype: float64\n",
      "Component 2:\n",
      "paragraph\n",
      "therefor night shall unto ye shall vision shall dark unto ye shall divin sun shall go prophet day shall dark    0.515548\n",
      "but ye shall name priest lord men shall call minist god ye shall eat rich gentil glori shall ye boast           0.476416\n",
      "ye shall servil work therein ye shall offer offer made fire unto lord                                           0.450398\n",
      "and shall recompens lewd upon ye shall bear sin idol ye shall know i lord god                                   0.446210\n",
      "but deliv take thought ye shall speak shall given hour ye shall speak                                           0.436650\n",
      "Name: 2, dtype: float64\n",
      "Component 3:\n",
      "paragraph\n",
      "and shall curs throne god lamb shall servant shall serv and shall see face name shall forehead                                                                                                                                                                                                                                                                                                                                                                                                                                                                                                                          0.374622\n",
      "they shall aris state they shall report natur law physiolog happi they shall illustr democraci kosmo they shall aliment amat percept they shall complet women men pose brawni suppl drink water blood clean clear they shall fulli enjoy materi sight product shall enjoy sight beef lumber bread stuff chicago great citi they shall train go public becom orat oratress strong sweet shall tongu poem materi poem shall come live shall maker finder of work shall emerg divin convey convey gospel charact event retrospect shall convey gospel tree anim water shall convey death futur invis faith shall convey    0.367935\n",
      "when thou passest water i thee river shall overflow thee thou walkest fire thou shalt burn neither shall flame kindl upon thee                                                                                                                                                                                                                                                                                                                                                                                                                                                                                          0.361006\n",
      "and thi heaven thi head shall brass earth thee shall iron                                                                                                                                                                                                                                                                                                                                                                                                                                                                                                                                                               0.346344\n",
      "all day wherein plagu shall shall defil unclean shall dwell alon without camp shall habit                                                                                                                                                                                                                                                                                                                                                                                                                                                                                                                               0.345509\n",
      "Name: 3, dtype: float64\n",
      "Component 4:\n",
      "paragraph\n",
      "and lord spake unto mose say speak unto children israel say unto i lord god                                                                                                                                                 0.386408\n",
      "and god spake unto mose said unto i lord and i appear unto abraham unto isaac unto jacob name god almighti name jehovah i known                                                                                             0.298677\n",
      "i know opinion may mrs weston said mr knightley great intimaci emma harriet smith i think bad thing                                                                                                                         0.291195\n",
      "after tea mr mrs weston mr elton sat mr woodhous card the remain five left power emma doubt get well mr knightley seem littl dispos convers mrs elton want notic nobodi inclin pay worri spirit would made prefer silent    0.289662\n",
      "and came pass day lord spake unto mose land egypt that lord spake unto mose say i lord speak thou unto pharaoh king egypt i say unto thee                                                                                   0.283945\n",
      "Name: 4, dtype: float64\n"
     ]
    }
   ],
   "source": [
    "# Import modules\n",
    "from sklearn.decomposition import TruncatedSVD\n",
    "from sklearn.pipeline import make_pipeline\n",
    "from sklearn.preprocessing import normalize, Normalizer\n",
    "\n",
    "#Our SVD data reducer.  We are going to reduce the feature space from 19704 to 2500.\n",
    "svd= TruncatedSVD(2500)\n",
    "lsa = make_pipeline(svd, Normalizer(copy=False))\n",
    "\n",
    "# Run SVD on the training data, then project the training data.\n",
    "X_train_lsa = lsa.fit_transform(X_train_tf)\n",
    "X_test_lsa = lsa.fit_transform(X_test_tf)\n",
    "\n",
    "variance_explained=svd.explained_variance_ratio_\n",
    "total_variance = variance_explained.sum()\n",
    "print(\"Percent variance captured by all components:\",total_variance*100)\n",
    "\n",
    "#Looking at what sorts of paragraphs our solution considers similar, for the first five identified topics\n",
    "paras_by_component=pd.DataFrame(X_train_lsa,index=X_train)\n",
    "for i in range(5):\n",
    "    print('Component {}:'.format(i))\n",
    "    print(paras_by_component.loc[:,i].sort_values(ascending=False)[0:5])\n",
    "\n",
    "\n"
   ]
  },
  {
   "cell_type": "markdown",
   "metadata": {},
   "source": [
    "Most of the components above have paragraphs with low scores and all of them apear to come from KJV which is the bible. They seem to have the same theme and difficult to identify what characterstics each of them have.  "
   ]
  },
  {
   "cell_type": "markdown",
   "metadata": {},
   "source": [
    "### Document similarity\n",
    "\n",
    "The similarity matrix below shows low similarity between the documents"
   ]
  },
  {
   "cell_type": "code",
   "execution_count": 50,
   "metadata": {
    "scrolled": false
   },
   "outputs": [
    {
     "data": {
      "image/png": "[encoded data removed]",
      "text/plain": [
       "<Figure size 432x288 with 2 Axes>"
      ]
     },
     "metadata": {},
     "output_type": "display_data"
    },
    {
     "name": "stdout",
     "output_type": "stream",
     "text": [
      "Key:\n",
      "0 yes entir entir choic colonel mrs campbel think quit right recommend inde particular wish tri nativ air quit well usual late\n",
      "1 will i shall much oblig said ben away went boy bow ornament green riband\n",
      "2 and went children israel priest levit singer porter nethinim unto jerusalem seventh year artaxerx king\n",
      "3 of state poet equabl man not thing grotesqu eccentr fail full return noth place good noth place bad he bestow everi object qualiti fit proport neither less he arbit divers key he equal age land he suppli want suppli check want check in peac speak spirit peac larg rich thrifti build popul town encourag agricultur art commerc light studi man soul health immort govern in war best backer war fetch artilleri good engin make everi word speak draw blood the year stray toward infidel withhold steadi faith he arguer judgment natur accept absolut he judg judg judg sun fail round helpless thing as see farthest faith his thought hymn prais thing in disput god etern silent he see etern less like play prologu denouement he see etern men women see men women dream dot\n",
      "4 no said emma reckon low a conundrum mr weston shall clear next neighbour come sir pray let hear\n",
      "5 signor camillo artist employ mr lee copi antiqu ornament herculaneum liber mind man perfect free mean jealousi would repress effort rise genius\n",
      "6 the highland made gestur assent came also almost edg precipic the sunris broaden sea shore one rare splendid one seem mist doubt noth univers clarif complet all colour transpar it seem like triumphant propheci perfect world everyth innoc intellig world even bodi speak may burn glass such world faint though fierc figur colour window christian architectur the sea lay like pavement emerald bright almost brittl sky strict horizon hung almost absolut white except close sky line like scarlet braid hem garment lay string flaki cloud gleam gorgeous red seem cut strang blood red celesti metal mere gold earth drab yellow imit\n",
      "7 coffin pass lane street through day night great cloud darken land with pomp inloop flag citi drape black with show state crape veil women stand with process long wind flambeaus night with countless torch lit silent sea face unbar head with wait depot arriv coffin sombr face with dirg night thousand voic rise strong solemn with mourn voic dirg pour around coffin the dim lit church shudder organ amid journey with toll toll bell perpetu clang here coffin slowli pass i give sprig lilac\n",
      "8 louisa like sit corner sometim write thought diari littl girl kept diari she like make stori head sometim made vers\n",
      "9 the first thing mauric show tulip root father run arthur garden search their garden separ low wall loos stone arthur arthur are garden i want but arthur made answer usual come run meet friend i know continu mauric i come fast raspberri bush let i good news someth delight see arthur ha someth i delight see i sure said poor mauric got raspberri bush come sight garden beheld bell glass belov bell glass cucumb grown fine bell glass broken piec\n"
     ]
    }
   ],
   "source": [
    "# Compute document similarity using LSA components\n",
    "similarity = np.asarray(np.asmatrix(X_train_lsa) * np.asmatrix(X_train_lsa).T)\n",
    "#Only taking the first 10 sentences\n",
    "sim_matrix=pd.DataFrame(similarity,index=X_train).iloc[0:10,0:10]\n",
    "#Making a plot\n",
    "ax = sns.heatmap(sim_matrix,yticklabels=range(10))\n",
    "plt.show()\n",
    "\n",
    "#Generating a key for the plot.\n",
    "print('Key:')\n",
    "for i in range(10):\n",
    "    print(i,sim_matrix.index[i])\n"
   ]
  },
  {
   "cell_type": "markdown",
   "metadata": {},
   "source": [
    "No sign of similarity between the paragraphs."
   ]
  }
 ],
 "metadata": {
  "kernelspec": {
   "display_name": "Python 3",
   "language": "python",
   "name": "python3"
  },
  "language_info": {
   "codemirror_mode": {
    "name": "ipython",
    "version": 3
   },
   "file_extension": ".py",
   "mimetype": "text/x-python",
   "name": "python",
   "nbconvert_exporter": "python",
   "pygments_lexer": "ipython3",
   "version": "3.6.5"
  }
 },
 "nbformat": 4,
 "nbformat_minor": 2
}
