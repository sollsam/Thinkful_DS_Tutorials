{
 "cells": [
  {
   "cell_type": "markdown",
   "metadata": {},
   "source": [
    "# Advanced Experimentation"
   ]
  },
  {
   "cell_type": "markdown",
   "metadata": {},
   "source": [
    "Using selected questions from the 2012 and 2014 editions of the <a href=\"http://www.europeansocialsurvey.org/data/round-index.html\">European Social Survey</a>, address the following questions. For each question, explain why you chose the approach you did.\n",
    "\n",
    "\n",
    "<a href='https://raw.githubusercontent.com/Thinkful-Ed/data-201-resources/master/ESS_practice_data/ESSdata_Thinkful.csv'>Here is the data file</a>. And <a href='https://thinkful-ed.github.io/data-201-resources/ESS_practice_data/ESS_codebook.html'>here is the codebook</a>, with information about the variable coding and content.\n",
    "\n",
    "In this dataset, the same participants answered questions in 2012 and again 2014.\n",
    "\n",
    "<ol>\n",
    "<li>Did people become less trusting from 2012 to 2014? Compute results for each country in the sample.</li>\n",
    "<li>Did people become happier from 2012 to 2014? Compute results for each country in the sample.</li>\n",
    "    <li>Who reported watching more TV in 2012, men or women?</li>\n",
    "<li>Who was more likely to believe people were fair in 2012, people living with a partner or people living alone?</li>\n",
    "<li>Pick three or four of the countries in the sample and compare how often people met socially in 2014. Are there differences, and if so, which countries stand out?</li>\n",
    "<li>Pick three or four of the countries in the sample and compare how often people took part in social activities, relative to others their age, in 2014. Are there differences, and if so, which countries stand out?  </li>\n",
    "</ol>\n",
    "\n"
   ]
  },
  {
   "cell_type": "code",
   "execution_count": 1,
   "metadata": {},
   "outputs": [],
   "source": [
    "import pandas as pd\n",
    "import numpy as np\n",
    "import matplotlib.pyplot as plt\n",
    "import scipy.stats as stats\n",
    "import seaborn as sns\n",
    "%matplotlib inline"
   ]
  },
  {
   "cell_type": "code",
   "execution_count": 2,
   "metadata": {},
   "outputs": [],
   "source": [
    "eus = pd.read_csv('https://raw.githubusercontent.com/Thinkful-Ed/data-201-resources/master/ESS_practice_data/ESSdata_Thinkful.csv')"
   ]
  },
  {
   "cell_type": "code",
   "execution_count": 3,
   "metadata": {},
   "outputs": [
    {
     "data": {
      "text/html": [
       "<div>\n",
       "<style scoped>\n",
       "    .dataframe tbody tr th:only-of-type {\n",
       "        vertical-align: middle;\n",
       "    }\n",
       "\n",
       "    .dataframe tbody tr th {\n",
       "        vertical-align: top;\n",
       "    }\n",
       "\n",
       "    .dataframe thead th {\n",
       "        text-align: right;\n",
       "    }\n",
       "</style>\n",
       "<table border=\"1\" class=\"dataframe\">\n",
       "  <thead>\n",
       "    <tr style=\"text-align: right;\">\n",
       "      <th></th>\n",
       "      <th>cntry</th>\n",
       "      <th>idno</th>\n",
       "      <th>year</th>\n",
       "      <th>tvtot</th>\n",
       "      <th>ppltrst</th>\n",
       "      <th>pplfair</th>\n",
       "      <th>pplhlp</th>\n",
       "      <th>happy</th>\n",
       "      <th>sclmeet</th>\n",
       "      <th>sclact</th>\n",
       "      <th>gndr</th>\n",
       "      <th>agea</th>\n",
       "      <th>partner</th>\n",
       "    </tr>\n",
       "  </thead>\n",
       "  <tbody>\n",
       "    <tr>\n",
       "      <th>0</th>\n",
       "      <td>CH</td>\n",
       "      <td>5.0</td>\n",
       "      <td>6</td>\n",
       "      <td>3.0</td>\n",
       "      <td>3.0</td>\n",
       "      <td>10.0</td>\n",
       "      <td>5.0</td>\n",
       "      <td>8.0</td>\n",
       "      <td>5.0</td>\n",
       "      <td>4.0</td>\n",
       "      <td>2.0</td>\n",
       "      <td>60.0</td>\n",
       "      <td>1.0</td>\n",
       "    </tr>\n",
       "    <tr>\n",
       "      <th>1</th>\n",
       "      <td>CH</td>\n",
       "      <td>25.0</td>\n",
       "      <td>6</td>\n",
       "      <td>6.0</td>\n",
       "      <td>5.0</td>\n",
       "      <td>7.0</td>\n",
       "      <td>5.0</td>\n",
       "      <td>9.0</td>\n",
       "      <td>3.0</td>\n",
       "      <td>2.0</td>\n",
       "      <td>2.0</td>\n",
       "      <td>59.0</td>\n",
       "      <td>1.0</td>\n",
       "    </tr>\n",
       "    <tr>\n",
       "      <th>2</th>\n",
       "      <td>CH</td>\n",
       "      <td>26.0</td>\n",
       "      <td>6</td>\n",
       "      <td>1.0</td>\n",
       "      <td>8.0</td>\n",
       "      <td>8.0</td>\n",
       "      <td>8.0</td>\n",
       "      <td>7.0</td>\n",
       "      <td>6.0</td>\n",
       "      <td>3.0</td>\n",
       "      <td>1.0</td>\n",
       "      <td>24.0</td>\n",
       "      <td>2.0</td>\n",
       "    </tr>\n",
       "    <tr>\n",
       "      <th>3</th>\n",
       "      <td>CH</td>\n",
       "      <td>28.0</td>\n",
       "      <td>6</td>\n",
       "      <td>4.0</td>\n",
       "      <td>6.0</td>\n",
       "      <td>6.0</td>\n",
       "      <td>7.0</td>\n",
       "      <td>10.0</td>\n",
       "      <td>6.0</td>\n",
       "      <td>2.0</td>\n",
       "      <td>2.0</td>\n",
       "      <td>64.0</td>\n",
       "      <td>1.0</td>\n",
       "    </tr>\n",
       "    <tr>\n",
       "      <th>4</th>\n",
       "      <td>CH</td>\n",
       "      <td>29.0</td>\n",
       "      <td>6</td>\n",
       "      <td>5.0</td>\n",
       "      <td>6.0</td>\n",
       "      <td>7.0</td>\n",
       "      <td>5.0</td>\n",
       "      <td>8.0</td>\n",
       "      <td>7.0</td>\n",
       "      <td>2.0</td>\n",
       "      <td>2.0</td>\n",
       "      <td>55.0</td>\n",
       "      <td>1.0</td>\n",
       "    </tr>\n",
       "  </tbody>\n",
       "</table>\n",
       "</div>"
      ],
      "text/plain": [
       "  cntry  idno  year  tvtot  ppltrst  pplfair  pplhlp  happy  sclmeet  sclact  \\\n",
       "0    CH   5.0     6    3.0      3.0     10.0     5.0    8.0      5.0     4.0   \n",
       "1    CH  25.0     6    6.0      5.0      7.0     5.0    9.0      3.0     2.0   \n",
       "2    CH  26.0     6    1.0      8.0      8.0     8.0    7.0      6.0     3.0   \n",
       "3    CH  28.0     6    4.0      6.0      6.0     7.0   10.0      6.0     2.0   \n",
       "4    CH  29.0     6    5.0      6.0      7.0     5.0    8.0      7.0     2.0   \n",
       "\n",
       "   gndr  agea  partner  \n",
       "0   2.0  60.0      1.0  \n",
       "1   2.0  59.0      1.0  \n",
       "2   1.0  24.0      2.0  \n",
       "3   2.0  64.0      1.0  \n",
       "4   2.0  55.0      1.0  "
      ]
     },
     "execution_count": 3,
     "metadata": {},
     "output_type": "execute_result"
    }
   ],
   "source": [
    "eus.head()"
   ]
  },
  {
   "cell_type": "markdown",
   "metadata": {},
   "source": [
    "***1. Did people become less trusting from 2012 to 2014? Compute results for each country in the sample.***"
   ]
  },
  {
   "cell_type": "markdown",
   "metadata": {},
   "source": [
    "We'll use visual inspection using histograms and Shapiro-Wilk to test for normality. "
   ]
  },
  {
   "cell_type": "code",
   "execution_count": 4,
   "metadata": {
    "scrolled": false
   },
   "outputs": [
    {
     "data": {
      "image/png": "[encoded data removed]",
      "text/plain": [
       "<Figure size 1296x432 with 12 Axes>"
      ]
     },
     "metadata": {},
     "output_type": "display_data"
    }
   ],
   "source": [
    "# visual normality inspection\n",
    "g = sns.FacetGrid(eus, row='year', col='cntry', palette='pastel', dropna=True, sharey=False)\n",
    "g = g.map(plt.hist, \"ppltrst\")"
   ]
  },
  {
   "cell_type": "code",
   "execution_count": 13,
   "metadata": {},
   "outputs": [],
   "source": [
    "# shapiro test for normality\n",
    "def eus_normaltest(self):\n",
    "    for cntry in eus['cntry'].unique():\n",
    "        X12 = eus.loc[(eus['year'] == 6) & (eus['cntry'] == cntry), self].dropna()\n",
    "        X14 = eus.loc[(eus['year'] == 7) & (eus['cntry'] == cntry), self].dropna()\n",
    "        print('\\nshapiro test {}'.format(cntry))\n",
    "        print('2012: {}'.format(stats.shapiro(X12)))\n",
    "        print('2014: {}'.format(stats.shapiro(X14)))"
   ]
  },
  {
   "cell_type": "code",
   "execution_count": 14,
   "metadata": {},
   "outputs": [
    {
     "name": "stdout",
     "output_type": "stream",
     "text": [
      "\n",
      "shapiro test CH\n",
      "2012: (0.9519361853599548, 3.4958809444132896e-15)\n",
      "2014: (0.9538647532463074, 7.692136586977955e-15)\n",
      "\n",
      "shapiro test CZ\n",
      "2012: (0.9675253629684448, 8.030776738054968e-11)\n",
      "2014: (0.9720321893692017, 7.055935835609262e-10)\n",
      "\n",
      "shapiro test DE\n",
      "2012: (0.9013110399246216, 0.1178363636136055)\n",
      "2014: (0.9425466060638428, 0.4519253373146057)\n",
      "\n",
      "shapiro test ES\n",
      "2012: (0.9496549367904663, 5.989953442559737e-20)\n",
      "2014: (0.9663764834403992, 3.892258005954379e-16)\n",
      "\n",
      "shapiro test NO\n",
      "2012: (0.9212563037872314, 4.566682699158387e-19)\n",
      "2014: (0.9296155571937561, 5.131845063891235e-18)\n",
      "\n",
      "shapiro test SE\n",
      "2012: (0.9355123043060303, 2.3822910208982595e-19)\n",
      "2014: (0.9398238658905029, 1.0416553104982269e-18)\n"
     ]
    }
   ],
   "source": [
    "eus_normaltest('ppltrst')"
   ]
  },
  {
   "cell_type": "markdown",
   "metadata": {},
   "source": [
    "**Interpretation**\n",
    "\n",
    "The null-hypothesis of sharipo test is that the population is normally distributed. Which means that except for Germany(DE), the distribution is not normal. The histogram also confirms this observation. Therefore we will use the Wilcoxon Signed-Rank test to see if there are differences in trust between 2012 and 2014. We'll use t-test for Germany. "
   ]
  },
  {
   "cell_type": "code",
   "execution_count": 15,
   "metadata": {},
   "outputs": [
    {
     "name": "stdout",
     "output_type": "stream",
     "text": [
      "\n",
      "Trust results for CH\n",
      "Mean 2012: 5.677878395860285\n",
      "Mean 2014: 5.751617076326003\n",
      "WilcoxonResult(statistic=106278.5, pvalue=0.4411286510952477)\n",
      "\n",
      "Trust results for CZ\n",
      "Mean 2012: 4.362519201228879\n",
      "Mean 2014: 4.424657534246576\n",
      "WilcoxonResult(statistic=82837.0, pvalue=0.2931891426327379)\n",
      "\n",
      "Trust results for DE\n",
      "Mean 2012: 5.214285714285714\n",
      "Mean 2014: 5.357142857142857\n",
      "WilcoxonResult(statistic=44.0, pvalue=0.9157134600899863)\n",
      "Ttest_relResult(statistic=-0.18399501804849683, pvalue=0.8568563797095805)\n",
      "\n",
      "Trust results for ES\n",
      "Mean 2012: 5.114591920857379\n",
      "Mean 2014: 4.895127993393889\n",
      "WilcoxonResult(statistic=243475.5, pvalue=0.005570829650439684)\n",
      "\n",
      "Trust results for NO\n",
      "Mean 2012: 6.64931506849315\n",
      "Mean 2014: 6.598630136986301\n",
      "WilcoxonResult(statistic=85392.0, pvalue=0.6139175669970661)\n",
      "\n",
      "Trust results for SE\n",
      "Mean 2012: 6.058498896247241\n",
      "Mean 2014: 6.257709251101321\n",
      "WilcoxonResult(statistic=130719.5, pvalue=0.028545290985536906)\n"
     ]
    },
    {
     "name": "stderr",
     "output_type": "stream",
     "text": [
      "C:\\Program Files (x86)\\Microsoft Visual Studio\\Shared\\Anaconda3_64\\lib\\site-packages\\scipy\\stats\\morestats.py:2391: RuntimeWarning: invalid value encountered in greater\n",
      "  r_plus = np.sum((d > 0) * r, axis=0)\n",
      "C:\\Program Files (x86)\\Microsoft Visual Studio\\Shared\\Anaconda3_64\\lib\\site-packages\\scipy\\stats\\morestats.py:2392: RuntimeWarning: invalid value encountered in less\n",
      "  r_minus = np.sum((d < 0) * r, axis=0)\n"
     ]
    }
   ],
   "source": [
    "# use wilcoxon ranked test for non-normal dist. where participants did both versions\n",
    "for cntry in eus['cntry'].unique():\n",
    "    X12 = eus.loc[(eus['year'] == 6) & (eus['cntry'] == cntry), 'ppltrst']\n",
    "    X14 = eus.loc[(eus['year'] == 7) & (eus['cntry'] == cntry), 'ppltrst']\n",
    "    result = stats.wilcoxon(X12, X14)\n",
    "    print('\\nTrust results for {}'.format(cntry))\n",
    "    print('Mean 2012: {}'.format(np.mean(X12)))\n",
    "    print('Mean 2014: {}'.format(np.mean(X14)))\n",
    "    print(result)\n",
    "    if cntry == 'DE':\n",
    "        print(stats.ttest_rel(X12, X14, nan_policy='omit'))"
   ]
  },
  {
   "cell_type": "markdown",
   "metadata": {},
   "source": [
    "For countries above except Spain and to a little extent Sweden, there is no difference in people's trust between they years 2012 and 2014. "
   ]
  },
  {
   "cell_type": "markdown",
   "metadata": {},
   "source": [
    "**2. Did people become happier from 2012 to 2014? Compute results for each country in the sample.** "
   ]
  },
  {
   "cell_type": "code",
   "execution_count": 16,
   "metadata": {},
   "outputs": [
    {
     "data": {
      "image/png": "[encoded data removed]",
      "text/plain": [
       "<Figure size 1296x432 with 12 Axes>"
      ]
     },
     "metadata": {},
     "output_type": "display_data"
    }
   ],
   "source": [
    "# visual normality inspection\n",
    "g = sns.FacetGrid(eus, row='year', col='cntry', palette='pastel', dropna=True, sharey=False)\n",
    "g = g.map(plt.hist, \"happy\")"
   ]
  },
  {
   "cell_type": "code",
   "execution_count": 17,
   "metadata": {},
   "outputs": [],
   "source": [
    "# shapiro test for normality\n",
    "def eus_normaltest(self):\n",
    "    for cntry in eus['cntry'].unique():\n",
    "        X12 = eus.loc[(eus['year'] == 6) & (eus['cntry'] == cntry), self].dropna()\n",
    "        X14 = eus.loc[(eus['year'] == 7) & (eus['cntry'] == cntry), self].dropna()\n",
    "        print('\\nshapiro test {}'.format(cntry))\n",
    "        print('2012: {}'.format(stats.shapiro(X12)))\n",
    "        print('2014: {}'.format(stats.shapiro(X14)))"
   ]
  },
  {
   "cell_type": "code",
   "execution_count": 18,
   "metadata": {},
   "outputs": [
    {
     "name": "stdout",
     "output_type": "stream",
     "text": [
      "\n",
      "shapiro test CH\n",
      "2012: (0.8790070414543152, 5.283100089878269e-24)\n",
      "2014: (0.8895691633224487, 4.494222618578247e-23)\n",
      "\n",
      "shapiro test CZ\n",
      "2012: (0.9485082626342773, 3.276684276015164e-14)\n",
      "2014: (0.9416089653968811, 2.5235815651389716e-15)\n",
      "\n",
      "shapiro test DE\n",
      "2012: (0.916941225528717, 0.1986599564552307)\n",
      "2014: (0.9213663339614868, 0.23006466031074524)\n",
      "\n",
      "shapiro test ES\n",
      "2012: (0.90250164270401, 4.254964729854498e-27)\n",
      "2014: (0.9102423787117004, 3.8794469092978745e-26)\n",
      "\n",
      "shapiro test NO\n",
      "2012: (0.8509966731071472, 1.3336539163043988e-25)\n",
      "2014: (0.8809076547622681, 3.1033939472688407e-23)\n",
      "\n",
      "shapiro test SE\n",
      "2012: (0.9038249254226685, 1.9533988305248914e-23)\n",
      "2014: (0.912081241607666, 1.8494631877095298e-22)\n"
     ]
    }
   ],
   "source": [
    "eus_normaltest('happy')"
   ]
  },
  {
   "cell_type": "markdown",
   "metadata": {},
   "source": [
    "**Interpretation**\n",
    "\n",
    "The null-hypothesis of sharipo test is that the population is normally distributed. Which means that except for Germany(DE), the distribution is not normal. The histogram also confirms this observation. Therefore we will use the Wilcoxon Signed-Rank test to see if there are differences in happiness between 2012 and 2014. We'll use t-test for Germany. "
   ]
  },
  {
   "cell_type": "code",
   "execution_count": 20,
   "metadata": {},
   "outputs": [
    {
     "name": "stdout",
     "output_type": "stream",
     "text": [
      "\n",
      "Happy results for CH\n",
      "Mean 2012: 8.088311688311688\n",
      "Mean 2014: 8.116429495472186\n",
      "WilcoxonResult(statistic=92816.5, pvalue=0.8208688161425343)\n",
      "\n",
      "Happy results for CZ\n",
      "Mean 2012: 6.7708978328173375\n",
      "Mean 2014: 6.914110429447852\n",
      "WilcoxonResult(statistic=73213.0, pvalue=0.01064243454053068)\n",
      "\n",
      "Happy results for DE\n",
      "Mean 2012: 7.428571428571429\n",
      "Mean 2014: 7.857142857142857\n",
      "WilcoxonResult(statistic=23.5, pvalue=0.393351316918508)\n",
      "Ttest_relResult(statistic=-0.8062257748298549, pvalue=0.4346138707734991)\n",
      "\n",
      "Happy results for ES\n",
      "Mean 2012: 7.548679867986799\n",
      "Mean 2014: 7.41996699669967\n",
      "WilcoxonResult(statistic=231958.5, pvalue=0.04923868084306013)\n",
      "\n",
      "Happy results for NO\n",
      "Mean 2012: 8.25171939477304\n",
      "Mean 2014: 7.9151846785225715\n",
      "WilcoxonResult(statistic=67571.5, pvalue=2.7264367804254175e-06)\n",
      "\n",
      "Happy results for SE\n",
      "Mean 2012: 7.907386990077177\n",
      "Mean 2014: 7.946961325966851\n",
      "WilcoxonResult(statistic=125481.0, pvalue=0.5136403441005022)\n"
     ]
    },
    {
     "name": "stderr",
     "output_type": "stream",
     "text": [
      "C:\\Program Files (x86)\\Microsoft Visual Studio\\Shared\\Anaconda3_64\\lib\\site-packages\\scipy\\stats\\morestats.py:2391: RuntimeWarning: invalid value encountered in greater\n",
      "  r_plus = np.sum((d > 0) * r, axis=0)\n",
      "C:\\Program Files (x86)\\Microsoft Visual Studio\\Shared\\Anaconda3_64\\lib\\site-packages\\scipy\\stats\\morestats.py:2392: RuntimeWarning: invalid value encountered in less\n",
      "  r_minus = np.sum((d < 0) * r, axis=0)\n"
     ]
    }
   ],
   "source": [
    "# use wilcoxon ranked test for non-normal dist. where participants did both versions\n",
    "for cntry in eus['cntry'].unique():\n",
    "    X12 = eus.loc[(eus['year'] == 6) & (eus['cntry'] == cntry), 'happy']\n",
    "    X14 = eus.loc[(eus['year'] == 7) & (eus['cntry'] == cntry), 'happy']\n",
    "    result = stats.wilcoxon(X12, X14)\n",
    "    print('\\nHappy results for {}'.format(cntry))\n",
    "    print('Mean 2012: {}'.format(np.mean(X12)))\n",
    "    print('Mean 2014: {}'.format(np.mean(X14)))\n",
    "    print(result)\n",
    "    if cntry == 'DE':\n",
    "        print(stats.ttest_rel(X12, X14, nan_policy='omit'))"
   ]
  },
  {
   "cell_type": "markdown",
   "metadata": {},
   "source": [
    "For Czech Republic, Norway and Spain, we reject the null hypothesis and conclude that people became less happy in 2014 than in 2012. There is a slight increase in happniness for Germany but the sample size is small and the p-value in just under the borderline making it not conclusive. There is no difference for other countries. "
   ]
  },
  {
   "cell_type": "markdown",
   "metadata": {},
   "source": [
    "**3. Who reported watching more TV in 2012, men or women?** "
   ]
  },
  {
   "cell_type": "markdown",
   "metadata": {},
   "source": [
    "Here we're comparing men vs women which are independent variables as a result we'll use t-test to check the difference in distribution. "
   ]
  },
  {
   "cell_type": "code",
   "execution_count": 22,
   "metadata": {},
   "outputs": [
    {
     "name": "stdout",
     "output_type": "stream",
     "text": [
      "2154\n",
      "2143\n"
     ]
    }
   ],
   "source": [
    "#Check number of observations \n",
    "print(len(eus.loc[(eus['year'] == 6) & (eus['gndr'] == 1), 'tvtot']))\n",
    "print(len(eus.loc[(eus['year'] == 6) & (eus['gndr'] == 2), 'tvtot']))"
   ]
  },
  {
   "cell_type": "code",
   "execution_count": 28,
   "metadata": {},
   "outputs": [
    {
     "data": {
      "image/png": "[encoded data removed]",
      "text/plain": [
       "<Figure size 720x288 with 2 Axes>"
      ]
     },
     "metadata": {},
     "output_type": "display_data"
    }
   ],
   "source": [
    "# check distribution visually \n",
    "tv_women_2012 = eus.loc[(eus['year'] == 6) & (eus['gndr'] == 2), 'tvtot'].dropna()\n",
    "tv_men_2012 = eus.loc[(eus['year'] == 6) & (eus['gndr'] == 1), 'tvtot'].dropna().sample(len(tv_women_2012))\n",
    "\n",
    "plt.figure(figsize=(10,4))\n",
    "plt.subplot(1,2,1)\n",
    "plt.hist(tv_men_2012.dropna())\n",
    "plt.title('tv_men')\n",
    "         \n",
    "plt.subplot(1,2,2)\n",
    "plt.hist(tv_women_2012.dropna())\n",
    "plt.title('tv_women')\n",
    "plt.show()\n"
   ]
  },
  {
   "cell_type": "code",
   "execution_count": 30,
   "metadata": {},
   "outputs": [
    {
     "name": "stdout",
     "output_type": "stream",
     "text": [
      "(0.9432481527328491, 6.385079841015724e-28)\n",
      "(0.9390434622764587, 8.488309331265169e-29)\n"
     ]
    }
   ],
   "source": [
    "#Normality test\n",
    "print(stats.shapiro(tv_men_2012))\n",
    "print(stats.shapiro(tv_women_2012))"
   ]
  },
  {
   "cell_type": "markdown",
   "metadata": {},
   "source": [
    "We can see from the plot and shapiro test that the distribution for both variables is nor normal. As a result we'll use Mann Whitney U test to check similarity.  "
   ]
  },
  {
   "cell_type": "code",
   "execution_count": 31,
   "metadata": {},
   "outputs": [
    {
     "name": "stdout",
     "output_type": "stream",
     "text": [
      "MannwhitneyuResult(statistic=2264117.5, pvalue=0.2604010515050652)\n"
     ]
    }
   ],
   "source": [
    "#Similarity test\n",
    "print(stats.mannwhitneyu(tv_men_2012, tv_women_2012))"
   ]
  },
  {
   "cell_type": "markdown",
   "metadata": {},
   "source": [
    "With a p value of 0.26, we can reject the null hypothesis and conclude that there is no difference between the amount of time men and women spent watching tv in 2012.  "
   ]
  },
  {
   "cell_type": "markdown",
   "metadata": {},
   "source": [
    "**4. Who was more likely to believe people were fair in 2012, people living with a partner or people living alone?**"
   ]
  },
  {
   "cell_type": "code",
   "execution_count": 32,
   "metadata": {},
   "outputs": [
    {
     "name": "stdout",
     "output_type": "stream",
     "text": [
      "2663\n",
      "1608\n"
     ]
    }
   ],
   "source": [
    "# 1= lives with partner, 2= live alone\n",
    "live_partner = eus.loc[(eus['partner'] == 1) & (eus['year'] == 6), 'pplfair'].dropna()\n",
    "live_alone = eus.loc[(eus['partner'] == 2) & (eus['year'] == 6), 'pplfair'].dropna()\n",
    "\n",
    "print(len(live_partner))\n",
    "print(len(live_alone))"
   ]
  },
  {
   "cell_type": "code",
   "execution_count": 33,
   "metadata": {},
   "outputs": [],
   "source": [
    "live_partner = live_partner.sample(len(live_alone))"
   ]
  },
  {
   "cell_type": "code",
   "execution_count": 35,
   "metadata": {},
   "outputs": [
    {
     "data": {
      "image/png": "[encoded data removed]",
      "text/plain": [
       "<Figure size 720x288 with 2 Axes>"
      ]
     },
     "metadata": {},
     "output_type": "display_data"
    },
    {
     "name": "stdout",
     "output_type": "stream",
     "text": [
      "(0.9405364394187927, 6.745437680903944e-25)\n",
      "(0.9561690092086792, 1.4302870646482291e-21)\n"
     ]
    }
   ],
   "source": [
    "# visual normality check\n",
    "\n",
    "plt.figure(figsize=(10,4))\n",
    "\n",
    "plt.subplot(1,2,1)\n",
    "plt.hist(live_partner)\n",
    "plt.title('lives with partner')\n",
    "\n",
    "plt.subplot(1,2,2)\n",
    "plt.hist(live_alone)\n",
    "plt.title('lives alone')\n",
    "plt.show()\n",
    "\n",
    "print(stats.shapiro(live_partner))\n",
    "print(stats.shapiro(live_alone))"
   ]
  },
  {
   "cell_type": "markdown",
   "metadata": {},
   "source": [
    "Both the shapiro test and the histogram show that the distribution is not normal. Let's use the Wilcoxon Signed-Rank test to check for differences. "
   ]
  },
  {
   "cell_type": "code",
   "execution_count": 36,
   "metadata": {},
   "outputs": [
    {
     "name": "stdout",
     "output_type": "stream",
     "text": [
      "WilcoxonResult(statistic=445114.5, pvalue=0.026586999332478423)\n"
     ]
    }
   ],
   "source": [
    "print(stats.wilcoxon(live_partner, live_alone))"
   ]
  },
  {
   "cell_type": "markdown",
   "metadata": {},
   "source": [
    "There is a significant difference between the two distributions. Let's canculate the median for comparison. "
   ]
  },
  {
   "cell_type": "code",
   "execution_count": 37,
   "metadata": {},
   "outputs": [
    {
     "name": "stdout",
     "output_type": "stream",
     "text": [
      "Lives with a partner 7.0\n",
      "Lives alone 6.0\n"
     ]
    }
   ],
   "source": [
    "print('Lives with a partner', np.median(live_partner))\n",
    "print('Lives alone', np.median(live_alone))"
   ]
  },
  {
   "cell_type": "markdown",
   "metadata": {},
   "source": [
    "More peple who live with a partner believe that people are trustworthy than people who live alone.   "
   ]
  },
  {
   "cell_type": "markdown",
   "metadata": {},
   "source": [
    "**5.Pick three or four of the countries in the sample and compare how often people met socially in 2014. Are there differences, and if so, which countries stand out?**"
   ]
  },
  {
   "cell_type": "code",
   "execution_count": 49,
   "metadata": {},
   "outputs": [
    {
     "data": {
      "text/plain": [
       "array(['CH', 'CZ', 'DE', 'ES', 'NO', 'SE'], dtype=object)"
      ]
     },
     "execution_count": 49,
     "metadata": {},
     "output_type": "execute_result"
    }
   ],
   "source": [
    "# check countries in year 2014\n",
    "country_list = eus.cntry[eus.year==7].unique()\n",
    "country_list"
   ]
  },
  {
   "cell_type": "code",
   "execution_count": 48,
   "metadata": {
    "scrolled": true
   },
   "outputs": [
    {
     "name": "stdout",
     "output_type": "stream",
     "text": [
      "ES    1213\n",
      "SE     908\n",
      "CH     773\n",
      "NO     731\n",
      "CZ     658\n",
      "DE      14\n",
      "Name: cntry, dtype: int64\n"
     ]
    }
   ],
   "source": [
    "# check number of entries \n",
    "print(eus.cntry[eus.year==7].value_counts())"
   ]
  },
  {
   "cell_type": "markdown",
   "metadata": {},
   "source": [
    "Let's choose Spain, Sweden and Norway. I expect similarity between Sweden and Norway due to geographic and cultural proximity.  "
   ]
  },
  {
   "cell_type": "code",
   "execution_count": 50,
   "metadata": {},
   "outputs": [],
   "source": [
    "# Chosen country list\n",
    "country = ['ES', 'NO', 'SE']"
   ]
  },
  {
   "cell_type": "code",
   "execution_count": 54,
   "metadata": {},
   "outputs": [],
   "source": [
    "#\n",
    "eus_country = eus[(eus.cntry).isin(country) & (eus.year == 7)]"
   ]
  },
  {
   "cell_type": "code",
   "execution_count": 55,
   "metadata": {},
   "outputs": [
    {
     "data": {
      "image/png": "[encoded data removed]",
      "text/plain": [
       "<Figure size 648x216 with 3 Axes>"
      ]
     },
     "metadata": {},
     "output_type": "display_data"
    }
   ],
   "source": [
    "# Visualize distribution \n",
    "g = sns.FacetGrid(eus_country,\n",
    "                  col='cntry',\n",
    "                  dropna=True,\n",
    "                  sharey=False)\n",
    "g.map(plt.hist, 'sclmeet')\n",
    "plt.show()"
   ]
  },
  {
   "cell_type": "code",
   "execution_count": 64,
   "metadata": {},
   "outputs": [
    {
     "name": "stdout",
     "output_type": "stream",
     "text": [
      "ES (0.8880351781845093, 9.848293928138278e-29)\n",
      "NO (0.8881818056106567, 1.422473605641294e-22)\n",
      "SE (0.8798282146453857, 6.682967662559975e-26)\n"
     ]
    }
   ],
   "source": [
    "# normality test\n",
    "for cntry in country:\n",
    "    # calculate for each country in our list\n",
    "    print(cntry, stats.shapiro(eus_country[eus_country.cntry ==cntry].sclmeet.dropna()))"
   ]
  },
  {
   "cell_type": "markdown",
   "metadata": {},
   "source": [
    "The histogram and shapiro test indicate that the distribution of data is not normal. Let's use Mann Whitney U test to check for similarity. "
   ]
  },
  {
   "cell_type": "code",
   "execution_count": 69,
   "metadata": {
    "scrolled": false
   },
   "outputs": [
    {
     "name": "stdout",
     "output_type": "stream",
     "text": [
      "KruskalResult(statistic=6.904038519231737, pvalue=0.03168159837298754)\n"
     ]
    }
   ],
   "source": [
    "print(stats.kruskal(eus_country[eus_country.cntry == 'ES'].sclmeet.dropna(),\n",
    "             eus_country[eus_country.cntry == 'NO'].sclmeet.dropna(),\n",
    "             eus_country[eus_country.cntry == 'SE'].sclmeet.dropna()))"
   ]
  },
  {
   "cell_type": "markdown",
   "metadata": {},
   "source": [
    "We can conclude that the distribution of social meetings is different among the countries selected. The t-test for independent variables below shows the magnitude of differences among each country "
   ]
  },
  {
   "cell_type": "code",
   "execution_count": 71,
   "metadata": {},
   "outputs": [
    {
     "name": "stdout",
     "output_type": "stream",
     "text": [
      "ES vs NO: Ttest_indResult(statistic=-0.632916395870007, pvalue=0.5268628350318294)\n",
      "ES vs SE: Ttest_indResult(statistic=-2.649547268580078, pvalue=0.00811992279651295)\n",
      "NO vs SE: Ttest_indResult(statistic=-1.8305856428076237, pvalue=0.06734412432597783)\n"
     ]
    }
   ],
   "source": [
    "print('ES vs NO:', stats.ttest_ind(eus_country[eus_country.cntry == 'ES'].sclmeet.dropna(),\n",
    "             eus_country[eus_country.cntry == 'NO'].sclmeet.dropna()))\n",
    "print('ES vs SE:', stats.ttest_ind(eus_country[eus_country.cntry == 'ES'].sclmeet.dropna(),\n",
    "             eus_country[eus_country.cntry == 'SE'].sclmeet.dropna()))\n",
    "print('NO vs SE:', stats.ttest_ind(eus_country[eus_country.cntry == 'NO'].sclmeet.dropna(),\n",
    "             eus_country[eus_country.cntry == 'SE'].sclmeet.dropna()))"
   ]
  },
  {
   "cell_type": "markdown",
   "metadata": {},
   "source": [
    "Spain and Norway are not significantly different\n",
    "Spain and Sweden are significantly different\n",
    "Norway and Sweden are almost the same as expected "
   ]
  },
  {
   "cell_type": "markdown",
   "metadata": {},
   "source": [
    "**6. Pick three or four of the countries in the sample and compare how often people took part in social activities, relative to others their age, in 2014. Are there differences, and if so, which countries stand out?**"
   ]
  },
  {
   "cell_type": "markdown",
   "metadata": {},
   "source": [
    "This exercise is similar to the one above. Let's save some time.  "
   ]
  }
 ],
 "metadata": {
  "kernelspec": {
   "display_name": "Python 3",
   "language": "python",
   "name": "python3"
  },
  "language_info": {
   "codemirror_mode": {
    "name": "ipython",
    "version": 3
   },
   "file_extension": ".py",
   "mimetype": "text/x-python",
   "name": "python",
   "nbconvert_exporter": "python",
   "pygments_lexer": "ipython3",
   "version": "3.6.5"
  }
 },
 "nbformat": 4,
 "nbformat_minor": 2
}
