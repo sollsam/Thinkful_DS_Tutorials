{
 "cells": [
  {
   "cell_type": "markdown",
   "metadata": {},
   "source": [
    "<h1>About the Data</h1>\n",
    "\n",
    "This is a fictional data set created by IBM data scientists. It has included different factors that lead to employee attrition in any organization. The data set contains nominal, ordinal, and interval measurement types. The ordinal values are represented in increasing order of relevance as follows:\n",
    "\n",
    "<ul>\n",
    "<li>Education: 1 'Below College' 2 'College' 3 'Bachelor' 4 'Master' 5 'Doctor'</li>\n",
    "<li>EnvironmentSatisfaction: 1 'Low' 2 'Medium' 3 'High' 4 'Very High'</li>\n",
    "<li>JobInvolvement: 1 'Low' 2 'Medium' 3 'High' 4 'Very High'</li>\n",
    "<li>JobSatisfaction 1 'Low' 2 'Medium' 3 'High' 4 'Very High'</li>\n",
    "<li>PerformanceRating: 1 'Low' 2 'Good' 3 'Excellent' 4 'Outstanding'</li>\n",
    "<li>RelationshipSatisfaction: 1 'Low' 2 'Medium' 3 'High' 4 'Very High'</li>\n",
    "<li>WorkLifeBalance: 1 'Bad' 2 'Good' 3 'Better' 4 'Best'</li>\n",
    "</ul>    \n",
    "\n",
    "\n",
    "The data is available for download at the link below.\n",
    "https://www.kaggle.com/pavansubhasht/ibm-hr-analytics-attrition-dataset/data \n",
    "\n",
    "\n"
   ]
  },
  {
   "cell_type": "markdown",
   "metadata": {},
   "source": [
    "# Analysis"
   ]
  },
  {
   "cell_type": "markdown",
   "metadata": {},
   "source": [
    "In human resource, employee attrition refers to the loss of workforce through norman means such as resignation, and retirement as well as planned layoff without the intention of filing the vacated positions. Though employee attrition has an advantage as a way of reducing labour cost, it's generally percieved as a negative phenomenon because of the fact that any organization would find it difficult to survive without retaining its core employee base. \n",
    "\n",
    "In this analysis, we will adopt this same perception and, by answering the following questions, we will try to identify who is leaving the company, point out the potential reasons, and recommend areas of improvement. \n",
    "\n",
    "<ol>\n",
    "    <li>What are the key factors that are playing into the current attrition rates</li>\n",
    "    <li>Who is leaving the company?</li>\n",
    "    <li>Is the company loosing experienced employees?</li>\n",
    "    \n",
    "</ol>\n",
    "\n"
   ]
  },
  {
   "cell_type": "code",
   "execution_count": 4,
   "metadata": {},
   "outputs": [],
   "source": [
    "import pandas as pd\n",
    "import numpy as np\n",
    "import matplotlib.pyplot as plt\n",
    "import scipy\n",
    "%matplotlib inline\n",
    "\n",
    "df = pd.read_csv('Employee-Attrition.csv') "
   ]
  },
  {
   "cell_type": "markdown",
   "metadata": {},
   "source": [
    "The overall attrition rate is <b>16.12 %</b> and it can be calculated as follows "
   ]
  },
  {
   "cell_type": "code",
   "execution_count": 5,
   "metadata": {},
   "outputs": [
    {
     "name": "stdout",
     "output_type": "stream",
     "text": [
      "16.122448979591837\n"
     ]
    }
   ],
   "source": [
    "AttritionRate = len(df[df.Attrition == 'Yes']) / len(df) * 100\n",
    "print(AttritionRate) "
   ]
  },
  {
   "cell_type": "code",
   "execution_count": 122,
   "metadata": {
    "scrolled": false
   },
   "outputs": [
    {
     "data": {
      "text/html": [
       "<div>\n",
       "<style scoped>\n",
       "    .dataframe tbody tr th:only-of-type {\n",
       "        vertical-align: middle;\n",
       "    }\n",
       "\n",
       "    .dataframe tbody tr th {\n",
       "        vertical-align: top;\n",
       "    }\n",
       "\n",
       "    .dataframe thead th {\n",
       "        text-align: right;\n",
       "    }\n",
       "</style>\n",
       "<table border=\"1\" class=\"dataframe\">\n",
       "  <thead>\n",
       "    <tr style=\"text-align: right;\">\n",
       "      <th></th>\n",
       "      <th>Age</th>\n",
       "      <th>Attrition</th>\n",
       "      <th>BusinessTravel</th>\n",
       "      <th>DailyRate</th>\n",
       "      <th>Department</th>\n",
       "      <th>DistanceFromHome</th>\n",
       "      <th>Education</th>\n",
       "      <th>EducationField</th>\n",
       "      <th>EmployeeCount</th>\n",
       "      <th>EmployeeNumber</th>\n",
       "      <th>...</th>\n",
       "      <th>RelationshipSatisfaction</th>\n",
       "      <th>StandardHours</th>\n",
       "      <th>StockOptionLevel</th>\n",
       "      <th>TotalWorkingYears</th>\n",
       "      <th>TrainingTimesLastYear</th>\n",
       "      <th>WorkLifeBalance</th>\n",
       "      <th>YearsAtCompany</th>\n",
       "      <th>YearsInCurrentRole</th>\n",
       "      <th>YearsSinceLastPromotion</th>\n",
       "      <th>YearsWithCurrManager</th>\n",
       "    </tr>\n",
       "  </thead>\n",
       "  <tbody>\n",
       "    <tr>\n",
       "      <th>0</th>\n",
       "      <td>41</td>\n",
       "      <td>Yes</td>\n",
       "      <td>Travel_Rarely</td>\n",
       "      <td>1102</td>\n",
       "      <td>Sales</td>\n",
       "      <td>1</td>\n",
       "      <td>2</td>\n",
       "      <td>Life Sciences</td>\n",
       "      <td>1</td>\n",
       "      <td>1</td>\n",
       "      <td>...</td>\n",
       "      <td>1</td>\n",
       "      <td>80</td>\n",
       "      <td>0</td>\n",
       "      <td>8</td>\n",
       "      <td>0</td>\n",
       "      <td>1</td>\n",
       "      <td>6</td>\n",
       "      <td>4</td>\n",
       "      <td>0</td>\n",
       "      <td>5</td>\n",
       "    </tr>\n",
       "    <tr>\n",
       "      <th>1</th>\n",
       "      <td>49</td>\n",
       "      <td>No</td>\n",
       "      <td>Travel_Frequently</td>\n",
       "      <td>279</td>\n",
       "      <td>Research &amp; Development</td>\n",
       "      <td>8</td>\n",
       "      <td>1</td>\n",
       "      <td>Life Sciences</td>\n",
       "      <td>1</td>\n",
       "      <td>2</td>\n",
       "      <td>...</td>\n",
       "      <td>4</td>\n",
       "      <td>80</td>\n",
       "      <td>1</td>\n",
       "      <td>10</td>\n",
       "      <td>3</td>\n",
       "      <td>3</td>\n",
       "      <td>10</td>\n",
       "      <td>7</td>\n",
       "      <td>1</td>\n",
       "      <td>7</td>\n",
       "    </tr>\n",
       "    <tr>\n",
       "      <th>2</th>\n",
       "      <td>37</td>\n",
       "      <td>Yes</td>\n",
       "      <td>Travel_Rarely</td>\n",
       "      <td>1373</td>\n",
       "      <td>Research &amp; Development</td>\n",
       "      <td>2</td>\n",
       "      <td>2</td>\n",
       "      <td>Other</td>\n",
       "      <td>1</td>\n",
       "      <td>4</td>\n",
       "      <td>...</td>\n",
       "      <td>2</td>\n",
       "      <td>80</td>\n",
       "      <td>0</td>\n",
       "      <td>7</td>\n",
       "      <td>3</td>\n",
       "      <td>3</td>\n",
       "      <td>0</td>\n",
       "      <td>0</td>\n",
       "      <td>0</td>\n",
       "      <td>0</td>\n",
       "    </tr>\n",
       "    <tr>\n",
       "      <th>3</th>\n",
       "      <td>33</td>\n",
       "      <td>No</td>\n",
       "      <td>Travel_Frequently</td>\n",
       "      <td>1392</td>\n",
       "      <td>Research &amp; Development</td>\n",
       "      <td>3</td>\n",
       "      <td>4</td>\n",
       "      <td>Life Sciences</td>\n",
       "      <td>1</td>\n",
       "      <td>5</td>\n",
       "      <td>...</td>\n",
       "      <td>3</td>\n",
       "      <td>80</td>\n",
       "      <td>0</td>\n",
       "      <td>8</td>\n",
       "      <td>3</td>\n",
       "      <td>3</td>\n",
       "      <td>8</td>\n",
       "      <td>7</td>\n",
       "      <td>3</td>\n",
       "      <td>0</td>\n",
       "    </tr>\n",
       "    <tr>\n",
       "      <th>4</th>\n",
       "      <td>27</td>\n",
       "      <td>No</td>\n",
       "      <td>Travel_Rarely</td>\n",
       "      <td>591</td>\n",
       "      <td>Research &amp; Development</td>\n",
       "      <td>2</td>\n",
       "      <td>1</td>\n",
       "      <td>Medical</td>\n",
       "      <td>1</td>\n",
       "      <td>7</td>\n",
       "      <td>...</td>\n",
       "      <td>4</td>\n",
       "      <td>80</td>\n",
       "      <td>1</td>\n",
       "      <td>6</td>\n",
       "      <td>3</td>\n",
       "      <td>3</td>\n",
       "      <td>2</td>\n",
       "      <td>2</td>\n",
       "      <td>2</td>\n",
       "      <td>2</td>\n",
       "    </tr>\n",
       "  </tbody>\n",
       "</table>\n",
       "<p>5 rows × 35 columns</p>\n",
       "</div>"
      ],
      "text/plain": [
       "   Age Attrition     BusinessTravel  DailyRate              Department  \\\n",
       "0   41       Yes      Travel_Rarely       1102                   Sales   \n",
       "1   49        No  Travel_Frequently        279  Research & Development   \n",
       "2   37       Yes      Travel_Rarely       1373  Research & Development   \n",
       "3   33        No  Travel_Frequently       1392  Research & Development   \n",
       "4   27        No      Travel_Rarely        591  Research & Development   \n",
       "\n",
       "   DistanceFromHome  Education EducationField  EmployeeCount  EmployeeNumber  \\\n",
       "0                 1          2  Life Sciences              1               1   \n",
       "1                 8          1  Life Sciences              1               2   \n",
       "2                 2          2          Other              1               4   \n",
       "3                 3          4  Life Sciences              1               5   \n",
       "4                 2          1        Medical              1               7   \n",
       "\n",
       "           ...           RelationshipSatisfaction StandardHours  \\\n",
       "0          ...                                  1            80   \n",
       "1          ...                                  4            80   \n",
       "2          ...                                  2            80   \n",
       "3          ...                                  3            80   \n",
       "4          ...                                  4            80   \n",
       "\n",
       "   StockOptionLevel  TotalWorkingYears  TrainingTimesLastYear WorkLifeBalance  \\\n",
       "0                 0                  8                      0               1   \n",
       "1                 1                 10                      3               3   \n",
       "2                 0                  7                      3               3   \n",
       "3                 0                  8                      3               3   \n",
       "4                 1                  6                      3               3   \n",
       "\n",
       "   YearsAtCompany YearsInCurrentRole  YearsSinceLastPromotion  \\\n",
       "0               6                  4                        0   \n",
       "1              10                  7                        1   \n",
       "2               0                  0                        0   \n",
       "3               8                  7                        3   \n",
       "4               2                  2                        2   \n",
       "\n",
       "   YearsWithCurrManager  \n",
       "0                     5  \n",
       "1                     7  \n",
       "2                     0  \n",
       "3                     0  \n",
       "4                     2  \n",
       "\n",
       "[5 rows x 35 columns]"
      ]
     },
     "execution_count": 122,
     "metadata": {},
     "output_type": "execute_result"
    }
   ],
   "source": [
    "df.head()"
   ]
  },
  {
   "cell_type": "code",
   "execution_count": 119,
   "metadata": {},
   "outputs": [
    {
     "data": {
      "text/plain": [
       "(1470, 35)"
      ]
     },
     "execution_count": 119,
     "metadata": {},
     "output_type": "execute_result"
    }
   ],
   "source": [
    "df.shape"
   ]
  },
  {
   "cell_type": "code",
   "execution_count": 28,
   "metadata": {},
   "outputs": [
    {
     "data": {
      "text/plain": [
       "False"
      ]
     },
     "execution_count": 28,
     "metadata": {},
     "output_type": "execute_result"
    }
   ],
   "source": [
    "df.isnull().values.any() #Check for missing values"
   ]
  },
  {
   "cell_type": "markdown",
   "metadata": {},
   "source": [
    "<h2>1. Factors that are playing into current attrition rate</h2>\n",
    "\n",
    "Filtering the data by attrition and comparing the values for those who leave and those who stay will enable us to identify factors for investigation. "
   ]
  },
  {
   "cell_type": "code",
   "execution_count": 6,
   "metadata": {},
   "outputs": [
    {
     "data": {
      "text/html": [
       "<div>\n",
       "<style scoped>\n",
       "    .dataframe tbody tr th:only-of-type {\n",
       "        vertical-align: middle;\n",
       "    }\n",
       "\n",
       "    .dataframe tbody tr th {\n",
       "        vertical-align: top;\n",
       "    }\n",
       "\n",
       "    .dataframe thead th {\n",
       "        text-align: right;\n",
       "    }\n",
       "</style>\n",
       "<table border=\"1\" class=\"dataframe\">\n",
       "  <thead>\n",
       "    <tr style=\"text-align: right;\">\n",
       "      <th></th>\n",
       "      <th>Age</th>\n",
       "      <th>DailyRate</th>\n",
       "      <th>DistanceFromHome</th>\n",
       "      <th>Education</th>\n",
       "      <th>EmployeeCount</th>\n",
       "      <th>EmployeeNumber</th>\n",
       "      <th>EnvironmentSatisfaction</th>\n",
       "      <th>HourlyRate</th>\n",
       "      <th>JobInvolvement</th>\n",
       "      <th>JobLevel</th>\n",
       "      <th>...</th>\n",
       "      <th>RelationshipSatisfaction</th>\n",
       "      <th>StandardHours</th>\n",
       "      <th>StockOptionLevel</th>\n",
       "      <th>TotalWorkingYears</th>\n",
       "      <th>TrainingTimesLastYear</th>\n",
       "      <th>WorkLifeBalance</th>\n",
       "      <th>YearsAtCompany</th>\n",
       "      <th>YearsInCurrentRole</th>\n",
       "      <th>YearsSinceLastPromotion</th>\n",
       "      <th>YearsWithCurrManager</th>\n",
       "    </tr>\n",
       "  </thead>\n",
       "  <tbody>\n",
       "    <tr>\n",
       "      <th>count</th>\n",
       "      <td>1233.000000</td>\n",
       "      <td>1233.000000</td>\n",
       "      <td>1233.000000</td>\n",
       "      <td>1233.000000</td>\n",
       "      <td>1233.0</td>\n",
       "      <td>1233.000000</td>\n",
       "      <td>1233.000000</td>\n",
       "      <td>1233.000000</td>\n",
       "      <td>1233.000000</td>\n",
       "      <td>1233.000000</td>\n",
       "      <td>...</td>\n",
       "      <td>1233.000000</td>\n",
       "      <td>1233.0</td>\n",
       "      <td>1233.000000</td>\n",
       "      <td>1233.000000</td>\n",
       "      <td>1233.000000</td>\n",
       "      <td>1233.000000</td>\n",
       "      <td>1233.000000</td>\n",
       "      <td>1233.000000</td>\n",
       "      <td>1233.000000</td>\n",
       "      <td>1233.000000</td>\n",
       "    </tr>\n",
       "    <tr>\n",
       "      <th>mean</th>\n",
       "      <td>37.561233</td>\n",
       "      <td>812.504461</td>\n",
       "      <td>8.915653</td>\n",
       "      <td>2.927007</td>\n",
       "      <td>1.0</td>\n",
       "      <td>1027.656123</td>\n",
       "      <td>2.771290</td>\n",
       "      <td>65.952149</td>\n",
       "      <td>2.770479</td>\n",
       "      <td>2.145985</td>\n",
       "      <td>...</td>\n",
       "      <td>2.733982</td>\n",
       "      <td>80.0</td>\n",
       "      <td>0.845093</td>\n",
       "      <td>11.862936</td>\n",
       "      <td>2.832928</td>\n",
       "      <td>2.781022</td>\n",
       "      <td>7.369019</td>\n",
       "      <td>4.484185</td>\n",
       "      <td>2.234388</td>\n",
       "      <td>4.367397</td>\n",
       "    </tr>\n",
       "    <tr>\n",
       "      <th>std</th>\n",
       "      <td>8.888360</td>\n",
       "      <td>403.208379</td>\n",
       "      <td>8.012633</td>\n",
       "      <td>1.027002</td>\n",
       "      <td>0.0</td>\n",
       "      <td>606.217074</td>\n",
       "      <td>1.071132</td>\n",
       "      <td>20.380754</td>\n",
       "      <td>0.692050</td>\n",
       "      <td>1.117933</td>\n",
       "      <td>...</td>\n",
       "      <td>1.071603</td>\n",
       "      <td>0.0</td>\n",
       "      <td>0.841985</td>\n",
       "      <td>7.760719</td>\n",
       "      <td>1.293585</td>\n",
       "      <td>0.681907</td>\n",
       "      <td>6.096298</td>\n",
       "      <td>3.649402</td>\n",
       "      <td>3.234762</td>\n",
       "      <td>3.594116</td>\n",
       "    </tr>\n",
       "    <tr>\n",
       "      <th>min</th>\n",
       "      <td>18.000000</td>\n",
       "      <td>102.000000</td>\n",
       "      <td>1.000000</td>\n",
       "      <td>1.000000</td>\n",
       "      <td>1.0</td>\n",
       "      <td>2.000000</td>\n",
       "      <td>1.000000</td>\n",
       "      <td>30.000000</td>\n",
       "      <td>1.000000</td>\n",
       "      <td>1.000000</td>\n",
       "      <td>...</td>\n",
       "      <td>1.000000</td>\n",
       "      <td>80.0</td>\n",
       "      <td>0.000000</td>\n",
       "      <td>0.000000</td>\n",
       "      <td>0.000000</td>\n",
       "      <td>1.000000</td>\n",
       "      <td>0.000000</td>\n",
       "      <td>0.000000</td>\n",
       "      <td>0.000000</td>\n",
       "      <td>0.000000</td>\n",
       "    </tr>\n",
       "    <tr>\n",
       "      <th>25%</th>\n",
       "      <td>31.000000</td>\n",
       "      <td>477.000000</td>\n",
       "      <td>2.000000</td>\n",
       "      <td>2.000000</td>\n",
       "      <td>1.0</td>\n",
       "      <td>483.000000</td>\n",
       "      <td>2.000000</td>\n",
       "      <td>48.000000</td>\n",
       "      <td>2.000000</td>\n",
       "      <td>1.000000</td>\n",
       "      <td>...</td>\n",
       "      <td>2.000000</td>\n",
       "      <td>80.0</td>\n",
       "      <td>0.000000</td>\n",
       "      <td>6.000000</td>\n",
       "      <td>2.000000</td>\n",
       "      <td>2.000000</td>\n",
       "      <td>3.000000</td>\n",
       "      <td>2.000000</td>\n",
       "      <td>0.000000</td>\n",
       "      <td>2.000000</td>\n",
       "    </tr>\n",
       "    <tr>\n",
       "      <th>50%</th>\n",
       "      <td>36.000000</td>\n",
       "      <td>817.000000</td>\n",
       "      <td>7.000000</td>\n",
       "      <td>3.000000</td>\n",
       "      <td>1.0</td>\n",
       "      <td>1022.000000</td>\n",
       "      <td>3.000000</td>\n",
       "      <td>66.000000</td>\n",
       "      <td>3.000000</td>\n",
       "      <td>2.000000</td>\n",
       "      <td>...</td>\n",
       "      <td>3.000000</td>\n",
       "      <td>80.0</td>\n",
       "      <td>1.000000</td>\n",
       "      <td>10.000000</td>\n",
       "      <td>3.000000</td>\n",
       "      <td>3.000000</td>\n",
       "      <td>6.000000</td>\n",
       "      <td>3.000000</td>\n",
       "      <td>1.000000</td>\n",
       "      <td>3.000000</td>\n",
       "    </tr>\n",
       "    <tr>\n",
       "      <th>75%</th>\n",
       "      <td>43.000000</td>\n",
       "      <td>1176.000000</td>\n",
       "      <td>13.000000</td>\n",
       "      <td>4.000000</td>\n",
       "      <td>1.0</td>\n",
       "      <td>1574.000000</td>\n",
       "      <td>4.000000</td>\n",
       "      <td>83.000000</td>\n",
       "      <td>3.000000</td>\n",
       "      <td>3.000000</td>\n",
       "      <td>...</td>\n",
       "      <td>4.000000</td>\n",
       "      <td>80.0</td>\n",
       "      <td>1.000000</td>\n",
       "      <td>16.000000</td>\n",
       "      <td>3.000000</td>\n",
       "      <td>3.000000</td>\n",
       "      <td>10.000000</td>\n",
       "      <td>7.000000</td>\n",
       "      <td>3.000000</td>\n",
       "      <td>7.000000</td>\n",
       "    </tr>\n",
       "    <tr>\n",
       "      <th>max</th>\n",
       "      <td>60.000000</td>\n",
       "      <td>1499.000000</td>\n",
       "      <td>29.000000</td>\n",
       "      <td>5.000000</td>\n",
       "      <td>1.0</td>\n",
       "      <td>2068.000000</td>\n",
       "      <td>4.000000</td>\n",
       "      <td>100.000000</td>\n",
       "      <td>4.000000</td>\n",
       "      <td>5.000000</td>\n",
       "      <td>...</td>\n",
       "      <td>4.000000</td>\n",
       "      <td>80.0</td>\n",
       "      <td>3.000000</td>\n",
       "      <td>38.000000</td>\n",
       "      <td>6.000000</td>\n",
       "      <td>4.000000</td>\n",
       "      <td>37.000000</td>\n",
       "      <td>18.000000</td>\n",
       "      <td>15.000000</td>\n",
       "      <td>17.000000</td>\n",
       "    </tr>\n",
       "  </tbody>\n",
       "</table>\n",
       "<p>8 rows × 26 columns</p>\n",
       "</div>"
      ],
      "text/plain": [
       "               Age    DailyRate  DistanceFromHome    Education  EmployeeCount  \\\n",
       "count  1233.000000  1233.000000       1233.000000  1233.000000         1233.0   \n",
       "mean     37.561233   812.504461          8.915653     2.927007            1.0   \n",
       "std       8.888360   403.208379          8.012633     1.027002            0.0   \n",
       "min      18.000000   102.000000          1.000000     1.000000            1.0   \n",
       "25%      31.000000   477.000000          2.000000     2.000000            1.0   \n",
       "50%      36.000000   817.000000          7.000000     3.000000            1.0   \n",
       "75%      43.000000  1176.000000         13.000000     4.000000            1.0   \n",
       "max      60.000000  1499.000000         29.000000     5.000000            1.0   \n",
       "\n",
       "       EmployeeNumber  EnvironmentSatisfaction   HourlyRate  JobInvolvement  \\\n",
       "count     1233.000000              1233.000000  1233.000000     1233.000000   \n",
       "mean      1027.656123                 2.771290    65.952149        2.770479   \n",
       "std        606.217074                 1.071132    20.380754        0.692050   \n",
       "min          2.000000                 1.000000    30.000000        1.000000   \n",
       "25%        483.000000                 2.000000    48.000000        2.000000   \n",
       "50%       1022.000000                 3.000000    66.000000        3.000000   \n",
       "75%       1574.000000                 4.000000    83.000000        3.000000   \n",
       "max       2068.000000                 4.000000   100.000000        4.000000   \n",
       "\n",
       "          JobLevel          ...           RelationshipSatisfaction  \\\n",
       "count  1233.000000          ...                        1233.000000   \n",
       "mean      2.145985          ...                           2.733982   \n",
       "std       1.117933          ...                           1.071603   \n",
       "min       1.000000          ...                           1.000000   \n",
       "25%       1.000000          ...                           2.000000   \n",
       "50%       2.000000          ...                           3.000000   \n",
       "75%       3.000000          ...                           4.000000   \n",
       "max       5.000000          ...                           4.000000   \n",
       "\n",
       "       StandardHours  StockOptionLevel  TotalWorkingYears  \\\n",
       "count         1233.0       1233.000000        1233.000000   \n",
       "mean            80.0          0.845093          11.862936   \n",
       "std              0.0          0.841985           7.760719   \n",
       "min             80.0          0.000000           0.000000   \n",
       "25%             80.0          0.000000           6.000000   \n",
       "50%             80.0          1.000000          10.000000   \n",
       "75%             80.0          1.000000          16.000000   \n",
       "max             80.0          3.000000          38.000000   \n",
       "\n",
       "       TrainingTimesLastYear  WorkLifeBalance  YearsAtCompany  \\\n",
       "count            1233.000000      1233.000000     1233.000000   \n",
       "mean                2.832928         2.781022        7.369019   \n",
       "std                 1.293585         0.681907        6.096298   \n",
       "min                 0.000000         1.000000        0.000000   \n",
       "25%                 2.000000         2.000000        3.000000   \n",
       "50%                 3.000000         3.000000        6.000000   \n",
       "75%                 3.000000         3.000000       10.000000   \n",
       "max                 6.000000         4.000000       37.000000   \n",
       "\n",
       "       YearsInCurrentRole  YearsSinceLastPromotion  YearsWithCurrManager  \n",
       "count         1233.000000              1233.000000           1233.000000  \n",
       "mean             4.484185                 2.234388              4.367397  \n",
       "std              3.649402                 3.234762              3.594116  \n",
       "min              0.000000                 0.000000              0.000000  \n",
       "25%              2.000000                 0.000000              2.000000  \n",
       "50%              3.000000                 1.000000              3.000000  \n",
       "75%              7.000000                 3.000000              7.000000  \n",
       "max             18.000000                15.000000             17.000000  \n",
       "\n",
       "[8 rows x 26 columns]"
      ]
     },
     "execution_count": 6,
     "metadata": {},
     "output_type": "execute_result"
    }
   ],
   "source": [
    "df_Remain = df[df.Attrition == 'No']\n",
    "df_Remain.describe() #Summery of values for employees who remained in the company \n"
   ]
  },
  {
   "cell_type": "code",
   "execution_count": 7,
   "metadata": {
    "scrolled": true
   },
   "outputs": [
    {
     "data": {
      "text/html": [
       "<div>\n",
       "<style scoped>\n",
       "    .dataframe tbody tr th:only-of-type {\n",
       "        vertical-align: middle;\n",
       "    }\n",
       "\n",
       "    .dataframe tbody tr th {\n",
       "        vertical-align: top;\n",
       "    }\n",
       "\n",
       "    .dataframe thead th {\n",
       "        text-align: right;\n",
       "    }\n",
       "</style>\n",
       "<table border=\"1\" class=\"dataframe\">\n",
       "  <thead>\n",
       "    <tr style=\"text-align: right;\">\n",
       "      <th></th>\n",
       "      <th>Age</th>\n",
       "      <th>DailyRate</th>\n",
       "      <th>DistanceFromHome</th>\n",
       "      <th>Education</th>\n",
       "      <th>EmployeeCount</th>\n",
       "      <th>EmployeeNumber</th>\n",
       "      <th>EnvironmentSatisfaction</th>\n",
       "      <th>HourlyRate</th>\n",
       "      <th>JobInvolvement</th>\n",
       "      <th>JobLevel</th>\n",
       "      <th>...</th>\n",
       "      <th>RelationshipSatisfaction</th>\n",
       "      <th>StandardHours</th>\n",
       "      <th>StockOptionLevel</th>\n",
       "      <th>TotalWorkingYears</th>\n",
       "      <th>TrainingTimesLastYear</th>\n",
       "      <th>WorkLifeBalance</th>\n",
       "      <th>YearsAtCompany</th>\n",
       "      <th>YearsInCurrentRole</th>\n",
       "      <th>YearsSinceLastPromotion</th>\n",
       "      <th>YearsWithCurrManager</th>\n",
       "    </tr>\n",
       "  </thead>\n",
       "  <tbody>\n",
       "    <tr>\n",
       "      <th>count</th>\n",
       "      <td>237.000000</td>\n",
       "      <td>237.000000</td>\n",
       "      <td>237.000000</td>\n",
       "      <td>237.000000</td>\n",
       "      <td>237.0</td>\n",
       "      <td>237.000000</td>\n",
       "      <td>237.000000</td>\n",
       "      <td>237.000000</td>\n",
       "      <td>237.000000</td>\n",
       "      <td>237.000000</td>\n",
       "      <td>...</td>\n",
       "      <td>237.000000</td>\n",
       "      <td>237.0</td>\n",
       "      <td>237.000000</td>\n",
       "      <td>237.000000</td>\n",
       "      <td>237.000000</td>\n",
       "      <td>237.000000</td>\n",
       "      <td>237.000000</td>\n",
       "      <td>237.000000</td>\n",
       "      <td>237.000000</td>\n",
       "      <td>237.000000</td>\n",
       "    </tr>\n",
       "    <tr>\n",
       "      <th>mean</th>\n",
       "      <td>33.607595</td>\n",
       "      <td>750.362869</td>\n",
       "      <td>10.632911</td>\n",
       "      <td>2.839662</td>\n",
       "      <td>1.0</td>\n",
       "      <td>1010.345992</td>\n",
       "      <td>2.464135</td>\n",
       "      <td>65.573840</td>\n",
       "      <td>2.518987</td>\n",
       "      <td>1.637131</td>\n",
       "      <td>...</td>\n",
       "      <td>2.599156</td>\n",
       "      <td>80.0</td>\n",
       "      <td>0.527426</td>\n",
       "      <td>8.244726</td>\n",
       "      <td>2.624473</td>\n",
       "      <td>2.658228</td>\n",
       "      <td>5.130802</td>\n",
       "      <td>2.902954</td>\n",
       "      <td>1.945148</td>\n",
       "      <td>2.852321</td>\n",
       "    </tr>\n",
       "    <tr>\n",
       "      <th>std</th>\n",
       "      <td>9.689350</td>\n",
       "      <td>401.899519</td>\n",
       "      <td>8.452525</td>\n",
       "      <td>1.008244</td>\n",
       "      <td>0.0</td>\n",
       "      <td>580.750572</td>\n",
       "      <td>1.169791</td>\n",
       "      <td>20.099958</td>\n",
       "      <td>0.773405</td>\n",
       "      <td>0.940594</td>\n",
       "      <td>...</td>\n",
       "      <td>1.125437</td>\n",
       "      <td>0.0</td>\n",
       "      <td>0.856361</td>\n",
       "      <td>7.169204</td>\n",
       "      <td>1.254784</td>\n",
       "      <td>0.816453</td>\n",
       "      <td>5.949984</td>\n",
       "      <td>3.174827</td>\n",
       "      <td>3.153077</td>\n",
       "      <td>3.143349</td>\n",
       "    </tr>\n",
       "    <tr>\n",
       "      <th>min</th>\n",
       "      <td>18.000000</td>\n",
       "      <td>103.000000</td>\n",
       "      <td>1.000000</td>\n",
       "      <td>1.000000</td>\n",
       "      <td>1.0</td>\n",
       "      <td>1.000000</td>\n",
       "      <td>1.000000</td>\n",
       "      <td>31.000000</td>\n",
       "      <td>1.000000</td>\n",
       "      <td>1.000000</td>\n",
       "      <td>...</td>\n",
       "      <td>1.000000</td>\n",
       "      <td>80.0</td>\n",
       "      <td>0.000000</td>\n",
       "      <td>0.000000</td>\n",
       "      <td>0.000000</td>\n",
       "      <td>1.000000</td>\n",
       "      <td>0.000000</td>\n",
       "      <td>0.000000</td>\n",
       "      <td>0.000000</td>\n",
       "      <td>0.000000</td>\n",
       "    </tr>\n",
       "    <tr>\n",
       "      <th>25%</th>\n",
       "      <td>28.000000</td>\n",
       "      <td>408.000000</td>\n",
       "      <td>3.000000</td>\n",
       "      <td>2.000000</td>\n",
       "      <td>1.0</td>\n",
       "      <td>514.000000</td>\n",
       "      <td>1.000000</td>\n",
       "      <td>50.000000</td>\n",
       "      <td>2.000000</td>\n",
       "      <td>1.000000</td>\n",
       "      <td>...</td>\n",
       "      <td>2.000000</td>\n",
       "      <td>80.0</td>\n",
       "      <td>0.000000</td>\n",
       "      <td>3.000000</td>\n",
       "      <td>2.000000</td>\n",
       "      <td>2.000000</td>\n",
       "      <td>1.000000</td>\n",
       "      <td>0.000000</td>\n",
       "      <td>0.000000</td>\n",
       "      <td>0.000000</td>\n",
       "    </tr>\n",
       "    <tr>\n",
       "      <th>50%</th>\n",
       "      <td>32.000000</td>\n",
       "      <td>699.000000</td>\n",
       "      <td>9.000000</td>\n",
       "      <td>3.000000</td>\n",
       "      <td>1.0</td>\n",
       "      <td>1017.000000</td>\n",
       "      <td>3.000000</td>\n",
       "      <td>66.000000</td>\n",
       "      <td>3.000000</td>\n",
       "      <td>1.000000</td>\n",
       "      <td>...</td>\n",
       "      <td>3.000000</td>\n",
       "      <td>80.0</td>\n",
       "      <td>0.000000</td>\n",
       "      <td>7.000000</td>\n",
       "      <td>2.000000</td>\n",
       "      <td>3.000000</td>\n",
       "      <td>3.000000</td>\n",
       "      <td>2.000000</td>\n",
       "      <td>1.000000</td>\n",
       "      <td>2.000000</td>\n",
       "    </tr>\n",
       "    <tr>\n",
       "      <th>75%</th>\n",
       "      <td>39.000000</td>\n",
       "      <td>1092.000000</td>\n",
       "      <td>17.000000</td>\n",
       "      <td>4.000000</td>\n",
       "      <td>1.0</td>\n",
       "      <td>1486.000000</td>\n",
       "      <td>4.000000</td>\n",
       "      <td>84.000000</td>\n",
       "      <td>3.000000</td>\n",
       "      <td>2.000000</td>\n",
       "      <td>...</td>\n",
       "      <td>4.000000</td>\n",
       "      <td>80.0</td>\n",
       "      <td>1.000000</td>\n",
       "      <td>10.000000</td>\n",
       "      <td>3.000000</td>\n",
       "      <td>3.000000</td>\n",
       "      <td>7.000000</td>\n",
       "      <td>4.000000</td>\n",
       "      <td>2.000000</td>\n",
       "      <td>5.000000</td>\n",
       "    </tr>\n",
       "    <tr>\n",
       "      <th>max</th>\n",
       "      <td>58.000000</td>\n",
       "      <td>1496.000000</td>\n",
       "      <td>29.000000</td>\n",
       "      <td>5.000000</td>\n",
       "      <td>1.0</td>\n",
       "      <td>2055.000000</td>\n",
       "      <td>4.000000</td>\n",
       "      <td>100.000000</td>\n",
       "      <td>4.000000</td>\n",
       "      <td>5.000000</td>\n",
       "      <td>...</td>\n",
       "      <td>4.000000</td>\n",
       "      <td>80.0</td>\n",
       "      <td>3.000000</td>\n",
       "      <td>40.000000</td>\n",
       "      <td>6.000000</td>\n",
       "      <td>4.000000</td>\n",
       "      <td>40.000000</td>\n",
       "      <td>15.000000</td>\n",
       "      <td>15.000000</td>\n",
       "      <td>14.000000</td>\n",
       "    </tr>\n",
       "  </tbody>\n",
       "</table>\n",
       "<p>8 rows × 26 columns</p>\n",
       "</div>"
      ],
      "text/plain": [
       "              Age    DailyRate  DistanceFromHome   Education  EmployeeCount  \\\n",
       "count  237.000000   237.000000        237.000000  237.000000          237.0   \n",
       "mean    33.607595   750.362869         10.632911    2.839662            1.0   \n",
       "std      9.689350   401.899519          8.452525    1.008244            0.0   \n",
       "min     18.000000   103.000000          1.000000    1.000000            1.0   \n",
       "25%     28.000000   408.000000          3.000000    2.000000            1.0   \n",
       "50%     32.000000   699.000000          9.000000    3.000000            1.0   \n",
       "75%     39.000000  1092.000000         17.000000    4.000000            1.0   \n",
       "max     58.000000  1496.000000         29.000000    5.000000            1.0   \n",
       "\n",
       "       EmployeeNumber  EnvironmentSatisfaction  HourlyRate  JobInvolvement  \\\n",
       "count      237.000000               237.000000  237.000000      237.000000   \n",
       "mean      1010.345992                 2.464135   65.573840        2.518987   \n",
       "std        580.750572                 1.169791   20.099958        0.773405   \n",
       "min          1.000000                 1.000000   31.000000        1.000000   \n",
       "25%        514.000000                 1.000000   50.000000        2.000000   \n",
       "50%       1017.000000                 3.000000   66.000000        3.000000   \n",
       "75%       1486.000000                 4.000000   84.000000        3.000000   \n",
       "max       2055.000000                 4.000000  100.000000        4.000000   \n",
       "\n",
       "         JobLevel          ...           RelationshipSatisfaction  \\\n",
       "count  237.000000          ...                         237.000000   \n",
       "mean     1.637131          ...                           2.599156   \n",
       "std      0.940594          ...                           1.125437   \n",
       "min      1.000000          ...                           1.000000   \n",
       "25%      1.000000          ...                           2.000000   \n",
       "50%      1.000000          ...                           3.000000   \n",
       "75%      2.000000          ...                           4.000000   \n",
       "max      5.000000          ...                           4.000000   \n",
       "\n",
       "       StandardHours  StockOptionLevel  TotalWorkingYears  \\\n",
       "count          237.0        237.000000         237.000000   \n",
       "mean            80.0          0.527426           8.244726   \n",
       "std              0.0          0.856361           7.169204   \n",
       "min             80.0          0.000000           0.000000   \n",
       "25%             80.0          0.000000           3.000000   \n",
       "50%             80.0          0.000000           7.000000   \n",
       "75%             80.0          1.000000          10.000000   \n",
       "max             80.0          3.000000          40.000000   \n",
       "\n",
       "       TrainingTimesLastYear  WorkLifeBalance  YearsAtCompany  \\\n",
       "count             237.000000       237.000000      237.000000   \n",
       "mean                2.624473         2.658228        5.130802   \n",
       "std                 1.254784         0.816453        5.949984   \n",
       "min                 0.000000         1.000000        0.000000   \n",
       "25%                 2.000000         2.000000        1.000000   \n",
       "50%                 2.000000         3.000000        3.000000   \n",
       "75%                 3.000000         3.000000        7.000000   \n",
       "max                 6.000000         4.000000       40.000000   \n",
       "\n",
       "       YearsInCurrentRole  YearsSinceLastPromotion  YearsWithCurrManager  \n",
       "count          237.000000               237.000000            237.000000  \n",
       "mean             2.902954                 1.945148              2.852321  \n",
       "std              3.174827                 3.153077              3.143349  \n",
       "min              0.000000                 0.000000              0.000000  \n",
       "25%              0.000000                 0.000000              0.000000  \n",
       "50%              2.000000                 1.000000              2.000000  \n",
       "75%              4.000000                 2.000000              5.000000  \n",
       "max             15.000000                15.000000             14.000000  \n",
       "\n",
       "[8 rows x 26 columns]"
      ]
     },
     "execution_count": 7,
     "metadata": {},
     "output_type": "execute_result"
    }
   ],
   "source": [
    "df_Attrition = df[df.Attrition == 'Yes']\n",
    "df_Attrition.describe() #Summery of values for employees who leave the company"
   ]
  },
  {
   "cell_type": "markdown",
   "metadata": {},
   "source": [
    "The two descriptions above show little to no difference in tha values of most corresponding columns. However, the following fields (in no particular order) show sizable difference and hence we'll investigate them further to see if they really contribute to employee attrition. \n",
    "\n",
    "<ul>\n",
    "    <li>Distance From Home</li>\n",
    "    <li>Job Level</li>\n",
    "    <li>Stock Option Level</li>\n",
    "</ul>\n",
    "\n",
    "Now let's use histograms to see the differences between employees who stay and those who leave. "
   ]
  },
  {
   "cell_type": "markdown",
   "metadata": {},
   "source": [
    "<h3>Distance From Home</h3>"
   ]
  },
  {
   "cell_type": "code",
   "execution_count": 8,
   "metadata": {},
   "outputs": [
    {
     "name": "stdout",
     "output_type": "stream",
     "text": [
      "D1 mean:  10.632911392405063\n",
      "D2 mean:  8.915652879156529\n"
     ]
    },
    {
     "data": {
      "image/png": "[encoded data removed]",
      "text/plain": [
       "<matplotlib.figure.Figure at 0x1f452b7f400>"
      ]
     },
     "metadata": {},
     "output_type": "display_data"
    }
   ],
   "source": [
    "# Distance from home\n",
    "\n",
    "plt.figure(figsize=(10, 5))\n",
    "\n",
    "D1 = df_Attrition['DistanceFromHome'] # Work commute distance for employees who left\n",
    "D2 = df_Remain['DistanceFromHome'] # Work commute distance for employees who remain\n",
    "\n",
    "plt.subplot(1, 2, 1)\n",
    "plt.hist(D1, color='blue', alpha=.5)\n",
    "plt.xlabel('Distance Travelled')\n",
    "plt.ylabel('Number of Employees')\n",
    "plt.title('Commute Distance for Employees who Left ')\n",
    "print('D1 mean: ', D1.mean())\n",
    "print('D2 mean: ', D2.mean())\n",
    "\n",
    "# add vertical line at the mean\n",
    "plt.axvline(D1.mean(), color='b', linestyle='solid', linewidth=2)\n",
    "\n",
    "# add vertical line at one standard deviation from either side of the mean \n",
    "plt.axvline(D1.mean() + D1.std(), color='b', linestyle='dashed', linewidth=2)\n",
    "\n",
    "plt.axvline(D1.mean() - D1.std(), color='b', linestyle='dashed', linewidth=2)\n",
    "\n",
    "plt.subplot(1, 2, 2)\n",
    "plt.hist(D2, color='red', alpha=.5)\n",
    "plt.title('Commute Distance for Employees who Stayed')\n",
    "plt.xlabel('Distance Travelled')\n",
    "plt.ylabel('Number of Employees')\n",
    "\n",
    "# mark the mean and standard deviations with vertical lines\n",
    "\n",
    "plt.axvline(D2.mean(), color='b', linestyle='solid', linewidth=2)\n",
    "plt.axvline(D2.mean() + D2.std(), color='b', linestyle='dashed', linewidth=2)\n",
    "plt.axvline(D2.mean() - D2.std(), color='b', linestyle='dashed', linewidth=2)\n",
    "\n",
    "plt.tight_layout()\n",
    "plt.show()\n",
    "\n"
   ]
  },
  {
   "cell_type": "markdown",
   "metadata": {},
   "source": [
    "Employees who left the company travel longer distance to get to work as shown above and this could mean that this factor is likely to play a role for attrition. "
   ]
  },
  {
   "cell_type": "markdown",
   "metadata": {},
   "source": [
    "<h3>Job Level</h3>"
   ]
  },
  {
   "cell_type": "code",
   "execution_count": 9,
   "metadata": {},
   "outputs": [
    {
     "data": {
      "image/png": "[encoded data removed]",
      "text/plain": [
       "<matplotlib.figure.Figure at 0x1f452b6cd30>"
      ]
     },
     "metadata": {},
     "output_type": "display_data"
    }
   ],
   "source": [
    "#Job level\n",
    "J1 = df_Attrition['JobLevel']\n",
    "J2 = df_Remain['JobLevel']\n",
    "plt.figure(figsize=(15, 8))\n",
    "\n",
    "plt.subplot(1, 3, 1)\n",
    "\n",
    "plt.hist(J1, color='red')\n",
    "plt.title('Job Level of Employees who Left')\n",
    "plt.xlabel('Job Level')\n",
    "\n",
    "plt.subplot(1, 3, 2)\n",
    "plt.hist(J2, color='black')\n",
    "\n",
    "plt.title('Job Level of Retained Employees')\n",
    "plt.xlabel('Job level')\n",
    "\n",
    "plt.subplot(1, 3, 3)\n",
    "plt.hist(df['JobLevel'], color='green')\n",
    "\n",
    "plt.title('Overall Job Level')\n",
    "plt.xlabel('Job level')\n",
    "plt.tight_layout()\n",
    "plt.show()"
   ]
  },
  {
   "cell_type": "markdown",
   "metadata": {},
   "source": [
    "The job level is evaluated on a scale of 1 to 5 with 1 representing low job value and 5 representing highest level. This is an important metric because employees are always interested in higher level jobs and if the company is not providing them with opportunities to do more fulfiling roles, they might look to competitors. As we can see from the graph above, only a small number of employees who have high job level are leaving the company. Making a comparision between the value for the employees who left, employees who remail in the company, and the overall data suggests that this factor might play a role in the employee attrition. "
   ]
  },
  {
   "cell_type": "markdown",
   "metadata": {},
   "source": [
    "<h3>Stock Option Level</h3>\n",
    "\n",
    "Having a stock option of the company could help create a feeling of belongingness and ownership and as a consequence could result in a higher employee loyalty and lower attrition. We have already seen the  a difference in the average, standard deviation, and percentiles of the two sub category we've been analyzing (attrition vs remain). The difference in the averages seem significant. We will be able to see whether that is by chance or because of real differences in those groups by conducting a t-test.    \n",
    "\n"
   ]
  },
  {
   "cell_type": "code",
   "execution_count": 10,
   "metadata": {},
   "outputs": [
    {
     "data": {
      "image/png": "[encoded data removed]",
      "text/plain": [
       "<matplotlib.figure.Figure at 0x1f452b66208>"
      ]
     },
     "metadata": {},
     "output_type": "display_data"
    }
   ],
   "source": [
    "S1 = df_Attrition['StockOptionLevel'] #Stoke option value for attrition group\n",
    "S2 = df_Remain['StockOptionLevel'] #Stock option value for remain group\n",
    "\n",
    "plt.hist(S1, alpha=.5, normed=True, color='blue', label='Attrition')\n",
    "plt.hist(S2, alpha=.5, normed=True, color='green', label='Remain')\n",
    "plt.legend(loc='upper right')\n",
    "plt.show()"
   ]
  },
  {
   "cell_type": "markdown",
   "metadata": {},
   "source": [
    "The population doesn't show patterns of normal distribution. We will take random sample of 100 values from each group and plot them."
   ]
  },
  {
   "cell_type": "code",
   "execution_count": 11,
   "metadata": {},
   "outputs": [
    {
     "data": {
      "image/png": "[encoded data removed]",
      "text/plain": [
       "<matplotlib.figure.Figure at 0x1f452f4ecc0>"
      ]
     },
     "metadata": {},
     "output_type": "display_data"
    }
   ],
   "source": [
    "sample1 = np.random.choice(S1, 100, replace=True)\n",
    "sample2 = np.random.choice(S2, 100, replace=True)\n",
    "\n",
    "plt.hist(sample1, alpha=.5, color='blue', normed=True, label='sample1')\n",
    "plt.hist(sample2, alpha=.5, color='green', normed=True, label='sample1')\n",
    "plt.legend(loc='upper right')\n",
    "\n",
    "plt.show()\n"
   ]
  },
  {
   "cell_type": "markdown",
   "metadata": {},
   "source": [
    "Now we will calculate the mean and standard deviations of the two samples as well as the difference between the two means."
   ]
  },
  {
   "cell_type": "code",
   "execution_count": 12,
   "metadata": {
    "scrolled": true
   },
   "outputs": [
    {
     "name": "stdout",
     "output_type": "stream",
     "text": [
      "sample1 mean: 0.62\n",
      "sample2 mean: 0.64\n",
      "sample1 std: 0.9568698971124548\n",
      "sample2 std: 0.9568698971124548\n",
      "difference: 0.020000000000000018\n"
     ]
    }
   ],
   "source": [
    "print('sample1 mean:', sample1.mean())\n",
    "print('sample2 mean:', sample2.mean())\n",
    "print('sample1 std:', sample1.std())\n",
    "print('sample2 std:', sample1.std())\n",
    "\n",
    "diff=sample2.mean() - sample1.mean()\n",
    "print('difference:',diff)"
   ]
  },
  {
   "cell_type": "code",
   "execution_count": 13,
   "metadata": {},
   "outputs": [
    {
     "name": "stdout",
     "output_type": "stream",
     "text": [
      "t-value: 0.1608515502444457\n"
     ]
    }
   ],
   "source": [
    "#create two array with the size of each variable and std for each variable\n",
    "\n",
    "size = np.array([len(sample1), len(sample2)])\n",
    "sd = np.array([sample1.std(), sample2.std()])\n",
    "\n",
    "#using the formula above\n",
    "\n",
    "diff_se = (sum(sd ** 2 / size)) ** .5\n",
    "\n",
    "print('t-value:', diff/diff_se) \n",
    "\n"
   ]
  },
  {
   "cell_type": "code",
   "execution_count": 14,
   "metadata": {
    "scrolled": true
   },
   "outputs": [
    {
     "name": "stdout",
     "output_type": "stream",
     "text": [
      "Ttest_indResult(statistic=0.16004527173234773, pvalue=0.8730141151932228)\n"
     ]
    }
   ],
   "source": [
    "from scipy.stats import ttest_ind\n",
    "print(ttest_ind(sample2, sample1, equal_var=False))"
   ]
  },
  {
   "cell_type": "markdown",
   "metadata": {},
   "source": [
    "We get a hign pvalue of 0.242 for the associated t-value. Which means that we cannot use the t-test to conclude that the difference in the samples reflects the difference in the population.    \n",
    "\n",
    "This analysis is best done with <b>Mnn-Whitney</b> test "
   ]
  },
  {
   "cell_type": "code",
   "execution_count": 16,
   "metadata": {},
   "outputs": [
    {
     "data": {
      "text/plain": [
       "MannwhitneyuResult(statistic=4662.0, pvalue=0.17615544568092362)"
      ]
     },
     "execution_count": 16,
     "metadata": {},
     "output_type": "execute_result"
    }
   ],
   "source": [
    "from scipy.stats import mannwhitneyu\n",
    "mannwhitneyu (sample1, sample2)"
   ]
  },
  {
   "cell_type": "markdown",
   "metadata": {},
   "source": [
    "A p value of 0.176 (> 0.05) supports the null hypothesis. We can not conclude that stock option level contributes to attrition.  "
   ]
  },
  {
   "cell_type": "markdown",
   "metadata": {},
   "source": [
    "<h2>2. Who is leaving the company?</h2>"
   ]
  },
  {
   "cell_type": "markdown",
   "metadata": {},
   "source": [
    "Creating a persona of employees who leave the company could help create the necessary conditions to keep them. Let's see gender and maritial status with bar charts. Adding Other metrics such as maritial status and education will give a better picture. "
   ]
  },
  {
   "cell_type": "markdown",
   "metadata": {},
   "source": [
    "<h3>Gender</h3>"
   ]
  },
  {
   "cell_type": "code",
   "execution_count": 17,
   "metadata": {},
   "outputs": [
    {
     "data": {
      "image/png": "[encoded data removed]",
      "text/plain": [
       "<matplotlib.figure.Figure at 0x1f452b611d0>"
      ]
     },
     "metadata": {},
     "output_type": "display_data"
    }
   ],
   "source": [
    "plt.figure(figsize=(15, 7))\n",
    "plt.subplot(1, 3, 1)\n",
    "df_Attrition.Gender.value_counts().plot(kind='bar')\n",
    "\n",
    "plt.title('Attrition by Gender')\n",
    "plt.ylabel('Gender Count')\n",
    "\n",
    "plt.subplot(1, 3, 2)\n",
    "df_Remain.Gender.value_counts().plot(kind='bar')\n",
    "plt.title('Remaining Employees')\n",
    "plt.ylabel('Gender Count')\n",
    "\n",
    "plt.subplot(1, 3, 3)\n",
    "df.Gender.value_counts().plot(kind='bar')\n",
    "plt.title('Total Employees by Gender')\n",
    "\n",
    "plt.show()"
   ]
  },
  {
   "cell_type": "markdown",
   "metadata": {},
   "source": [
    "As we can see form the graph above, the categories for remaining employees and the overall data seem to be represented with similar proportions of each sex. The attrition group seem to be have slightly more proportion of males than the other groups. "
   ]
  },
  {
   "cell_type": "markdown",
   "metadata": {},
   "source": [
    "<h3>Marital Status</h3>"
   ]
  },
  {
   "cell_type": "code",
   "execution_count": 19,
   "metadata": {},
   "outputs": [
    {
     "data": {
      "image/png": "[encoded data removed]",
      "text/plain": [
       "<matplotlib.figure.Figure at 0x1f4530e0fd0>"
      ]
     },
     "metadata": {},
     "output_type": "display_data"
    }
   ],
   "source": [
    "plt.figure(figsize=(15, 7))\n",
    "plt.subplot(1, 3, 1)\n",
    "df_Attrition.MaritalStatus.value_counts().plot(kind='bar')\n",
    "\n",
    "plt.title('Attrition by Marital Status')\n",
    "plt.ylabel('Count')\n",
    "\n",
    "plt.subplot(1, 3, 2)\n",
    "df_Remain.MaritalStatus.value_counts().plot(kind='bar')\n",
    "plt.title('Remaining Employees')\n",
    "plt.ylabel('Count')\n",
    "\n",
    "plt.subplot(1, 3, 3)\n",
    "df.MaritalStatus.value_counts().plot(kind='bar')\n",
    "plt.title('Marital Status of All Employees')\n",
    "plt.ylabel('Count')\n",
    "\n",
    "plt.show()"
   ]
  },
  {
   "cell_type": "markdown",
   "metadata": {},
   "source": [
    "The graph above shows that employees who are divorced are less represented in the attrition group and married employees are represented in a higher proportion that the other groups.    "
   ]
  },
  {
   "cell_type": "markdown",
   "metadata": {},
   "source": [
    "<h2>3. Is the company loosing experienced employees?</h2>"
   ]
  },
  {
   "cell_type": "markdown",
   "metadata": {},
   "source": [
    "Loosing experienced employees could have an impact on the company's future. It is also importand to investigate whether retiring employees contributed to attrition rate. "
   ]
  },
  {
   "cell_type": "code",
   "execution_count": 28,
   "metadata": {},
   "outputs": [
    {
     "data": {
      "image/png": "[encoded data removed]",
      "text/plain": [
       "<matplotlib.figure.Figure at 0x1f4537915c0>"
      ]
     },
     "metadata": {},
     "output_type": "display_data"
    }
   ],
   "source": [
    "plt.figure(figsize=(14, 7))\n",
    "plt.subplot(1, 3, 1)\n",
    "plt.boxplot(df_Attrition['TotalWorkingYears'])\n",
    "plt.xlabel('Employee Attrition')\n",
    "plt.title('Box plot indicating fliers')\n",
    "\n",
    "plt.subplot(1, 3, 2)\n",
    "plt.hist(df_Attrition['TotalWorkingYears'])\n",
    "plt.xlabel('Experience in years')\n",
    "plt.ylabel('number of employees')\n",
    "plt.title('Employee Attrition by Work Experience')\n",
    "# add vertical line at the mean\n",
    "plt.axvline(df_Attrition['TotalWorkingYears'].mean(), color='b', linestyle='solid', linewidth=2)\n",
    "\n",
    "# add vertical line at one standard deviation from either side of the mean \n",
    "plt.axvline(df_Attrition['TotalWorkingYears'].mean() + df_Attrition['TotalWorkingYears'].std(), color='b', linestyle='dashed', linewidth=2)\n",
    "\n",
    "plt.axvline(df_Attrition['TotalWorkingYears'].mean() - df_Attrition['TotalWorkingYears'].std(), color='b', linestyle='dashed', linewidth=2)\n",
    "\n",
    "plt.subplot(1, 3, 3)\n",
    "plt.hist(df_Remain['TotalWorkingYears'])\n",
    "plt.xlabel('Experience in years')\n",
    "plt.ylabel('number of employees')\n",
    "plt.title('Staying Employee Work Experience')\n",
    "\n",
    "plt.axvline(df_Remain['TotalWorkingYears'].mean(), color='b', linestyle='solid', linewidth=2)\n",
    "plt.axvline(df_Remain['TotalWorkingYears'].mean() + df_Attrition['TotalWorkingYears'].std(), color='b', linestyle='dashed', linewidth=2)\n",
    "\n",
    "plt.axvline(df_Remain['TotalWorkingYears'].mean() - df_Attrition['TotalWorkingYears'].std(), color='b', linestyle='dashed', linewidth=2)\n",
    "\n",
    "plt.show()\n",
    "\n",
    "\n"
   ]
  },
  {
   "cell_type": "markdown",
   "metadata": {},
   "source": [
    "The attrition group has fliers which could represent people retiring. The graph shows that the attrition group is more represented by employees who have either low experience compared to the one who stay in the company. "
   ]
  },
  {
   "cell_type": "markdown",
   "metadata": {},
   "source": [
    "# Conclusion and recommendations "
   ]
  },
  {
   "cell_type": "markdown",
   "metadata": {},
   "source": [
    "This analysis is done with the notion that employee attrition affects the company negatively and that knowing the reasons for it would help to reduce the attrition rate. In the questions we have tried to identify the factors which play a role in attrition. We were able to identify commute distance and job level to be likely influence attrition. Similar analysis should be taked to identify other factors and get a better picture.\n",
    "\n",
    "In the second question, we have tried to create a persona of employees who leave the company. We have identified some of the likely personalities in our analysis and concluded that married men are more likely to leave. Conducting similar analysis on metrics that relate to the personality of employees like age, education field, and others, it is possible to paint a clearer picture of who is leaving. \n",
    "\n",
    "The third question tries to address one of the fundamental questions that come with attrition - is the company looing experienced workers? the answer in our case was no. "
   ]
  }
 ],
 "metadata": {
  "kernelspec": {
   "display_name": "Python 3",
   "language": "python",
   "name": "python3"
  },
  "language_info": {
   "codemirror_mode": {
    "name": "ipython",
    "version": 3
   },
   "file_extension": ".py",
   "mimetype": "text/x-python",
   "name": "python",
   "nbconvert_exporter": "python",
   "pygments_lexer": "ipython3",
   "version": "3.6.4"
  }
 },
 "nbformat": 4,
 "nbformat_minor": 2
}
