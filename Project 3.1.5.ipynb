{
 "cells": [
  {
   "cell_type": "code",
   "execution_count": null,
   "metadata": {},
   "outputs": [],
   "source": [
    "# import numpy as np\n",
    "import pandas as pd\n",
    "import statistics \n",
    "df = pd.DataFrame()\n",
    "df['age'] = [14, 12, 11, 10, 8, 6, 8]\n",
    "print(\"Mean:\",np.mean(df['age']))\n",
    "print(\"Median:\",np.median(df['age']))\n",
    "print(\"Mode:\",statistics.mode(df['age']))\n",
    "print(\"Varience:\",df['age'].var())\n",
    "print(\"S.d:\",np.std(df['age'], ddof=1))\n",
    "print(\"Standard Error:\", np.std(df['age'], ddof=1) / np.sqrt(len(df['age'])))"
   ]
  },
  {
   "cell_type": "code",
   "execution_count": 4,
   "metadata": {},
   "outputs": [],
   "source": [
    "#I would choose Mean and Standard deviation. \n"
   ]
  },
  {
   "cell_type": "code",
   "execution_count": 6,
   "metadata": {},
   "outputs": [
    {
     "name": "stdout",
     "output_type": "stream",
     "text": [
      "Mean: 10.0\n",
      "Median: 10.0\n",
      "Mode: 8\n",
      "Varience: 6.333333333333333\n",
      "S.d: 2.516611478423583\n",
      "Standard Error: 0.9511897312113418\n"
     ]
    }
   ],
   "source": [
    "df['age2'] = [14, 12, 11, 10, 8, 7, 8]\n",
    "print(\"Mean:\",np.mean(df['age2']))\n",
    "print(\"Median:\",np.median(df['age2']))\n",
    "print(\"Mode:\",statistics.mode(df['age2']))\n",
    "print(\"Varience:\",df['age2'].var())\n",
    "print(\"S.d:\",np.std(df['age2'], ddof=1))\n",
    "print(\"Standard Error:\", np.std(df['age2'], ddof=1) / np.sqrt(len(df['age2'])))"
   ]
  },
  {
   "cell_type": "code",
   "execution_count": 7,
   "metadata": {},
   "outputs": [],
   "source": [
    "#The mean is now higher and equal to the median "
   ]
  },
  {
   "cell_type": "code",
   "execution_count": 9,
   "metadata": {},
   "outputs": [
    {
     "name": "stdout",
     "output_type": "stream",
     "text": [
      "Mean: 8.857142857142858\n",
      "Median: 10.0\n",
      "No Mode\n",
      "Varience: 18.80952380952381\n",
      "S.d: 4.3369947901195145\n",
      "Standard Error: 1.6392299502912862\n"
     ]
    }
   ],
   "source": [
    "df['age3'] = [14, 12, 11, 10, 8, 6, 1]\n",
    "print(\"Mean:\",np.mean(df['age3']))\n",
    "print(\"Median:\",np.median(df['age3']))\n",
    "print(\"No Mode\")\n",
    "print(\"Varience:\",df['age3'].var())\n",
    "print(\"S.d:\",np.std(df['age3'], ddof=1))\n",
    "print(\"Standard Error:\", np.std(df['age3'], ddof=1) / np.sqrt(len(df['age3'])))"
   ]
  },
  {
   "cell_type": "code",
   "execution_count": 10,
   "metadata": {},
   "outputs": [],
   "source": [
    "# Mode is not defined now as every age apears equal number of times. The mean is not the same as the median now and the varience increases. "
   ]
  },
  {
   "cell_type": "code",
   "execution_count": 11,
   "metadata": {},
   "outputs": [],
   "source": [
    "# 20% of Americans on average were Brady Bunch fans"
   ]
  },
  {
   "cell_type": "code",
   "execution_count": null,
   "metadata": {},
   "outputs": [],
   "source": []
  }
 ],
 "metadata": {
  "kernelspec": {
   "display_name": "Python 3",
   "language": "python",
   "name": "python3"
  },
  "language_info": {
   "codemirror_mode": {
    "name": "ipython",
    "version": 3
   },
   "file_extension": ".py",
   "mimetype": "text/x-python",
   "name": "python",
   "nbconvert_exporter": "python",
   "pygments_lexer": "ipython3",
   "version": "3.6.4"
  }
 },
 "nbformat": 4,
 "nbformat_minor": 2
}
