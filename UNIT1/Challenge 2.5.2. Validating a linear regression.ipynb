{
 "cells": [
  {
   "cell_type": "code",
   "execution_count": 50,
   "metadata": {
    "scrolled": true
   },
   "outputs": [],
   "source": [
    "import math\n",
    "import pandas as pd\n",
    "from matplotlib import pyplot as plt\n",
    "import numpy as np\n",
    "from sklearn import linear_model\n",
    "import seaborn as sns\n",
    "import statsmodels.formula.api as smf\n",
    "from statsmodels.sandbox.regression.predstd import wls_prediction_std\n",
    "\n",
    "%matplotlib inline\n",
    "\n",
    "#path = 'https://raw.githubusercontent.com/Thinkful-Ed/data-201-resources/master/New_York_offenses/NEW_YORK-Offenses_Known_to_Law_Enforcement_by_City_2013%20-%2013tbl8ny.csv'\n",
    "df = pd.read_excel(\"table_8_offenses_known_to_law_enforcement_new_york_by_city_2013.xls\", header=None, skiprows=5)\n"
   ]
  },
  {
   "cell_type": "code",
   "execution_count": 51,
   "metadata": {},
   "outputs": [],
   "source": [
    "df.columns = ['City', 'Population', 'Violent', 'Murder', 'Rape_def1', 'Rape_def2', 'Robbery', 'Aggravated'\n",
    "              , 'Property_crime', 'Burglary', 'Larceny', 'Motor_vehicle_teft', 'Arson']"
   ]
  },
  {
   "cell_type": "code",
   "execution_count": 52,
   "metadata": {},
   "outputs": [],
   "source": [
    "# drop Rape_def1 as it contains no information, almost half of Arson variable is nan as well\n",
    "df = df.drop('Rape_def1', axis=1)\n",
    "df = df.drop('Arson', axis=1)"
   ]
  },
  {
   "cell_type": "code",
   "execution_count": 53,
   "metadata": {},
   "outputs": [],
   "source": [
    "df = df.dropna()"
   ]
  },
  {
   "cell_type": "code",
   "execution_count": 54,
   "metadata": {},
   "outputs": [],
   "source": [
    "# Change Robbery and Murder to categorical variables \n",
    "df['Robbery'] = (df['Robbery'] > 0).astype(int)\n",
    "df['Murder'] = (df['Murder'] > 0).astype(int)"
   ]
  },
  {
   "cell_type": "code",
   "execution_count": 55,
   "metadata": {},
   "outputs": [],
   "source": [
    "df['Population_sq'] = (df['Population'] * df['Population'])"
   ]
  },
  {
   "cell_type": "code",
   "execution_count": 56,
   "metadata": {
    "scrolled": true
   },
   "outputs": [
    {
     "data": {
      "text/html": [
       "<div>\n",
       "<style scoped>\n",
       "    .dataframe tbody tr th:only-of-type {\n",
       "        vertical-align: middle;\n",
       "    }\n",
       "\n",
       "    .dataframe tbody tr th {\n",
       "        vertical-align: top;\n",
       "    }\n",
       "\n",
       "    .dataframe thead th {\n",
       "        text-align: right;\n",
       "    }\n",
       "</style>\n",
       "<table border=\"1\" class=\"dataframe\">\n",
       "  <thead>\n",
       "    <tr style=\"text-align: right;\">\n",
       "      <th></th>\n",
       "      <th>City</th>\n",
       "      <th>Population</th>\n",
       "      <th>Violent</th>\n",
       "      <th>Murder</th>\n",
       "      <th>Rape_def2</th>\n",
       "      <th>Robbery</th>\n",
       "      <th>Aggravated</th>\n",
       "      <th>Property_crime</th>\n",
       "      <th>Burglary</th>\n",
       "      <th>Larceny</th>\n",
       "      <th>Motor_vehicle_teft</th>\n",
       "      <th>Population_sq</th>\n",
       "    </tr>\n",
       "  </thead>\n",
       "  <tbody>\n",
       "    <tr>\n",
       "      <th>0</th>\n",
       "      <td>Adams Village</td>\n",
       "      <td>1861.0</td>\n",
       "      <td>0.0</td>\n",
       "      <td>0</td>\n",
       "      <td>0.0</td>\n",
       "      <td>0</td>\n",
       "      <td>0.0</td>\n",
       "      <td>12.0</td>\n",
       "      <td>2.0</td>\n",
       "      <td>10.0</td>\n",
       "      <td>0.0</td>\n",
       "      <td>3.463321e+06</td>\n",
       "    </tr>\n",
       "    <tr>\n",
       "      <th>1</th>\n",
       "      <td>Addison Town and Village</td>\n",
       "      <td>2577.0</td>\n",
       "      <td>3.0</td>\n",
       "      <td>0</td>\n",
       "      <td>0.0</td>\n",
       "      <td>0</td>\n",
       "      <td>3.0</td>\n",
       "      <td>24.0</td>\n",
       "      <td>3.0</td>\n",
       "      <td>20.0</td>\n",
       "      <td>1.0</td>\n",
       "      <td>6.640929e+06</td>\n",
       "    </tr>\n",
       "    <tr>\n",
       "      <th>2</th>\n",
       "      <td>Akron Village</td>\n",
       "      <td>2846.0</td>\n",
       "      <td>3.0</td>\n",
       "      <td>0</td>\n",
       "      <td>0.0</td>\n",
       "      <td>0</td>\n",
       "      <td>3.0</td>\n",
       "      <td>16.0</td>\n",
       "      <td>1.0</td>\n",
       "      <td>15.0</td>\n",
       "      <td>0.0</td>\n",
       "      <td>8.099716e+06</td>\n",
       "    </tr>\n",
       "    <tr>\n",
       "      <th>3</th>\n",
       "      <td>Albany</td>\n",
       "      <td>97956.0</td>\n",
       "      <td>791.0</td>\n",
       "      <td>1</td>\n",
       "      <td>30.0</td>\n",
       "      <td>1</td>\n",
       "      <td>526.0</td>\n",
       "      <td>4090.0</td>\n",
       "      <td>705.0</td>\n",
       "      <td>3243.0</td>\n",
       "      <td>142.0</td>\n",
       "      <td>9.595378e+09</td>\n",
       "    </tr>\n",
       "    <tr>\n",
       "      <th>4</th>\n",
       "      <td>Albion Village</td>\n",
       "      <td>6388.0</td>\n",
       "      <td>23.0</td>\n",
       "      <td>0</td>\n",
       "      <td>3.0</td>\n",
       "      <td>1</td>\n",
       "      <td>16.0</td>\n",
       "      <td>223.0</td>\n",
       "      <td>53.0</td>\n",
       "      <td>165.0</td>\n",
       "      <td>5.0</td>\n",
       "      <td>4.080654e+07</td>\n",
       "    </tr>\n",
       "  </tbody>\n",
       "</table>\n",
       "</div>"
      ],
      "text/plain": [
       "                       City  Population  Violent  Murder  Rape_def2  Robbery  \\\n",
       "0             Adams Village      1861.0      0.0       0        0.0        0   \n",
       "1  Addison Town and Village      2577.0      3.0       0        0.0        0   \n",
       "2             Akron Village      2846.0      3.0       0        0.0        0   \n",
       "3                    Albany     97956.0    791.0       1       30.0        1   \n",
       "4            Albion Village      6388.0     23.0       0        3.0        1   \n",
       "\n",
       "   Aggravated  Property_crime  Burglary  Larceny  Motor_vehicle_teft  \\\n",
       "0         0.0            12.0       2.0     10.0                 0.0   \n",
       "1         3.0            24.0       3.0     20.0                 1.0   \n",
       "2         3.0            16.0       1.0     15.0                 0.0   \n",
       "3       526.0          4090.0     705.0   3243.0               142.0   \n",
       "4        16.0           223.0      53.0    165.0                 5.0   \n",
       "\n",
       "   Population_sq  \n",
       "0   3.463321e+06  \n",
       "1   6.640929e+06  \n",
       "2   8.099716e+06  \n",
       "3   9.595378e+09  \n",
       "4   4.080654e+07  "
      ]
     },
     "execution_count": 56,
     "metadata": {},
     "output_type": "execute_result"
    }
   ],
   "source": [
    "df.head()"
   ]
  },
  {
   "cell_type": "code",
   "execution_count": 68,
   "metadata": {},
   "outputs": [
    {
     "data": {
      "text/plain": [
       "<matplotlib.axes._subplots.AxesSubplot at 0x1c66110fac8>"
      ]
     },
     "execution_count": 68,
     "metadata": {},
     "output_type": "execute_result"
    },
    {
     "data": {
      "image/png": "[encoded data removed]",
      "text/plain": [
       "<matplotlib.figure.Figure at 0x1c660ec9940>"
      ]
     },
     "metadata": {},
     "output_type": "display_data"
    }
   ],
   "source": [
    "sns.heatmap(df.corr())"
   ]
  },
  {
   "cell_type": "code",
   "execution_count": 35,
   "metadata": {},
   "outputs": [],
   "source": [
    "# Load and prepare the second data set (crime rate in New York state in other year(2014)) \n",
    "df_14 = pd.read_excel(\"Table_8_Offenses_Known_to_Law_Enforcement_by_New_York_by_City_2014.xls\", header=None, skiprows=5)\n"
   ]
  },
  {
   "cell_type": "code",
   "execution_count": 36,
   "metadata": {},
   "outputs": [],
   "source": [
    "df_14.columns = ['City', 'Population', 'Violent', 'Murder', 'Rape_def1', 'Rape_def2', 'Robbery', 'Aggravated'\n",
    "              , 'Property_crime', 'Burglary', 'Larceny', 'Motor_vehicle_teft', 'Arson']"
   ]
  },
  {
   "cell_type": "code",
   "execution_count": 37,
   "metadata": {},
   "outputs": [],
   "source": [
    "# More cleanup and prep as the 2013 data set\n",
    "df_14['Robbery'] = (df_14['Robbery'] > 0).astype(int)\n",
    "df_14['Murder'] = (df_14['Murder'] > 0).astype(int)\n",
    "df_14['Population_sq'] = (df_14['Population'] * df_14['Population'])"
   ]
  },
  {
   "cell_type": "code",
   "execution_count": 38,
   "metadata": {},
   "outputs": [
    {
     "data": {
      "text/plain": [
       "(376, 14)"
      ]
     },
     "execution_count": 38,
     "metadata": {},
     "output_type": "execute_result"
    }
   ],
   "source": [
    "df_14.shape"
   ]
  },
  {
   "cell_type": "code",
   "execution_count": 39,
   "metadata": {
    "scrolled": true
   },
   "outputs": [
    {
     "data": {
      "text/html": [
       "<div>\n",
       "<style scoped>\n",
       "    .dataframe tbody tr th:only-of-type {\n",
       "        vertical-align: middle;\n",
       "    }\n",
       "\n",
       "    .dataframe tbody tr th {\n",
       "        vertical-align: top;\n",
       "    }\n",
       "\n",
       "    .dataframe thead th {\n",
       "        text-align: right;\n",
       "    }\n",
       "</style>\n",
       "<table border=\"1\" class=\"dataframe\">\n",
       "  <thead>\n",
       "    <tr style=\"text-align: right;\">\n",
       "      <th></th>\n",
       "      <th>City</th>\n",
       "      <th>Population</th>\n",
       "      <th>Violent</th>\n",
       "      <th>Murder</th>\n",
       "      <th>Rape_def1</th>\n",
       "      <th>Rape_def2</th>\n",
       "      <th>Robbery</th>\n",
       "      <th>Aggravated</th>\n",
       "      <th>Property_crime</th>\n",
       "      <th>Burglary</th>\n",
       "      <th>Larceny</th>\n",
       "      <th>Motor_vehicle_teft</th>\n",
       "      <th>Arson</th>\n",
       "      <th>Population_sq</th>\n",
       "    </tr>\n",
       "  </thead>\n",
       "  <tbody>\n",
       "    <tr>\n",
       "      <th>0</th>\n",
       "      <td>Adams Village</td>\n",
       "      <td>1851.0</td>\n",
       "      <td>0.0</td>\n",
       "      <td>0</td>\n",
       "      <td>NaN</td>\n",
       "      <td>0.0</td>\n",
       "      <td>0</td>\n",
       "      <td>0.0</td>\n",
       "      <td>11.0</td>\n",
       "      <td>1.0</td>\n",
       "      <td>10.0</td>\n",
       "      <td>0.0</td>\n",
       "      <td>0.0</td>\n",
       "      <td>3.426201e+06</td>\n",
       "    </tr>\n",
       "    <tr>\n",
       "      <th>1</th>\n",
       "      <td>Addison Town and Village</td>\n",
       "      <td>2568.0</td>\n",
       "      <td>2.0</td>\n",
       "      <td>0</td>\n",
       "      <td>NaN</td>\n",
       "      <td>0.0</td>\n",
       "      <td>1</td>\n",
       "      <td>1.0</td>\n",
       "      <td>49.0</td>\n",
       "      <td>1.0</td>\n",
       "      <td>47.0</td>\n",
       "      <td>1.0</td>\n",
       "      <td>0.0</td>\n",
       "      <td>6.594624e+06</td>\n",
       "    </tr>\n",
       "    <tr>\n",
       "      <th>2</th>\n",
       "      <td>Afton Village4</td>\n",
       "      <td>820.0</td>\n",
       "      <td>0.0</td>\n",
       "      <td>0</td>\n",
       "      <td>0.0</td>\n",
       "      <td>NaN</td>\n",
       "      <td>0</td>\n",
       "      <td>0.0</td>\n",
       "      <td>1.0</td>\n",
       "      <td>0.0</td>\n",
       "      <td>1.0</td>\n",
       "      <td>0.0</td>\n",
       "      <td>0.0</td>\n",
       "      <td>6.724000e+05</td>\n",
       "    </tr>\n",
       "    <tr>\n",
       "      <th>3</th>\n",
       "      <td>Akron Village</td>\n",
       "      <td>2842.0</td>\n",
       "      <td>1.0</td>\n",
       "      <td>0</td>\n",
       "      <td>NaN</td>\n",
       "      <td>0.0</td>\n",
       "      <td>0</td>\n",
       "      <td>1.0</td>\n",
       "      <td>17.0</td>\n",
       "      <td>0.0</td>\n",
       "      <td>17.0</td>\n",
       "      <td>0.0</td>\n",
       "      <td>0.0</td>\n",
       "      <td>8.076964e+06</td>\n",
       "    </tr>\n",
       "    <tr>\n",
       "      <th>4</th>\n",
       "      <td>Albany4</td>\n",
       "      <td>98595.0</td>\n",
       "      <td>802.0</td>\n",
       "      <td>1</td>\n",
       "      <td>54.0</td>\n",
       "      <td>NaN</td>\n",
       "      <td>1</td>\n",
       "      <td>503.0</td>\n",
       "      <td>3888.0</td>\n",
       "      <td>683.0</td>\n",
       "      <td>3083.0</td>\n",
       "      <td>122.0</td>\n",
       "      <td>12.0</td>\n",
       "      <td>9.720974e+09</td>\n",
       "    </tr>\n",
       "  </tbody>\n",
       "</table>\n",
       "</div>"
      ],
      "text/plain": [
       "                       City  Population  Violent  Murder  Rape_def1  \\\n",
       "0             Adams Village      1851.0      0.0       0        NaN   \n",
       "1  Addison Town and Village      2568.0      2.0       0        NaN   \n",
       "2            Afton Village4       820.0      0.0       0        0.0   \n",
       "3             Akron Village      2842.0      1.0       0        NaN   \n",
       "4                   Albany4     98595.0    802.0       1       54.0   \n",
       "\n",
       "   Rape_def2  Robbery  Aggravated  Property_crime  Burglary  Larceny  \\\n",
       "0        0.0        0         0.0            11.0       1.0     10.0   \n",
       "1        0.0        1         1.0            49.0       1.0     47.0   \n",
       "2        NaN        0         0.0             1.0       0.0      1.0   \n",
       "3        0.0        0         1.0            17.0       0.0     17.0   \n",
       "4        NaN        1       503.0          3888.0     683.0   3083.0   \n",
       "\n",
       "   Motor_vehicle_teft  Arson  Population_sq  \n",
       "0                 0.0    0.0   3.426201e+06  \n",
       "1                 1.0    0.0   6.594624e+06  \n",
       "2                 0.0    0.0   6.724000e+05  \n",
       "3                 0.0    0.0   8.076964e+06  \n",
       "4               122.0   12.0   9.720974e+09  "
      ]
     },
     "execution_count": 39,
     "metadata": {},
     "output_type": "execute_result"
    }
   ],
   "source": [
    "df_14.head()"
   ]
  },
  {
   "cell_type": "code",
   "execution_count": 40,
   "metadata": {},
   "outputs": [
    {
     "data": {
      "text/plain": [
       "City                    1\n",
       "Population              7\n",
       "Violent                 7\n",
       "Murder                  0\n",
       "Rape_def1             149\n",
       "Rape_def2             234\n",
       "Robbery                 0\n",
       "Aggravated              7\n",
       "Property_crime          8\n",
       "Burglary                7\n",
       "Larceny                 8\n",
       "Motor_vehicle_teft      7\n",
       "Arson                  11\n",
       "Population_sq           7\n",
       "dtype: int64"
      ]
     },
     "execution_count": 40,
     "metadata": {},
     "output_type": "execute_result"
    }
   ],
   "source": [
    "df_14.isnull().sum()"
   ]
  },
  {
   "cell_type": "code",
   "execution_count": 58,
   "metadata": {},
   "outputs": [],
   "source": [
    "# model formula\n",
    "linear_formula = 'Property_crime ~ Population+Violent+Murder+Rape_def2+Robbery+Burglary'\n",
    "\n",
    "# fit model to data using the formula \n",
    "lm = smf.ols(formula=linear_formula, data=df).fit()"
   ]
  },
  {
   "cell_type": "code",
   "execution_count": 78,
   "metadata": {},
   "outputs": [
    {
     "name": "stdout",
     "output_type": "stream",
     "text": [
      "                            OLS Regression Results                            \n",
      "==============================================================================\n",
      "Dep. Variable:         Property_crime   R-squared:                       1.000\n",
      "Model:                            OLS   Adj. R-squared:                  1.000\n",
      "Method:                 Least Squares   F-statistic:                 1.373e+05\n",
      "Date:                Sun, 29 Jul 2018   Prob (F-statistic):               0.00\n",
      "Time:                        18:13:45   Log-Likelihood:                -2250.2\n",
      "No. Observations:                 348   AIC:                             4514.\n",
      "Df Residuals:                     341   BIC:                             4541.\n",
      "Df Model:                           6                                         \n",
      "Covariance Type:            nonrobust                                         \n",
      "==============================================================================\n",
      "                 coef    std err          t      P>|t|      [0.025      0.975]\n",
      "------------------------------------------------------------------------------\n",
      "Intercept    -31.4454     13.596     -2.313      0.021     -58.187      -4.704\n",
      "Population     0.0124      0.001     21.895      0.000       0.011       0.013\n",
      "Violent       -0.2808      0.120     -2.337      0.020      -0.517      -0.044\n",
      "Murder       -35.6400     27.996     -1.273      0.204     -90.707      19.427\n",
      "Rape_def2      4.9116      3.662      1.341      0.181      -2.290      12.114\n",
      "Robbery       33.8969     19.229      1.763      0.079      -3.926      71.720\n",
      "Burglary       2.8490      0.120     23.687      0.000       2.612       3.086\n",
      "==============================================================================\n",
      "Omnibus:                      103.462   Durbin-Watson:                   1.924\n",
      "Prob(Omnibus):                  0.000   Jarque-Bera (JB):             4913.141\n",
      "Skew:                          -0.274   Prob(JB):                         0.00\n",
      "Kurtosis:                      21.399   Cond. No.                     1.52e+06\n",
      "==============================================================================\n",
      "\n",
      "Warnings:\n",
      "[1] Standard Errors assume that the covariance matrix of the errors is correctly specified.\n",
      "[2] The condition number is large, 1.52e+06. This might indicate that there are\n",
      "strong multicollinearity or other numerical problems.\n"
     ]
    }
   ],
   "source": [
    "print(lm.summary())"
   ]
  },
  {
   "cell_type": "code",
   "execution_count": 79,
   "metadata": {
    "scrolled": true
   },
   "outputs": [
    {
     "name": "stdout",
     "output_type": "stream",
     "text": [
      "P-values for Murder, Rape_def2, and Robbery are greater than .05\n"
     ]
    }
   ],
   "source": [
    "print('P-values for Murder, Rape_def2, and Robbery are greater than .05')\n"
   ]
  },
  {
   "cell_type": "code",
   "execution_count": null,
   "metadata": {},
   "outputs": [],
   "source": [
    "# 2014 data set "
   ]
  },
  {
   "cell_type": "code",
   "execution_count": 73,
   "metadata": {},
   "outputs": [],
   "source": [
    "# model formula\n",
    "linear_formula = 'Property_crime ~ Population+Violent+Murder+Rape_def2+Robbery+Burglary'\n",
    "\n",
    "# fit model to data using the formula \n",
    "lm_14 = smf.ols(formula=linear_formula, data=df_14).fit()"
   ]
  },
  {
   "cell_type": "code",
   "execution_count": 80,
   "metadata": {},
   "outputs": [
    {
     "name": "stdout",
     "output_type": "stream",
     "text": [
      "                            OLS Regression Results                            \n",
      "==============================================================================\n",
      "Dep. Variable:         Property_crime   R-squared:                       0.947\n",
      "Model:                            OLS   Adj. R-squared:                  0.945\n",
      "Method:                 Least Squares   F-statistic:                     404.0\n",
      "Date:                Sun, 29 Jul 2018   Prob (F-statistic):           1.21e-83\n",
      "Time:                        18:17:50   Log-Likelihood:                -778.34\n",
      "No. Observations:                 142   AIC:                             1571.\n",
      "Df Residuals:                     135   BIC:                             1591.\n",
      "Df Model:                           6                                         \n",
      "Covariance Type:            nonrobust                                         \n",
      "==============================================================================\n",
      "                 coef    std err          t      P>|t|      [0.025      0.975]\n",
      "------------------------------------------------------------------------------\n",
      "Intercept     -5.1697      7.095     -0.729      0.467     -19.201       8.862\n",
      "Population     0.0053      0.001      5.348      0.000       0.003       0.007\n",
      "Violent       -0.3312      0.174     -1.905      0.059      -0.675       0.013\n",
      "Murder        18.1872     21.531      0.845      0.400     -24.394      60.769\n",
      "Rape_def2   -123.1756     62.586     -1.968      0.051    -246.952       0.601\n",
      "Robbery       22.0817     13.460      1.641      0.103      -4.538      48.701\n",
      "Burglary       3.8545      0.162     23.743      0.000       3.533       4.176\n",
      "==============================================================================\n",
      "Omnibus:                       66.629   Durbin-Watson:                   1.953\n",
      "Prob(Omnibus):                  0.000   Jarque-Bera (JB):              295.639\n",
      "Skew:                           1.664   Prob(JB):                     6.35e-65\n",
      "Kurtosis:                       9.236   Cond. No.                     1.58e+05\n",
      "==============================================================================\n",
      "\n",
      "Warnings:\n",
      "[1] Standard Errors assume that the covariance matrix of the errors is correctly specified.\n",
      "[2] The condition number is large, 1.58e+05. This might indicate that there are\n",
      "strong multicollinearity or other numerical problems.\n"
     ]
    }
   ],
   "source": [
    "print(lm_14.summary())"
   ]
  },
  {
   "cell_type": "markdown",
   "metadata": {},
   "source": [
    "Iterate by removing variables with high p values "
   ]
  },
  {
   "cell_type": "code",
   "execution_count": 81,
   "metadata": {},
   "outputs": [],
   "source": [
    "linear_formula2 = 'Property_crime ~ Population+Violent+Rape_def2+Burglary'\n"
   ]
  },
  {
   "cell_type": "code",
   "execution_count": 83,
   "metadata": {},
   "outputs": [],
   "source": [
    "lm2 = smf.ols(formula=linear_formula2, data=df).fit()"
   ]
  },
  {
   "cell_type": "code",
   "execution_count": 84,
   "metadata": {},
   "outputs": [
    {
     "name": "stdout",
     "output_type": "stream",
     "text": [
      "                            OLS Regression Results                            \n",
      "==============================================================================\n",
      "Dep. Variable:         Property_crime   R-squared:                       1.000\n",
      "Model:                            OLS   Adj. R-squared:                  1.000\n",
      "Method:                 Least Squares   F-statistic:                 2.047e+05\n",
      "Date:                Sun, 29 Jul 2018   Prob (F-statistic):               0.00\n",
      "Time:                        19:04:10   Log-Likelihood:                -2252.3\n",
      "No. Observations:                 348   AIC:                             4515.\n",
      "Df Residuals:                     343   BIC:                             4534.\n",
      "Df Model:                           4                                         \n",
      "Covariance Type:            nonrobust                                         \n",
      "==============================================================================\n",
      "                 coef    std err          t      P>|t|      [0.025      0.975]\n",
      "------------------------------------------------------------------------------\n",
      "Intercept    -17.8698     10.731     -1.665      0.097     -38.977       3.238\n",
      "Population     0.0126      0.001     24.230      0.000       0.012       0.014\n",
      "Violent       -0.3140      0.110     -2.867      0.004      -0.529      -0.099\n",
      "Rape_def2      4.9548      3.661      1.353      0.177      -2.246      12.156\n",
      "Burglary       2.8544      0.118     24.263      0.000       2.623       3.086\n",
      "==============================================================================\n",
      "Omnibus:                      108.336   Durbin-Watson:                   1.922\n",
      "Prob(Omnibus):                  0.000   Jarque-Bera (JB):             5130.429\n",
      "Skew:                          -0.384   Prob(JB):                         0.00\n",
      "Kurtosis:                      21.794   Cond. No.                     5.73e+05\n",
      "==============================================================================\n",
      "\n",
      "Warnings:\n",
      "[1] Standard Errors assume that the covariance matrix of the errors is correctly specified.\n",
      "[2] The condition number is large, 5.73e+05. This might indicate that there are\n",
      "strong multicollinearity or other numerical problems.\n"
     ]
    }
   ],
   "source": [
    "print(lm2.summary())"
   ]
  },
  {
   "cell_type": "code",
   "execution_count": 85,
   "metadata": {},
   "outputs": [],
   "source": [
    "lm2 = smf.ols(formula=linear_formula2, data=df_14).fit()"
   ]
  },
  {
   "cell_type": "code",
   "execution_count": 86,
   "metadata": {},
   "outputs": [
    {
     "name": "stdout",
     "output_type": "stream",
     "text": [
      "                            OLS Regression Results                            \n",
      "==============================================================================\n",
      "Dep. Variable:         Property_crime   R-squared:                       0.946\n",
      "Model:                            OLS   Adj. R-squared:                  0.944\n",
      "Method:                 Least Squares   F-statistic:                     600.2\n",
      "Date:                Sun, 29 Jul 2018   Prob (F-statistic):           9.48e-86\n",
      "Time:                        19:48:00   Log-Likelihood:                -779.97\n",
      "No. Observations:                 142   AIC:                             1570.\n",
      "Df Residuals:                     137   BIC:                             1585.\n",
      "Df Model:                           4                                         \n",
      "Covariance Type:            nonrobust                                         \n",
      "==============================================================================\n",
      "                 coef    std err          t      P>|t|      [0.025      0.975]\n",
      "------------------------------------------------------------------------------\n",
      "Intercept     -2.9632      6.958     -0.426      0.671     -16.722      10.796\n",
      "Population     0.0064      0.001      8.130      0.000       0.005       0.008\n",
      "Violent       -0.3917      0.169     -2.315      0.022      -0.726      -0.057\n",
      "Rape_def2   -110.9514     61.066     -1.817      0.071    -231.706       9.803\n",
      "Burglary       3.8856      0.161     24.187      0.000       3.568       4.203\n",
      "==============================================================================\n",
      "Omnibus:                       68.624   Durbin-Watson:                   1.941\n",
      "Prob(Omnibus):                  0.000   Jarque-Bera (JB):              316.616\n",
      "Skew:                           1.707   Prob(JB):                     1.77e-69\n",
      "Kurtosis:                       9.470   Cond. No.                     1.53e+05\n",
      "==============================================================================\n",
      "\n",
      "Warnings:\n",
      "[1] Standard Errors assume that the covariance matrix of the errors is correctly specified.\n",
      "[2] The condition number is large, 1.53e+05. This might indicate that there are\n",
      "strong multicollinearity or other numerical problems.\n"
     ]
    }
   ],
   "source": [
    "print(lm2.summary())"
   ]
  },
  {
   "cell_type": "markdown",
   "metadata": {},
   "source": [
    "Both models produce a R^2 value of 1.00 for the 2013 data set and p values of .946 and .947 for the 2014 data set "
   ]
  }
 ],
 "metadata": {
  "kernelspec": {
   "display_name": "Python 3",
   "language": "python",
   "name": "python3"
  },
  "language_info": {
   "codemirror_mode": {
    "name": "ipython",
    "version": 3
   },
   "file_extension": ".py",
   "mimetype": "text/x-python",
   "name": "python",
   "nbconvert_exporter": "python",
   "pygments_lexer": "ipython3",
   "version": "3.6.4"
  }
 },
 "nbformat": 4,
 "nbformat_minor": 2
}
