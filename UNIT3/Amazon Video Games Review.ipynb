{
 "cells": [
  {
   "cell_type": "markdown",
   "metadata": {},
   "source": [
    "# Sentiment Analysis on Amazon Video Games Reviews\n",
    "\n",
    "In this assignment we'll perform a sentiment analysis on video game reviews on Amazon. The goal is to create a model to algorithmically predict if a review is positive or negative just based on its text. We will also try to see how these reviews compare across categories by applying the models on a different Amazon reviews dataset which is a pet supplies revies. That will enable us to see if a review classification model for one category works for another. "
   ]
  },
  {
   "cell_type": "code",
   "execution_count": 5,
   "metadata": {},
   "outputs": [],
   "source": [
    "%matplotlib inline\n",
    "import numpy as np\n",
    "import pandas as pd\n",
    "import spacy\n",
    "import time\n",
    "from sklearn.feature_selection import SelectKBest, SelectPercentile, f_classif\n",
    "from sklearn.neighbors import KNeighborsClassifier\n",
    "from sklearn.tree import DecisionTreeClassifier\n",
    "from sklearn.naive_bayes import MultinomialNB \n",
    "from sklearn.linear_model import Ridge, Lasso \n",
    "from sklearn.preprocessing import StandardScaler\n",
    "from sklearn.linear_model import LogisticRegression\n",
    "from sklearn.linear_model import RidgeClassifier\n",
    "from sklearn.model_selection import cross_val_score\n",
    "from sklearn import metrics\n",
    "from sklearn.linear_model import LassoCV\n",
    "from sklearn.feature_selection import chi2\n",
    "from sklearn.metrics import roc_curve, auc, confusion_matrix\n",
    "from sklearn.metrics import classification_report\n",
    "from sklearn.model_selection import GridSearchCV\n",
    "from sklearn.metrics import make_scorer\n",
    "from sklearn.pipeline import Pipeline\n",
    "from sklearn import ensemble\n",
    "from sklearn.svm import SVC\n",
    "from nltk.corpus import stopwords\n",
    "from nltk.stem import SnowballStemmer\n",
    "from sklearn.feature_extraction.text import TfidfVectorizer\n",
    "from sklearn.model_selection import train_test_split\n",
    "import matplotlib.pyplot as plt\n",
    "import seaborn as sns\n",
    "import re\n",
    "from collections import Counter\n"
   ]
  },
  {
   "cell_type": "code",
   "execution_count": 54,
   "metadata": {
    "scrolled": false
   },
   "outputs": [
    {
     "data": {
      "text/html": [
       "<div>\n",
       "<style scoped>\n",
       "    .dataframe tbody tr th:only-of-type {\n",
       "        vertical-align: middle;\n",
       "    }\n",
       "\n",
       "    .dataframe tbody tr th {\n",
       "        vertical-align: top;\n",
       "    }\n",
       "\n",
       "    .dataframe thead th {\n",
       "        text-align: right;\n",
       "    }\n",
       "</style>\n",
       "<table border=\"1\" class=\"dataframe\">\n",
       "  <thead>\n",
       "    <tr style=\"text-align: right;\">\n",
       "      <th></th>\n",
       "      <th>asin</th>\n",
       "      <th>helpful</th>\n",
       "      <th>overall</th>\n",
       "      <th>reviewText</th>\n",
       "      <th>reviewTime</th>\n",
       "      <th>reviewerID</th>\n",
       "      <th>reviewerName</th>\n",
       "      <th>summary</th>\n",
       "      <th>unixReviewTime</th>\n",
       "    </tr>\n",
       "  </thead>\n",
       "  <tbody>\n",
       "    <tr>\n",
       "      <th>0</th>\n",
       "      <td>0700099867</td>\n",
       "      <td>[8, 12]</td>\n",
       "      <td>1</td>\n",
       "      <td>Installing the game was a struggle (because of...</td>\n",
       "      <td>07 9, 2012</td>\n",
       "      <td>A2HD75EMZR8QLN</td>\n",
       "      <td>123</td>\n",
       "      <td>Pay to unlock content? I don't think so.</td>\n",
       "      <td>1341792000</td>\n",
       "    </tr>\n",
       "    <tr>\n",
       "      <th>1</th>\n",
       "      <td>0700099867</td>\n",
       "      <td>[0, 0]</td>\n",
       "      <td>4</td>\n",
       "      <td>If you like rally cars get this game you will ...</td>\n",
       "      <td>06 30, 2013</td>\n",
       "      <td>A3UR8NLLY1ZHCX</td>\n",
       "      <td>Alejandro Henao \"Electronic Junky\"</td>\n",
       "      <td>Good rally game</td>\n",
       "      <td>1372550400</td>\n",
       "    </tr>\n",
       "    <tr>\n",
       "      <th>2</th>\n",
       "      <td>0700099867</td>\n",
       "      <td>[0, 0]</td>\n",
       "      <td>1</td>\n",
       "      <td>1st shipment received a book instead of the ga...</td>\n",
       "      <td>06 28, 2014</td>\n",
       "      <td>A1INA0F5CWW3J4</td>\n",
       "      <td>Amazon Shopper \"Mr.Repsol\"</td>\n",
       "      <td>Wrong key</td>\n",
       "      <td>1403913600</td>\n",
       "    </tr>\n",
       "    <tr>\n",
       "      <th>3</th>\n",
       "      <td>0700099867</td>\n",
       "      <td>[7, 10]</td>\n",
       "      <td>3</td>\n",
       "      <td>I got this version instead of the PS3 version,...</td>\n",
       "      <td>09 14, 2011</td>\n",
       "      <td>A1DLMTOTHQ4AST</td>\n",
       "      <td>ampgreen</td>\n",
       "      <td>awesome game, if it did not crash frequently !!</td>\n",
       "      <td>1315958400</td>\n",
       "    </tr>\n",
       "    <tr>\n",
       "      <th>4</th>\n",
       "      <td>0700099867</td>\n",
       "      <td>[2, 2]</td>\n",
       "      <td>4</td>\n",
       "      <td>I had Dirt 2 on Xbox 360 and it was an okay ga...</td>\n",
       "      <td>06 14, 2011</td>\n",
       "      <td>A361M14PU2GUEG</td>\n",
       "      <td>Angry Ryan \"Ryan A. Forrest\"</td>\n",
       "      <td>DIRT 3</td>\n",
       "      <td>1308009600</td>\n",
       "    </tr>\n",
       "  </tbody>\n",
       "</table>\n",
       "</div>"
      ],
      "text/plain": [
       "         asin  helpful  overall  \\\n",
       "0  0700099867  [8, 12]        1   \n",
       "1  0700099867   [0, 0]        4   \n",
       "2  0700099867   [0, 0]        1   \n",
       "3  0700099867  [7, 10]        3   \n",
       "4  0700099867   [2, 2]        4   \n",
       "\n",
       "                                          reviewText   reviewTime  \\\n",
       "0  Installing the game was a struggle (because of...   07 9, 2012   \n",
       "1  If you like rally cars get this game you will ...  06 30, 2013   \n",
       "2  1st shipment received a book instead of the ga...  06 28, 2014   \n",
       "3  I got this version instead of the PS3 version,...  09 14, 2011   \n",
       "4  I had Dirt 2 on Xbox 360 and it was an okay ga...  06 14, 2011   \n",
       "\n",
       "       reviewerID                        reviewerName  \\\n",
       "0  A2HD75EMZR8QLN                                 123   \n",
       "1  A3UR8NLLY1ZHCX  Alejandro Henao \"Electronic Junky\"   \n",
       "2  A1INA0F5CWW3J4          Amazon Shopper \"Mr.Repsol\"   \n",
       "3  A1DLMTOTHQ4AST                            ampgreen   \n",
       "4  A361M14PU2GUEG        Angry Ryan \"Ryan A. Forrest\"   \n",
       "\n",
       "                                           summary  unixReviewTime  \n",
       "0         Pay to unlock content? I don't think so.      1341792000  \n",
       "1                                  Good rally game      1372550400  \n",
       "2                                        Wrong key      1403913600  \n",
       "3  awesome game, if it did not crash frequently !!      1315958400  \n",
       "4                                           DIRT 3      1308009600  "
      ]
     },
     "execution_count": 54,
     "metadata": {},
     "output_type": "execute_result"
    }
   ],
   "source": [
    "# Load and see the layout of the dataframe \n",
    "reviews_raw = pd.read_json('Video_Games_5.json', lines=True, encoding='utf-8')\n",
    "\n",
    "reviews_raw.head()"
   ]
  },
  {
   "cell_type": "markdown",
   "metadata": {},
   "source": [
    "## About the data"
   ]
  },
  {
   "cell_type": "markdown",
   "metadata": {},
   "source": [
    "The dataset consists of a more than 230K Amazon customer reviews, product rating, and helpful score which measures how helpful other users found the reviews. The dataset can be downloaded on the link below.\n",
    "\n",
    "http://jmcauley.ucsd.edu/data/amazon/ \n",
    "\n",
    "<li>Variables</li>\n",
    "\n",
    "<ul>reviewerID - ID of the reviewer, e.g. A2SUAM1J3GNN3B</ul>\n",
    "<ul>asin - ID of the product, e.g. 0000013714</ul>\n",
    "<ul>reviewerName - name of the reviewer</ul>\n",
    "<ul>helpful - helpfulness rating of the review, e.g. 2/3</ul>\n",
    "<ul>reviewText - text of the review</ul>\n",
    "<ul>overall - rating of the product</ul>\n",
    "<ul>summary - summary of the review</ul>\n",
    "<ul>unixReviewTime - time of the review (unix time)</ul>\n",
    "<ul>reviewTime - time of the review (raw)</ul>"
   ]
  },
  {
   "cell_type": "markdown",
   "metadata": {},
   "source": [
    "## Approach to data preparation and feature selection. \n",
    "\n",
    "We will use the 'reviewText' to build classification models. First we will use the 'helpful' variable to isoate only the reviews which are useful to users. Then we will use the 'overall' variable (which is product rating) to categorize the sentiment in to positive and negative. We can then use the words in these two categories to train our models. "
   ]
  },
  {
   "cell_type": "code",
   "execution_count": 55,
   "metadata": {
    "scrolled": true
   },
   "outputs": [
    {
     "data": {
      "text/plain": [
       "asin                 0\n",
       "helpful              0\n",
       "overall              0\n",
       "reviewText           0\n",
       "reviewTime           0\n",
       "reviewerID           0\n",
       "reviewerName      2813\n",
       "summary              0\n",
       "unixReviewTime       0\n",
       "dtype: int64"
      ]
     },
     "execution_count": 55,
     "metadata": {},
     "output_type": "execute_result"
    }
   ],
   "source": [
    "# no NaN values in the columns we're interested in \n",
    "reviews_raw.isnull().sum()"
   ]
  },
  {
   "cell_type": "markdown",
   "metadata": {},
   "source": [
    "The 'helpful' entry can be used to generate a score between 0 and 1 (not including 1) by dividing the first number by te second. We will remove zero denominators to avoid division error. "
   ]
  },
  {
   "cell_type": "code",
   "execution_count": 58,
   "metadata": {},
   "outputs": [
    {
     "data": {
      "text/plain": [
       "(231780, 11)"
      ]
     },
     "execution_count": 58,
     "metadata": {},
     "output_type": "execute_result"
    }
   ],
   "source": [
    "# we started with this many reviews \n",
    "reviews_raw.shape"
   ]
  },
  {
   "cell_type": "code",
   "execution_count": 57,
   "metadata": {},
   "outputs": [],
   "source": [
    "# Separate the values and divide them to get a score\n",
    "reviews_raw[['relevance_Numerator','relevance_Denominator']] = pd.DataFrame(reviews_raw.helpful.values.tolist(), index = reviews_raw.index)"
   ]
  },
  {
   "cell_type": "code",
   "execution_count": 62,
   "metadata": {},
   "outputs": [],
   "source": [
    "# Make a score of the 'helpful' rating max value is 1. This number can be used to filter out non helpful reviews based on a \n",
    "# treshold.\n",
    "reviews_raw['relevance'] = np.where(reviews_raw['relevance_Denominator'] > 0, reviews_raw['relevance_Numerator'] / reviews_raw['relevance_Denominator'], -1)"
   ]
  },
  {
   "cell_type": "code",
   "execution_count": 59,
   "metadata": {},
   "outputs": [],
   "source": [
    "# Zero people found this review important \n",
    "reviews_raw= reviews_raw[reviews_raw['relevance_Denominator'] > 0]"
   ]
  },
  {
   "cell_type": "code",
   "execution_count": 60,
   "metadata": {},
   "outputs": [
    {
     "data": {
      "text/plain": [
       "(139855, 11)"
      ]
     },
     "execution_count": 60,
     "metadata": {},
     "output_type": "execute_result"
    }
   ],
   "source": [
    "# A significant number of reviews do not have 'helpful' ratings by other users\n",
    "# We will loose some information but we will be resampling anyways for class imbalance\n",
    "reviews_raw.shape"
   ]
  },
  {
   "cell_type": "markdown",
   "metadata": {},
   "source": [
    "We can now categorize reviews as relevant and non relevant. We'll drop non relevant reviews and then use overall score to separate positive and negative sentiment.  In our case we will just use a helpful index of 75%. \n",
    "<b>Note:</b> Any value above 50% would still be justified but I picked 75% only because of the need to reduce the data. The processing power of the computer used to make this assignment is not good enough to run some of te models. "
   ]
  },
  {
   "cell_type": "code",
   "execution_count": 64,
   "metadata": {},
   "outputs": [],
   "source": [
    "# Separate the relevant and non-relevant reviews.  \n",
    "reviews_raw['relevance']=np.where(reviews_raw['relevance'] >= 0.75, 1, reviews_raw['relevance'].astype(int))\n",
    "reviews_raw['relevance']=np.where(reviews_raw['relevance'] < 0.75, 0, reviews_raw['relevance'].astype(int))"
   ]
  },
  {
   "cell_type": "code",
   "execution_count": 65,
   "metadata": {},
   "outputs": [
    {
     "data": {
      "image/png": "[encoded data removed]",
      "text/plain": [
       "<Figure size 432x288 with 1 Axes>"
      ]
     },
     "metadata": {},
     "output_type": "display_data"
    }
   ],
   "source": [
    "sns.countplot(x='relevance', data=reviews_raw, palette='hls')\n",
    "plt.title('Users found the majority of reviews helpful')\n",
    "plt.show()"
   ]
  },
  {
   "cell_type": "code",
   "execution_count": 66,
   "metadata": {},
   "outputs": [
    {
     "data": {
      "text/plain": [
       "0    72646\n",
       "1    67209\n",
       "Name: relevance, dtype: int64"
      ]
     },
     "execution_count": 66,
     "metadata": {},
     "output_type": "execute_result"
    }
   ],
   "source": [
    "# Almost equal prpportion \n",
    "reviews_raw['relevance'].value_counts()"
   ]
  },
  {
   "cell_type": "markdown",
   "metadata": {},
   "source": [
    "When making sentiment analysis consider only useful reviews. "
   ]
  },
  {
   "cell_type": "code",
   "execution_count": 67,
   "metadata": {},
   "outputs": [],
   "source": [
    "# Keep only relevant reviews for sentiment analysis\n",
    "reviews_raw = reviews_raw[reviews_raw.relevance == 1]"
   ]
  },
  {
   "cell_type": "code",
   "execution_count": 68,
   "metadata": {},
   "outputs": [
    {
     "data": {
      "text/plain": [
       "(67209, 12)"
      ]
     },
     "execution_count": 68,
     "metadata": {},
     "output_type": "execute_result"
    }
   ],
   "source": [
    "# our data points are greatly reduced now \n",
    "reviews_raw.shape"
   ]
  },
  {
   "cell_type": "code",
   "execution_count": 69,
   "metadata": {},
   "outputs": [],
   "source": [
    "# Take the ratings column and divide in to positive and negative sentiment by assigning 1 to high rating ones\n",
    "# and 0 for ratings lower than 3 \n",
    "\n",
    "# Don't run this twice!!!!! Every value will be zero otherwise \n",
    "# The order in which these two cells run matters too. lower class first \n",
    "reviews_raw['overall']=np.where(reviews_raw['overall'] <= 3, 0, reviews_raw['overall'].astype(int))"
   ]
  },
  {
   "cell_type": "code",
   "execution_count": 70,
   "metadata": {},
   "outputs": [],
   "source": [
    "reviews_raw['overall']=np.where(reviews_raw['overall'] > 3, 1, reviews_raw['overall'].astype(int))"
   ]
  },
  {
   "cell_type": "code",
   "execution_count": 73,
   "metadata": {},
   "outputs": [
    {
     "data": {
      "text/html": [
       "<div>\n",
       "<style scoped>\n",
       "    .dataframe tbody tr th:only-of-type {\n",
       "        vertical-align: middle;\n",
       "    }\n",
       "\n",
       "    .dataframe tbody tr th {\n",
       "        vertical-align: top;\n",
       "    }\n",
       "\n",
       "    .dataframe thead th {\n",
       "        text-align: right;\n",
       "    }\n",
       "</style>\n",
       "<table border=\"1\" class=\"dataframe\">\n",
       "  <thead>\n",
       "    <tr style=\"text-align: right;\">\n",
       "      <th></th>\n",
       "      <th>asin</th>\n",
       "      <th>helpful</th>\n",
       "      <th>overall</th>\n",
       "      <th>reviewText</th>\n",
       "      <th>reviewTime</th>\n",
       "      <th>reviewerID</th>\n",
       "      <th>reviewerName</th>\n",
       "      <th>summary</th>\n",
       "      <th>unixReviewTime</th>\n",
       "      <th>relevance_Numerator</th>\n",
       "      <th>relevance_Denominator</th>\n",
       "      <th>relevance</th>\n",
       "    </tr>\n",
       "  </thead>\n",
       "  <tbody>\n",
       "    <tr>\n",
       "      <th>4</th>\n",
       "      <td>0700099867</td>\n",
       "      <td>[2, 2]</td>\n",
       "      <td>1</td>\n",
       "      <td>I had Dirt 2 on Xbox 360 and it was an okay ga...</td>\n",
       "      <td>06 14, 2011</td>\n",
       "      <td>A361M14PU2GUEG</td>\n",
       "      <td>Angry Ryan \"Ryan A. Forrest\"</td>\n",
       "      <td>DIRT 3</td>\n",
       "      <td>1308009600</td>\n",
       "      <td>2</td>\n",
       "      <td>2</td>\n",
       "      <td>1</td>\n",
       "    </tr>\n",
       "    <tr>\n",
       "      <th>6</th>\n",
       "      <td>0700099867</td>\n",
       "      <td>[11, 13]</td>\n",
       "      <td>1</td>\n",
       "      <td>Loved playing Dirt 2 and I thought the graphic...</td>\n",
       "      <td>08 14, 2011</td>\n",
       "      <td>AN3YYDZAS3O1Y</td>\n",
       "      <td>Bob</td>\n",
       "      <td>A step up from Dirt 2 and that is terrific!</td>\n",
       "      <td>1313280000</td>\n",
       "      <td>11</td>\n",
       "      <td>13</td>\n",
       "      <td>1</td>\n",
       "    </tr>\n",
       "    <tr>\n",
       "      <th>9</th>\n",
       "      <td>0700099867</td>\n",
       "      <td>[1, 1]</td>\n",
       "      <td>0</td>\n",
       "      <td>I still haven't figured this one out. Did ever...</td>\n",
       "      <td>02 8, 2014</td>\n",
       "      <td>A2JLT2WY0F2HVI</td>\n",
       "      <td>D. Sweetapple</td>\n",
       "      <td>Couldn't get this one to work</td>\n",
       "      <td>1391817600</td>\n",
       "      <td>1</td>\n",
       "      <td>1</td>\n",
       "      <td>1</td>\n",
       "    </tr>\n",
       "  </tbody>\n",
       "</table>\n",
       "</div>"
      ],
      "text/plain": [
       "         asin   helpful  overall  \\\n",
       "4  0700099867    [2, 2]        1   \n",
       "6  0700099867  [11, 13]        1   \n",
       "9  0700099867    [1, 1]        0   \n",
       "\n",
       "                                          reviewText   reviewTime  \\\n",
       "4  I had Dirt 2 on Xbox 360 and it was an okay ga...  06 14, 2011   \n",
       "6  Loved playing Dirt 2 and I thought the graphic...  08 14, 2011   \n",
       "9  I still haven't figured this one out. Did ever...   02 8, 2014   \n",
       "\n",
       "       reviewerID                  reviewerName  \\\n",
       "4  A361M14PU2GUEG  Angry Ryan \"Ryan A. Forrest\"   \n",
       "6   AN3YYDZAS3O1Y                           Bob   \n",
       "9  A2JLT2WY0F2HVI                 D. Sweetapple   \n",
       "\n",
       "                                       summary  unixReviewTime  \\\n",
       "4                                       DIRT 3      1308009600   \n",
       "6  A step up from Dirt 2 and that is terrific!      1313280000   \n",
       "9                Couldn't get this one to work      1391817600   \n",
       "\n",
       "   relevance_Numerator  relevance_Denominator  relevance  \n",
       "4                    2                      2          1  \n",
       "6                   11                     13          1  \n",
       "9                    1                      1          1  "
      ]
     },
     "execution_count": 73,
     "metadata": {},
     "output_type": "execute_result"
    }
   ],
   "source": [
    "# Only relevant reviews \n",
    "reviews_raw.head(3)"
   ]
  },
  {
   "cell_type": "markdown",
   "metadata": {},
   "source": [
    "### Fix Class imbalance \n",
    "\n",
    "Most of the reviews have positive sentiment. We need to represent the same number of reviews in each class. We'll do so by downsampling the majority class to mathch with the minority class. We will loose information on the process. The alternative is up sampling by which we increase the number of the minority class by randomly selecting and adding uo to match the majority group or anything in between. This would result in a lesser loss of information but since we have limited computational power, the downsampling method will work better for us. "
   ]
  },
  {
   "cell_type": "code",
   "execution_count": 74,
   "metadata": {},
   "outputs": [
    {
     "data": {
      "image/png": "[encoded data removed]",
      "text/plain": [
       "<Figure size 432x288 with 1 Axes>"
      ]
     },
     "metadata": {},
     "output_type": "display_data"
    },
    {
     "name": "stdout",
     "output_type": "stream",
     "text": [
      "1    54410\n",
      "0    12799\n",
      "Name: overall, dtype: int64\n"
     ]
    }
   ],
   "source": [
    "# visualize the difference and count each class \n",
    "sns.countplot(x='overall', data=reviews_raw, palette='hls')\n",
    "plt.title('Proportion of positive and negative sentiment')\n",
    "plt.show()\n",
    "print(reviews_raw['overall'].value_counts())"
   ]
  },
  {
   "cell_type": "code",
   "execution_count": 75,
   "metadata": {},
   "outputs": [
    {
     "name": "stdout",
     "output_type": "stream",
     "text": [
      "1    12799\n",
      "0    12799\n",
      "Name: overall, dtype: int64\n",
      "We now have a sample with balanced class\n"
     ]
    },
    {
     "data": {
      "image/png": "[encoded data removed]",
      "text/plain": [
       "<Figure size 432x288 with 1 Axes>"
      ]
     },
     "metadata": {},
     "output_type": "display_data"
    }
   ],
   "source": [
    "#Import module and resampling \n",
    "\n",
    "from sklearn.utils import resample\n",
    "\n",
    "# Separate majority and minority classes\n",
    "reviews_raw_majority = reviews_raw[reviews_raw.overall==1]\n",
    "reviews_raw_minority = reviews_raw[reviews_raw.overall==0]\n",
    " \n",
    "# Downsample majority overall class\n",
    "reviews_raw_majority_downsampled = resample(reviews_raw_majority, \n",
    "                                 replace=False,    # sample without replacement\n",
    "                                 n_samples=12799,     # len(reviews_raw_minority)\n",
    "                                 random_state=123) # reproducible results\n",
    " \n",
    "# Combine minority class with downsampled majority overall class\n",
    "reviews_raw_resampled = pd.concat([reviews_raw_majority_downsampled, reviews_raw_minority])\n",
    " \n",
    "# Display new class counts\n",
    "print(reviews_raw_resampled.overall.value_counts())\n",
    "print('We now have a sample with balanced class')\n",
    "\n",
    "sns.countplot(x='overall', data=reviews_raw_resampled, palette='hls')\n",
    "plt.title('Balanced class')\n",
    "plt.show()"
   ]
  },
  {
   "cell_type": "markdown",
   "metadata": {},
   "source": [
    "## Preparing for modeling \n",
    "\n",
    "What we want to do with our models is, as mentioned, predict the sentiment based on the reviews text. As a result we will keep the 'reviewsText' and 'overall' columns of our dataset and ignore the others which helped us refine our data. "
   ]
  },
  {
   "cell_type": "code",
   "execution_count": 77,
   "metadata": {},
   "outputs": [],
   "source": [
    "# Keep only these two \n",
    "reviews = reviews_raw_resampled[['reviewText', 'overall']]"
   ]
  },
  {
   "cell_type": "code",
   "execution_count": 78,
   "metadata": {},
   "outputs": [
    {
     "data": {
      "text/html": [
       "<div>\n",
       "<style scoped>\n",
       "    .dataframe tbody tr th:only-of-type {\n",
       "        vertical-align: middle;\n",
       "    }\n",
       "\n",
       "    .dataframe tbody tr th {\n",
       "        vertical-align: top;\n",
       "    }\n",
       "\n",
       "    .dataframe thead th {\n",
       "        text-align: right;\n",
       "    }\n",
       "</style>\n",
       "<table border=\"1\" class=\"dataframe\">\n",
       "  <thead>\n",
       "    <tr style=\"text-align: right;\">\n",
       "      <th></th>\n",
       "      <th>reviewText</th>\n",
       "      <th>overall</th>\n",
       "    </tr>\n",
       "  </thead>\n",
       "  <tbody>\n",
       "    <tr>\n",
       "      <th>231666</th>\n",
       "      <td>For something advertised as &amp;#34;PlayPad Pro f...</td>\n",
       "      <td>0</td>\n",
       "    </tr>\n",
       "    <tr>\n",
       "      <th>231774</th>\n",
       "      <td>The real Mario Kart 8 Wii U bundle is a red bo...</td>\n",
       "      <td>0</td>\n",
       "    </tr>\n",
       "    <tr>\n",
       "      <th>231777</th>\n",
       "      <td>The package should have more red on it and sho...</td>\n",
       "      <td>0</td>\n",
       "    </tr>\n",
       "    <tr>\n",
       "      <th>231778</th>\n",
       "      <td>Can get this at Newegg for $329.00 and the pac...</td>\n",
       "      <td>0</td>\n",
       "    </tr>\n",
       "    <tr>\n",
       "      <th>231779</th>\n",
       "      <td>This is not real, you can go to ANY retail sto...</td>\n",
       "      <td>0</td>\n",
       "    </tr>\n",
       "  </tbody>\n",
       "</table>\n",
       "</div>"
      ],
      "text/plain": [
       "                                               reviewText  overall\n",
       "231666  For something advertised as &#34;PlayPad Pro f...        0\n",
       "231774  The real Mario Kart 8 Wii U bundle is a red bo...        0\n",
       "231777  The package should have more red on it and sho...        0\n",
       "231778  Can get this at Newegg for $329.00 and the pac...        0\n",
       "231779  This is not real, you can go to ANY retail sto...        0"
      ]
     },
     "execution_count": 78,
     "metadata": {},
     "output_type": "execute_result"
    }
   ],
   "source": [
    "reviews.tail()"
   ]
  },
  {
   "cell_type": "markdown",
   "metadata": {},
   "source": [
    "# apply NLP"
   ]
  },
  {
   "cell_type": "code",
   "execution_count": 79,
   "metadata": {
    "scrolled": true
   },
   "outputs": [
    {
     "data": {
      "text/html": [
       "<div>\n",
       "<style scoped>\n",
       "    .dataframe tbody tr th:only-of-type {\n",
       "        vertical-align: middle;\n",
       "    }\n",
       "\n",
       "    .dataframe tbody tr th {\n",
       "        vertical-align: top;\n",
       "    }\n",
       "\n",
       "    .dataframe thead th {\n",
       "        text-align: right;\n",
       "    }\n",
       "</style>\n",
       "<table border=\"1\" class=\"dataframe\">\n",
       "  <thead>\n",
       "    <tr style=\"text-align: right;\">\n",
       "      <th></th>\n",
       "      <th>reviewText</th>\n",
       "      <th>overall</th>\n",
       "    </tr>\n",
       "  </thead>\n",
       "  <tbody>\n",
       "    <tr>\n",
       "      <th>52020</th>\n",
       "      <td>fast delivery. I never get sick of this game. ...</td>\n",
       "      <td>1</td>\n",
       "    </tr>\n",
       "    <tr>\n",
       "      <th>102036</th>\n",
       "      <td>First, I came late to Mass Effect (ME).  I ori...</td>\n",
       "      <td>1</td>\n",
       "    </tr>\n",
       "    <tr>\n",
       "      <th>164051</th>\n",
       "      <td>I liked this game. Even though other reviewers...</td>\n",
       "      <td>1</td>\n",
       "    </tr>\n",
       "    <tr>\n",
       "      <th>126540</th>\n",
       "      <td>I was a little skeptical at first about playin...</td>\n",
       "      <td>1</td>\n",
       "    </tr>\n",
       "    <tr>\n",
       "      <th>52835</th>\n",
       "      <td>Atelier Iris is a truly incredible accomplishm...</td>\n",
       "      <td>1</td>\n",
       "    </tr>\n",
       "  </tbody>\n",
       "</table>\n",
       "</div>"
      ],
      "text/plain": [
       "                                               reviewText  overall\n",
       "52020   fast delivery. I never get sick of this game. ...        1\n",
       "102036  First, I came late to Mass Effect (ME).  I ori...        1\n",
       "164051  I liked this game. Even though other reviewers...        1\n",
       "126540  I was a little skeptical at first about playin...        1\n",
       "52835   Atelier Iris is a truly incredible accomplishm...        1"
      ]
     },
     "execution_count": 79,
     "metadata": {},
     "output_type": "execute_result"
    }
   ],
   "source": [
    "reviews.head()"
   ]
  },
  {
   "cell_type": "markdown",
   "metadata": {},
   "source": [
    "## Feature generation and selection\n",
    "\n",
    "We will apply TFIDF (Term Frequency–Inverse Document Frequency) to weigh the importance of each word in a review. tf–idf works by assigning a value to each word based on how many times the word appears in the review. The value is offset by the number of reviews in our collection that contain the word.\n",
    "\n",
    "Before we generate our features, we will clean the data set using SnowballStemmer and stopwords. The former removes affixes from words and returns onlt the stem. The latter removes common words such as 'the' which apear frequently and don't have any use for classification or any language analysis."
   ]
  },
  {
   "cell_type": "code",
   "execution_count": 80,
   "metadata": {},
   "outputs": [],
   "source": [
    "# initialize \n",
    "stemmer = SnowballStemmer('english')\n",
    "words = stopwords.words(\"english\")"
   ]
  },
  {
   "cell_type": "code",
   "execution_count": 81,
   "metadata": {},
   "outputs": [
    {
     "name": "stderr",
     "output_type": "stream",
     "text": [
      "C:\\Users\\Omistaja\\Anaconda3\\lib\\site-packages\\ipykernel_launcher.py:2: SettingWithCopyWarning: \n",
      "A value is trying to be set on a copy of a slice from a DataFrame.\n",
      "Try using .loc[row_indexer,col_indexer] = value instead\n",
      "\n",
      "See the caveats in the documentation: http://pandas.pydata.org/pandas-docs/stable/indexing.html#indexing-view-versus-copy\n",
      "  \n"
     ]
    }
   ],
   "source": [
    "# clean our text data by applying the tools above and also keeping only characters A-Z  \n",
    "reviews['cleaned'] = reviews['reviewText'].apply(lambda x: \" \".join([stemmer.stem(i) for i in re.sub(\"[^a-zA-Z]\", \" \", x).split() if i not in words]).lower())"
   ]
  },
  {
   "cell_type": "code",
   "execution_count": 82,
   "metadata": {
    "scrolled": true
   },
   "outputs": [
    {
     "data": {
      "text/html": [
       "<div>\n",
       "<style scoped>\n",
       "    .dataframe tbody tr th:only-of-type {\n",
       "        vertical-align: middle;\n",
       "    }\n",
       "\n",
       "    .dataframe tbody tr th {\n",
       "        vertical-align: top;\n",
       "    }\n",
       "\n",
       "    .dataframe thead th {\n",
       "        text-align: right;\n",
       "    }\n",
       "</style>\n",
       "<table border=\"1\" class=\"dataframe\">\n",
       "  <thead>\n",
       "    <tr style=\"text-align: right;\">\n",
       "      <th></th>\n",
       "      <th>reviewText</th>\n",
       "      <th>overall</th>\n",
       "      <th>cleaned</th>\n",
       "    </tr>\n",
       "  </thead>\n",
       "  <tbody>\n",
       "    <tr>\n",
       "      <th>52020</th>\n",
       "      <td>fast delivery. I never get sick of this game. ...</td>\n",
       "      <td>1</td>\n",
       "      <td>fast deliveri i never get sick game i nintendo...</td>\n",
       "    </tr>\n",
       "    <tr>\n",
       "      <th>102036</th>\n",
       "      <td>First, I came late to Mass Effect (ME).  I ori...</td>\n",
       "      <td>1</td>\n",
       "      <td>first i came late mass effect me i origin boug...</td>\n",
       "    </tr>\n",
       "    <tr>\n",
       "      <th>164051</th>\n",
       "      <td>I liked this game. Even though other reviewers...</td>\n",
       "      <td>1</td>\n",
       "      <td>i like game even though review said game easi ...</td>\n",
       "    </tr>\n",
       "    <tr>\n",
       "      <th>126540</th>\n",
       "      <td>I was a little skeptical at first about playin...</td>\n",
       "      <td>1</td>\n",
       "      <td>i littl skeptic first playingdj hero bundl tur...</td>\n",
       "    </tr>\n",
       "    <tr>\n",
       "      <th>52835</th>\n",
       "      <td>Atelier Iris is a truly incredible accomplishm...</td>\n",
       "      <td>1</td>\n",
       "      <td>ateli iri truli incred accomplish everyth coul...</td>\n",
       "    </tr>\n",
       "  </tbody>\n",
       "</table>\n",
       "</div>"
      ],
      "text/plain": [
       "                                               reviewText  overall  \\\n",
       "52020   fast delivery. I never get sick of this game. ...        1   \n",
       "102036  First, I came late to Mass Effect (ME).  I ori...        1   \n",
       "164051  I liked this game. Even though other reviewers...        1   \n",
       "126540  I was a little skeptical at first about playin...        1   \n",
       "52835   Atelier Iris is a truly incredible accomplishm...        1   \n",
       "\n",
       "                                                  cleaned  \n",
       "52020   fast deliveri i never get sick game i nintendo...  \n",
       "102036  first i came late mass effect me i origin boug...  \n",
       "164051  i like game even though review said game easi ...  \n",
       "126540  i littl skeptic first playingdj hero bundl tur...  \n",
       "52835   ateli iri truli incred accomplish everyth coul...  "
      ]
     },
     "execution_count": 82,
     "metadata": {},
     "output_type": "execute_result"
    }
   ],
   "source": [
    "# We have a cleaned version of the reviews \n",
    "reviews.head()"
   ]
  },
  {
   "cell_type": "code",
   "execution_count": 83,
   "metadata": {},
   "outputs": [],
   "source": [
    "# our x and y\n",
    "X = reviews['cleaned']\n",
    "Y = reviews['overall']"
   ]
  },
  {
   "cell_type": "code",
   "execution_count": 84,
   "metadata": {},
   "outputs": [],
   "source": [
    "X_train, X_test, y_train, y_test = train_test_split(X, Y, test_size=0.3, random_state=1)"
   ]
  },
  {
   "cell_type": "code",
   "execution_count": 65,
   "metadata": {},
   "outputs": [
    {
     "data": {
      "text/plain": [
       "(17918, 1191294)"
      ]
     },
     "execution_count": 65,
     "metadata": {},
     "output_type": "execute_result"
    }
   ],
   "source": [
    "X_train_tf.shape"
   ]
  },
  {
   "cell_type": "code",
   "execution_count": 85,
   "metadata": {},
   "outputs": [],
   "source": [
    "# initialize tfidf with max_features of 10000 \n",
    "tf = TfidfVectorizer(ngram_range=(1, 2), stop_words=\"english\", max_df=0.5, sublinear_tf=True, max_features=10000)"
   ]
  },
  {
   "cell_type": "code",
   "execution_count": 86,
   "metadata": {},
   "outputs": [],
   "source": [
    "# fit and transform \n",
    "X_train_tf=tf.fit_transform(X_train)\n",
    "X_test_tf=tf.transform(X_test)"
   ]
  },
  {
   "cell_type": "code",
   "execution_count": 68,
   "metadata": {},
   "outputs": [
    {
     "data": {
      "text/plain": [
       "(17918, 10000)"
      ]
     },
     "execution_count": 68,
     "metadata": {},
     "output_type": "execute_result"
    }
   ],
   "source": [
    "X_train_tf.shape"
   ]
  },
  {
   "cell_type": "markdown",
   "metadata": {},
   "source": [
    "# The models and Evaluation \n",
    "\n",
    "We'll use a number of supervised learning methods to predict sentiment. We'll use the accuracy score, confusion matrrix and ROC, and run time to compare the models. "
   ]
  },
  {
   "cell_type": "markdown",
   "metadata": {},
   "source": [
    "# Bernoulli"
   ]
  },
  {
   "cell_type": "code",
   "execution_count": 87,
   "metadata": {},
   "outputs": [],
   "source": [
    "# bernoulli\n",
    "start_time = time.clock()\n",
    "mnb = MultinomialNB()\n",
    "mnb.fit(X_train_tf, y_train)\n",
    "y_Naive = mnb.predict(X_test_tf)"
   ]
  },
  {
   "cell_type": "code",
   "execution_count": 70,
   "metadata": {},
   "outputs": [
    {
     "name": "stdout",
     "output_type": "stream",
     "text": [
      "Training set score: 0.8320683111954459\n",
      "\n",
      "Test set score: 0.789453125\n",
      "Confusion matrix\n",
      "[[2966  851]\n",
      " [ 766 3097]]\n"
     ]
    },
    {
     "data": {
      "image/png": "[encoded data removed]",
      "text/plain": [
       "<Figure size 432x288 with 1 Axes>"
      ]
     },
     "metadata": {},
     "output_type": "display_data"
    },
    {
     "name": "stdout",
     "output_type": "stream",
     "text": [
      "--- 4.546360667544461 seconds ---\n"
     ]
    }
   ],
   "source": [
    "# score\n",
    "\n",
    "print('Training set score:', mnb.score(X_train_tf, y_train))\n",
    "print('\\nTest set score:', mnb.score(X_test_tf, y_test))\n",
    "\n",
    "#Confusion matrix \n",
    "print('Confusion matrix')\n",
    "print(confusion_matrix(y_test, y_Naive))\n",
    "\n",
    "# AUC \n",
    "y_pred_proba = mnb.predict_proba(X_test_tf)[::,1]\n",
    "fpr, tpr, _ = metrics.roc_curve(y_test,  y_pred_proba)\n",
    "auc = metrics.roc_auc_score(y_test, y_pred_proba)\n",
    "plt.plot(fpr,tpr,label='auc='+str(auc))\n",
    "plt.legend(loc=4)\n",
    "plt.show()\n",
    "print(\"--- %s seconds ---\" % (time.clock() - start_time))"
   ]
  },
  {
   "cell_type": "markdown",
   "metadata": {},
   "source": [
    "# knn"
   ]
  },
  {
   "cell_type": "code",
   "execution_count": 88,
   "metadata": {},
   "outputs": [],
   "source": [
    "# Fit the data to knn model \n",
    "start_time2 = time.clock()\n",
    "neigh = KNeighborsClassifier(n_neighbors=1000, weights='distance')\n",
    "neigh.fit(X_train_tf, y_train)\n",
    "y_knn = neigh.predict(X_test_tf)\n"
   ]
  },
  {
   "cell_type": "code",
   "execution_count": 89,
   "metadata": {},
   "outputs": [
    {
     "name": "stdout",
     "output_type": "stream",
     "text": [
      "Training set score: 0.9999441901997991\n",
      "\n",
      "Test set score: 0.7623697916666666\n",
      "Confusion matrix\n",
      "[[3068  749]\n",
      " [1076 2787]]\n"
     ]
    },
    {
     "data": {
      "image/png": "[encoded data removed]",
      "text/plain": [
       "<Figure size 432x288 with 1 Axes>"
      ]
     },
     "metadata": {},
     "output_type": "display_data"
    },
    {
     "name": "stdout",
     "output_type": "stream",
     "text": [
      "--- 76.74822741333355 seconds ---\n"
     ]
    }
   ],
   "source": [
    "# score\n",
    "print('Training set score:', neigh.score(X_train_tf, y_train))\n",
    "print('\\nTest set score:', neigh.score(X_test_tf, y_test))\n",
    "\n",
    "#Confusion matrix \n",
    "print('Confusion matrix')\n",
    "print(confusion_matrix(y_test, y_knn))\n",
    "\n",
    "# AUC \n",
    "y_pred_proba = neigh.predict_proba(X_test_tf)[::,1]\n",
    "fpr, tpr, _ = metrics.roc_curve(y_test,  y_pred_proba)\n",
    "auc = metrics.roc_auc_score(y_test, y_pred_proba)\n",
    "plt.plot(fpr,tpr,label='auc='+str(auc))\n",
    "plt.legend(loc=4)\n",
    "plt.show()\n",
    "print(\"--- %s seconds ---\" % (time.clock() - start_time2))"
   ]
  },
  {
   "cell_type": "code",
   "execution_count": 90,
   "metadata": {},
   "outputs": [
    {
     "name": "stdout",
     "output_type": "stream",
     "text": [
      "             precision    recall  f1-score   support\n",
      "\n",
      "          0       0.74      0.80      0.77      3817\n",
      "          1       0.79      0.72      0.75      3863\n",
      "\n",
      "avg / total       0.76      0.76      0.76      7680\n",
      "\n"
     ]
    }
   ],
   "source": [
    "# Classification report \n",
    "print(classification_report(y_test, y_knn))"
   ]
  },
  {
   "cell_type": "markdown",
   "metadata": {},
   "source": [
    "# Decision tree"
   ]
  },
  {
   "cell_type": "code",
   "execution_count": 91,
   "metadata": {},
   "outputs": [],
   "source": [
    "# Decision tree using GridSearchCV to tune parameters\n",
    "start_time3 = time.clock()\n",
    "\n",
    "tree_para = {'criterion':['gini','entropy'],'max_depth':[4,5,6,7,8,9,10,11,12,15,20,30,40,50,70,90,120,150,500]}\n",
    "tree = GridSearchCV(DecisionTreeClassifier(), tree_para, cv=5)\n",
    "grid_fit = tree.fit(X_train_tf, y_train)\n",
    "\n",
    "best_tree = grid_fit.best_estimator_\n",
    "y_tree = best_tree.predict(X_test_tf)"
   ]
  },
  {
   "cell_type": "code",
   "execution_count": 74,
   "metadata": {},
   "outputs": [
    {
     "name": "stdout",
     "output_type": "stream",
     "text": [
      "Training set score: 0.7706775309744391\n",
      "\n",
      "Test set score: 0.6516927083333334\n",
      "Confusion matrix\n",
      "[[2757 1060]\n",
      " [1615 2248]]\n",
      "             precision    recall  f1-score   support\n",
      "\n",
      "          0       0.63      0.72      0.67      3817\n",
      "          1       0.68      0.58      0.63      3863\n",
      "\n",
      "avg / total       0.66      0.65      0.65      7680\n",
      "\n"
     ]
    },
    {
     "data": {
      "image/png": "[encoded data removed]",
      "text/plain": [
       "<Figure size 432x288 with 1 Axes>"
      ]
     },
     "metadata": {},
     "output_type": "display_data"
    },
    {
     "name": "stdout",
     "output_type": "stream",
     "text": [
      "--- 1702.1221267249039 seconds ---\n"
     ]
    }
   ],
   "source": [
    "# Evaluations\n",
    "print('Training set score:', best_tree.score(X_train_tf, y_train))\n",
    "print('\\nTest set score:', best_tree.score(X_test_tf, y_test))\n",
    "\n",
    "#Confusion matrix for decision tree\n",
    "print('Confusion matrix')\n",
    "print(confusion_matrix(y_test, y_tree))\n",
    "\n",
    "# Classification report \n",
    "print(classification_report(y_test, y_tree))\n",
    "\n",
    "# AUC for decision tree classifier\n",
    "y_tree_proba = tree.predict_proba(X_test_tf)[::,1]\n",
    "fpr_tree, tpr_tree, _ = metrics.roc_curve(y_test,  y_tree)\n",
    "auc_tree = metrics.roc_auc_score(y_test, y_tree_proba)\n",
    "plt.plot(fpr_tree,tpr_tree,label='auc_tree='+str(auc_tree))\n",
    "plt.legend(loc=4)\n",
    "plt.show()\n",
    "print(\"--- %s seconds ---\" % (time.clock() - start_time3))"
   ]
  },
  {
   "cell_type": "markdown",
   "metadata": {},
   "source": [
    "# Random forest"
   ]
  },
  {
   "cell_type": "code",
   "execution_count": 75,
   "metadata": {},
   "outputs": [],
   "source": [
    "start_time4 = time.clock()\n",
    "forest_para = {'criterion':['gini','entropy'],'max_depth':[4,5,6,7,8,9,10,11,12,15,20,30,40,50,70,90,120,150, 200, 300, 500]}\n",
    "forest = GridSearchCV(ensemble.RandomForestClassifier(), forest_para, cv=5)\n",
    "grid_fit_forest = forest.fit(X_train_tf, y_train)\n",
    "\n",
    "best_forest = grid_fit_forest.best_estimator_\n",
    "y_forest = best_forest.predict(X_test_tf)"
   ]
  },
  {
   "cell_type": "code",
   "execution_count": 76,
   "metadata": {},
   "outputs": [
    {
     "name": "stdout",
     "output_type": "stream",
     "text": [
      "Training set score: 0.9865498381515794\n",
      "\n",
      "Test set score: 0.712109375\n",
      "Confusion matrix\n",
      "[[2946  871]\n",
      " [1340 2523]]\n",
      "             precision    recall  f1-score   support\n",
      "\n",
      "          0       0.69      0.77      0.73      3817\n",
      "          1       0.74      0.65      0.70      3863\n",
      "\n",
      "avg / total       0.72      0.71      0.71      7680\n",
      "\n"
     ]
    },
    {
     "data": {
      "image/png": "[encoded data removed]",
      "text/plain": [
       "<Figure size 432x288 with 1 Axes>"
      ]
     },
     "metadata": {},
     "output_type": "display_data"
    },
    {
     "name": "stdout",
     "output_type": "stream",
     "text": [
      "--- 373.9883596998661 seconds ---\n"
     ]
    }
   ],
   "source": [
    "# Evaluations\n",
    "print('Training set score:', best_forest.score(X_train_tf, y_train))\n",
    "print('\\nTest set score:', best_forest.score(X_test_tf, y_test))\n",
    "\n",
    "#Confusion matrix for random forest\n",
    "print('Confusion matrix')\n",
    "print(confusion_matrix(y_test, y_forest))\n",
    "\n",
    "# Classification report \n",
    "print(classification_report(y_test, y_forest))\n",
    "\n",
    "# AUC for random forest classifier\n",
    "y_forest_proba = forest.predict_proba(X_test_tf)[::,1]\n",
    "fpr_forest, tpr_forest, _ = metrics.roc_curve(y_test,  y_forest)\n",
    "auc_forest = metrics.roc_auc_score(y_test, y_forest_proba)\n",
    "plt.plot(fpr_forest,tpr_forest,label='auc_forest='+str(auc_forest))\n",
    "plt.legend(loc=4)\n",
    "plt.show()\n",
    "print(\"--- %s seconds ---\" % (time.clock() - start_time4))"
   ]
  },
  {
   "cell_type": "markdown",
   "metadata": {},
   "source": [
    "# Logistics regression"
   ]
  },
  {
   "cell_type": "code",
   "execution_count": 92,
   "metadata": {},
   "outputs": [],
   "source": [
    "# Binary classification using logistics \n",
    "start_time5 = time.clock()\n",
    "logreg = LogisticRegression()\n",
    "logreg.fit(X_train_tf, y_train)\n",
    "\n",
    "# Predict using the test set\n",
    "y_logreg = logreg.predict(X_test_tf)\n"
   ]
  },
  {
   "cell_type": "code",
   "execution_count": 78,
   "metadata": {},
   "outputs": [
    {
     "name": "stdout",
     "output_type": "stream",
     "text": [
      "Training set score: 0.8783346355620046\n",
      "\n",
      "Test set score: 0.8109375\n",
      "Confusion matrix\n",
      "[[3050  767]\n",
      " [ 685 3178]]\n",
      "             precision    recall  f1-score   support\n",
      "\n",
      "          0       0.82      0.80      0.81      3817\n",
      "          1       0.81      0.82      0.81      3863\n",
      "\n",
      "avg / total       0.81      0.81      0.81      7680\n",
      "\n"
     ]
    },
    {
     "data": {
      "image/png": "[encoded data removed]",
      "text/plain": [
       "<Figure size 432x288 with 1 Axes>"
      ]
     },
     "metadata": {},
     "output_type": "display_data"
    },
    {
     "name": "stdout",
     "output_type": "stream",
     "text": [
      "--- 0.769398580226607 seconds ---\n"
     ]
    }
   ],
   "source": [
    "# Evaluations\n",
    "print('Training set score:', logreg.score(X_train_tf, y_train))\n",
    "print('\\nTest set score:', logreg.score(X_test_tf, y_test))\n",
    "\n",
    "#Confusion matrix for logistics regression classifier\n",
    "print('Confusion matrix')\n",
    "print(confusion_matrix(y_test, y_logreg))\n",
    "\n",
    "# Classification report \n",
    "print(classification_report(y_test, y_logreg))\n",
    "\n",
    "# AUC classifier\n",
    "y_logreg_proba = logreg.predict_proba(X_test_tf)[::,1]\n",
    "fpr_logreg, tpr_logreg, _ = metrics.roc_curve(y_test,  y_logreg)\n",
    "auc_logreg = metrics.roc_auc_score(y_test, y_logreg_proba)\n",
    "plt.plot(fpr_logreg,tpr_logreg,label='auc_logreg='+str(auc_logreg))\n",
    "plt.legend(loc=4)\n",
    "plt.show()\n",
    "print(\"--- %s seconds ---\" % (time.clock() - start_time5))"
   ]
  },
  {
   "cell_type": "markdown",
   "metadata": {},
   "source": [
    "# ridge"
   ]
  },
  {
   "cell_type": "code",
   "execution_count": 93,
   "metadata": {},
   "outputs": [],
   "source": [
    "# Ridge classifier\n",
    "start_time6 = time.clock()\n",
    "ridge = RidgeClassifier()\n",
    "ridge.fit(X_train_tf, y_train)\n",
    "\n",
    "y_ridge = ridge.predict(X_test_tf)"
   ]
  },
  {
   "cell_type": "code",
   "execution_count": 80,
   "metadata": {},
   "outputs": [
    {
     "name": "stdout",
     "output_type": "stream",
     "text": [
      "Training set score: 0.9291215537448376\n",
      "\n",
      "Test set score: 0.8\n",
      "Confusion matrix\n",
      "[[3006  811]\n",
      " [ 725 3138]]\n",
      "             precision    recall  f1-score   support\n",
      "\n",
      "          0       0.81      0.79      0.80      3817\n",
      "          1       0.79      0.81      0.80      3863\n",
      "\n",
      "avg / total       0.80      0.80      0.80      7680\n",
      "\n",
      "--- 0.9024526464809242 seconds ---\n"
     ]
    }
   ],
   "source": [
    "# Evaluations\n",
    "print('Training set score:', ridge.score(X_train_tf, y_train))\n",
    "print('\\nTest set score:', ridge.score(X_test_tf, y_test))\n",
    "\n",
    "#Confusion matrix for logistics regression classifier\n",
    "print('Confusion matrix')\n",
    "print(confusion_matrix(y_test, y_ridge))\n",
    "\n",
    "# Classification report \n",
    "print(classification_report(y_test, y_ridge))\n",
    "print(\"--- %s seconds ---\" % (time.clock() - start_time6))"
   ]
  },
  {
   "cell_type": "markdown",
   "metadata": {},
   "source": [
    "# lasso"
   ]
  },
  {
   "cell_type": "code",
   "execution_count": 94,
   "metadata": {},
   "outputs": [],
   "source": [
    "start_time7 = time.clock()\n",
    "lasso = LogisticRegression(penalty='l1')\n",
    "lasso.fit(X_train_tf, y_train)\n",
    "\n",
    "y_lasso = lasso.predict(X_test_tf)"
   ]
  },
  {
   "cell_type": "code",
   "execution_count": 82,
   "metadata": {},
   "outputs": [
    {
     "name": "stdout",
     "output_type": "stream",
     "text": [
      "Training set score: 0.8367563344123228\n",
      "\n",
      "Test set score: 0.8061197916666667\n",
      "Confusion matrix\n",
      "[[3039  778]\n",
      " [ 711 3152]]\n",
      "             precision    recall  f1-score   support\n",
      "\n",
      "          0       0.81      0.80      0.80      3817\n",
      "          1       0.80      0.82      0.81      3863\n",
      "\n",
      "avg / total       0.81      0.81      0.81      7680\n",
      "\n"
     ]
    },
    {
     "data": {
      "image/png": "[encoded data removed]",
      "text/plain": [
       "<Figure size 432x288 with 1 Axes>"
      ]
     },
     "metadata": {},
     "output_type": "display_data"
    },
    {
     "name": "stdout",
     "output_type": "stream",
     "text": [
      "--- 0.6023443586659596 seconds ---\n"
     ]
    }
   ],
   "source": [
    "# Evaluations\n",
    "print('Training set score:', lasso.score(X_train_tf, y_train))\n",
    "print('\\nTest set score:', lasso.score(X_test_tf, y_test))\n",
    "\n",
    "#Confusion matrix for logistics regression classifier\n",
    "print('Confusion matrix')\n",
    "print(confusion_matrix(y_test, y_lasso))\n",
    "\n",
    "# Classification report \n",
    "print(classification_report(y_test, y_lasso))\n",
    "\n",
    "# AUC\n",
    "y_lasso_proba = lasso.predict_proba(X_test_tf)[::,1]\n",
    "fpr_lasso, tpr_lasso, _ = metrics.roc_curve(y_test,  y_lasso)\n",
    "auc_lasso = metrics.roc_auc_score(y_test, y_lasso_proba)\n",
    "plt.plot(fpr_lasso,tpr_lasso,label='auc_lasso='+str(auc_lasso))\n",
    "plt.legend(loc=4)\n",
    "plt.show()\n",
    "print(\"--- %s seconds ---\" % (time.clock() - start_time7))"
   ]
  },
  {
   "cell_type": "markdown",
   "metadata": {},
   "source": [
    "# SVM"
   ]
  },
  {
   "cell_type": "code",
   "execution_count": 83,
   "metadata": {},
   "outputs": [],
   "source": [
    "# Set the parameters by cross-validation\n",
    "# reference http://scikit-learn.org/stable/auto_examples/model_selection/plot_grid_search_digits.html\n",
    "start_time8 = time.clock()\n",
    "tuned_parameters = [{'kernel': ['rbf'], 'gamma': [1e-3, 1e-4],\n",
    "                     'C': [1, 10, 100, 1000]},\n",
    "                    {'kernel': ['rbf'], 'C': [1, 10, 100, 500]}]\n",
    "clf = GridSearchCV(SVC(probability=True), tuned_parameters, cv=5)\n",
    "clf.fit(X_train_tf, y_train)\n",
    "\n",
    "clf.best_params_\n",
    "\n",
    "#best_forest = grid_fit_forest.best_estimator_\n",
    "y_svc = clf.predict(X_test_tf)"
   ]
  },
  {
   "cell_type": "code",
   "execution_count": null,
   "metadata": {
    "scrolled": true
   },
   "outputs": [
    {
     "name": "stdout",
     "output_type": "stream",
     "text": [
      "Training set score: 0.8593034936934926\n",
      "\n",
      "Test set score: 0.808984375\n",
      "Confusion matrix\n",
      "[[3007  810]\n",
      " [ 657 3206]]\n",
      "             precision    recall  f1-score   support\n",
      "\n",
      "          0       0.82      0.79      0.80      3817\n",
      "          1       0.80      0.83      0.81      3863\n",
      "\n",
      "avg / total       0.81      0.81      0.81      7680\n",
      "\n"
     ]
    },
    {
     "data": {
      "image/png": "[encoded data removed]",
      "text/plain": [
       "<Figure size 432x288 with 1 Axes>"
      ]
     },
     "metadata": {},
     "output_type": "display_data"
    },
    {
     "name": "stdout",
     "output_type": "stream",
     "text": [
      "--- 87717.4330868342 seconds ---\n"
     ]
    }
   ],
   "source": [
    "# Evaluations\n",
    "print('Training set score:', clf.score(X_train_tf, y_train))\n",
    "print('\\nTest set score:', clf.score(X_test_tf, y_test))\n",
    "\n",
    "#Confusion matrix for logistics regression classifier\n",
    "print('Confusion matrix')\n",
    "print(confusion_matrix(y_test, y_svc))\n",
    "\n",
    "# Classification report \n",
    "print(classification_report(y_test, y_svc))\n",
    "\n",
    "# AUC\n",
    "y_svc_proba = clf.predict_proba(X_test_tf)[::,1]\n",
    "fpr_clf, tpr_clf, _ = metrics.roc_curve(y_test,  y_svc)\n",
    "auc_svc = metrics.roc_auc_score(y_test, y_svc_proba)\n",
    "plt.plot(fpr_clf,tpr_clf,label='auc_lasso='+str(auc_svc))\n",
    "plt.legend(loc=4)\n",
    "plt.show()\n",
    "print(\"--- %s seconds ---\" % (time.clock() - start_time8))"
   ]
  },
  {
   "cell_type": "markdown",
   "metadata": {},
   "source": [
    "The different variations of Logistics regression model (rigdge, lasso, and vanilla logistics regressions) have almost similar performance and are better than the rest. They also took short run time. SVM is not suited for big dataset as it requires that the whole dataset fits memory. The runtime was just over 24 hours. The rest of the algorithms were prone to overfitting and as a result gave a less reliable result. "
   ]
  },
  {
   "cell_type": "markdown",
   "metadata": {},
   "source": [
    "## Comparing the reviews across categories \n",
    "\n",
    "We will use Pet supplies review data and use the models we used above to see if a model for one category can be used to predict sentiment in other categories. We'll clean and prepare the data similar way. The two data sets have similar structures and columns. Only the entries are different. "
   ]
  },
  {
   "cell_type": "code",
   "execution_count": 7,
   "metadata": {},
   "outputs": [
    {
     "data": {
      "text/html": [
       "<div>\n",
       "<style scoped>\n",
       "    .dataframe tbody tr th:only-of-type {\n",
       "        vertical-align: middle;\n",
       "    }\n",
       "\n",
       "    .dataframe tbody tr th {\n",
       "        vertical-align: top;\n",
       "    }\n",
       "\n",
       "    .dataframe thead th {\n",
       "        text-align: right;\n",
       "    }\n",
       "</style>\n",
       "<table border=\"1\" class=\"dataframe\">\n",
       "  <thead>\n",
       "    <tr style=\"text-align: right;\">\n",
       "      <th></th>\n",
       "      <th>asin</th>\n",
       "      <th>helpful</th>\n",
       "      <th>overall</th>\n",
       "      <th>reviewText</th>\n",
       "      <th>reviewTime</th>\n",
       "      <th>reviewerID</th>\n",
       "      <th>reviewerName</th>\n",
       "      <th>summary</th>\n",
       "      <th>unixReviewTime</th>\n",
       "    </tr>\n",
       "  </thead>\n",
       "  <tbody>\n",
       "    <tr>\n",
       "      <th>0</th>\n",
       "      <td>1223000893</td>\n",
       "      <td>[0, 0]</td>\n",
       "      <td>3</td>\n",
       "      <td>I purchased the Trilogy with hoping my two cat...</td>\n",
       "      <td>01 12, 2011</td>\n",
       "      <td>A14CK12J7C7JRK</td>\n",
       "      <td>Consumer in NorCal</td>\n",
       "      <td>Nice Distraction for my cats for about 15 minutes</td>\n",
       "      <td>1294790400</td>\n",
       "    </tr>\n",
       "    <tr>\n",
       "      <th>1</th>\n",
       "      <td>1223000893</td>\n",
       "      <td>[0, 0]</td>\n",
       "      <td>5</td>\n",
       "      <td>There are usually one or more of my cats watch...</td>\n",
       "      <td>09 14, 2013</td>\n",
       "      <td>A39QHP5WLON5HV</td>\n",
       "      <td>Melodee Placial</td>\n",
       "      <td>Entertaining for my cats</td>\n",
       "      <td>1379116800</td>\n",
       "    </tr>\n",
       "    <tr>\n",
       "      <th>2</th>\n",
       "      <td>1223000893</td>\n",
       "      <td>[0, 0]</td>\n",
       "      <td>4</td>\n",
       "      <td>I bought the triliogy and have tested out all ...</td>\n",
       "      <td>12 19, 2012</td>\n",
       "      <td>A2CR37UY3VR7BN</td>\n",
       "      <td>Michelle Ashbery</td>\n",
       "      <td>Entertaining</td>\n",
       "      <td>1355875200</td>\n",
       "    </tr>\n",
       "    <tr>\n",
       "      <th>3</th>\n",
       "      <td>1223000893</td>\n",
       "      <td>[2, 2]</td>\n",
       "      <td>4</td>\n",
       "      <td>My female kitty could care less about these vi...</td>\n",
       "      <td>05 12, 2011</td>\n",
       "      <td>A2A4COGL9VW2HY</td>\n",
       "      <td>Michelle P</td>\n",
       "      <td>Happy to have them</td>\n",
       "      <td>1305158400</td>\n",
       "    </tr>\n",
       "    <tr>\n",
       "      <th>4</th>\n",
       "      <td>1223000893</td>\n",
       "      <td>[6, 7]</td>\n",
       "      <td>3</td>\n",
       "      <td>If I had gotten just volume two, I would have ...</td>\n",
       "      <td>03 5, 2012</td>\n",
       "      <td>A2UBQA85NIGLHA</td>\n",
       "      <td>Tim  Isenhour \"Timbo\"</td>\n",
       "      <td>You really only need vol 2</td>\n",
       "      <td>1330905600</td>\n",
       "    </tr>\n",
       "  </tbody>\n",
       "</table>\n",
       "</div>"
      ],
      "text/plain": [
       "         asin helpful  overall  \\\n",
       "0  1223000893  [0, 0]        3   \n",
       "1  1223000893  [0, 0]        5   \n",
       "2  1223000893  [0, 0]        4   \n",
       "3  1223000893  [2, 2]        4   \n",
       "4  1223000893  [6, 7]        3   \n",
       "\n",
       "                                          reviewText   reviewTime  \\\n",
       "0  I purchased the Trilogy with hoping my two cat...  01 12, 2011   \n",
       "1  There are usually one or more of my cats watch...  09 14, 2013   \n",
       "2  I bought the triliogy and have tested out all ...  12 19, 2012   \n",
       "3  My female kitty could care less about these vi...  05 12, 2011   \n",
       "4  If I had gotten just volume two, I would have ...   03 5, 2012   \n",
       "\n",
       "       reviewerID           reviewerName  \\\n",
       "0  A14CK12J7C7JRK     Consumer in NorCal   \n",
       "1  A39QHP5WLON5HV        Melodee Placial   \n",
       "2  A2CR37UY3VR7BN       Michelle Ashbery   \n",
       "3  A2A4COGL9VW2HY             Michelle P   \n",
       "4  A2UBQA85NIGLHA  Tim  Isenhour \"Timbo\"   \n",
       "\n",
       "                                             summary  unixReviewTime  \n",
       "0  Nice Distraction for my cats for about 15 minutes      1294790400  \n",
       "1                           Entertaining for my cats      1379116800  \n",
       "2                                       Entertaining      1355875200  \n",
       "3                                 Happy to have them      1305158400  \n",
       "4                         You really only need vol 2      1330905600  "
      ]
     },
     "execution_count": 7,
     "metadata": {},
     "output_type": "execute_result"
    }
   ],
   "source": [
    "# Load the data\n",
    "petReviews = pd.read_json('Pet_Supplies_5.json', lines=True, encoding='utf-8')\n",
    "\n",
    "petReviews.head()"
   ]
  },
  {
   "cell_type": "code",
   "execution_count": 8,
   "metadata": {},
   "outputs": [],
   "source": [
    "petReviews[['relevance_Numerator','relevance_Denominator']] = pd.DataFrame(petReviews.helpful.values.tolist(), index = petReviews.index)"
   ]
  },
  {
   "cell_type": "code",
   "execution_count": 9,
   "metadata": {},
   "outputs": [],
   "source": [
    "# Zero people found this review important \n",
    "petReviews= petReviews[petReviews['relevance_Denominator'] > 0]"
   ]
  },
  {
   "cell_type": "code",
   "execution_count": 10,
   "metadata": {},
   "outputs": [
    {
     "data": {
      "text/html": [
       "<div>\n",
       "<style scoped>\n",
       "    .dataframe tbody tr th:only-of-type {\n",
       "        vertical-align: middle;\n",
       "    }\n",
       "\n",
       "    .dataframe tbody tr th {\n",
       "        vertical-align: top;\n",
       "    }\n",
       "\n",
       "    .dataframe thead th {\n",
       "        text-align: right;\n",
       "    }\n",
       "</style>\n",
       "<table border=\"1\" class=\"dataframe\">\n",
       "  <thead>\n",
       "    <tr style=\"text-align: right;\">\n",
       "      <th></th>\n",
       "      <th>asin</th>\n",
       "      <th>helpful</th>\n",
       "      <th>overall</th>\n",
       "      <th>reviewText</th>\n",
       "      <th>reviewTime</th>\n",
       "      <th>reviewerID</th>\n",
       "      <th>reviewerName</th>\n",
       "      <th>summary</th>\n",
       "      <th>unixReviewTime</th>\n",
       "      <th>relevance_Numerator</th>\n",
       "      <th>relevance_Denominator</th>\n",
       "    </tr>\n",
       "  </thead>\n",
       "  <tbody>\n",
       "    <tr>\n",
       "      <th>3</th>\n",
       "      <td>1223000893</td>\n",
       "      <td>[2, 2]</td>\n",
       "      <td>4</td>\n",
       "      <td>My female kitty could care less about these vi...</td>\n",
       "      <td>05 12, 2011</td>\n",
       "      <td>A2A4COGL9VW2HY</td>\n",
       "      <td>Michelle P</td>\n",
       "      <td>Happy to have them</td>\n",
       "      <td>1305158400</td>\n",
       "      <td>2</td>\n",
       "      <td>2</td>\n",
       "    </tr>\n",
       "    <tr>\n",
       "      <th>4</th>\n",
       "      <td>1223000893</td>\n",
       "      <td>[6, 7]</td>\n",
       "      <td>3</td>\n",
       "      <td>If I had gotten just volume two, I would have ...</td>\n",
       "      <td>03 5, 2012</td>\n",
       "      <td>A2UBQA85NIGLHA</td>\n",
       "      <td>Tim  Isenhour \"Timbo\"</td>\n",
       "      <td>You really only need vol 2</td>\n",
       "      <td>1330905600</td>\n",
       "      <td>6</td>\n",
       "      <td>7</td>\n",
       "    </tr>\n",
       "    <tr>\n",
       "      <th>5</th>\n",
       "      <td>4847676011</td>\n",
       "      <td>[10, 10]</td>\n",
       "      <td>5</td>\n",
       "      <td>My Rottie has food allergies to poultry, beef ...</td>\n",
       "      <td>07 13, 2007</td>\n",
       "      <td>A2V3UP9NPMHVKJ</td>\n",
       "      <td>Alex Thomas \"Tommy\"</td>\n",
       "      <td>Great for Pups with Food Allergies</td>\n",
       "      <td>1184284800</td>\n",
       "      <td>10</td>\n",
       "      <td>10</td>\n",
       "    </tr>\n",
       "    <tr>\n",
       "      <th>6</th>\n",
       "      <td>4847676011</td>\n",
       "      <td>[2, 2]</td>\n",
       "      <td>5</td>\n",
       "      <td>My puppy loves this stuff! His tail starts wag...</td>\n",
       "      <td>11 16, 2013</td>\n",
       "      <td>A2R4JCEFLTFU8F</td>\n",
       "      <td>goldilox \"goldi\"</td>\n",
       "      <td>Naturally Yummy!</td>\n",
       "      <td>1384560000</td>\n",
       "      <td>2</td>\n",
       "      <td>2</td>\n",
       "    </tr>\n",
       "    <tr>\n",
       "      <th>7</th>\n",
       "      <td>4847676011</td>\n",
       "      <td>[2, 2]</td>\n",
       "      <td>4</td>\n",
       "      <td>My toy poodle loves this stuff and will let me...</td>\n",
       "      <td>03 9, 2014</td>\n",
       "      <td>A14B4MJ7KZE63B</td>\n",
       "      <td>K Young</td>\n",
       "      <td>bought to help with dog breath</td>\n",
       "      <td>1394323200</td>\n",
       "      <td>2</td>\n",
       "      <td>2</td>\n",
       "    </tr>\n",
       "  </tbody>\n",
       "</table>\n",
       "</div>"
      ],
      "text/plain": [
       "         asin   helpful  overall  \\\n",
       "3  1223000893    [2, 2]        4   \n",
       "4  1223000893    [6, 7]        3   \n",
       "5  4847676011  [10, 10]        5   \n",
       "6  4847676011    [2, 2]        5   \n",
       "7  4847676011    [2, 2]        4   \n",
       "\n",
       "                                          reviewText   reviewTime  \\\n",
       "3  My female kitty could care less about these vi...  05 12, 2011   \n",
       "4  If I had gotten just volume two, I would have ...   03 5, 2012   \n",
       "5  My Rottie has food allergies to poultry, beef ...  07 13, 2007   \n",
       "6  My puppy loves this stuff! His tail starts wag...  11 16, 2013   \n",
       "7  My toy poodle loves this stuff and will let me...   03 9, 2014   \n",
       "\n",
       "       reviewerID           reviewerName                             summary  \\\n",
       "3  A2A4COGL9VW2HY             Michelle P                  Happy to have them   \n",
       "4  A2UBQA85NIGLHA  Tim  Isenhour \"Timbo\"          You really only need vol 2   \n",
       "5  A2V3UP9NPMHVKJ    Alex Thomas \"Tommy\"  Great for Pups with Food Allergies   \n",
       "6  A2R4JCEFLTFU8F       goldilox \"goldi\"                    Naturally Yummy!   \n",
       "7  A14B4MJ7KZE63B                K Young      bought to help with dog breath   \n",
       "\n",
       "   unixReviewTime  relevance_Numerator  relevance_Denominator  \n",
       "3      1305158400                    2                      2  \n",
       "4      1330905600                    6                      7  \n",
       "5      1184284800                   10                     10  \n",
       "6      1384560000                    2                      2  \n",
       "7      1394323200                    2                      2  "
      ]
     },
     "execution_count": 10,
     "metadata": {},
     "output_type": "execute_result"
    }
   ],
   "source": [
    "petReviews.head()"
   ]
  },
  {
   "cell_type": "code",
   "execution_count": 11,
   "metadata": {},
   "outputs": [],
   "source": [
    "# Make a score of the 'helpful' rating max value is 1. This number can be used to filter out non helpful reviews based on a \n",
    "# treshold. In our case we will just use a helpful index of 75%. Just a small majority vote\n",
    "petReviews['relevance'] = np.where(petReviews['relevance_Denominator'] > 0, petReviews['relevance_Numerator'] / petReviews['relevance_Denominator'], -1)"
   ]
  },
  {
   "cell_type": "code",
   "execution_count": 12,
   "metadata": {},
   "outputs": [
    {
     "data": {
      "text/html": [
       "<div>\n",
       "<style scoped>\n",
       "    .dataframe tbody tr th:only-of-type {\n",
       "        vertical-align: middle;\n",
       "    }\n",
       "\n",
       "    .dataframe tbody tr th {\n",
       "        vertical-align: top;\n",
       "    }\n",
       "\n",
       "    .dataframe thead th {\n",
       "        text-align: right;\n",
       "    }\n",
       "</style>\n",
       "<table border=\"1\" class=\"dataframe\">\n",
       "  <thead>\n",
       "    <tr style=\"text-align: right;\">\n",
       "      <th></th>\n",
       "      <th>asin</th>\n",
       "      <th>helpful</th>\n",
       "      <th>overall</th>\n",
       "      <th>reviewText</th>\n",
       "      <th>reviewTime</th>\n",
       "      <th>reviewerID</th>\n",
       "      <th>reviewerName</th>\n",
       "      <th>summary</th>\n",
       "      <th>unixReviewTime</th>\n",
       "      <th>relevance_Numerator</th>\n",
       "      <th>relevance_Denominator</th>\n",
       "      <th>relevance</th>\n",
       "    </tr>\n",
       "  </thead>\n",
       "  <tbody>\n",
       "    <tr>\n",
       "      <th>3</th>\n",
       "      <td>1223000893</td>\n",
       "      <td>[2, 2]</td>\n",
       "      <td>4</td>\n",
       "      <td>My female kitty could care less about these vi...</td>\n",
       "      <td>05 12, 2011</td>\n",
       "      <td>A2A4COGL9VW2HY</td>\n",
       "      <td>Michelle P</td>\n",
       "      <td>Happy to have them</td>\n",
       "      <td>1305158400</td>\n",
       "      <td>2</td>\n",
       "      <td>2</td>\n",
       "      <td>1.000000</td>\n",
       "    </tr>\n",
       "    <tr>\n",
       "      <th>4</th>\n",
       "      <td>1223000893</td>\n",
       "      <td>[6, 7]</td>\n",
       "      <td>3</td>\n",
       "      <td>If I had gotten just volume two, I would have ...</td>\n",
       "      <td>03 5, 2012</td>\n",
       "      <td>A2UBQA85NIGLHA</td>\n",
       "      <td>Tim  Isenhour \"Timbo\"</td>\n",
       "      <td>You really only need vol 2</td>\n",
       "      <td>1330905600</td>\n",
       "      <td>6</td>\n",
       "      <td>7</td>\n",
       "      <td>0.857143</td>\n",
       "    </tr>\n",
       "    <tr>\n",
       "      <th>5</th>\n",
       "      <td>4847676011</td>\n",
       "      <td>[10, 10]</td>\n",
       "      <td>5</td>\n",
       "      <td>My Rottie has food allergies to poultry, beef ...</td>\n",
       "      <td>07 13, 2007</td>\n",
       "      <td>A2V3UP9NPMHVKJ</td>\n",
       "      <td>Alex Thomas \"Tommy\"</td>\n",
       "      <td>Great for Pups with Food Allergies</td>\n",
       "      <td>1184284800</td>\n",
       "      <td>10</td>\n",
       "      <td>10</td>\n",
       "      <td>1.000000</td>\n",
       "    </tr>\n",
       "    <tr>\n",
       "      <th>6</th>\n",
       "      <td>4847676011</td>\n",
       "      <td>[2, 2]</td>\n",
       "      <td>5</td>\n",
       "      <td>My puppy loves this stuff! His tail starts wag...</td>\n",
       "      <td>11 16, 2013</td>\n",
       "      <td>A2R4JCEFLTFU8F</td>\n",
       "      <td>goldilox \"goldi\"</td>\n",
       "      <td>Naturally Yummy!</td>\n",
       "      <td>1384560000</td>\n",
       "      <td>2</td>\n",
       "      <td>2</td>\n",
       "      <td>1.000000</td>\n",
       "    </tr>\n",
       "    <tr>\n",
       "      <th>7</th>\n",
       "      <td>4847676011</td>\n",
       "      <td>[2, 2]</td>\n",
       "      <td>4</td>\n",
       "      <td>My toy poodle loves this stuff and will let me...</td>\n",
       "      <td>03 9, 2014</td>\n",
       "      <td>A14B4MJ7KZE63B</td>\n",
       "      <td>K Young</td>\n",
       "      <td>bought to help with dog breath</td>\n",
       "      <td>1394323200</td>\n",
       "      <td>2</td>\n",
       "      <td>2</td>\n",
       "      <td>1.000000</td>\n",
       "    </tr>\n",
       "  </tbody>\n",
       "</table>\n",
       "</div>"
      ],
      "text/plain": [
       "         asin   helpful  overall  \\\n",
       "3  1223000893    [2, 2]        4   \n",
       "4  1223000893    [6, 7]        3   \n",
       "5  4847676011  [10, 10]        5   \n",
       "6  4847676011    [2, 2]        5   \n",
       "7  4847676011    [2, 2]        4   \n",
       "\n",
       "                                          reviewText   reviewTime  \\\n",
       "3  My female kitty could care less about these vi...  05 12, 2011   \n",
       "4  If I had gotten just volume two, I would have ...   03 5, 2012   \n",
       "5  My Rottie has food allergies to poultry, beef ...  07 13, 2007   \n",
       "6  My puppy loves this stuff! His tail starts wag...  11 16, 2013   \n",
       "7  My toy poodle loves this stuff and will let me...   03 9, 2014   \n",
       "\n",
       "       reviewerID           reviewerName                             summary  \\\n",
       "3  A2A4COGL9VW2HY             Michelle P                  Happy to have them   \n",
       "4  A2UBQA85NIGLHA  Tim  Isenhour \"Timbo\"          You really only need vol 2   \n",
       "5  A2V3UP9NPMHVKJ    Alex Thomas \"Tommy\"  Great for Pups with Food Allergies   \n",
       "6  A2R4JCEFLTFU8F       goldilox \"goldi\"                    Naturally Yummy!   \n",
       "7  A14B4MJ7KZE63B                K Young      bought to help with dog breath   \n",
       "\n",
       "   unixReviewTime  relevance_Numerator  relevance_Denominator  relevance  \n",
       "3      1305158400                    2                      2   1.000000  \n",
       "4      1330905600                    6                      7   0.857143  \n",
       "5      1184284800                   10                     10   1.000000  \n",
       "6      1384560000                    2                      2   1.000000  \n",
       "7      1394323200                    2                      2   1.000000  "
      ]
     },
     "execution_count": 12,
     "metadata": {},
     "output_type": "execute_result"
    }
   ],
   "source": [
    "petReviews.head()"
   ]
  },
  {
   "cell_type": "code",
   "execution_count": 13,
   "metadata": {},
   "outputs": [],
   "source": [
    "# relevant vs non relevant reviews. we'll drop non relevant reviews and then use overall score to separate \n",
    "# positive and negative sentiment. \n",
    "\n",
    "petReviews['relevance']=np.where(petReviews['relevance'] >= 0.75, 1, petReviews['relevance'].astype(int))\n",
    "petReviews['relevance']=np.where(petReviews['relevance'] < 0.75, 0, petReviews['relevance'].astype(int))"
   ]
  },
  {
   "cell_type": "code",
   "execution_count": 14,
   "metadata": {},
   "outputs": [
    {
     "data": {
      "image/png": "[encoded data removed]",
      "text/plain": [
       "<Figure size 432x288 with 1 Axes>"
      ]
     },
     "metadata": {},
     "output_type": "display_data"
    }
   ],
   "source": [
    "sns.countplot(x='relevance', data=petReviews, palette='hls')\n",
    "plt.title('Users found the majority of reviews helpful')\n",
    "plt.show()"
   ]
  },
  {
   "cell_type": "code",
   "execution_count": 15,
   "metadata": {},
   "outputs": [
    {
     "data": {
      "text/plain": [
       "1    38787\n",
       "0    13681\n",
       "Name: relevance, dtype: int64"
      ]
     },
     "execution_count": 15,
     "metadata": {},
     "output_type": "execute_result"
    }
   ],
   "source": [
    "petReviews['relevance'].value_counts()"
   ]
  },
  {
   "cell_type": "code",
   "execution_count": 16,
   "metadata": {},
   "outputs": [],
   "source": [
    "#reviews_raw = reviews_raw['reviews_raw.relevance == 1']\n",
    "petReviews = petReviews[petReviews.relevance == 1]"
   ]
  },
  {
   "cell_type": "code",
   "execution_count": 17,
   "metadata": {},
   "outputs": [],
   "source": [
    "# Take the ratings column and divide in to positive and negative sentiment by assigning 1 to high rating ones\n",
    "# and 0 for ratings lower than 3.5 \n",
    "\n",
    "# Don't run this twice!!!!! Every value will be zero otherwise \n",
    "#reviews_raw['overall']=np.where(reviews_raw['overall'] > 3, 1, reviews_raw['overall'].astype(int))\n",
    "#reviews_raw['overall']=np.where(reviews_raw['overall'] <= 3, 0, reviews_raw['overall'].astype(int))\n",
    "\n",
    "# The order in which these two rows run matters too. lower class firse \n",
    "petReviews['overall']=np.where(petReviews['overall'] <= 3, 0, petReviews['overall'].astype(int))"
   ]
  },
  {
   "cell_type": "code",
   "execution_count": 18,
   "metadata": {},
   "outputs": [],
   "source": [
    "petReviews['overall']=np.where(petReviews['overall'] > 3, 1, petReviews['overall'].astype(int))"
   ]
  },
  {
   "cell_type": "code",
   "execution_count": 19,
   "metadata": {},
   "outputs": [
    {
     "data": {
      "text/html": [
       "<div>\n",
       "<style scoped>\n",
       "    .dataframe tbody tr th:only-of-type {\n",
       "        vertical-align: middle;\n",
       "    }\n",
       "\n",
       "    .dataframe tbody tr th {\n",
       "        vertical-align: top;\n",
       "    }\n",
       "\n",
       "    .dataframe thead th {\n",
       "        text-align: right;\n",
       "    }\n",
       "</style>\n",
       "<table border=\"1\" class=\"dataframe\">\n",
       "  <thead>\n",
       "    <tr style=\"text-align: right;\">\n",
       "      <th></th>\n",
       "      <th>asin</th>\n",
       "      <th>helpful</th>\n",
       "      <th>overall</th>\n",
       "      <th>reviewText</th>\n",
       "      <th>reviewTime</th>\n",
       "      <th>reviewerID</th>\n",
       "      <th>reviewerName</th>\n",
       "      <th>summary</th>\n",
       "      <th>unixReviewTime</th>\n",
       "      <th>relevance_Numerator</th>\n",
       "      <th>relevance_Denominator</th>\n",
       "      <th>relevance</th>\n",
       "    </tr>\n",
       "  </thead>\n",
       "  <tbody>\n",
       "    <tr>\n",
       "      <th>3</th>\n",
       "      <td>1223000893</td>\n",
       "      <td>[2, 2]</td>\n",
       "      <td>1</td>\n",
       "      <td>My female kitty could care less about these vi...</td>\n",
       "      <td>05 12, 2011</td>\n",
       "      <td>A2A4COGL9VW2HY</td>\n",
       "      <td>Michelle P</td>\n",
       "      <td>Happy to have them</td>\n",
       "      <td>1305158400</td>\n",
       "      <td>2</td>\n",
       "      <td>2</td>\n",
       "      <td>1</td>\n",
       "    </tr>\n",
       "    <tr>\n",
       "      <th>4</th>\n",
       "      <td>1223000893</td>\n",
       "      <td>[6, 7]</td>\n",
       "      <td>0</td>\n",
       "      <td>If I had gotten just volume two, I would have ...</td>\n",
       "      <td>03 5, 2012</td>\n",
       "      <td>A2UBQA85NIGLHA</td>\n",
       "      <td>Tim  Isenhour \"Timbo\"</td>\n",
       "      <td>You really only need vol 2</td>\n",
       "      <td>1330905600</td>\n",
       "      <td>6</td>\n",
       "      <td>7</td>\n",
       "      <td>1</td>\n",
       "    </tr>\n",
       "    <tr>\n",
       "      <th>5</th>\n",
       "      <td>4847676011</td>\n",
       "      <td>[10, 10]</td>\n",
       "      <td>1</td>\n",
       "      <td>My Rottie has food allergies to poultry, beef ...</td>\n",
       "      <td>07 13, 2007</td>\n",
       "      <td>A2V3UP9NPMHVKJ</td>\n",
       "      <td>Alex Thomas \"Tommy\"</td>\n",
       "      <td>Great for Pups with Food Allergies</td>\n",
       "      <td>1184284800</td>\n",
       "      <td>10</td>\n",
       "      <td>10</td>\n",
       "      <td>1</td>\n",
       "    </tr>\n",
       "    <tr>\n",
       "      <th>6</th>\n",
       "      <td>4847676011</td>\n",
       "      <td>[2, 2]</td>\n",
       "      <td>1</td>\n",
       "      <td>My puppy loves this stuff! His tail starts wag...</td>\n",
       "      <td>11 16, 2013</td>\n",
       "      <td>A2R4JCEFLTFU8F</td>\n",
       "      <td>goldilox \"goldi\"</td>\n",
       "      <td>Naturally Yummy!</td>\n",
       "      <td>1384560000</td>\n",
       "      <td>2</td>\n",
       "      <td>2</td>\n",
       "      <td>1</td>\n",
       "    </tr>\n",
       "    <tr>\n",
       "      <th>7</th>\n",
       "      <td>4847676011</td>\n",
       "      <td>[2, 2]</td>\n",
       "      <td>1</td>\n",
       "      <td>My toy poodle loves this stuff and will let me...</td>\n",
       "      <td>03 9, 2014</td>\n",
       "      <td>A14B4MJ7KZE63B</td>\n",
       "      <td>K Young</td>\n",
       "      <td>bought to help with dog breath</td>\n",
       "      <td>1394323200</td>\n",
       "      <td>2</td>\n",
       "      <td>2</td>\n",
       "      <td>1</td>\n",
       "    </tr>\n",
       "  </tbody>\n",
       "</table>\n",
       "</div>"
      ],
      "text/plain": [
       "         asin   helpful  overall  \\\n",
       "3  1223000893    [2, 2]        1   \n",
       "4  1223000893    [6, 7]        0   \n",
       "5  4847676011  [10, 10]        1   \n",
       "6  4847676011    [2, 2]        1   \n",
       "7  4847676011    [2, 2]        1   \n",
       "\n",
       "                                          reviewText   reviewTime  \\\n",
       "3  My female kitty could care less about these vi...  05 12, 2011   \n",
       "4  If I had gotten just volume two, I would have ...   03 5, 2012   \n",
       "5  My Rottie has food allergies to poultry, beef ...  07 13, 2007   \n",
       "6  My puppy loves this stuff! His tail starts wag...  11 16, 2013   \n",
       "7  My toy poodle loves this stuff and will let me...   03 9, 2014   \n",
       "\n",
       "       reviewerID           reviewerName                             summary  \\\n",
       "3  A2A4COGL9VW2HY             Michelle P                  Happy to have them   \n",
       "4  A2UBQA85NIGLHA  Tim  Isenhour \"Timbo\"          You really only need vol 2   \n",
       "5  A2V3UP9NPMHVKJ    Alex Thomas \"Tommy\"  Great for Pups with Food Allergies   \n",
       "6  A2R4JCEFLTFU8F       goldilox \"goldi\"                    Naturally Yummy!   \n",
       "7  A14B4MJ7KZE63B                K Young      bought to help with dog breath   \n",
       "\n",
       "   unixReviewTime  relevance_Numerator  relevance_Denominator  relevance  \n",
       "3      1305158400                    2                      2          1  \n",
       "4      1330905600                    6                      7          1  \n",
       "5      1184284800                   10                     10          1  \n",
       "6      1384560000                    2                      2          1  \n",
       "7      1394323200                    2                      2          1  "
      ]
     },
     "execution_count": 19,
     "metadata": {},
     "output_type": "execute_result"
    }
   ],
   "source": [
    "petReviews.head()"
   ]
  },
  {
   "cell_type": "code",
   "execution_count": 20,
   "metadata": {},
   "outputs": [
    {
     "data": {
      "image/png": "[encoded data removed]",
      "text/plain": [
       "<Figure size 432x288 with 1 Axes>"
      ]
     },
     "metadata": {},
     "output_type": "display_data"
    },
    {
     "name": "stdout",
     "output_type": "stream",
     "text": [
      "1    30346\n",
      "0     8441\n",
      "Name: overall, dtype: int64\n"
     ]
    }
   ],
   "source": [
    "sns.countplot(x='overall', data=petReviews, palette='hls')\n",
    "plt.title('Proportion of positive and negative sentiment')\n",
    "plt.show()\n",
    "print(petReviews['overall'].value_counts())"
   ]
  },
  {
   "cell_type": "markdown",
   "metadata": {},
   "source": [
    "# fixing class imbalance "
   ]
  },
  {
   "cell_type": "code",
   "execution_count": 21,
   "metadata": {},
   "outputs": [
    {
     "name": "stdout",
     "output_type": "stream",
     "text": [
      "1    8441\n",
      "0    8441\n",
      "Name: overall, dtype: int64\n",
      "We now have a sample with balanced class\n"
     ]
    },
    {
     "data": {
      "image/png": "[encoded data removed]",
      "text/plain": [
       "<Figure size 432x288 with 1 Axes>"
      ]
     },
     "metadata": {},
     "output_type": "display_data"
    }
   ],
   "source": [
    "#Import module and resampling \n",
    "\n",
    "from sklearn.utils import resample\n",
    "\n",
    "# Separate majority and minority classes\n",
    "petReviews_majority = petReviews[petReviews.overall==1]\n",
    "petReviews_minority = petReviews[petReviews.overall==0]\n",
    " \n",
    "# Downsample majority overall class\n",
    "petReviews_majority_downsampled = resample(petReviews_majority, \n",
    "                                 replace=False,    # sample without replacement\n",
    "                                 n_samples=8441,     # len(reviews_raw_minority)\n",
    "                                 random_state=123) # reproducible results\n",
    " \n",
    "# Combine minority class with downsampled majority overall class\n",
    "petReviews_resampled = pd.concat([petReviews_majority_downsampled, petReviews_minority])\n",
    " \n",
    "# Display new class counts\n",
    "print(petReviews_resampled.overall.value_counts())\n",
    "print('We now have a sample with balanced class')\n",
    "\n",
    "sns.countplot(x='overall', data=petReviews_resampled, palette='hls')\n",
    "plt.title('Balanced class')\n",
    "plt.show()"
   ]
  },
  {
   "cell_type": "code",
   "execution_count": 25,
   "metadata": {},
   "outputs": [],
   "source": [
    "petReviews = petReviews_resampled[['reviewText', 'overall']]"
   ]
  },
  {
   "cell_type": "code",
   "execution_count": 28,
   "metadata": {},
   "outputs": [
    {
     "data": {
      "text/html": [
       "<div>\n",
       "<style scoped>\n",
       "    .dataframe tbody tr th:only-of-type {\n",
       "        vertical-align: middle;\n",
       "    }\n",
       "\n",
       "    .dataframe tbody tr th {\n",
       "        vertical-align: top;\n",
       "    }\n",
       "\n",
       "    .dataframe thead th {\n",
       "        text-align: right;\n",
       "    }\n",
       "</style>\n",
       "<table border=\"1\" class=\"dataframe\">\n",
       "  <thead>\n",
       "    <tr style=\"text-align: right;\">\n",
       "      <th></th>\n",
       "      <th>reviewText</th>\n",
       "      <th>overall</th>\n",
       "      <th>cleaned</th>\n",
       "    </tr>\n",
       "  </thead>\n",
       "  <tbody>\n",
       "    <tr>\n",
       "      <th>70588</th>\n",
       "      <td>My Bichon Frise's tear stains were getting ver...</td>\n",
       "      <td>1</td>\n",
       "      <td>my bichon frise tear stain get bad late vet re...</td>\n",
       "    </tr>\n",
       "    <tr>\n",
       "      <th>149651</th>\n",
       "      <td>We've made the switch from Sojo's (oat based) ...</td>\n",
       "      <td>1</td>\n",
       "      <td>we made switch sojo oat base honest kitchen we...</td>\n",
       "    </tr>\n",
       "    <tr>\n",
       "      <th>85384</th>\n",
       "      <td>my rabbit survives only on this food now as he...</td>\n",
       "      <td>1</td>\n",
       "      <td>rabbit surviv food old sick i twas nice go dri...</td>\n",
       "    </tr>\n",
       "    <tr>\n",
       "      <th>107956</th>\n",
       "      <td>Our smart cat isn't interested in the laser, i...</td>\n",
       "      <td>1</td>\n",
       "      <td>our smart cat interest laser instead goe strai...</td>\n",
       "    </tr>\n",
       "    <tr>\n",
       "      <th>82162</th>\n",
       "      <td>This is a great product.  I have used it a cou...</td>\n",
       "      <td>1</td>\n",
       "      <td>this great product i use coupl time i puppi se...</td>\n",
       "    </tr>\n",
       "  </tbody>\n",
       "</table>\n",
       "</div>"
      ],
      "text/plain": [
       "                                               reviewText  overall  \\\n",
       "70588   My Bichon Frise's tear stains were getting ver...        1   \n",
       "149651  We've made the switch from Sojo's (oat based) ...        1   \n",
       "85384   my rabbit survives only on this food now as he...        1   \n",
       "107956  Our smart cat isn't interested in the laser, i...        1   \n",
       "82162   This is a great product.  I have used it a cou...        1   \n",
       "\n",
       "                                                  cleaned  \n",
       "70588   my bichon frise tear stain get bad late vet re...  \n",
       "149651  we made switch sojo oat base honest kitchen we...  \n",
       "85384   rabbit surviv food old sick i twas nice go dri...  \n",
       "107956  our smart cat interest laser instead goe strai...  \n",
       "82162   this great product i use coupl time i puppi se...  "
      ]
     },
     "execution_count": 28,
     "metadata": {},
     "output_type": "execute_result"
    }
   ],
   "source": [
    "petReviews.head()"
   ]
  },
  {
   "cell_type": "code",
   "execution_count": 26,
   "metadata": {},
   "outputs": [],
   "source": [
    "stemmer = SnowballStemmer('english')\n",
    "words = stopwords.words(\"english\")"
   ]
  },
  {
   "cell_type": "code",
   "execution_count": 27,
   "metadata": {},
   "outputs": [
    {
     "name": "stderr",
     "output_type": "stream",
     "text": [
      "C:\\Users\\Omistaja\\Anaconda3\\lib\\site-packages\\ipykernel_launcher.py:2: SettingWithCopyWarning: \n",
      "A value is trying to be set on a copy of a slice from a DataFrame.\n",
      "Try using .loc[row_indexer,col_indexer] = value instead\n",
      "\n",
      "See the caveats in the documentation: http://pandas.pydata.org/pandas-docs/stable/indexing.html#indexing-view-versus-copy\n",
      "  \n"
     ]
    }
   ],
   "source": [
    "#data['cleaned'] = data['text'].apply(lambda x: \" \".join([stemmer.stem(i) for i in re.sub(\"[^a-zA-Z]\", \" \", x).split() if i not in words]).lower())\n",
    "petReviews['cleaned'] = petReviews['reviewText'].apply(lambda x: \" \".join([stemmer.stem(i) for i in re.sub(\"[^a-zA-Z]\", \" \", x).split() if i not in words]).lower())"
   ]
  },
  {
   "cell_type": "code",
   "execution_count": 31,
   "metadata": {},
   "outputs": [],
   "source": [
    "# our x and y\n",
    "# X pet as a \n",
    "X_pet = petReviews['cleaned']\n",
    "Y_pet = petReviews['overall']"
   ]
  },
  {
   "cell_type": "code",
   "execution_count": 34,
   "metadata": {},
   "outputs": [],
   "source": [
    "# bag of words with text vectorizer\n",
    "tf = TfidfVectorizer(ngram_range=(1, 2), stop_words=\"english\", max_df=0.5, sublinear_tf=True, max_features=10000)"
   ]
  },
  {
   "cell_type": "code",
   "execution_count": 49,
   "metadata": {},
   "outputs": [],
   "source": [
    "X_pet_tf=tf.fit_transform(X_pet)"
   ]
  },
  {
   "cell_type": "code",
   "execution_count": 50,
   "metadata": {},
   "outputs": [
    {
     "data": {
      "text/plain": [
       "(16882,)"
      ]
     },
     "execution_count": 50,
     "metadata": {},
     "output_type": "execute_result"
    }
   ],
   "source": [
    "X_pet.shape"
   ]
  },
  {
   "cell_type": "code",
   "execution_count": 51,
   "metadata": {},
   "outputs": [
    {
     "data": {
      "text/plain": [
       "(16882, 10000)"
      ]
     },
     "execution_count": 51,
     "metadata": {},
     "output_type": "execute_result"
    }
   ],
   "source": [
    "X_pet_tf.shape"
   ]
  },
  {
   "cell_type": "markdown",
   "metadata": {},
   "source": [
    "# Models\n",
    "\n",
    "Since our model is already trained, we'll only fit the new data to predict the sentiment"
   ]
  },
  {
   "cell_type": "markdown",
   "metadata": {},
   "source": [
    "# Bernoulli"
   ]
  },
  {
   "cell_type": "code",
   "execution_count": 126,
   "metadata": {},
   "outputs": [],
   "source": [
    "# bernoulli\n",
    "start_time = time.clock()\n",
    "y_Naive_pet = mnb.predict(X_pet_tf)"
   ]
  },
  {
   "cell_type": "code",
   "execution_count": 127,
   "metadata": {},
   "outputs": [
    {
     "name": "stdout",
     "output_type": "stream",
     "text": [
      "\n",
      "Test set score: 0.48459898116336925\n",
      "Confusion matrix\n",
      "[[3444 4997]\n",
      " [3704 4737]]\n",
      "             precision    recall  f1-score   support\n",
      "\n",
      "          0       0.48      0.41      0.44      8441\n",
      "          1       0.49      0.56      0.52      8441\n",
      "\n",
      "avg / total       0.48      0.48      0.48     16882\n",
      "\n"
     ]
    },
    {
     "data": {
      "image/png": "[encoded data removed]",
      "text/plain": [
       "<Figure size 432x288 with 1 Axes>"
      ]
     },
     "metadata": {},
     "output_type": "display_data"
    },
    {
     "name": "stdout",
     "output_type": "stream",
     "text": [
      "--- 0.5242534400003933 seconds ---\n"
     ]
    }
   ],
   "source": [
    "# Evaluation\n",
    "\n",
    "print('\\nTest set score:', mnb.score(X_pet_tf, Y_pet))\n",
    "#score = cross_val_score(mnb, X, Y, cv=10)\n",
    "#print(score)\n",
    "\n",
    "#Confusion matrix \n",
    "print('Confusion matrix')\n",
    "print(confusion_matrix(Y_pet, y_Naive_pet))\n",
    "\n",
    "# Classification report \n",
    "print(classification_report(Y_pet, y_Naive_pet))\n",
    "\n",
    "# AUC \n",
    "y_pred_p = mnb_pet.predict_proba(X_pet_tf)[::,1]\n",
    "fpr, tpr, _ = metrics.roc_curve(Y_pet,  y_pred_p)\n",
    "auc = metrics.roc_auc_score(Y_pet, y_pred_p)\n",
    "plt.plot(fpr,tpr,label='auc='+str(auc))\n",
    "plt.legend(loc=4)\n",
    "plt.show()\n",
    "print(\"--- %s seconds ---\" % (time.clock() - start_time))"
   ]
  },
  {
   "cell_type": "markdown",
   "metadata": {},
   "source": [
    "# Knn"
   ]
  },
  {
   "cell_type": "code",
   "execution_count": 124,
   "metadata": {},
   "outputs": [],
   "source": [
    "# Fit the data to knn model \n",
    "start_time2 = time.clock()\n",
    "y_knn_pet = neigh.predict(X_pet_tf)"
   ]
  },
  {
   "cell_type": "code",
   "execution_count": 125,
   "metadata": {},
   "outputs": [
    {
     "name": "stdout",
     "output_type": "stream",
     "text": [
      "\n",
      "Test set score: 0.5419381589859021\n",
      "Confusion matrix\n",
      "[[3818 4623]\n",
      " [4238 4203]]\n",
      "             precision    recall  f1-score   support\n",
      "\n",
      "          0       0.47      0.45      0.46      8441\n",
      "          1       0.48      0.50      0.49      8441\n",
      "\n",
      "avg / total       0.48      0.48      0.47     16882\n",
      "\n"
     ]
    },
    {
     "data": {
      "image/png": "[encoded data removed]",
      "text/plain": [
       "<Figure size 432x288 with 1 Axes>"
      ]
     },
     "metadata": {},
     "output_type": "display_data"
    },
    {
     "name": "stdout",
     "output_type": "stream",
     "text": [
      "--- 34.790545919999204 seconds ---\n"
     ]
    }
   ],
   "source": [
    "# Evaluation\n",
    "print('\\nTest set score:', neigh_pet.score(X_pet_tf, Y_pet))\n",
    "\n",
    "#Confusion matrix \n",
    "print('Confusion matrix')\n",
    "print(confusion_matrix(Y_pet, y_knn_pet))\n",
    "\n",
    "# Classification report \n",
    "print(classification_report(Y_pet, y_knn_pet))\n",
    "\n",
    "# AUC \n",
    "y_pred_proba = neigh_pet.predict_proba(X_pet_tf)[::,1]\n",
    "fpr, tpr, _ = metrics.roc_curve(Y_pet,  y_pred_proba)\n",
    "auc = metrics.roc_auc_score(Y_pet, y_pred_proba)\n",
    "plt.plot(fpr,tpr,label='auc='+str(auc))\n",
    "plt.legend(loc=4)\n",
    "plt.show()\n",
    "print(\"--- %s seconds ---\" % (time.clock() - start_time2))"
   ]
  },
  {
   "cell_type": "markdown",
   "metadata": {},
   "source": [
    "# Logistics regression"
   ]
  },
  {
   "cell_type": "code",
   "execution_count": 106,
   "metadata": {},
   "outputs": [],
   "source": [
    "# Binary classification using logistics regression\n",
    "start_time5 = time.clock()\n",
    "y_logreg_pet = logreg.predict(X_pet_tf)"
   ]
  },
  {
   "cell_type": "code",
   "execution_count": 107,
   "metadata": {},
   "outputs": [
    {
     "name": "stdout",
     "output_type": "stream",
     "text": [
      "\n",
      "Test set score: 0.5633811159815187\n",
      "Confusion matrix\n",
      "[[4005 4436]\n",
      " [4166 4275]]\n",
      "             precision    recall  f1-score   support\n",
      "\n",
      "          0       0.49      0.47      0.48      8441\n",
      "          1       0.49      0.51      0.50      8441\n",
      "\n",
      "avg / total       0.49      0.49      0.49     16882\n",
      "\n"
     ]
    },
    {
     "data": {
      "image/png": "[encoded data removed]",
      "text/plain": [
       "<Figure size 432x288 with 1 Axes>"
      ]
     },
     "metadata": {},
     "output_type": "display_data"
    },
    {
     "name": "stdout",
     "output_type": "stream",
     "text": [
      "--- 0.4734839466673293 seconds ---\n"
     ]
    }
   ],
   "source": [
    "# Evaluations\n",
    "print('\\nTest set score:', logreg_pet.score(X_pet_tf, Y_pet))\n",
    "\n",
    "#Confusion matrix for logistics regression classifier\n",
    "print('Confusion matrix')\n",
    "print(confusion_matrix(Y_pet, y_logreg_pet))\n",
    "\n",
    "# Classification report \n",
    "print(classification_report(Y_pet, y_logreg_pet))\n",
    "\n",
    "# AUC classifier\n",
    "y_logreg_proba = logreg_pet.predict_proba(X_pet_tf)[::,1]\n",
    "fpr_logreg, tpr_logreg, _ = metrics.roc_curve(Y_pet,  y_logreg_pet)\n",
    "auc_logreg = metrics.roc_auc_score(Y_pet, y_logreg_proba)\n",
    "plt.plot(fpr_logreg,tpr_logreg,label='auc_logreg='+str(auc_logreg))\n",
    "plt.legend(loc=4)\n",
    "plt.show()\n",
    "print(\"--- %s seconds ---\" % (time.clock() - start_time5))"
   ]
  },
  {
   "cell_type": "markdown",
   "metadata": {},
   "source": [
    "# Ridge"
   ]
  },
  {
   "cell_type": "code",
   "execution_count": 114,
   "metadata": {},
   "outputs": [],
   "source": [
    "# Ridge classifier\n",
    "start_time6 = time.clock()\n",
    "y_ridge_pet = ridge.predict(X_pet_tf)"
   ]
  },
  {
   "cell_type": "code",
   "execution_count": 115,
   "metadata": {},
   "outputs": [
    {
     "name": "stdout",
     "output_type": "stream",
     "text": [
      "\n",
      "Test set score: 0.4928918374600166\n",
      "Confusion matrix\n",
      "[[3968 4473]\n",
      " [4088 4353]]\n",
      "             precision    recall  f1-score   support\n",
      "\n",
      "          0       0.49      0.47      0.48      8441\n",
      "          1       0.49      0.52      0.50      8441\n",
      "\n",
      "avg / total       0.49      0.49      0.49     16882\n",
      "\n",
      "--- 0.35272746666669264 seconds ---\n"
     ]
    }
   ],
   "source": [
    "# Evaluations\n",
    "print('\\nTest set score:', ridge.score(X_pet_tf, Y_pet))\n",
    "\n",
    "#Confusion matrix for logistics regression classifier\n",
    "print('Confusion matrix')\n",
    "print(confusion_matrix(Y_pet, y_ridge_pet))\n",
    "\n",
    "# Classification report \n",
    "print(classification_report(Y_pet, y_ridge_pet))\n",
    "print(\"--- %s seconds ---\" % (time.clock() - start_time6))"
   ]
  },
  {
   "cell_type": "markdown",
   "metadata": {},
   "source": [
    "# lasso"
   ]
  },
  {
   "cell_type": "code",
   "execution_count": 122,
   "metadata": {},
   "outputs": [],
   "source": [
    "start_time7 = time.clock()\n",
    "y_lasso_pet = lasso.predict(X_pet_tf)"
   ]
  },
  {
   "cell_type": "code",
   "execution_count": 123,
   "metadata": {},
   "outputs": [
    {
     "name": "stdout",
     "output_type": "stream",
     "text": [
      "\n",
      "Test set score: 0.5017178059471626\n",
      "Confusion matrix\n",
      "[[4448 3993]\n",
      " [4419 4022]]\n",
      "             precision    recall  f1-score   support\n",
      "\n",
      "          0       0.50      0.53      0.51      8441\n",
      "          1       0.50      0.48      0.49      8441\n",
      "\n",
      "avg / total       0.50      0.50      0.50     16882\n",
      "\n"
     ]
    },
    {
     "data": {
      "image/png": "[encoded data removed]",
      "text/plain": [
       "<Figure size 432x288 with 1 Axes>"
      ]
     },
     "metadata": {},
     "output_type": "display_data"
    },
    {
     "name": "stdout",
     "output_type": "stream",
     "text": [
      "--- 0.42797823999899265 seconds ---\n"
     ]
    }
   ],
   "source": [
    "# Evaluations\n",
    "print('\\nTest set score:', lasso.score(X_pet_tf, Y_pet))\n",
    "\n",
    "#Confusion matrix for logistics regression classifier\n",
    "print('Confusion matrix')\n",
    "print(confusion_matrix(Y_pet, y_lasso_pet))\n",
    "\n",
    "# Classification report \n",
    "print(classification_report(Y_pet, y_lasso_pet))\n",
    "\n",
    "# AUC\n",
    "y_lasso_proba = lasso.predict_proba(X_pet_tf)[::,1]\n",
    "fpr_lasso, tpr_lasso, _ = metrics.roc_curve(Y_pet,  y_lasso_pet)\n",
    "auc_lasso = metrics.roc_auc_score(Y_pet, y_lasso_proba)\n",
    "plt.plot(fpr_lasso,tpr_lasso,label='auc_lasso='+str(auc_lasso))\n",
    "plt.legend(loc=4)\n",
    "plt.show()\n",
    "print(\"--- %s seconds ---\" % (time.clock() - start_time7))"
   ]
  },
  {
   "cell_type": "markdown",
   "metadata": {},
   "source": [
    "### Comparison\n",
    "\n",
    "None of the models performed good in all measures when used to predict the new data set. "
   ]
  },
  {
   "cell_type": "markdown",
   "metadata": {},
   "source": [
    "# Conclusion \n",
    "\n",
    "We started with a review dataset of more than 230K entries but, the size was reduced significantly to about 18K mostly due to the need to adjust for computation power. We generated more than 1.7M featues using tf-idf vectorizer which was reduced to only 10K for the same reason. These reductions will have affected the performance of some of the models we used such as decision tree and random forest. This could also be one reason why the models were not able to predict sentiment of the pet supplies data set. \n",
    "\n",
    "But based on the analysis we made, logistics regression models are recommended for sentiment analysis. We can also conclude that a classification model for one category does not work for another. "
   ]
  }
 ],
 "metadata": {
  "kernelspec": {
   "display_name": "Python 3",
   "language": "python",
   "name": "python3"
  },
  "language_info": {
   "codemirror_mode": {
    "name": "ipython",
    "version": 3
   },
   "file_extension": ".py",
   "mimetype": "text/x-python",
   "name": "python",
   "nbconvert_exporter": "python",
   "pygments_lexer": "ipython3",
   "version": "3.6.4"
  }
 },
 "nbformat": 4,
 "nbformat_minor": 2
}
