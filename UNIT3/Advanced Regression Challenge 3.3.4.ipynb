{
 "cells": [
  {
   "cell_type": "code",
   "execution_count": 1,
   "metadata": {},
   "outputs": [
    {
     "name": "stderr",
     "output_type": "stream",
     "text": [
      "C:\\Users\\Omistaja\\Anaconda3\\lib\\site-packages\\statsmodels\\compat\\pandas.py:56: FutureWarning: The pandas.core.datetools module is deprecated and will be removed in a future version. Please use the pandas.tseries module instead.\n",
      "  from pandas.core import datetools\n"
     ]
    }
   ],
   "source": [
    "import pandas as pd\n",
    "from matplotlib import pyplot as plt\n",
    "import numpy as np\n",
    "import math\n",
    "import seaborn as sns\n",
    "import statsmodels.api as sm\n",
    "from sklearn.linear_model import Ridge, Lasso \n",
    "from sklearn.preprocessing import StandardScaler\n",
    "from sklearn.model_selection import train_test_split\n",
    "from sklearn.linear_model import LogisticRegression\n",
    "from sklearn.linear_model import RidgeClassifier\n",
    "from sklearn.model_selection import cross_val_score\n",
    "from sklearn import metrics\n",
    "from yellowbrick.regressor import AlphaSelection\n",
    "from sklearn.linear_model import LassoCV\n",
    "\n",
    "%matplotlib inline\n",
    "sns.set_style('white')"
   ]
  },
  {
   "cell_type": "markdown",
   "metadata": {},
   "source": [
    "This dataset named 'adult' chosen for this assignment and the description can be found in the UCI machine learning repository linked below. \n",
    "\n",
    "The dataset contains 16 columns. The target filed is Income. It is divide into two classes: <=50K and >50K. Using the other variables such as individual’s education level, age, gender, occupation, etc, we will build three different Logistics Regression models (Vanilla, Ridge, Lasso) to estimate the income and compare the models. \n",
    "\n",
    "http://www.cs.toronto.edu/~delve/data/adult/desc.html\n",
    "\n",
    "http://www.cs.toronto.edu/~delve/data/adult/adultDetail.html"
   ]
  },
  {
   "cell_type": "markdown",
   "metadata": {},
   "source": [
    "## Data Exploration and Preparation"
   ]
  },
  {
   "cell_type": "code",
   "execution_count": 2,
   "metadata": {},
   "outputs": [
    {
     "data": {
      "text/html": [
       "<div>\n",
       "<style scoped>\n",
       "    .dataframe tbody tr th:only-of-type {\n",
       "        vertical-align: middle;\n",
       "    }\n",
       "\n",
       "    .dataframe tbody tr th {\n",
       "        vertical-align: top;\n",
       "    }\n",
       "\n",
       "    .dataframe thead th {\n",
       "        text-align: right;\n",
       "    }\n",
       "</style>\n",
       "<table border=\"1\" class=\"dataframe\">\n",
       "  <thead>\n",
       "    <tr style=\"text-align: right;\">\n",
       "      <th></th>\n",
       "      <th>age</th>\n",
       "      <th>workclass</th>\n",
       "      <th>fnlwgt</th>\n",
       "      <th>education</th>\n",
       "      <th>educational-num</th>\n",
       "      <th>marital-status</th>\n",
       "      <th>occupation</th>\n",
       "      <th>relationship</th>\n",
       "      <th>race</th>\n",
       "      <th>gender</th>\n",
       "      <th>capital-gain</th>\n",
       "      <th>capital-loss</th>\n",
       "      <th>hours-per-week</th>\n",
       "      <th>native-country</th>\n",
       "      <th>income</th>\n",
       "    </tr>\n",
       "  </thead>\n",
       "  <tbody>\n",
       "    <tr>\n",
       "      <th>0</th>\n",
       "      <td>25</td>\n",
       "      <td>Private</td>\n",
       "      <td>226802</td>\n",
       "      <td>11th</td>\n",
       "      <td>7</td>\n",
       "      <td>Never-married</td>\n",
       "      <td>Machine-op-inspct</td>\n",
       "      <td>Own-child</td>\n",
       "      <td>Black</td>\n",
       "      <td>Male</td>\n",
       "      <td>0</td>\n",
       "      <td>0</td>\n",
       "      <td>40</td>\n",
       "      <td>United-States</td>\n",
       "      <td>&lt;=50K</td>\n",
       "    </tr>\n",
       "    <tr>\n",
       "      <th>1</th>\n",
       "      <td>38</td>\n",
       "      <td>Private</td>\n",
       "      <td>89814</td>\n",
       "      <td>HS-grad</td>\n",
       "      <td>9</td>\n",
       "      <td>Married-civ-spouse</td>\n",
       "      <td>Farming-fishing</td>\n",
       "      <td>Husband</td>\n",
       "      <td>White</td>\n",
       "      <td>Male</td>\n",
       "      <td>0</td>\n",
       "      <td>0</td>\n",
       "      <td>50</td>\n",
       "      <td>United-States</td>\n",
       "      <td>&lt;=50K</td>\n",
       "    </tr>\n",
       "    <tr>\n",
       "      <th>2</th>\n",
       "      <td>28</td>\n",
       "      <td>Local-gov</td>\n",
       "      <td>336951</td>\n",
       "      <td>Assoc-acdm</td>\n",
       "      <td>12</td>\n",
       "      <td>Married-civ-spouse</td>\n",
       "      <td>Protective-serv</td>\n",
       "      <td>Husband</td>\n",
       "      <td>White</td>\n",
       "      <td>Male</td>\n",
       "      <td>0</td>\n",
       "      <td>0</td>\n",
       "      <td>40</td>\n",
       "      <td>United-States</td>\n",
       "      <td>&gt;50K</td>\n",
       "    </tr>\n",
       "    <tr>\n",
       "      <th>3</th>\n",
       "      <td>44</td>\n",
       "      <td>Private</td>\n",
       "      <td>160323</td>\n",
       "      <td>Some-college</td>\n",
       "      <td>10</td>\n",
       "      <td>Married-civ-spouse</td>\n",
       "      <td>Machine-op-inspct</td>\n",
       "      <td>Husband</td>\n",
       "      <td>Black</td>\n",
       "      <td>Male</td>\n",
       "      <td>7688</td>\n",
       "      <td>0</td>\n",
       "      <td>40</td>\n",
       "      <td>United-States</td>\n",
       "      <td>&gt;50K</td>\n",
       "    </tr>\n",
       "    <tr>\n",
       "      <th>4</th>\n",
       "      <td>18</td>\n",
       "      <td>?</td>\n",
       "      <td>103497</td>\n",
       "      <td>Some-college</td>\n",
       "      <td>10</td>\n",
       "      <td>Never-married</td>\n",
       "      <td>?</td>\n",
       "      <td>Own-child</td>\n",
       "      <td>White</td>\n",
       "      <td>Female</td>\n",
       "      <td>0</td>\n",
       "      <td>0</td>\n",
       "      <td>30</td>\n",
       "      <td>United-States</td>\n",
       "      <td>&lt;=50K</td>\n",
       "    </tr>\n",
       "  </tbody>\n",
       "</table>\n",
       "</div>"
      ],
      "text/plain": [
       "   age  workclass  fnlwgt     education  educational-num      marital-status  \\\n",
       "0   25    Private  226802          11th                7       Never-married   \n",
       "1   38    Private   89814       HS-grad                9  Married-civ-spouse   \n",
       "2   28  Local-gov  336951    Assoc-acdm               12  Married-civ-spouse   \n",
       "3   44    Private  160323  Some-college               10  Married-civ-spouse   \n",
       "4   18          ?  103497  Some-college               10       Never-married   \n",
       "\n",
       "          occupation relationship   race  gender  capital-gain  capital-loss  \\\n",
       "0  Machine-op-inspct    Own-child  Black    Male             0             0   \n",
       "1    Farming-fishing      Husband  White    Male             0             0   \n",
       "2    Protective-serv      Husband  White    Male             0             0   \n",
       "3  Machine-op-inspct      Husband  Black    Male          7688             0   \n",
       "4                  ?    Own-child  White  Female             0             0   \n",
       "\n",
       "   hours-per-week native-country income  \n",
       "0              40  United-States  <=50K  \n",
       "1              50  United-States  <=50K  \n",
       "2              40  United-States   >50K  \n",
       "3              40  United-States   >50K  \n",
       "4              30  United-States  <=50K  "
      ]
     },
     "execution_count": 2,
     "metadata": {},
     "output_type": "execute_result"
    }
   ],
   "source": [
    "adult = pd.read_csv('adult.csv')#, header=0)\n",
    "adult.head()\n"
   ]
  },
  {
   "cell_type": "code",
   "execution_count": 3,
   "metadata": {},
   "outputs": [],
   "source": [
    "adult.columns = ['Age', 'Work_class', 'Final_weight', 'Education', 'Education_num', 'Marital_status', 'Occupation', 'Relationship', 'Race',\n",
    "              'Sex', 'Capital_gain', 'Capital_loss', 'Hours_per_week', 'Native_country', 'Income_group']"
   ]
  },
  {
   "cell_type": "code",
   "execution_count": 4,
   "metadata": {},
   "outputs": [],
   "source": [
    "# Represent the dependent variable with binary digits\n",
    "adult['Income_group'] = adult.Income_group.str.replace('<=50K','0')\n",
    "adult['Income_group'] = adult.Income_group.str.replace('>50K','1')"
   ]
  },
  {
   "cell_type": "code",
   "execution_count": 5,
   "metadata": {
    "scrolled": true
   },
   "outputs": [
    {
     "data": {
      "text/html": [
       "<div>\n",
       "<style scoped>\n",
       "    .dataframe tbody tr th:only-of-type {\n",
       "        vertical-align: middle;\n",
       "    }\n",
       "\n",
       "    .dataframe tbody tr th {\n",
       "        vertical-align: top;\n",
       "    }\n",
       "\n",
       "    .dataframe thead th {\n",
       "        text-align: right;\n",
       "    }\n",
       "</style>\n",
       "<table border=\"1\" class=\"dataframe\">\n",
       "  <thead>\n",
       "    <tr style=\"text-align: right;\">\n",
       "      <th></th>\n",
       "      <th>Age</th>\n",
       "      <th>Work_class</th>\n",
       "      <th>Final_weight</th>\n",
       "      <th>Education</th>\n",
       "      <th>Education_num</th>\n",
       "      <th>Marital_status</th>\n",
       "      <th>Occupation</th>\n",
       "      <th>Relationship</th>\n",
       "      <th>Race</th>\n",
       "      <th>Sex</th>\n",
       "      <th>Capital_gain</th>\n",
       "      <th>Capital_loss</th>\n",
       "      <th>Hours_per_week</th>\n",
       "      <th>Native_country</th>\n",
       "      <th>Income_group</th>\n",
       "    </tr>\n",
       "  </thead>\n",
       "  <tbody>\n",
       "    <tr>\n",
       "      <th>0</th>\n",
       "      <td>25</td>\n",
       "      <td>Private</td>\n",
       "      <td>226802</td>\n",
       "      <td>11th</td>\n",
       "      <td>7</td>\n",
       "      <td>Never-married</td>\n",
       "      <td>Machine-op-inspct</td>\n",
       "      <td>Own-child</td>\n",
       "      <td>Black</td>\n",
       "      <td>Male</td>\n",
       "      <td>0</td>\n",
       "      <td>0</td>\n",
       "      <td>40</td>\n",
       "      <td>United-States</td>\n",
       "      <td>0</td>\n",
       "    </tr>\n",
       "    <tr>\n",
       "      <th>1</th>\n",
       "      <td>38</td>\n",
       "      <td>Private</td>\n",
       "      <td>89814</td>\n",
       "      <td>HS-grad</td>\n",
       "      <td>9</td>\n",
       "      <td>Married-civ-spouse</td>\n",
       "      <td>Farming-fishing</td>\n",
       "      <td>Husband</td>\n",
       "      <td>White</td>\n",
       "      <td>Male</td>\n",
       "      <td>0</td>\n",
       "      <td>0</td>\n",
       "      <td>50</td>\n",
       "      <td>United-States</td>\n",
       "      <td>0</td>\n",
       "    </tr>\n",
       "    <tr>\n",
       "      <th>2</th>\n",
       "      <td>28</td>\n",
       "      <td>Local-gov</td>\n",
       "      <td>336951</td>\n",
       "      <td>Assoc-acdm</td>\n",
       "      <td>12</td>\n",
       "      <td>Married-civ-spouse</td>\n",
       "      <td>Protective-serv</td>\n",
       "      <td>Husband</td>\n",
       "      <td>White</td>\n",
       "      <td>Male</td>\n",
       "      <td>0</td>\n",
       "      <td>0</td>\n",
       "      <td>40</td>\n",
       "      <td>United-States</td>\n",
       "      <td>1</td>\n",
       "    </tr>\n",
       "    <tr>\n",
       "      <th>3</th>\n",
       "      <td>44</td>\n",
       "      <td>Private</td>\n",
       "      <td>160323</td>\n",
       "      <td>Some-college</td>\n",
       "      <td>10</td>\n",
       "      <td>Married-civ-spouse</td>\n",
       "      <td>Machine-op-inspct</td>\n",
       "      <td>Husband</td>\n",
       "      <td>Black</td>\n",
       "      <td>Male</td>\n",
       "      <td>7688</td>\n",
       "      <td>0</td>\n",
       "      <td>40</td>\n",
       "      <td>United-States</td>\n",
       "      <td>1</td>\n",
       "    </tr>\n",
       "    <tr>\n",
       "      <th>4</th>\n",
       "      <td>18</td>\n",
       "      <td>?</td>\n",
       "      <td>103497</td>\n",
       "      <td>Some-college</td>\n",
       "      <td>10</td>\n",
       "      <td>Never-married</td>\n",
       "      <td>?</td>\n",
       "      <td>Own-child</td>\n",
       "      <td>White</td>\n",
       "      <td>Female</td>\n",
       "      <td>0</td>\n",
       "      <td>0</td>\n",
       "      <td>30</td>\n",
       "      <td>United-States</td>\n",
       "      <td>0</td>\n",
       "    </tr>\n",
       "  </tbody>\n",
       "</table>\n",
       "</div>"
      ],
      "text/plain": [
       "   Age Work_class  Final_weight     Education  Education_num  \\\n",
       "0   25    Private        226802          11th              7   \n",
       "1   38    Private         89814       HS-grad              9   \n",
       "2   28  Local-gov        336951    Assoc-acdm             12   \n",
       "3   44    Private        160323  Some-college             10   \n",
       "4   18          ?        103497  Some-college             10   \n",
       "\n",
       "       Marital_status         Occupation Relationship   Race     Sex  \\\n",
       "0       Never-married  Machine-op-inspct    Own-child  Black    Male   \n",
       "1  Married-civ-spouse    Farming-fishing      Husband  White    Male   \n",
       "2  Married-civ-spouse    Protective-serv      Husband  White    Male   \n",
       "3  Married-civ-spouse  Machine-op-inspct      Husband  Black    Male   \n",
       "4       Never-married                  ?    Own-child  White  Female   \n",
       "\n",
       "   Capital_gain  Capital_loss  Hours_per_week Native_country Income_group  \n",
       "0             0             0              40  United-States            0  \n",
       "1             0             0              50  United-States            0  \n",
       "2             0             0              40  United-States            1  \n",
       "3          7688             0              40  United-States            1  \n",
       "4             0             0              30  United-States            0  "
      ]
     },
     "execution_count": 5,
     "metadata": {},
     "output_type": "execute_result"
    }
   ],
   "source": [
    "adult.head()"
   ]
  },
  {
   "cell_type": "code",
   "execution_count": 6,
   "metadata": {
    "scrolled": true
   },
   "outputs": [
    {
     "data": {
      "text/plain": [
       "0    37155\n",
       "1    11687\n",
       "Name: Income_group, dtype: int64"
      ]
     },
     "execution_count": 6,
     "metadata": {},
     "output_type": "execute_result"
    }
   ],
   "source": [
    "adult['Income_group'].value_counts()"
   ]
  },
  {
   "cell_type": "code",
   "execution_count": 7,
   "metadata": {
    "scrolled": false
   },
   "outputs": [
    {
     "data": {
      "image/png": "[encoded data removed]",
      "text/plain": [
       "<Figure size 432x288 with 1 Axes>"
      ]
     },
     "metadata": {},
     "output_type": "display_data"
    }
   ],
   "source": [
    "sns.countplot(x='Income_group', data=adult, palette='hls')\n",
    "plt.show()"
   ]
  },
  {
   "cell_type": "markdown",
   "metadata": {},
   "source": [
    "There are 37, 155 people who earn 50K or less per year and 11, 687 who earn more than 50K."
   ]
  },
  {
   "cell_type": "code",
   "execution_count": 8,
   "metadata": {},
   "outputs": [
    {
     "data": {
      "text/html": [
       "<div>\n",
       "<style scoped>\n",
       "    .dataframe tbody tr th:only-of-type {\n",
       "        vertical-align: middle;\n",
       "    }\n",
       "\n",
       "    .dataframe tbody tr th {\n",
       "        vertical-align: top;\n",
       "    }\n",
       "\n",
       "    .dataframe thead th {\n",
       "        text-align: right;\n",
       "    }\n",
       "</style>\n",
       "<table border=\"1\" class=\"dataframe\">\n",
       "  <thead>\n",
       "    <tr style=\"text-align: right;\">\n",
       "      <th></th>\n",
       "      <th>Age</th>\n",
       "      <th>Final_weight</th>\n",
       "      <th>Education_num</th>\n",
       "      <th>Capital_gain</th>\n",
       "      <th>Capital_loss</th>\n",
       "      <th>Hours_per_week</th>\n",
       "    </tr>\n",
       "    <tr>\n",
       "      <th>Income_group</th>\n",
       "      <th></th>\n",
       "      <th></th>\n",
       "      <th></th>\n",
       "      <th></th>\n",
       "      <th></th>\n",
       "      <th></th>\n",
       "    </tr>\n",
       "  </thead>\n",
       "  <tbody>\n",
       "    <tr>\n",
       "      <th>0</th>\n",
       "      <td>36.872184</td>\n",
       "      <td>190039.565523</td>\n",
       "      <td>9.598493</td>\n",
       "      <td>147.010308</td>\n",
       "      <td>54.151931</td>\n",
       "      <td>38.840048</td>\n",
       "    </tr>\n",
       "    <tr>\n",
       "      <th>1</th>\n",
       "      <td>44.275178</td>\n",
       "      <td>188470.574570</td>\n",
       "      <td>11.602807</td>\n",
       "      <td>4042.239497</td>\n",
       "      <td>193.528964</td>\n",
       "      <td>45.452896</td>\n",
       "    </tr>\n",
       "  </tbody>\n",
       "</table>\n",
       "</div>"
      ],
      "text/plain": [
       "                    Age   Final_weight  Education_num  Capital_gain  \\\n",
       "Income_group                                                          \n",
       "0             36.872184  190039.565523       9.598493    147.010308   \n",
       "1             44.275178  188470.574570      11.602807   4042.239497   \n",
       "\n",
       "              Capital_loss  Hours_per_week  \n",
       "Income_group                                \n",
       "0                54.151931       38.840048  \n",
       "1               193.528964       45.452896  "
      ]
     },
     "execution_count": 8,
     "metadata": {},
     "output_type": "execute_result"
    }
   ],
   "source": [
    "adult.groupby('Income_group').mean()"
   ]
  },
  {
   "cell_type": "markdown",
   "metadata": {},
   "source": [
    "The continious variables above show variability for the two income groups and hence look good predictors of the outcome variable. "
   ]
  },
  {
   "cell_type": "markdown",
   "metadata": {},
   "source": [
    "The data seems to have no missing values at first sight but a closer look at some of the columns reveals that some values are represented with the symbol '?'"
   ]
  },
  {
   "cell_type": "code",
   "execution_count": 9,
   "metadata": {},
   "outputs": [
    {
     "data": {
      "text/plain": [
       "Age               0\n",
       "Work_class        0\n",
       "Final_weight      0\n",
       "Education         0\n",
       "Education_num     0\n",
       "Marital_status    0\n",
       "Occupation        0\n",
       "Relationship      0\n",
       "Race              0\n",
       "Sex               0\n",
       "Capital_gain      0\n",
       "Capital_loss      0\n",
       "Hours_per_week    0\n",
       "Native_country    0\n",
       "Income_group      0\n",
       "dtype: int64"
      ]
     },
     "execution_count": 9,
     "metadata": {},
     "output_type": "execute_result"
    }
   ],
   "source": [
    "adult.isnull().sum() # no NaN values"
   ]
  },
  {
   "cell_type": "code",
   "execution_count": 10,
   "metadata": {},
   "outputs": [
    {
     "data": {
      "text/plain": [
       "array(['Private', 'Local-gov', '?', 'Self-emp-not-inc', 'Federal-gov',\n",
       "       'State-gov', 'Self-emp-inc', 'Without-pay', 'Never-worked'],\n",
       "      dtype=object)"
      ]
     },
     "execution_count": 10,
     "metadata": {},
     "output_type": "execute_result"
    }
   ],
   "source": [
    "# Missing values are represented with '?' \n",
    "adult['Work_class'].unique() "
   ]
  },
  {
   "cell_type": "code",
   "execution_count": 11,
   "metadata": {},
   "outputs": [],
   "source": [
    "# Replace missing values with NaN\n",
    "adult = adult.replace('?', np.nan)"
   ]
  },
  {
   "cell_type": "code",
   "execution_count": 12,
   "metadata": {},
   "outputs": [
    {
     "data": {
      "text/plain": [
       "Age                  0\n",
       "Work_class        2799\n",
       "Final_weight         0\n",
       "Education            0\n",
       "Education_num        0\n",
       "Marital_status       0\n",
       "Occupation        2809\n",
       "Relationship         0\n",
       "Race                 0\n",
       "Sex                  0\n",
       "Capital_gain         0\n",
       "Capital_loss         0\n",
       "Hours_per_week       0\n",
       "Native_country     857\n",
       "Income_group         0\n",
       "dtype: int64"
      ]
     },
     "execution_count": 12,
     "metadata": {},
     "output_type": "execute_result"
    }
   ],
   "source": [
    "# Now we can see and deal with Nan values in the dataframe \n",
    "adult.isnull().sum()"
   ]
  },
  {
   "cell_type": "code",
   "execution_count": 13,
   "metadata": {},
   "outputs": [],
   "source": [
    "#Let's go ahead and drop the NaN values \n",
    "adult = adult.dropna()"
   ]
  },
  {
   "cell_type": "markdown",
   "metadata": {},
   "source": [
    "Some of the categorical variables have many closely defined categories. let's examine them and group them for a better modeling. "
   ]
  },
  {
   "cell_type": "code",
   "execution_count": 14,
   "metadata": {},
   "outputs": [
    {
     "data": {
      "text/plain": [
       "array(['Private', 'Local-gov', 'Self-emp-not-inc', 'Federal-gov',\n",
       "       'State-gov', 'Self-emp-inc', 'Without-pay'], dtype=object)"
      ]
     },
     "execution_count": 14,
     "metadata": {},
     "output_type": "execute_result"
    }
   ],
   "source": [
    "#Examine categories \n",
    "adult['Work_class'].unique() "
   ]
  },
  {
   "cell_type": "markdown",
   "metadata": {},
   "source": [
    "Let's group Loval-gov, Federal-gov, and State-gov together as gov, Self-emp-not-inc, and 'Self-emp-inc' as 'Self_employed"
   ]
  },
  {
   "cell_type": "code",
   "execution_count": 15,
   "metadata": {},
   "outputs": [],
   "source": [
    "# Combine similar categories \n",
    "adult['Work_class']=np.where(adult['Work_class'] =='Local-gov', 'Gov', adult['Work_class'])\n",
    "adult['Work_class']=np.where(adult['Work_class'] =='Federal-gov', 'Gov', adult['Work_class'])\n",
    "adult['Work_class']=np.where(adult['Work_class'] =='State-gov', 'Gov', adult['Work_class'])\n",
    "adult['Work_class']=np.where(adult['Work_class'] =='Self-emp-not-inc', 'Self_employed', adult['Work_class'])\n",
    "adult['Work_class']=np.where(adult['Work_class'] =='Self-emp-inc', 'Self_employed', adult['Work_class'])\n"
   ]
  },
  {
   "cell_type": "markdown",
   "metadata": {},
   "source": [
    "Do the same for Education catgories. Group pre high school levels together as 'Some-school'. \n",
    "\n",
    "Education level is a good variable to predict our outcome variable. "
   ]
  },
  {
   "cell_type": "code",
   "execution_count": 16,
   "metadata": {},
   "outputs": [
    {
     "data": {
      "text/plain": [
       "array(['11th', 'HS-grad', 'Assoc-acdm', 'Some-college', '10th',\n",
       "       'Prof-school', '7th-8th', 'Bachelors', 'Masters', '5th-6th',\n",
       "       'Assoc-voc', '9th', 'Doctorate', '12th', '1st-4th', 'Preschool'],\n",
       "      dtype=object)"
      ]
     },
     "execution_count": 16,
     "metadata": {},
     "output_type": "execute_result"
    }
   ],
   "source": [
    "# Chech categories \n",
    "adult['Education'].unique()"
   ]
  },
  {
   "cell_type": "code",
   "execution_count": 17,
   "metadata": {},
   "outputs": [],
   "source": [
    "#Combine similar categories \n",
    "adult['Education']=np.where(adult['Education'] == '11th', 'Some-school', adult['Education'])\n",
    "adult['Education']=np.where(adult['Education'] == '10th', 'Some-school', adult['Education'])\n",
    "adult['Education']=np.where(adult['Education'] == '7th-8th', 'Some-school', adult['Education'])\n",
    "adult['Education']=np.where(adult['Education'] == '5th-6th', 'Some-school', adult['Education'])\n",
    "adult['Education']=np.where(adult['Education'] == '9th', 'Some-school', adult['Education'])\n",
    "adult['Education']=np.where(adult['Education'] == '12th', 'Some-school', adult['Education'])\n",
    "adult['Education']=np.where(adult['Education'] == '1st-4th', 'Some-school', adult['Education'])\n",
    "adult['Education']=np.where(adult['Education'] == 'Preschool', 'Some-school', adult['Education'])"
   ]
  },
  {
   "cell_type": "code",
   "execution_count": 18,
   "metadata": {},
   "outputs": [
    {
     "data": {
      "image/png": "[encoded data removed]",
      "text/plain": [
       "<Figure size 720x432 with 1 Axes>"
      ]
     },
     "metadata": {},
     "output_type": "display_data"
    }
   ],
   "source": [
    "# Visulaize the role of education on income level\n",
    "pd.crosstab(adult.Education,adult.Income_group).plot(kind='bar', figsize=(10,6))\n",
    "plt.title('Effect of Education level on income level')\n",
    "plt.xlabel('Education')\n",
    "plt.ylabel('Frequency')\n",
    "plt.show()"
   ]
  },
  {
   "cell_type": "markdown",
   "metadata": {},
   "source": [
    "'Husband' and 'Wife' can be grouped as 'Married'"
   ]
  },
  {
   "cell_type": "code",
   "execution_count": 19,
   "metadata": {},
   "outputs": [
    {
     "data": {
      "text/plain": [
       "array(['Own-child', 'Husband', 'Not-in-family', 'Unmarried', 'Wife',\n",
       "       'Other-relative'], dtype=object)"
      ]
     },
     "execution_count": 19,
     "metadata": {},
     "output_type": "execute_result"
    }
   ],
   "source": [
    "# Check categories\n",
    "adult['Relationship'].unique()"
   ]
  },
  {
   "cell_type": "code",
   "execution_count": 20,
   "metadata": {},
   "outputs": [],
   "source": [
    "#Combine 'Husband' and 'Wife' as 'Married'. \n",
    "adult['Relationship']=np.where(adult['Relationship'] == 'Husband', 'Married', adult['Relationship'])\n",
    "adult['Relationship']=np.where(adult['Relationship'] == 'Wife', 'Married', adult['Relationship'])"
   ]
  },
  {
   "cell_type": "markdown",
   "metadata": {},
   "source": [
    "The Native Country category has a lot of countries in it. We can reduce it by grouping them based on their geo-economic locations. We expect the income levels in US and Canada to be higher than the rest of their geographic nighbours and as a result we will group them separately. The same argument applies to East and West European countries. "
   ]
  },
  {
   "cell_type": "code",
   "execution_count": 21,
   "metadata": {},
   "outputs": [
    {
     "data": {
      "text/plain": [
       "array(['United-States', 'Peru', 'Guatemala', 'Mexico',\n",
       "       'Dominican-Republic', 'Ireland', 'Germany', 'Philippines',\n",
       "       'Thailand', 'Haiti', 'El-Salvador', 'Puerto-Rico', 'Vietnam',\n",
       "       'South', 'Columbia', 'Japan', 'India', 'Cambodia', 'Poland',\n",
       "       'Laos', 'England', 'Cuba', 'Taiwan', 'Italy', 'Canada', 'Portugal',\n",
       "       'China', 'Nicaragua', 'Honduras', 'Iran', 'Scotland', 'Jamaica',\n",
       "       'Ecuador', 'Yugoslavia', 'Hungary', 'Hong', 'Greece',\n",
       "       'Trinadad&Tobago', 'Outlying-US(Guam-USVI-etc)', 'France',\n",
       "       'Holand-Netherlands'], dtype=object)"
      ]
     },
     "execution_count": 21,
     "metadata": {},
     "output_type": "execute_result"
    }
   ],
   "source": [
    "adult['Native_country'].unique()"
   ]
  },
  {
   "cell_type": "code",
   "execution_count": 22,
   "metadata": {},
   "outputs": [],
   "source": [
    "adult['Native_country'] = adult['Native_country'].replace(['United-States', 'Canada'], 'North-America')\n",
    "adult['Native_country'] = adult['Native_country'].replace(['Peru','Columbia', 'Ecuador', 'Cuba', 'Dominican-Republic', 'El-Salvador', 'Guatemala',\n",
    "                   'Haiti', 'Honduras', 'Jamaica', 'Mexico', 'Nicaragua',\n",
    "                   'Outlying-US(Guam-USVI-etc)', 'Puerto-Rico', 'Trinadad&Tobago'], 'Other-Americas')\n",
    "adult['Native_country'] = adult['Native_country'].replace(['Hungary', 'Poland', 'Yugoslavia'], 'East-Europe')\n",
    "adult['Native_country'] = adult['Native_country'].replace(['England', 'France', 'Germany', 'Holand-Netherlands', 'Greece', 'Ireland', 'Italy','Portugal','Scotland'], 'West-Europe')\n",
    "adult['Native_country'] = adult['Native_country'].replace(['Philippines', 'Thailand', 'Vietnam', 'Japan', 'India', 'Cambodia','Laos', 'Taiwan', 'China',\n",
    "                                                           'Iran', 'Hong'])\n",
    "adult['Native_country'] = adult['Native_country'].replace('South', 'Other')"
   ]
  },
  {
   "cell_type": "markdown",
   "metadata": {},
   "source": [
    "There is a difference in income levels of each region and hence it is a good predictor of our outcome variable. "
   ]
  },
  {
   "cell_type": "code",
   "execution_count": 23,
   "metadata": {
    "scrolled": true
   },
   "outputs": [
    {
     "data": {
      "image/png": "[encoded data removed]",
      "text/plain": [
       "<Figure size 576x432 with 1 Axes>"
      ]
     },
     "metadata": {},
     "output_type": "display_data"
    }
   ],
   "source": [
    "# Visulaize the role of education on income level\n",
    "pd.crosstab(adult.Native_country,adult.Income_group).plot(kind='bar', figsize=(8,6))\n",
    "plt.title('Effect of Geographic region on income level')\n",
    "plt.xlabel('Region')\n",
    "plt.ylabel('Frequency')\n",
    "plt.show()"
   ]
  },
  {
   "cell_type": "markdown",
   "metadata": {},
   "source": [
    "### Create Dummy Variables"
   ]
  },
  {
   "cell_type": "code",
   "execution_count": 24,
   "metadata": {
    "scrolled": true
   },
   "outputs": [
    {
     "data": {
      "text/html": [
       "<div>\n",
       "<style scoped>\n",
       "    .dataframe tbody tr th:only-of-type {\n",
       "        vertical-align: middle;\n",
       "    }\n",
       "\n",
       "    .dataframe tbody tr th {\n",
       "        vertical-align: top;\n",
       "    }\n",
       "\n",
       "    .dataframe thead th {\n",
       "        text-align: right;\n",
       "    }\n",
       "</style>\n",
       "<table border=\"1\" class=\"dataframe\">\n",
       "  <thead>\n",
       "    <tr style=\"text-align: right;\">\n",
       "      <th></th>\n",
       "      <th>Age</th>\n",
       "      <th>Final_weight</th>\n",
       "      <th>Education_num</th>\n",
       "      <th>Capital_gain</th>\n",
       "      <th>Capital_loss</th>\n",
       "      <th>Hours_per_week</th>\n",
       "      <th>Work_class_Gov</th>\n",
       "      <th>Work_class_Private</th>\n",
       "      <th>Work_class_Self_employed</th>\n",
       "      <th>Work_class_Without-pay</th>\n",
       "      <th>...</th>\n",
       "      <th>Race_White</th>\n",
       "      <th>Sex_Female</th>\n",
       "      <th>Sex_Male</th>\n",
       "      <th>Native_country_East-Europe</th>\n",
       "      <th>Native_country_North-America</th>\n",
       "      <th>Native_country_Other</th>\n",
       "      <th>Native_country_Other-Americas</th>\n",
       "      <th>Native_country_West-Europe</th>\n",
       "      <th>Income_group_0</th>\n",
       "      <th>Income_group_1</th>\n",
       "    </tr>\n",
       "  </thead>\n",
       "  <tbody>\n",
       "    <tr>\n",
       "      <th>0</th>\n",
       "      <td>25</td>\n",
       "      <td>226802</td>\n",
       "      <td>7</td>\n",
       "      <td>0</td>\n",
       "      <td>0</td>\n",
       "      <td>40</td>\n",
       "      <td>0</td>\n",
       "      <td>1</td>\n",
       "      <td>0</td>\n",
       "      <td>0</td>\n",
       "      <td>...</td>\n",
       "      <td>0</td>\n",
       "      <td>0</td>\n",
       "      <td>1</td>\n",
       "      <td>0</td>\n",
       "      <td>1</td>\n",
       "      <td>0</td>\n",
       "      <td>0</td>\n",
       "      <td>0</td>\n",
       "      <td>1</td>\n",
       "      <td>0</td>\n",
       "    </tr>\n",
       "    <tr>\n",
       "      <th>1</th>\n",
       "      <td>38</td>\n",
       "      <td>89814</td>\n",
       "      <td>9</td>\n",
       "      <td>0</td>\n",
       "      <td>0</td>\n",
       "      <td>50</td>\n",
       "      <td>0</td>\n",
       "      <td>1</td>\n",
       "      <td>0</td>\n",
       "      <td>0</td>\n",
       "      <td>...</td>\n",
       "      <td>1</td>\n",
       "      <td>0</td>\n",
       "      <td>1</td>\n",
       "      <td>0</td>\n",
       "      <td>1</td>\n",
       "      <td>0</td>\n",
       "      <td>0</td>\n",
       "      <td>0</td>\n",
       "      <td>1</td>\n",
       "      <td>0</td>\n",
       "    </tr>\n",
       "    <tr>\n",
       "      <th>2</th>\n",
       "      <td>28</td>\n",
       "      <td>336951</td>\n",
       "      <td>12</td>\n",
       "      <td>0</td>\n",
       "      <td>0</td>\n",
       "      <td>40</td>\n",
       "      <td>1</td>\n",
       "      <td>0</td>\n",
       "      <td>0</td>\n",
       "      <td>0</td>\n",
       "      <td>...</td>\n",
       "      <td>1</td>\n",
       "      <td>0</td>\n",
       "      <td>1</td>\n",
       "      <td>0</td>\n",
       "      <td>1</td>\n",
       "      <td>0</td>\n",
       "      <td>0</td>\n",
       "      <td>0</td>\n",
       "      <td>0</td>\n",
       "      <td>1</td>\n",
       "    </tr>\n",
       "    <tr>\n",
       "      <th>3</th>\n",
       "      <td>44</td>\n",
       "      <td>160323</td>\n",
       "      <td>10</td>\n",
       "      <td>7688</td>\n",
       "      <td>0</td>\n",
       "      <td>40</td>\n",
       "      <td>0</td>\n",
       "      <td>1</td>\n",
       "      <td>0</td>\n",
       "      <td>0</td>\n",
       "      <td>...</td>\n",
       "      <td>0</td>\n",
       "      <td>0</td>\n",
       "      <td>1</td>\n",
       "      <td>0</td>\n",
       "      <td>1</td>\n",
       "      <td>0</td>\n",
       "      <td>0</td>\n",
       "      <td>0</td>\n",
       "      <td>0</td>\n",
       "      <td>1</td>\n",
       "    </tr>\n",
       "    <tr>\n",
       "      <th>5</th>\n",
       "      <td>34</td>\n",
       "      <td>198693</td>\n",
       "      <td>6</td>\n",
       "      <td>0</td>\n",
       "      <td>0</td>\n",
       "      <td>30</td>\n",
       "      <td>0</td>\n",
       "      <td>1</td>\n",
       "      <td>0</td>\n",
       "      <td>0</td>\n",
       "      <td>...</td>\n",
       "      <td>1</td>\n",
       "      <td>0</td>\n",
       "      <td>1</td>\n",
       "      <td>0</td>\n",
       "      <td>1</td>\n",
       "      <td>0</td>\n",
       "      <td>0</td>\n",
       "      <td>0</td>\n",
       "      <td>1</td>\n",
       "      <td>0</td>\n",
       "    </tr>\n",
       "  </tbody>\n",
       "</table>\n",
       "<p>5 rows × 59 columns</p>\n",
       "</div>"
      ],
      "text/plain": [
       "   Age  Final_weight  Education_num  Capital_gain  Capital_loss  \\\n",
       "0   25        226802              7             0             0   \n",
       "1   38         89814              9             0             0   \n",
       "2   28        336951             12             0             0   \n",
       "3   44        160323             10          7688             0   \n",
       "5   34        198693              6             0             0   \n",
       "\n",
       "   Hours_per_week  Work_class_Gov  Work_class_Private  \\\n",
       "0              40               0                   1   \n",
       "1              50               0                   1   \n",
       "2              40               1                   0   \n",
       "3              40               0                   1   \n",
       "5              30               0                   1   \n",
       "\n",
       "   Work_class_Self_employed  Work_class_Without-pay       ...        \\\n",
       "0                         0                       0       ...         \n",
       "1                         0                       0       ...         \n",
       "2                         0                       0       ...         \n",
       "3                         0                       0       ...         \n",
       "5                         0                       0       ...         \n",
       "\n",
       "   Race_White  Sex_Female  Sex_Male  Native_country_East-Europe  \\\n",
       "0           0           0         1                           0   \n",
       "1           1           0         1                           0   \n",
       "2           1           0         1                           0   \n",
       "3           0           0         1                           0   \n",
       "5           1           0         1                           0   \n",
       "\n",
       "   Native_country_North-America  Native_country_Other  \\\n",
       "0                             1                     0   \n",
       "1                             1                     0   \n",
       "2                             1                     0   \n",
       "3                             1                     0   \n",
       "5                             1                     0   \n",
       "\n",
       "   Native_country_Other-Americas  Native_country_West-Europe  Income_group_0  \\\n",
       "0                              0                           0               1   \n",
       "1                              0                           0               1   \n",
       "2                              0                           0               0   \n",
       "3                              0                           0               0   \n",
       "5                              0                           0               1   \n",
       "\n",
       "   Income_group_1  \n",
       "0               0  \n",
       "1               0  \n",
       "2               1  \n",
       "3               1  \n",
       "5               0  \n",
       "\n",
       "[5 rows x 59 columns]"
      ]
     },
     "execution_count": 24,
     "metadata": {},
     "output_type": "execute_result"
    }
   ],
   "source": [
    "# Get dummies for catagorical variables \n",
    "pd.get_dummies(adult).head()"
   ]
  },
  {
   "cell_type": "code",
   "execution_count": 25,
   "metadata": {},
   "outputs": [],
   "source": [
    "adult['Income_group'] = pd.to_numeric(adult['Income_group'], errors='coerce')"
   ]
  },
  {
   "cell_type": "code",
   "execution_count": 26,
   "metadata": {},
   "outputs": [],
   "source": [
    "# Define dependent and independent variables \n",
    "X = adult.drop('Income_group', 1)\n",
    "Y = adult['Income_group']\n",
    "X = pd.get_dummies(X)"
   ]
  },
  {
   "cell_type": "markdown",
   "metadata": {},
   "source": [
    "## Build the Models\n",
    "\n",
    "### 1. Vanilla logistic regression"
   ]
  },
  {
   "cell_type": "code",
   "execution_count": 27,
   "metadata": {},
   "outputs": [],
   "source": [
    "# Standardize the features \n",
    "X_std = StandardScaler().fit_transform(X)"
   ]
  },
  {
   "cell_type": "code",
   "execution_count": 28,
   "metadata": {},
   "outputs": [
    {
     "name": "stdout",
     "output_type": "stream",
     "text": [
      "[0.8470042  0.84236126 0.84523546 0.84413    0.84321097 0.84188412\n",
      " 0.85139319 0.84630694 0.8562265  0.84914842]\n"
     ]
    }
   ],
   "source": [
    "# Split the data and fit to the model \n",
    "X_train, X_test, y_train, y_test = train_test_split(X_std, Y, test_size=0.3, random_state=0)\n",
    "logreg = LogisticRegression()\n",
    "logreg.fit(X_train, y_train)\n",
    "\n",
    "Y_ = logreg.predict(X_test)\n",
    "# Ten fold cross validation score to evaluate the model \n",
    "score_logreg = cross_val_score(logreg, X_std, Y, cv=10)\n",
    "print(score_logreg)\n"
   ]
  },
  {
   "cell_type": "code",
   "execution_count": null,
   "metadata": {},
   "outputs": [],
   "source": []
  },
  {
   "cell_type": "code",
   "execution_count": 29,
   "metadata": {},
   "outputs": [
    {
     "name": "stdout",
     "output_type": "stream",
     "text": [
      "confusion_matrix\n",
      "[[9364  778]\n",
      " [1400 2025]]\n"
     ]
    }
   ],
   "source": [
    "# Print Confusion matrix\n",
    "from sklearn.metrics import confusion_matrix\n",
    "cfm = confusion_matrix(y_test, Y_)\n",
    "print('confusion_matrix')\n",
    "print(cfm)"
   ]
  },
  {
   "cell_type": "markdown",
   "metadata": {},
   "source": [
    "We have 11389 correct predictions(9364 + 2025) and 2178 incorrect predictions (1400 + 778)"
   ]
  },
  {
   "cell_type": "code",
   "execution_count": 30,
   "metadata": {},
   "outputs": [
    {
     "name": "stdout",
     "output_type": "stream",
     "text": [
      "             precision    recall  f1-score   support\n",
      "\n",
      "          0       0.87      0.92      0.90     10142\n",
      "          1       0.72      0.59      0.65      3425\n",
      "\n",
      "avg / total       0.83      0.84      0.83     13567\n",
      "\n"
     ]
    }
   ],
   "source": [
    "from sklearn.metrics import classification_report\n",
    "print(classification_report(y_test, Y_))"
   ]
  },
  {
   "cell_type": "markdown",
   "metadata": {},
   "source": [
    "From the entire test set, correct category was predicted with a precision of 83%. The F1-score weights the recall more than the precision by a factor of beta. beta = 1.0 means recall and precision are equally important. Inour case recall is more relevant. "
   ]
  },
  {
   "cell_type": "markdown",
   "metadata": {},
   "source": [
    "### 2. Ridge logistic regression"
   ]
  },
  {
   "cell_type": "code",
   "execution_count": 31,
   "metadata": {},
   "outputs": [],
   "source": [
    "# Split the data \n",
    "X_train2, X_test2, y_train2, y_test2 = train_test_split(X_std, Y, test_size=0.3, random_state=0)"
   ]
  },
  {
   "cell_type": "markdown",
   "metadata": {},
   "source": [
    "### Setting the regularization parameter with RidgeCV"
   ]
  },
  {
   "cell_type": "code",
   "execution_count": 32,
   "metadata": {},
   "outputs": [
    {
     "data": {
      "text/plain": [
       "RidgeCV(alphas=array([0.2, 1.2, 2.2, 3.2, 4.2, 5.2, 6.2, 7.2, 8.2, 9.2]),\n",
       "    cv=None, fit_intercept=True, gcv_mode=None, normalize=True,\n",
       "    scoring=None, store_cv_values=False)"
      ]
     },
     "execution_count": 32,
     "metadata": {},
     "output_type": "execute_result"
    }
   ],
   "source": [
    "#Setting the regularization parameter \n",
    "from sklearn import linear_model\n",
    "#reg = linear_model.RidgeCV(alphas=[0.001, 0.1, 0.5, 0.25, 75, .80, 1, 2, .01])\n",
    "reg = linear_model.RidgeCV(alphas = np.arange(.2, 10, 1), normalize=True)\n",
    "reg.fit(X_train2, y_train2)\n",
    "#np.arange(3,7,2)"
   ]
  },
  {
   "cell_type": "code",
   "execution_count": 33,
   "metadata": {},
   "outputs": [
    {
     "data": {
      "text/plain": [
       "0.2"
      ]
     },
     "execution_count": 33,
     "metadata": {},
     "output_type": "execute_result"
    }
   ],
   "source": [
    "reg.alpha_ \n"
   ]
  },
  {
   "cell_type": "markdown",
   "metadata": {},
   "source": [
    "Ridge classifier with the alpha value from RidgeCV above gives a score of about 72%"
   ]
  },
  {
   "cell_type": "code",
   "execution_count": 34,
   "metadata": {},
   "outputs": [
    {
     "name": "stdout",
     "output_type": "stream",
     "text": [
      "[0.72276602 0.72876539 0.71415035 0.72796209 0.72132701 0.7150079\n",
      " 0.71943128 0.70363349 0.72322275 0.72511848]\n"
     ]
    }
   ],
   "source": [
    "rdgc = RidgeClassifier(alpha=.2, fit_intercept=False)\n",
    "fit_rdgc = rdgc.fit(X_train2, y_train2)\n",
    "Y2_ = fit_rdgc.predict(X_test2)\n",
    "\n",
    "#Cross validation score\n",
    "rdgc_cv = cross_val_score(fit_rdgc, X_train2, y_train2, cv=10)\n",
    "print(rdgc_cv)"
   ]
  },
  {
   "cell_type": "code",
   "execution_count": 35,
   "metadata": {},
   "outputs": [
    {
     "name": "stdout",
     "output_type": "stream",
     "text": [
      "Average score 0.7201384766766846\n"
     ]
    }
   ],
   "source": [
    "print('Average score', rdgc_cv.mean())"
   ]
  },
  {
   "cell_type": "markdown",
   "metadata": {},
   "source": [
    "The ridge classifier gives a much better score with the default alpha as shown below. \n"
   ]
  },
  {
   "cell_type": "code",
   "execution_count": 36,
   "metadata": {},
   "outputs": [
    {
     "name": "stdout",
     "output_type": "stream",
     "text": [
      "[0.83422798 0.83391222 0.84301958 0.83507109 0.82969984 0.83412322\n",
      " 0.85308057 0.83064771 0.83159558 0.83096367]\n"
     ]
    }
   ],
   "source": [
    "rdgc_default = RidgeClassifier()\n",
    "fit_rdgc_default = rdgc_default.fit(X_train2, y_train2)\n",
    "Y2_d = fit_rdgc_default.predict(X_test2)\n",
    "\n",
    "#Cross validation score\n",
    "rdgc_default = cross_val_score(fit_rdgc_default, X_train2, y_train2, cv=10)\n",
    "print(rdgc_default)"
   ]
  },
  {
   "cell_type": "code",
   "execution_count": 37,
   "metadata": {},
   "outputs": [
    {
     "name": "stdout",
     "output_type": "stream",
     "text": [
      "Average score 83.56341453404548\n"
     ]
    }
   ],
   "source": [
    "print('Average score', rdgc_default.mean() * 100)"
   ]
  },
  {
   "cell_type": "code",
   "execution_count": 38,
   "metadata": {},
   "outputs": [
    {
     "name": "stdout",
     "output_type": "stream",
     "text": [
      "Confusion Matrix ridge\n",
      "[[9528  614]\n",
      " [1704 1721]]\n"
     ]
    }
   ],
   "source": [
    "#Confusion matrix\n",
    "cfm_ridge = confusion_matrix(y_test2, Y2_d)\n",
    "print('Confusion Matrix ridge')\n",
    "print(cfm_ridge)"
   ]
  },
  {
   "cell_type": "markdown",
   "metadata": {},
   "source": [
    "We have 11249 correct predictions(9528+1721) and 2318 incorrect predictions (614+1704) Which is slightly lower than the vanila logistrics regression above. "
   ]
  },
  {
   "cell_type": "code",
   "execution_count": 39,
   "metadata": {},
   "outputs": [
    {
     "name": "stdout",
     "output_type": "stream",
     "text": [
      "Classification report\n",
      "             precision    recall  f1-score   support\n",
      "\n",
      "          0       0.85      0.94      0.89     10142\n",
      "          1       0.74      0.50      0.60      3425\n",
      "\n",
      "avg / total       0.82      0.83      0.82     13567\n",
      "\n"
     ]
    }
   ],
   "source": [
    "print('Classification report')\n",
    "print(classification_report(y_test2, Y2_d))"
   ]
  },
  {
   "cell_type": "markdown",
   "metadata": {},
   "source": [
    "From the entire test set, correct category was predicted with a precision of 82%. The F1-score weights the recall more than the precision by a factor of beta. beta = 1.0 means recall and precision are equally important. Inour case recall is more relevant."
   ]
  },
  {
   "cell_type": "markdown",
   "metadata": {},
   "source": [
    "### 2. Lasso logistic regression"
   ]
  },
  {
   "cell_type": "markdown",
   "metadata": {},
   "source": [
    "### Setting the regularization parameter for Lasso\n",
    "\n",
    "This is an attept to use AlphaSelection module of Yellowbrick library. The result is a value of 0.00.\n"
   ]
  },
  {
   "cell_type": "code",
   "execution_count": 40,
   "metadata": {},
   "outputs": [
    {
     "name": "stdout",
     "output_type": "stream",
     "text": [
      "[0.8470042  0.84214017 0.84523546 0.84413    0.84298983 0.84210526\n",
      " 0.85139319 0.84652808 0.8562265  0.84914842]\n"
     ]
    }
   ],
   "source": [
    "# Split the data and fit to the model \n",
    "X_train3, X_test3, y_train3, y_test3 = train_test_split(X_std, Y, test_size=0.3, random_state=0)\n",
    "lasso = LogisticRegression(penalty='l1')\n",
    "lasso.fit(X_train3, y_train3)\n",
    "\n",
    "Y_Lasso = lasso.predict(X_test3)\n",
    "# Cross validation score to evaluate the model \n",
    "score_lasso = cross_val_score(lasso, X_std, Y, cv=10)\n",
    "print(score_lasso)"
   ]
  },
  {
   "cell_type": "code",
   "execution_count": 41,
   "metadata": {},
   "outputs": [
    {
     "name": "stdout",
     "output_type": "stream",
     "text": [
      "Average score 84.6690112009696\n"
     ]
    }
   ],
   "source": [
    "print('Average score', score_lasso.mean() * 100)"
   ]
  },
  {
   "cell_type": "markdown",
   "metadata": {},
   "source": [
    "The Lasso classification model gives a more accurate prediction than the vanilla and ridge regression models. "
   ]
  },
  {
   "cell_type": "code",
   "execution_count": 42,
   "metadata": {},
   "outputs": [
    {
     "name": "stdout",
     "output_type": "stream",
     "text": [
      "Confusion Matrix ridge\n",
      "[[9364  778]\n",
      " [1400 2025]]\n"
     ]
    }
   ],
   "source": [
    "#Confusion matrix\n",
    "cfm_lasso = confusion_matrix(y_test3, Y_Lasso)\n",
    "print('Confusion Matrix ridge')\n",
    "print(cfm_lasso)"
   ]
  },
  {
   "cell_type": "markdown",
   "metadata": {},
   "source": [
    "We have 11389 correct predictions(9364+2025) and 2178 incorrect predictions (778+1400) Which is better than the vanila  and ridge logistrics classification models above. \n",
    "\n",
    "In general, the ridge and vanilla models seem to perform with only a little difference in their accuracy while the classification model using lasso model gives a better accuracy than the other two. "
   ]
  },
  {
   "cell_type": "code",
   "execution_count": null,
   "metadata": {},
   "outputs": [],
   "source": []
  }
 ],
 "metadata": {
  "kernelspec": {
   "display_name": "Python 3",
   "language": "python",
   "name": "python3"
  },
  "language_info": {
   "codemirror_mode": {
    "name": "ipython",
    "version": 3
   },
   "file_extension": ".py",
   "mimetype": "text/x-python",
   "name": "python",
   "nbconvert_exporter": "python",
   "pygments_lexer": "ipython3",
   "version": "3.6.4"
  }
 },
 "nbformat": 4,
 "nbformat_minor": 2
}
