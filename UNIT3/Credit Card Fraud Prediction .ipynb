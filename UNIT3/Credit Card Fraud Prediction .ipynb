{
 "cells": [
  {
   "cell_type": "markdown",
   "metadata": {},
   "source": [
    "# Credit Card Fraud Prediction "
   ]
  },
  {
   "cell_type": "code",
   "execution_count": 110,
   "metadata": {},
   "outputs": [],
   "source": [
    "import pandas as pd\n",
    "from matplotlib import pyplot as plt\n",
    "import numpy as np\n",
    "import math\n",
    "import seaborn as sns\n",
    "import statsmodels.api as sm\n",
    "from sklearn.feature_selection import SelectKBest\n",
    "from sklearn.neighbors import KNeighborsClassifier\n",
    "from sklearn.tree import DecisionTreeClassifier\n",
    "from sklearn.naive_bayes import BernoulliNB\n",
    "from sklearn.linear_model import Ridge, Lasso \n",
    "from sklearn.preprocessing import StandardScaler\n",
    "from sklearn.model_selection import train_test_split\n",
    "from sklearn.linear_model import LogisticRegression\n",
    "from sklearn.linear_model import RidgeClassifier\n",
    "from sklearn.model_selection import cross_val_score\n",
    "from sklearn import metrics\n",
    "from sklearn.linear_model import LassoCV\n",
    "from sklearn.feature_selection import chi2\n",
    "from sklearn.metrics import roc_curve, auc, confusion_matrix\n",
    "from sklearn.metrics import classification_report\n",
    "from sklearn.model_selection import GridSearchCV\n",
    "from sklearn.metrics import make_scorer\n",
    "from sklearn import ensemble\n",
    "from sklearn.svm import SVC\n",
    "\n",
    "%matplotlib inline\n",
    "sns.set_style('white')\n",
    "import warnings\n",
    "warnings.filterwarnings(\"ignore\")"
   ]
  },
  {
   "cell_type": "markdown",
   "metadata": {},
   "source": [
    "## The Data\n",
    "\n",
    "The datasets contains transactions that occured in two days in September 2013 by european cardholders. The data contains 31 columns, most of which are tranformed principal components, and 284,807 rows among which the fraud class is only 492 (0.172%).\n",
    "\n",
    "The only features which have not been transformed with PCA are 'Time' and 'Amount'. Feature 'Time' contains the seconds elapsed between each transaction and the first transaction in the dataset. The feature 'Amount' is the transaction Amount. Feature 'Class' is the response variable and it takes value 1 in case of fraud and 0 otherwise.\n",
    "\n",
    "The dataset can be downloaded on the following link \n",
    "https://www.kaggle.com/mlg-ulb/creditcardfraud/home "
   ]
  },
  {
   "cell_type": "code",
   "execution_count": 2,
   "metadata": {
    "scrolled": true
   },
   "outputs": [
    {
     "data": {
      "text/html": [
       "<div>\n",
       "<style scoped>\n",
       "    .dataframe tbody tr th:only-of-type {\n",
       "        vertical-align: middle;\n",
       "    }\n",
       "\n",
       "    .dataframe tbody tr th {\n",
       "        vertical-align: top;\n",
       "    }\n",
       "\n",
       "    .dataframe thead th {\n",
       "        text-align: right;\n",
       "    }\n",
       "</style>\n",
       "<table border=\"1\" class=\"dataframe\">\n",
       "  <thead>\n",
       "    <tr style=\"text-align: right;\">\n",
       "      <th></th>\n",
       "      <th>Time</th>\n",
       "      <th>V1</th>\n",
       "      <th>V2</th>\n",
       "      <th>V3</th>\n",
       "      <th>V4</th>\n",
       "      <th>V5</th>\n",
       "      <th>V6</th>\n",
       "      <th>V7</th>\n",
       "      <th>V8</th>\n",
       "      <th>V9</th>\n",
       "      <th>...</th>\n",
       "      <th>V21</th>\n",
       "      <th>V22</th>\n",
       "      <th>V23</th>\n",
       "      <th>V24</th>\n",
       "      <th>V25</th>\n",
       "      <th>V26</th>\n",
       "      <th>V27</th>\n",
       "      <th>V28</th>\n",
       "      <th>Amount</th>\n",
       "      <th>Class</th>\n",
       "    </tr>\n",
       "  </thead>\n",
       "  <tbody>\n",
       "    <tr>\n",
       "      <th>0</th>\n",
       "      <td>0.0</td>\n",
       "      <td>-1.359807</td>\n",
       "      <td>-0.072781</td>\n",
       "      <td>2.536347</td>\n",
       "      <td>1.378155</td>\n",
       "      <td>-0.338321</td>\n",
       "      <td>0.462388</td>\n",
       "      <td>0.239599</td>\n",
       "      <td>0.098698</td>\n",
       "      <td>0.363787</td>\n",
       "      <td>...</td>\n",
       "      <td>-0.018307</td>\n",
       "      <td>0.277838</td>\n",
       "      <td>-0.110474</td>\n",
       "      <td>0.066928</td>\n",
       "      <td>0.128539</td>\n",
       "      <td>-0.189115</td>\n",
       "      <td>0.133558</td>\n",
       "      <td>-0.021053</td>\n",
       "      <td>149.62</td>\n",
       "      <td>0</td>\n",
       "    </tr>\n",
       "    <tr>\n",
       "      <th>1</th>\n",
       "      <td>0.0</td>\n",
       "      <td>1.191857</td>\n",
       "      <td>0.266151</td>\n",
       "      <td>0.166480</td>\n",
       "      <td>0.448154</td>\n",
       "      <td>0.060018</td>\n",
       "      <td>-0.082361</td>\n",
       "      <td>-0.078803</td>\n",
       "      <td>0.085102</td>\n",
       "      <td>-0.255425</td>\n",
       "      <td>...</td>\n",
       "      <td>-0.225775</td>\n",
       "      <td>-0.638672</td>\n",
       "      <td>0.101288</td>\n",
       "      <td>-0.339846</td>\n",
       "      <td>0.167170</td>\n",
       "      <td>0.125895</td>\n",
       "      <td>-0.008983</td>\n",
       "      <td>0.014724</td>\n",
       "      <td>2.69</td>\n",
       "      <td>0</td>\n",
       "    </tr>\n",
       "    <tr>\n",
       "      <th>2</th>\n",
       "      <td>1.0</td>\n",
       "      <td>-1.358354</td>\n",
       "      <td>-1.340163</td>\n",
       "      <td>1.773209</td>\n",
       "      <td>0.379780</td>\n",
       "      <td>-0.503198</td>\n",
       "      <td>1.800499</td>\n",
       "      <td>0.791461</td>\n",
       "      <td>0.247676</td>\n",
       "      <td>-1.514654</td>\n",
       "      <td>...</td>\n",
       "      <td>0.247998</td>\n",
       "      <td>0.771679</td>\n",
       "      <td>0.909412</td>\n",
       "      <td>-0.689281</td>\n",
       "      <td>-0.327642</td>\n",
       "      <td>-0.139097</td>\n",
       "      <td>-0.055353</td>\n",
       "      <td>-0.059752</td>\n",
       "      <td>378.66</td>\n",
       "      <td>0</td>\n",
       "    </tr>\n",
       "    <tr>\n",
       "      <th>3</th>\n",
       "      <td>1.0</td>\n",
       "      <td>-0.966272</td>\n",
       "      <td>-0.185226</td>\n",
       "      <td>1.792993</td>\n",
       "      <td>-0.863291</td>\n",
       "      <td>-0.010309</td>\n",
       "      <td>1.247203</td>\n",
       "      <td>0.237609</td>\n",
       "      <td>0.377436</td>\n",
       "      <td>-1.387024</td>\n",
       "      <td>...</td>\n",
       "      <td>-0.108300</td>\n",
       "      <td>0.005274</td>\n",
       "      <td>-0.190321</td>\n",
       "      <td>-1.175575</td>\n",
       "      <td>0.647376</td>\n",
       "      <td>-0.221929</td>\n",
       "      <td>0.062723</td>\n",
       "      <td>0.061458</td>\n",
       "      <td>123.50</td>\n",
       "      <td>0</td>\n",
       "    </tr>\n",
       "    <tr>\n",
       "      <th>4</th>\n",
       "      <td>2.0</td>\n",
       "      <td>-1.158233</td>\n",
       "      <td>0.877737</td>\n",
       "      <td>1.548718</td>\n",
       "      <td>0.403034</td>\n",
       "      <td>-0.407193</td>\n",
       "      <td>0.095921</td>\n",
       "      <td>0.592941</td>\n",
       "      <td>-0.270533</td>\n",
       "      <td>0.817739</td>\n",
       "      <td>...</td>\n",
       "      <td>-0.009431</td>\n",
       "      <td>0.798278</td>\n",
       "      <td>-0.137458</td>\n",
       "      <td>0.141267</td>\n",
       "      <td>-0.206010</td>\n",
       "      <td>0.502292</td>\n",
       "      <td>0.219422</td>\n",
       "      <td>0.215153</td>\n",
       "      <td>69.99</td>\n",
       "      <td>0</td>\n",
       "    </tr>\n",
       "  </tbody>\n",
       "</table>\n",
       "<p>5 rows × 31 columns</p>\n",
       "</div>"
      ],
      "text/plain": [
       "   Time        V1        V2        V3        V4        V5        V6        V7  \\\n",
       "0   0.0 -1.359807 -0.072781  2.536347  1.378155 -0.338321  0.462388  0.239599   \n",
       "1   0.0  1.191857  0.266151  0.166480  0.448154  0.060018 -0.082361 -0.078803   \n",
       "2   1.0 -1.358354 -1.340163  1.773209  0.379780 -0.503198  1.800499  0.791461   \n",
       "3   1.0 -0.966272 -0.185226  1.792993 -0.863291 -0.010309  1.247203  0.237609   \n",
       "4   2.0 -1.158233  0.877737  1.548718  0.403034 -0.407193  0.095921  0.592941   \n",
       "\n",
       "         V8        V9  ...         V21       V22       V23       V24  \\\n",
       "0  0.098698  0.363787  ...   -0.018307  0.277838 -0.110474  0.066928   \n",
       "1  0.085102 -0.255425  ...   -0.225775 -0.638672  0.101288 -0.339846   \n",
       "2  0.247676 -1.514654  ...    0.247998  0.771679  0.909412 -0.689281   \n",
       "3  0.377436 -1.387024  ...   -0.108300  0.005274 -0.190321 -1.175575   \n",
       "4 -0.270533  0.817739  ...   -0.009431  0.798278 -0.137458  0.141267   \n",
       "\n",
       "        V25       V26       V27       V28  Amount  Class  \n",
       "0  0.128539 -0.189115  0.133558 -0.021053  149.62      0  \n",
       "1  0.167170  0.125895 -0.008983  0.014724    2.69      0  \n",
       "2 -0.327642 -0.139097 -0.055353 -0.059752  378.66      0  \n",
       "3  0.647376 -0.221929  0.062723  0.061458  123.50      0  \n",
       "4 -0.206010  0.502292  0.219422  0.215153   69.99      0  \n",
       "\n",
       "[5 rows x 31 columns]"
      ]
     },
     "execution_count": 2,
     "metadata": {},
     "output_type": "execute_result"
    }
   ],
   "source": [
    "# This is how the data frame looks \n",
    "creditcard = pd.read_csv('creditcard.csv')\n",
    "creditcard.head()"
   ]
  },
  {
   "cell_type": "code",
   "execution_count": 3,
   "metadata": {},
   "outputs": [
    {
     "data": {
      "text/plain": [
       "(284807, 31)"
      ]
     },
     "execution_count": 3,
     "metadata": {},
     "output_type": "execute_result"
    }
   ],
   "source": [
    "# a lor of records\n",
    "creditcard.shape"
   ]
  },
  {
   "cell_type": "markdown",
   "metadata": {},
   "source": [
    "According to the data description, features V1, V2,...V28 are Principal components, and as a result we can assume that they are transformations of the original features. On the othe hand, features 'Time', and 'Amount' are not principal components. Here we will transform them before using them. "
   ]
  },
  {
   "cell_type": "code",
   "execution_count": 4,
   "metadata": {},
   "outputs": [],
   "source": [
    "# Transform Amount and Time features and \n",
    "creditcard['Amount_tra'] = StandardScaler().fit_transform(creditcard['Amount'].values.reshape(-1,1))\n",
    "creditcard['Time_tra'] = StandardScaler().fit_transform(creditcard['Time'].values.reshape(-1,1))\n",
    "\n",
    "#Let's keep only the transformed versions \n",
    "creditcard.drop(['Time','Amount'], axis=1, inplace=True)\n"
   ]
  },
  {
   "cell_type": "markdown",
   "metadata": {},
   "source": [
    "### Dealing with imbalance data"
   ]
  },
  {
   "cell_type": "markdown",
   "metadata": {},
   "source": [
    "The classifier algorithms that we are going to use for this prediction may have a bias towards classes  when faced with highly imbalance datasets like this one. They might only predict the majority class in the data. To avoid a possible misclassification, we will resample the data by downsampling the majority class which in our case is the non fraudulant transactions. \n",
    "\n",
    "Downsampling helps reduce runtime and storage issues but it could discard useful information. The sample created may also be biased."
   ]
  },
  {
   "cell_type": "code",
   "execution_count": 5,
   "metadata": {},
   "outputs": [
    {
     "data": {
      "text/plain": [
       "0    284315\n",
       "1       492\n",
       "Name: Class, dtype: int64"
      ]
     },
     "execution_count": 5,
     "metadata": {},
     "output_type": "execute_result"
    }
   ],
   "source": [
    "# count of each class \n",
    "creditcard['Class'].value_counts()"
   ]
  },
  {
   "cell_type": "code",
   "execution_count": 6,
   "metadata": {},
   "outputs": [
    {
     "data": {
      "image/png": "[encoded data removed]",
      "text/plain": [
       "<Figure size 432x288 with 1 Axes>"
      ]
     },
     "metadata": {},
     "output_type": "display_data"
    }
   ],
   "source": [
    "# A plot makes the difference more ovious\n",
    "sns.countplot(x='Class', data=creditcard, palette='hls')\n",
    "plt.title('The data is highly unbalanced')\n",
    "plt.show()"
   ]
  },
  {
   "cell_type": "code",
   "execution_count": 7,
   "metadata": {},
   "outputs": [
    {
     "name": "stdout",
     "output_type": "stream",
     "text": [
      "1    492\n",
      "0    492\n",
      "Name: Class, dtype: int64\n",
      "We now have a sample with balanced class\n"
     ]
    },
    {
     "data": {
      "image/png": "[encoded data removed]",
      "text/plain": [
       "<Figure size 432x288 with 1 Axes>"
      ]
     },
     "metadata": {},
     "output_type": "display_data"
    }
   ],
   "source": [
    "#Import module and resampling \n",
    "\n",
    "from sklearn.utils import resample\n",
    "\n",
    "# Separate majority and minority classes\n",
    "creditcard_majority = creditcard[creditcard.Class==0]\n",
    "creditcard_minority = creditcard[creditcard.Class==1]\n",
    " \n",
    "# Downsample majority class\n",
    "creditcard_majority_downsampled = resample(creditcard_majority, \n",
    "                                 replace=False,    # sample without replacement\n",
    "                                 n_samples=492,     # len(creditcard_minority)\n",
    "                                 random_state=123) # reproducible results\n",
    " \n",
    "# Combine minority class with downsampled majority class\n",
    "creditcard_resampled = pd.concat([creditcard_majority_downsampled, creditcard_minority])\n",
    " \n",
    "# Display new class counts\n",
    "print(creditcard_resampled.Class.value_counts())\n",
    "print('We now have a sample with balanced class')\n",
    "\n",
    "sns.countplot(x='Class', data=creditcard_resampled, palette='hls')\n",
    "plt.title('Balanced Class')\n",
    "plt.show()"
   ]
  },
  {
   "cell_type": "code",
   "execution_count": 8,
   "metadata": {},
   "outputs": [
    {
     "data": {
      "text/html": [
       "<div>\n",
       "<style scoped>\n",
       "    .dataframe tbody tr th:only-of-type {\n",
       "        vertical-align: middle;\n",
       "    }\n",
       "\n",
       "    .dataframe tbody tr th {\n",
       "        vertical-align: top;\n",
       "    }\n",
       "\n",
       "    .dataframe thead th {\n",
       "        text-align: right;\n",
       "    }\n",
       "</style>\n",
       "<table border=\"1\" class=\"dataframe\">\n",
       "  <thead>\n",
       "    <tr style=\"text-align: right;\">\n",
       "      <th></th>\n",
       "      <th>V1</th>\n",
       "      <th>V2</th>\n",
       "      <th>V3</th>\n",
       "      <th>V4</th>\n",
       "      <th>V5</th>\n",
       "      <th>V6</th>\n",
       "      <th>V7</th>\n",
       "      <th>V8</th>\n",
       "      <th>V9</th>\n",
       "      <th>V10</th>\n",
       "      <th>...</th>\n",
       "      <th>V22</th>\n",
       "      <th>V23</th>\n",
       "      <th>V24</th>\n",
       "      <th>V25</th>\n",
       "      <th>V26</th>\n",
       "      <th>V27</th>\n",
       "      <th>V28</th>\n",
       "      <th>Class</th>\n",
       "      <th>Amount_tra</th>\n",
       "      <th>Time_tra</th>\n",
       "    </tr>\n",
       "  </thead>\n",
       "  <tbody>\n",
       "    <tr>\n",
       "      <th>143480</th>\n",
       "      <td>-1.337885</td>\n",
       "      <td>0.261692</td>\n",
       "      <td>2.646536</td>\n",
       "      <td>-1.973014</td>\n",
       "      <td>-0.933318</td>\n",
       "      <td>-1.123839</td>\n",
       "      <td>0.277759</td>\n",
       "      <td>-0.039386</td>\n",
       "      <td>1.111226</td>\n",
       "      <td>-1.609648</td>\n",
       "      <td>...</td>\n",
       "      <td>1.124621</td>\n",
       "      <td>-0.312253</td>\n",
       "      <td>0.968527</td>\n",
       "      <td>0.570910</td>\n",
       "      <td>-0.704900</td>\n",
       "      <td>0.253527</td>\n",
       "      <td>0.169347</td>\n",
       "      <td>0</td>\n",
       "      <td>-0.062808</td>\n",
       "      <td>-0.198657</td>\n",
       "    </tr>\n",
       "    <tr>\n",
       "      <th>163666</th>\n",
       "      <td>2.081591</td>\n",
       "      <td>-0.774080</td>\n",
       "      <td>-0.674991</td>\n",
       "      <td>-0.322871</td>\n",
       "      <td>-0.890005</td>\n",
       "      <td>-0.801469</td>\n",
       "      <td>-0.532596</td>\n",
       "      <td>-0.280944</td>\n",
       "      <td>-0.354142</td>\n",
       "      <td>0.799470</td>\n",
       "      <td>...</td>\n",
       "      <td>-0.310603</td>\n",
       "      <td>0.268725</td>\n",
       "      <td>0.020092</td>\n",
       "      <td>-0.359343</td>\n",
       "      <td>0.555034</td>\n",
       "      <td>-0.025385</td>\n",
       "      <td>-0.044868</td>\n",
       "      <td>0</td>\n",
       "      <td>-0.212137</td>\n",
       "      <td>0.449021</td>\n",
       "    </tr>\n",
       "    <tr>\n",
       "      <th>137005</th>\n",
       "      <td>-0.332971</td>\n",
       "      <td>1.188389</td>\n",
       "      <td>1.308248</td>\n",
       "      <td>0.052384</td>\n",
       "      <td>0.087272</td>\n",
       "      <td>-0.966515</td>\n",
       "      <td>0.750302</td>\n",
       "      <td>-0.108085</td>\n",
       "      <td>-0.488491</td>\n",
       "      <td>-0.528325</td>\n",
       "      <td>...</td>\n",
       "      <td>-0.638700</td>\n",
       "      <td>-0.029226</td>\n",
       "      <td>0.346024</td>\n",
       "      <td>-0.140051</td>\n",
       "      <td>0.070181</td>\n",
       "      <td>0.250678</td>\n",
       "      <td>0.099306</td>\n",
       "      <td>0</td>\n",
       "      <td>-0.349271</td>\n",
       "      <td>-0.270339</td>\n",
       "    </tr>\n",
       "    <tr>\n",
       "      <th>155649</th>\n",
       "      <td>-0.830622</td>\n",
       "      <td>1.222904</td>\n",
       "      <td>1.859594</td>\n",
       "      <td>-0.318554</td>\n",
       "      <td>0.272904</td>\n",
       "      <td>0.080357</td>\n",
       "      <td>0.385614</td>\n",
       "      <td>-0.167806</td>\n",
       "      <td>1.502836</td>\n",
       "      <td>-1.045793</td>\n",
       "      <td>...</td>\n",
       "      <td>-0.528849</td>\n",
       "      <td>-0.360037</td>\n",
       "      <td>-0.740677</td>\n",
       "      <td>0.367026</td>\n",
       "      <td>-0.700618</td>\n",
       "      <td>-0.323105</td>\n",
       "      <td>0.064605</td>\n",
       "      <td>0</td>\n",
       "      <td>-0.344753</td>\n",
       "      <td>0.235704</td>\n",
       "    </tr>\n",
       "    <tr>\n",
       "      <th>219246</th>\n",
       "      <td>1.964854</td>\n",
       "      <td>0.306862</td>\n",
       "      <td>-2.347355</td>\n",
       "      <td>1.144732</td>\n",
       "      <td>1.453977</td>\n",
       "      <td>-0.144400</td>\n",
       "      <td>0.871268</td>\n",
       "      <td>-0.209065</td>\n",
       "      <td>-0.308091</td>\n",
       "      <td>0.253584</td>\n",
       "      <td>...</td>\n",
       "      <td>1.461507</td>\n",
       "      <td>-0.126488</td>\n",
       "      <td>-0.910153</td>\n",
       "      <td>0.646694</td>\n",
       "      <td>-0.101542</td>\n",
       "      <td>0.000524</td>\n",
       "      <td>-0.089904</td>\n",
       "      <td>0</td>\n",
       "      <td>-0.349231</td>\n",
       "      <td>0.986272</td>\n",
       "    </tr>\n",
       "  </tbody>\n",
       "</table>\n",
       "<p>5 rows × 31 columns</p>\n",
       "</div>"
      ],
      "text/plain": [
       "              V1        V2        V3        V4        V5        V6        V7  \\\n",
       "143480 -1.337885  0.261692  2.646536 -1.973014 -0.933318 -1.123839  0.277759   \n",
       "163666  2.081591 -0.774080 -0.674991 -0.322871 -0.890005 -0.801469 -0.532596   \n",
       "137005 -0.332971  1.188389  1.308248  0.052384  0.087272 -0.966515  0.750302   \n",
       "155649 -0.830622  1.222904  1.859594 -0.318554  0.272904  0.080357  0.385614   \n",
       "219246  1.964854  0.306862 -2.347355  1.144732  1.453977 -0.144400  0.871268   \n",
       "\n",
       "              V8        V9       V10    ...          V22       V23       V24  \\\n",
       "143480 -0.039386  1.111226 -1.609648    ...     1.124621 -0.312253  0.968527   \n",
       "163666 -0.280944 -0.354142  0.799470    ...    -0.310603  0.268725  0.020092   \n",
       "137005 -0.108085 -0.488491 -0.528325    ...    -0.638700 -0.029226  0.346024   \n",
       "155649 -0.167806  1.502836 -1.045793    ...    -0.528849 -0.360037 -0.740677   \n",
       "219246 -0.209065 -0.308091  0.253584    ...     1.461507 -0.126488 -0.910153   \n",
       "\n",
       "             V25       V26       V27       V28  Class  Amount_tra  Time_tra  \n",
       "143480  0.570910 -0.704900  0.253527  0.169347      0   -0.062808 -0.198657  \n",
       "163666 -0.359343  0.555034 -0.025385 -0.044868      0   -0.212137  0.449021  \n",
       "137005 -0.140051  0.070181  0.250678  0.099306      0   -0.349271 -0.270339  \n",
       "155649  0.367026 -0.700618 -0.323105  0.064605      0   -0.344753  0.235704  \n",
       "219246  0.646694 -0.101542  0.000524 -0.089904      0   -0.349231  0.986272  \n",
       "\n",
       "[5 rows x 31 columns]"
      ]
     },
     "execution_count": 8,
     "metadata": {},
     "output_type": "execute_result"
    }
   ],
   "source": [
    "creditcard_resampled.head()"
   ]
  },
  {
   "cell_type": "markdown",
   "metadata": {},
   "source": [
    "### Correlation \n",
    "Since the features are already transformed we may not be able to perform a thorough exploration of the data but, the heatmap of gives as a better understanding of our data and whether the correlation between the features meets the assumptions for the different models that we will use.  \n",
    "\n",
    "The dataset showed low collinearity before we resample it to balance the classes as shown in the first plot below.\n",
    "\n",
    "The resampled dataset looks to exhibit high collinearity among some of the features. There are also some negative correlations. Let's examine the correlated features closely."
   ]
  },
  {
   "cell_type": "code",
   "execution_count": 9,
   "metadata": {},
   "outputs": [
    {
     "data": {
      "text/plain": [
       "Text(0.5,1,'Heatmap of the whole dataset')"
      ]
     },
     "execution_count": 9,
     "metadata": {},
     "output_type": "execute_result"
    },
    {
     "data": {
      "image/png": "[encoded data removed]",
      "text/plain": [
       "<Figure size 1440x720 with 2 Axes>"
      ]
     },
     "metadata": {},
     "output_type": "display_data"
    }
   ],
   "source": [
    "fig, ax = plt.subplots(figsize=(20,10)) \n",
    "sns.heatmap(creditcard.corr(), ax=ax, cmap=\"YlGnBu\")\n",
    "ax.set_title('Heatmap of the whole dataset')"
   ]
  },
  {
   "cell_type": "code",
   "execution_count": 10,
   "metadata": {},
   "outputs": [
    {
     "data": {
      "text/plain": [
       "Text(0.5,1,'Heatmap of the resampled dataset')"
      ]
     },
     "execution_count": 10,
     "metadata": {},
     "output_type": "execute_result"
    },
    {
     "data": {
      "image/png": "[encoded data removed]",
      "text/plain": [
       "<Figure size 1440x720 with 2 Axes>"
      ]
     },
     "metadata": {},
     "output_type": "display_data"
    }
   ],
   "source": [
    "fig, ax = plt.subplots(figsize=(20,10)) \n",
    "sns.heatmap(creditcard_resampled.corr(), ax=ax, cmap=\"YlGnBu\")\n",
    "ax.set_title('Heatmap of the resampled dataset')"
   ]
  },
  {
   "cell_type": "markdown",
   "metadata": {},
   "source": [
    "Let's now examine the correlated features by visualizing them with a box plot. "
   ]
  },
  {
   "cell_type": "code",
   "execution_count": 11,
   "metadata": {},
   "outputs": [],
   "source": [
    "# group the feature together for ease \n",
    "components = ['V1', 'V3', 'V5', 'V7', 'V9', 'V10', 'V12', 'V14', 'V16', 'V17', 'V18']\n"
   ]
  },
  {
   "cell_type": "code",
   "execution_count": 12,
   "metadata": {},
   "outputs": [
    {
     "data": {
      "text/plain": [
       "Text(0.5,1,'Removing some of the extream outliers might improve our data')"
      ]
     },
     "execution_count": 12,
     "metadata": {},
     "output_type": "execute_result"
    },
    {
     "data": {
      "image/png": "[encoded data removed]",
      "text/plain": [
       "<Figure size 1440x720 with 1 Axes>"
      ]
     },
     "metadata": {},
     "output_type": "display_data"
    }
   ],
   "source": [
    "# boxplot for each correlated feature  \n",
    "fig, ax1 = plt.subplots(figsize=(20,10))\n",
    "ax1 = sns.boxplot(data=creditcard_resampled[components], orient=\"v\", palette=\"Set2\")\n",
    "ax1.set_title('Removing some of the extream outliers might improve our data')"
   ]
  },
  {
   "cell_type": "markdown",
   "metadata": {},
   "source": [
    "The features we identified have a considerable amount of outliers and we will remove outliers above the 85% percentile nad below the 15% percentile. This will create some NaN values and we will replace them with the average value for each feature.  "
   ]
  },
  {
   "cell_type": "code",
   "execution_count": 13,
   "metadata": {},
   "outputs": [],
   "source": [
    "# Remove outliers\n",
    "creditcard_resampled[components] = creditcard_resampled[components][((creditcard_resampled[components] > creditcard_resampled[components].quantile(.15))\n",
    "                                                                     & (creditcard_resampled[components] < creditcard_resampled[components].quantile(.85)))]"
   ]
  },
  {
   "cell_type": "code",
   "execution_count": 14,
   "metadata": {},
   "outputs": [
    {
     "data": {
      "text/plain": [
       "V1     296\n",
       "V3     296\n",
       "V5     296\n",
       "V7     296\n",
       "V9     296\n",
       "V10    296\n",
       "V12    296\n",
       "V14    296\n",
       "V16    296\n",
       "V17    296\n",
       "V18    296\n",
       "dtype: int64"
      ]
     },
     "execution_count": 14,
     "metadata": {},
     "output_type": "execute_result"
    }
   ],
   "source": [
    "# Check for outliers\n",
    "creditcard_resampled[components].isnull().sum()"
   ]
  },
  {
   "cell_type": "code",
   "execution_count": 15,
   "metadata": {},
   "outputs": [],
   "source": [
    "# The mean is a good measure of central tendency and can be used to replace NaN \n",
    "creditcard_resampled[components] = creditcard_resampled[components].fillna(creditcard_resampled[components].mean())"
   ]
  },
  {
   "cell_type": "markdown",
   "metadata": {},
   "source": [
    "We still see some outliers but the range of the component values is now reduced and the outliers should have a smaller effect on the outcome. Removing outliers comes at a cost of information loss and what we have here looks like a good tradeoff. As the heatmap below shows, we have managed to reduce the collinearity of features in our resampled dataset. "
   ]
  },
  {
   "cell_type": "code",
   "execution_count": 19,
   "metadata": {
    "scrolled": true
   },
   "outputs": [
    {
     "data": {
      "text/plain": [
       "Text(0.5,1,'The outliers are now taken care of')"
      ]
     },
     "execution_count": 19,
     "metadata": {},
     "output_type": "execute_result"
    },
    {
     "data": {
      "image/png": "[encoded data removed]",
      "text/plain": [
       "<Figure size 1440x720 with 1 Axes>"
      ]
     },
     "metadata": {},
     "output_type": "display_data"
    }
   ],
   "source": [
    "# Still some outliers \n",
    "fig, ax1 = plt.subplots(figsize=(20,10))\n",
    "ax1 = sns.boxplot(data=creditcard_resampled[components], orient=\"v\", palette=\"Set2\")\n",
    "ax1.set_title('The outliers are now taken care of')"
   ]
  },
  {
   "cell_type": "code",
   "execution_count": 21,
   "metadata": {},
   "outputs": [
    {
     "data": {
      "text/plain": [
       "Text(0.5,1,'Heatmap of the resampled dataset after outlier removal')"
      ]
     },
     "execution_count": 21,
     "metadata": {},
     "output_type": "execute_result"
    },
    {
     "data": {
      "image/png": "[encoded data removed]",
      "text/plain": [
       "<Figure size 1440x720 with 2 Axes>"
      ]
     },
     "metadata": {},
     "output_type": "display_data"
    }
   ],
   "source": [
    "fig, ax = plt.subplots(figsize=(20,10)) \n",
    "sns.heatmap(creditcard_resampled.corr(), ax=ax, cmap=\"YlGnBu\")\n",
    "ax.set_title('Heatmap of the resampled dataset after outlier removal')"
   ]
  },
  {
   "cell_type": "markdown",
   "metadata": {},
   "source": [
    "Before we start using classifiers, let's store our final dataset as 'trans' for ease of use. And also define our target variable and predictors. "
   ]
  },
  {
   "cell_type": "code",
   "execution_count": 28,
   "metadata": {},
   "outputs": [],
   "source": [
    "# Final data to work with \n",
    "trans = creditcard_resampled\n",
    "\n",
    "X = trans.drop('Class', 1)\n",
    "Y = trans['Class']"
   ]
  },
  {
   "cell_type": "markdown",
   "metadata": {},
   "source": [
    "## Pridicting fraud using classifiers \n",
    "\n",
    "### 1. Naive_Bayes classifier"
   ]
  },
  {
   "cell_type": "code",
   "execution_count": 120,
   "metadata": {},
   "outputs": [],
   "source": [
    "# Use a 20% holdout group\n",
    "X_train, X_test, y_train, y_test = train_test_split(X, Y, test_size=0.2, random_state=1)"
   ]
  },
  {
   "cell_type": "code",
   "execution_count": 121,
   "metadata": {},
   "outputs": [],
   "source": [
    "# Fit the model \n",
    "bnb = BernoulliNB()\n",
    "bnb.fit(X_train, y_train)\n",
    "y_Naive = bnb.predict(X_test)"
   ]
  },
  {
   "cell_type": "code",
   "execution_count": 122,
   "metadata": {},
   "outputs": [
    {
     "name": "stdout",
     "output_type": "stream",
     "text": [
      "[0.91919192 0.91414141 0.85714286 0.90306122 0.84693878]\n",
      "Confusion matrix\n",
      "[[89  6]\n",
      " [23 79]]\n"
     ]
    }
   ],
   "source": [
    "# Cross validation score\n",
    "score = cross_val_score(bnb, X, Y, cv=5)\n",
    "print(score)\n",
    "\n",
    "#Confusion matrix \n",
    "print('Confusion matrix')\n",
    "print(confusion_matrix(y_test, y_Naive))\n"
   ]
  },
  {
   "cell_type": "markdown",
   "metadata": {},
   "source": [
    "Among the 197 test points 173 are correctly identified and 24 are incorectly identified. 102 transactions (20 + 86) were identified as fraud though the 20 predictions are false negatives. The cross validation also shows an accuracy in the region of 90%. The model has failed to identify 23 of the fraud transactions correctly (False negatives) "
   ]
  },
  {
   "cell_type": "code",
   "execution_count": 123,
   "metadata": {},
   "outputs": [
    {
     "data": {
      "image/png": "[encoded data removed]",
      "text/plain": [
       "<Figure size 432x288 with 1 Axes>"
      ]
     },
     "metadata": {},
     "output_type": "display_data"
    }
   ],
   "source": [
    "# AUC \n",
    "y_pred_proba = bnb.predict_proba(X_test)[::,1]\n",
    "fpr, tpr, _ = metrics.roc_curve(y_test,  y_pred_proba)\n",
    "auc = metrics.roc_auc_score(y_test, y_pred_proba)\n",
    "plt.plot(fpr,tpr,label='auc='+str(auc))\n",
    "plt.legend(loc=4)\n",
    "plt.show()"
   ]
  },
  {
   "cell_type": "markdown",
   "metadata": {},
   "source": [
    "AUC ranges in value from 0 to 1. A model whose predictions are 100% wrong has an AUC of 0.0; one whose predictions are 100% correct has an AUC of 1.0.\n",
    "\n",
    "The classification report below shows the model was able to predict fraud with an 85% accuracy. "
   ]
  },
  {
   "cell_type": "code",
   "execution_count": 124,
   "metadata": {},
   "outputs": [
    {
     "name": "stdout",
     "output_type": "stream",
     "text": [
      "             precision    recall  f1-score   support\n",
      "\n",
      "          0       0.79      0.94      0.86        95\n",
      "          1       0.93      0.77      0.84       102\n",
      "\n",
      "avg / total       0.86      0.85      0.85       197\n",
      "\n"
     ]
    }
   ],
   "source": [
    "# Classification report \n",
    "print(classification_report(y_test, y_Naive))"
   ]
  },
  {
   "cell_type": "markdown",
   "metadata": {},
   "source": [
    "### 2. KNN classifier "
   ]
  },
  {
   "cell_type": "code",
   "execution_count": 125,
   "metadata": {},
   "outputs": [
    {
     "name": "stdout",
     "output_type": "stream",
     "text": [
      "[0.95454545 0.92929293 0.86734694 0.94387755 0.90816327]\n"
     ]
    }
   ],
   "source": [
    "# Fit the data to knn model \n",
    "neigh = KNeighborsClassifier(n_neighbors=20, weights='distance')\n",
    "neigh.fit(X_train, y_train)\n",
    "y_knn = neigh.predict(X_test)\n",
    "\n",
    "#\n",
    "score_knn = cross_val_score(neigh, X, Y, cv=5)\n",
    "print(score_knn)"
   ]
  },
  {
   "cell_type": "code",
   "execution_count": 126,
   "metadata": {},
   "outputs": [
    {
     "name": "stdout",
     "output_type": "stream",
     "text": [
      "Confusion matrix\n",
      "[[95  0]\n",
      " [18 84]]\n"
     ]
    }
   ],
   "source": [
    "#Confusion matrix for knn classifier\n",
    "print('Confusion matrix')\n",
    "print(confusion_matrix(y_test, y_knn))"
   ]
  },
  {
   "cell_type": "markdown",
   "metadata": {},
   "source": [
    "The KNN classifier was able to identify 106 of the test data points as fraud transactions among which 84 were true predictions and 18 were mis identified. "
   ]
  },
  {
   "cell_type": "code",
   "execution_count": 127,
   "metadata": {},
   "outputs": [
    {
     "name": "stdout",
     "output_type": "stream",
     "text": [
      "             precision    recall  f1-score   support\n",
      "\n",
      "          0       0.84      1.00      0.91        95\n",
      "          1       1.00      0.82      0.90       102\n",
      "\n",
      "avg / total       0.92      0.91      0.91       197\n",
      "\n"
     ]
    }
   ],
   "source": [
    "# Classification report \n",
    "print(classification_report(y_test, y_knn))"
   ]
  },
  {
   "cell_type": "markdown",
   "metadata": {},
   "source": [
    "The classifier identified fraud transactions with a 91% accuracy. (remember that we coded fraud as 1 and non fraud as 0 in our data set)"
   ]
  },
  {
   "cell_type": "code",
   "execution_count": 53,
   "metadata": {},
   "outputs": [
    {
     "data": {
      "image/png": "[encoded data removed]",
      "text/plain": [
       "<Figure size 432x288 with 1 Axes>"
      ]
     },
     "metadata": {},
     "output_type": "display_data"
    }
   ],
   "source": [
    "# AUC for knn classifier\n",
    "y_knn_proba = neigh.predict_proba(X_test)[::,1]\n",
    "fpr_knn, tpr_knn, _ = metrics.roc_curve(y_test,  y_knn)\n",
    "auc_knn = metrics.roc_auc_score(y_test, y_knn_proba)\n",
    "plt.plot(fpr_knn,tpr_knn,label='auc_knn='+str(auc_knn))\n",
    "plt.legend(loc=4)\n",
    "plt.show()"
   ]
  },
  {
   "cell_type": "markdown",
   "metadata": {},
   "source": [
    "## 3. Decision tree classifier "
   ]
  },
  {
   "cell_type": "code",
   "execution_count": 128,
   "metadata": {},
   "outputs": [],
   "source": [
    "# Decision tree using GridSearchCV parameters\n",
    "\n",
    "tree_para = {'criterion':['gini','entropy'],'max_depth':[4,5,6,7,8,9,10,11,12,15,20,30,40,50,70,90,120,150]}\n",
    "tree = GridSearchCV(DecisionTreeClassifier(), tree_para, cv=5)\n",
    "grid_fit = tree.fit(X_train, y_train)\n",
    "\n",
    "best_tree = grid_fit.best_estimator_\n",
    "y_tree = best_tree.predict(X_test)"
   ]
  },
  {
   "cell_type": "code",
   "execution_count": 129,
   "metadata": {},
   "outputs": [
    {
     "name": "stdout",
     "output_type": "stream",
     "text": [
      "[0.7020202  0.88888889 0.85204082 0.92857143 0.90816327]\n",
      "Confusion matrix\n",
      "[[91  4]\n",
      " [16 86]]\n",
      "             precision    recall  f1-score   support\n",
      "\n",
      "          0       0.85      0.96      0.90        95\n",
      "          1       0.96      0.84      0.90       102\n",
      "\n",
      "avg / total       0.90      0.90      0.90       197\n",
      "\n"
     ]
    },
    {
     "data": {
      "image/png": "[encoded data removed]",
      "text/plain": [
       "<Figure size 432x288 with 1 Axes>"
      ]
     },
     "metadata": {},
     "output_type": "display_data"
    }
   ],
   "source": [
    "# Evaluations\n",
    "score_tree = cross_val_score(tree, X, Y, cv=5)\n",
    "print(score_tree)\n",
    "\n",
    "#Confusion matrix for decision tree\n",
    "print('Confusion matrix')\n",
    "print(confusion_matrix(y_test, y_tree))\n",
    "\n",
    "# Classification report \n",
    "print(classification_report(y_test, y_tree))\n",
    "\n",
    "# AUC for decision tree classifier\n",
    "y_tree_proba = tree.predict_proba(X_test)[::,1]\n",
    "fpr_tree, tpr_tree, _ = metrics.roc_curve(y_test,  y_tree)\n",
    "auc_tree = metrics.roc_auc_score(y_test, y_tree_proba)\n",
    "plt.plot(fpr_tree,tpr_tree,label='auc_tree='+str(auc_tree))\n",
    "plt.legend(loc=4)\n",
    "plt.show()"
   ]
  },
  {
   "cell_type": "markdown",
   "metadata": {},
   "source": [
    "The cross validation score shows fluctuations suggesting overfitting or other issue. 102 of the transactions from the test set are identified as fraud. The model was able to predict fraud with an 90% accuracy which is lower than the two models we saw earlier. The model has failed to identify 16 of the fraud transactions correctly (False negatives) "
   ]
  },
  {
   "cell_type": "markdown",
   "metadata": {},
   "source": [
    "### 4. Random forest classifier "
   ]
  },
  {
   "cell_type": "code",
   "execution_count": 73,
   "metadata": {},
   "outputs": [],
   "source": [
    "forest_para = {'criterion':['gini','entropy'],'max_depth':[4,5,6,7,8,9,10,11,12,15,20,30,40,50,70,90,120,150, 200, 300]}\n",
    "forest = GridSearchCV(ensemble.RandomForestClassifier(), forest_para, cv=5)\n",
    "grid_fit_forest = forest.fit(X_train, y_train)\n",
    "\n",
    "best_forest = grid_fit_forest.best_estimator_\n",
    "y_forest = best_forest.predict(X_test)"
   ]
  },
  {
   "cell_type": "code",
   "execution_count": 74,
   "metadata": {},
   "outputs": [
    {
     "name": "stdout",
     "output_type": "stream",
     "text": [
      "[0.94949495 0.93434343 0.89285714 0.94387755 0.91326531]\n",
      "Confusion matrix\n",
      "[[88  3]\n",
      " [14 92]]\n",
      "             precision    recall  f1-score   support\n",
      "\n",
      "          0       0.86      0.97      0.91        91\n",
      "          1       0.97      0.87      0.92       106\n",
      "\n",
      "avg / total       0.92      0.91      0.91       197\n",
      "\n"
     ]
    },
    {
     "data": {
      "image/png": "[encoded data removed]",
      "text/plain": [
       "<Figure size 432x288 with 1 Axes>"
      ]
     },
     "metadata": {},
     "output_type": "display_data"
    }
   ],
   "source": [
    "# Evaluations\n",
    "score_forest = cross_val_score(forest, X, Y, cv=5)\n",
    "print(score_forest)\n",
    "\n",
    "#Confusion matrix for random forest\n",
    "print('Confusion matrix')\n",
    "print(confusion_matrix(y_test, y_forest))\n",
    "\n",
    "# Classification report \n",
    "print(classification_report(y_test, y_forest))\n",
    "\n",
    "# AUC for random forest classifier\n",
    "y_forest_proba = forest.predict_proba(X_test)[::,1]\n",
    "fpr_forest, tpr_forest, _ = metrics.roc_curve(y_test,  y_forest)\n",
    "auc_forest = metrics.roc_auc_score(y_test, y_forest_proba)\n",
    "plt.plot(fpr_forest,tpr_forest,label='auc_forest='+str(auc_forest))\n",
    "plt.legend(loc=4)\n",
    "plt.show()"
   ]
  },
  {
   "cell_type": "markdown",
   "metadata": {},
   "source": [
    "The cross validation score shows more consistency and high accuracy than the decision tree classifier. 106 of the transactions from the test set are identified as fraud. The model was able to predict fraud with a 91% accuracy which is am improvement from the decision tree algorithm and the other models we saw so far. The model has failed to identify 14 of the fraud transactions correctly (False negatives) "
   ]
  },
  {
   "cell_type": "markdown",
   "metadata": {},
   "source": [
    "### 5. Logistics regression "
   ]
  },
  {
   "cell_type": "code",
   "execution_count": 80,
   "metadata": {},
   "outputs": [
    {
     "name": "stdout",
     "output_type": "stream",
     "text": [
      "[0.94444444 0.92929293 0.8877551  0.93877551 0.89285714]\n"
     ]
    }
   ],
   "source": [
    "# Binary classification using logistics regression\n",
    "logreg = LogisticRegression()\n",
    "logreg.fit(X_train, y_train)\n",
    "\n",
    "# Predict using the test set\n",
    "y_logreg = logreg.predict(X_test)\n",
    "# Ten fold cross validation score to evaluate the model \n",
    "score_logreg = cross_val_score(logreg, X, Y, cv=5)\n",
    "print(score_logreg)"
   ]
  },
  {
   "cell_type": "code",
   "execution_count": 85,
   "metadata": {},
   "outputs": [
    {
     "name": "stdout",
     "output_type": "stream",
     "text": [
      "[0.94444444 0.92929293 0.8877551  0.93877551 0.89285714]\n",
      "Confusion matrix\n",
      "[[87  4]\n",
      " [10 96]]\n",
      "             precision    recall  f1-score   support\n",
      "\n",
      "          0       0.90      0.96      0.93        91\n",
      "          1       0.96      0.91      0.93       106\n",
      "\n",
      "avg / total       0.93      0.93      0.93       197\n",
      "\n"
     ]
    },
    {
     "data": {
      "image/png": "[encoded data removed]",
      "text/plain": [
       "<Figure size 432x288 with 1 Axes>"
      ]
     },
     "metadata": {},
     "output_type": "display_data"
    }
   ],
   "source": [
    "# Evaluations\n",
    "score_logreg = cross_val_score(logreg, X, Y, cv=5)\n",
    "print(score_logreg)\n",
    "\n",
    "#Confusion matrix for logistics regression classifier\n",
    "print('Confusion matrix')\n",
    "print(confusion_matrix(y_test, y_logreg))\n",
    "\n",
    "# Classification report \n",
    "print(classification_report(y_test, y_logreg))\n",
    "\n",
    "# AUC classifier\n",
    "y_logreg_proba = logreg.predict_proba(X_test)[::,1]\n",
    "fpr_logreg, tpr_logreg, _ = metrics.roc_curve(y_test,  y_logreg)\n",
    "auc_logreg = metrics.roc_auc_score(y_test, y_logreg_proba)\n",
    "plt.plot(fpr_logreg,tpr_logreg,label='auc_logreg='+str(auc_logreg))\n",
    "plt.legend(loc=4)\n",
    "plt.show()"
   ]
  },
  {
   "cell_type": "markdown",
   "metadata": {},
   "source": [
    "The cross validation score shows more consistency and high accuracy than the previous classifiers. 106 of the transactions from the test set are identified as fraud. The model was able to predict fraud with a 93% accuracy which is an improvement from the decision tree algorithm and the other models we saw so far. The model has failed to identify 10 of the fraud transactions correctly (False negatives) "
   ]
  },
  {
   "cell_type": "markdown",
   "metadata": {},
   "source": [
    "### 6. Ridge logistics classifier "
   ]
  },
  {
   "cell_type": "code",
   "execution_count": 103,
   "metadata": {},
   "outputs": [],
   "source": [
    "# Ridge classifier\n",
    "ridge = RidgeClassifier()\n",
    "ridge.fit(X_train, y_train)\n",
    "\n",
    "y_ridge = ridge.predict(X_test)\n"
   ]
  },
  {
   "cell_type": "code",
   "execution_count": 130,
   "metadata": {},
   "outputs": [
    {
     "name": "stdout",
     "output_type": "stream",
     "text": [
      "[0.94949495 0.93434343 0.89285714 0.95408163 0.90306122]\n",
      "Confusion matrix\n",
      "[[52 43]\n",
      " [52 50]]\n",
      "             precision    recall  f1-score   support\n",
      "\n",
      "          0       0.50      0.55      0.52        95\n",
      "          1       0.54      0.49      0.51       102\n",
      "\n",
      "avg / total       0.52      0.52      0.52       197\n",
      "\n"
     ]
    }
   ],
   "source": [
    "# Evaluations\n",
    "score_ridge = cross_val_score(ridge, X, Y, cv=5)\n",
    "print(score_ridge)\n",
    "\n",
    "#Confusion matrix for logistics regression classifier\n",
    "print('Confusion matrix')\n",
    "print(confusion_matrix(y_test, y_ridge))\n",
    "\n",
    "# Classification report \n",
    "print(classification_report(y_test, y_ridge))\n"
   ]
  },
  {
   "cell_type": "markdown",
   "metadata": {},
   "source": [
    "The cross validation score shows consistent and highly accurate result similar to the previous ones. Again, 106 of the transactions from the test set are identified as fraud. The model was able to predict fraud with a 91% accuracy. The model has failed to identify 52 of the fraud transactions correctly (False negatives)  "
   ]
  },
  {
   "cell_type": "markdown",
   "metadata": {},
   "source": [
    "### 7. Lasso regression\n",
    "\n",
    "We'll use ordinary logistics regression with 'L1' penality"
   ]
  },
  {
   "cell_type": "code",
   "execution_count": 107,
   "metadata": {},
   "outputs": [],
   "source": [
    "lasso = LogisticRegression(penalty='l1')\n",
    "lasso.fit(X_train, y_train)\n",
    "\n",
    "y_lasso = lasso.predict(X_test)"
   ]
  },
  {
   "cell_type": "code",
   "execution_count": 108,
   "metadata": {},
   "outputs": [
    {
     "name": "stdout",
     "output_type": "stream",
     "text": [
      "[0.94444444 0.92929293 0.8877551  0.93367347 0.89285714]\n",
      "Confusion matrix\n",
      "[[87  4]\n",
      " [10 96]]\n",
      "             precision    recall  f1-score   support\n",
      "\n",
      "          0       0.90      0.96      0.93        91\n",
      "          1       0.96      0.91      0.93       106\n",
      "\n",
      "avg / total       0.93      0.93      0.93       197\n",
      "\n"
     ]
    },
    {
     "data": {
      "image/png": "[encoded data removed]",
      "text/plain": [
       "<Figure size 432x288 with 1 Axes>"
      ]
     },
     "metadata": {},
     "output_type": "display_data"
    }
   ],
   "source": [
    "# Evaluations\n",
    "score_lasso = cross_val_score(lasso, X, Y, cv=5)\n",
    "print(score_lasso)\n",
    "\n",
    "#Confusion matrix for logistics regression classifier\n",
    "print('Confusion matrix')\n",
    "print(confusion_matrix(y_test, y_lasso))\n",
    "\n",
    "# Classification report \n",
    "print(classification_report(y_test, y_lasso))\n",
    "\n",
    "# AUC\n",
    "y_lasso_proba = lasso.predict_proba(X_test)[::,1]\n",
    "fpr_lasso, tpr_lasso, _ = metrics.roc_curve(y_test,  y_lasso)\n",
    "auc_lasso = metrics.roc_auc_score(y_test, y_lasso_proba)\n",
    "plt.plot(fpr_lasso,tpr_lasso,label='auc_lasso='+str(auc_lasso))\n",
    "plt.legend(loc=4)\n",
    "plt.show()"
   ]
  },
  {
   "cell_type": "markdown",
   "metadata": {},
   "source": [
    "The cross validation score shows a score of about 90% similar to the previous ones. Again, 106 of the transactions from the test set are identified as fraud. The model was able to predict fraud with a 93% accuracy. The model has failed to identify 10 of the fraud transactions correctly (False negatives)  "
   ]
  },
  {
   "cell_type": "markdown",
   "metadata": {},
   "source": [
    "### 8. Support Vector Machine (SVM)"
   ]
  },
  {
   "cell_type": "code",
   "execution_count": 131,
   "metadata": {},
   "outputs": [],
   "source": [
    "# Set the parameters by cross-validation\n",
    "# reference http://scikit-learn.org/stable/auto_examples/model_selection/plot_grid_search_digits.html\n",
    "tuned_parameters = [{'kernel': ['rbf'], 'gamma': [1e-3, 1e-4],\n",
    "                     'C': [1, 10, 100, 1000]},\n",
    "                    {'kernel': ['rbf'], 'C': [1, 10, 100, 1000]}]\n",
    "clf = GridSearchCV(SVC(probability=True), tuned_parameters, cv=5)\n",
    "clf.fit(X_train, y_train)\n",
    "\n",
    "clf.best_params_\n",
    "\n",
    "#best_forest = grid_fit_forest.best_estimator_\n",
    "y_svc = clf.predict(X_test)"
   ]
  },
  {
   "cell_type": "code",
   "execution_count": 132,
   "metadata": {
    "scrolled": true
   },
   "outputs": [
    {
     "name": "stdout",
     "output_type": "stream",
     "text": [
      "[0.94949495 0.93434343 0.90306122 0.93877551 0.92346939]\n",
      "Confusion matrix\n",
      "[[93  2]\n",
      " [16 86]]\n",
      "             precision    recall  f1-score   support\n",
      "\n",
      "          0       0.85      0.98      0.91        95\n",
      "          1       0.98      0.84      0.91       102\n",
      "\n",
      "avg / total       0.92      0.91      0.91       197\n",
      "\n"
     ]
    },
    {
     "data": {
      "image/png": "[encoded data removed]",
      "text/plain": [
       "<Figure size 432x288 with 1 Axes>"
      ]
     },
     "metadata": {},
     "output_type": "display_data"
    }
   ],
   "source": [
    "# Evaluations\n",
    "score_svc = cross_val_score(clf, X, Y, cv=5)\n",
    "print(score_svc)\n",
    "\n",
    "#Confusion matrix for logistics regression classifier\n",
    "print('Confusion matrix')\n",
    "print(confusion_matrix(y_test, y_svc))\n",
    "\n",
    "# Classification report \n",
    "print(classification_report(y_test, y_svc))\n",
    "\n",
    "# AUC\n",
    "y_svc_proba = clf.predict_proba(X_test)[::,1]\n",
    "fpr_clf, tpr_clf, _ = metrics.roc_curve(y_test,  y_svc)\n",
    "auc_svc = metrics.roc_auc_score(y_test, y_svc_proba)\n",
    "plt.plot(fpr_clf,tpr_clf,label='auc_lasso='+str(auc_svc))\n",
    "plt.legend(loc=4)\n",
    "plt.show()"
   ]
  },
  {
   "cell_type": "markdown",
   "metadata": {},
   "source": [
    "This model has the best cross validation score so far all values are above 90%. Again, 102 of the transactions from the test set are identified as fraud. The model was able to predict fraud with a 91% accuracy. The model has failed to identify 16 of the fraud transactions correctly (False negatives) "
   ]
  },
  {
   "cell_type": "code",
   "execution_count": 137,
   "metadata": {},
   "outputs": [
    {
     "name": "stdout",
     "output_type": "stream",
     "text": [
      "{'learning_rate': [0.1, 0.05, 0.02, 0.01], 'max_depth': [4, 6, 8], 'min_samples_leaf': [20, 50, 100, 150]}\n",
      "Fitting 2 folds for each of 48 candidates, totalling 96 fits\n"
     ]
    },
    {
     "name": "stderr",
     "output_type": "stream",
     "text": [
      "[Parallel(n_jobs=10)]: Done  12 tasks      | elapsed:    7.8s\n",
      "[Parallel(n_jobs=10)]: Done  96 out of  96 | elapsed:   23.2s finished\n"
     ]
    }
   ],
   "source": [
    "#train_gs_X, test_gs_X, train_gs_Y, test_gs_Y = train_test_split(new_features, target, random_state=42,train_size=0.1 )\n",
    "# We'll make 500 iterations, use gridsearch to tune parameters.\n",
    "gb_grid_params = {'learning_rate': [0.1, 0.05, 0.02, 0.01],\n",
    "              'max_depth': [4, 6, 8],\n",
    "              'min_samples_leaf': [20, 50,100,150],\n",
    "              #'max_features': [1.0, 0.3, 0.1] \n",
    "              }\n",
    "print(gb_grid_params)\n",
    "\n",
    "gb_gs = ensemble.GradientBoostingClassifier(n_estimators = 500)\n",
    "\n",
    "gb_clf = GridSearchCV(gb_gs,\n",
    "                   gb_grid_params,\n",
    "                   cv=2,\n",
    "                   scoring='roc_auc',\n",
    "                   verbose = 3,\n",
    "                   n_jobs=10);\n",
    "gb_clf.fit(X_train, y_train)\n",
    "predict_train = gb_clf.predict(X_train)\n",
    "predict_test = gb_clf.predict(X_test)"
   ]
  },
  {
   "cell_type": "code",
   "execution_count": 138,
   "metadata": {},
   "outputs": [
    {
     "name": "stdout",
     "output_type": "stream",
     "text": [
      "Fitting 2 folds for each of 48 candidates, totalling 96 fits\n"
     ]
    },
    {
     "name": "stderr",
     "output_type": "stream",
     "text": [
      "[Parallel(n_jobs=10)]: Done  12 tasks      | elapsed:    8.0s\n",
      "[Parallel(n_jobs=10)]: Done  96 out of  96 | elapsed:   22.4s finished\n"
     ]
    },
    {
     "name": "stdout",
     "output_type": "stream",
     "text": [
      "Fitting 2 folds for each of 48 candidates, totalling 96 fits\n"
     ]
    },
    {
     "name": "stderr",
     "output_type": "stream",
     "text": [
      "[Parallel(n_jobs=10)]: Done  12 tasks      | elapsed:    7.8s\n",
      "[Parallel(n_jobs=10)]: Done  96 out of  96 | elapsed:   22.3s finished\n"
     ]
    },
    {
     "name": "stdout",
     "output_type": "stream",
     "text": [
      "Fitting 2 folds for each of 48 candidates, totalling 96 fits\n"
     ]
    },
    {
     "name": "stderr",
     "output_type": "stream",
     "text": [
      "[Parallel(n_jobs=10)]: Done  12 tasks      | elapsed:    7.4s\n",
      "[Parallel(n_jobs=10)]: Done  96 out of  96 | elapsed:   21.8s finished\n"
     ]
    },
    {
     "name": "stdout",
     "output_type": "stream",
     "text": [
      "Fitting 2 folds for each of 48 candidates, totalling 96 fits\n"
     ]
    },
    {
     "name": "stderr",
     "output_type": "stream",
     "text": [
      "[Parallel(n_jobs=10)]: Done  12 tasks      | elapsed:    7.8s\n",
      "[Parallel(n_jobs=10)]: Done  96 out of  96 | elapsed:   22.2s finished\n"
     ]
    },
    {
     "name": "stdout",
     "output_type": "stream",
     "text": [
      "Fitting 2 folds for each of 48 candidates, totalling 96 fits\n"
     ]
    },
    {
     "name": "stderr",
     "output_type": "stream",
     "text": [
      "[Parallel(n_jobs=10)]: Done  12 tasks      | elapsed:    7.7s\n",
      "[Parallel(n_jobs=10)]: Done  96 out of  96 | elapsed:   21.7s finished\n"
     ]
    },
    {
     "name": "stdout",
     "output_type": "stream",
     "text": [
      "[0.99398021 0.97561473 0.94314869 0.98750521 0.93461058]\n",
      "Confusion matrix\n",
      "[[92  3]\n",
      " [13 89]]\n",
      "             precision    recall  f1-score   support\n",
      "\n",
      "          0       0.88      0.97      0.92        95\n",
      "          1       0.97      0.87      0.92       102\n",
      "\n",
      "avg / total       0.92      0.92      0.92       197\n",
      "\n"
     ]
    },
    {
     "data": {
      "image/png": "[encoded data removed]",
      "text/plain": [
       "<Figure size 432x288 with 1 Axes>"
      ]
     },
     "metadata": {},
     "output_type": "display_data"
    }
   ],
   "source": [
    "# Evaluations\n",
    "score_gb = cross_val_score(gb_clf, X, Y, cv=5)\n",
    "print(score_gb)\n",
    "\n",
    "#Confusion matrix for logistics regression classifier\n",
    "print('Confusion matrix')\n",
    "print(confusion_matrix(y_test, predict_test))\n",
    "\n",
    "# Classification report \n",
    "print(classification_report(y_test, predict_test))\n",
    "\n",
    "# AUC\n",
    "y_gb_proba = gb_clf.predict_proba(X_test)[::,1]\n",
    "fpr_gb, tpr_gb, _ = metrics.roc_curve(y_test,  predict_test)\n",
    "auc_gb = metrics.roc_auc_score(y_test, y_gb_proba)\n",
    "plt.plot(fpr_gb,tpr_gb,label='auc_gb='+str(auc_gb))\n",
    "plt.legend(loc=4)\n",
    "plt.show()"
   ]
  },
  {
   "cell_type": "code",
   "execution_count": 139,
   "metadata": {},
   "outputs": [
    {
     "name": "stdout",
     "output_type": "stream",
     "text": [
      "Training set accuracy:\n",
      "Percent Type I errors: 0.0\n",
      "Percent Type II errors: 0.0\n",
      "\n",
      "Test set accuracy:\n",
      "Percent Type I errors: 0.015228426395939087\n",
      "Percent Type II errors: 0.06598984771573604\n"
     ]
    }
   ],
   "source": [
    "# Accuracy tables.\n",
    "table_train = pd.crosstab(y_train, predict_train, margins=True)\n",
    "table_test = pd.crosstab(y_test, predict_test, margins=True)\n",
    "\n",
    "train_tI_errors = table_train.loc[0.0,1.0] / table_train.loc['All','All']\n",
    "train_tII_errors = table_train.loc[1.0,0.0] / table_train.loc['All','All']\n",
    "\n",
    "test_tI_errors = table_test.loc[0.0,1.0]/table_test.loc['All','All']\n",
    "test_tII_errors = table_test.loc[1.0,0.0]/table_test.loc['All','All']\n",
    "\n",
    "print((\n",
    "    'Training set accuracy:\\n'\n",
    "    'Percent Type I errors: {}\\n'\n",
    "    'Percent Type II errors: {}\\n\\n'\n",
    "    'Test set accuracy:\\n'\n",
    "    'Percent Type I errors: {}\\n'\n",
    "    'Percent Type II errors: {}'\n",
    ").format(train_tI_errors, train_tII_errors, test_tI_errors, test_tII_errors))"
   ]
  },
  {
   "cell_type": "markdown",
   "metadata": {},
   "source": [
    "The model has failed to identify 13 of the fraud transactions correctly (False negatives) "
   ]
  },
  {
   "cell_type": "markdown",
   "metadata": {},
   "source": [
    "## Conclusion\n",
    "\n",
    "Because the dataset is highly imbalanced, we have lost a lot of information while resampling to match the two classes. The remaining data is not big enough and does not represent all of the information presented in the original dataset.\n",
    "\n",
    "The most important factor while predicting credit card fraud is to minimize the number of fraud transactions which are identified as good transactions. The vanilla logistics, and lasso clarrifiers have performed better than other models in minimizing the frauds which go undetected. \n",
    "\n",
    "Since the data provided is maily comprised of principal components of the original variables, it's not possible to identify factors which help understand fraud detection or get any other insight. "
   ]
  }
 ],
 "metadata": {
  "kernelspec": {
   "display_name": "Python 3",
   "language": "python",
   "name": "python3"
  },
  "language_info": {
   "codemirror_mode": {
    "name": "ipython",
    "version": 3
   },
   "file_extension": ".py",
   "mimetype": "text/x-python",
   "name": "python",
   "nbconvert_exporter": "python",
   "pygments_lexer": "ipython3",
   "version": "3.6.4"
  }
 },
 "nbformat": 4,
 "nbformat_minor": 2
}
