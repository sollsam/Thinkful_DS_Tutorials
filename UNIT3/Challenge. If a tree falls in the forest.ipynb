{
 "cells": [
  {
   "cell_type": "markdown",
   "metadata": {},
   "source": [
    "## Challenge: If a tree falls in the forest...\n",
    "\n",
    "Comparing Decision Tree and Random Forest algorithms by runtime.\n",
    "\n"
   ]
  },
  {
   "cell_type": "code",
   "execution_count": 1,
   "metadata": {},
   "outputs": [],
   "source": [
    "import pandas as pd\n",
    "import numpy as np\n",
    "import matplotlib.pyplot as plt\n",
    "from sklearn.decomposition import PCA \n",
    "from sklearn.preprocessing import StandardScaler\n",
    "from sklearn.model_selection import cross_val_score\n",
    "from sklearn import tree\n",
    "from sklearn import ensemble\n",
    "from sklearn.feature_selection import SelectKBest\n",
    "from sklearn.feature_selection import chi2\n",
    "from sklearn.tree import DecisionTreeRegressor\n",
    "from sklearn.ensemble import RandomForestRegressor\n",
    "from sklearn.datasets import make_regression\n",
    "from sklearn.model_selection import cross_val_score\n",
    "%matplotlib inline"
   ]
  },
  {
   "cell_type": "code",
   "execution_count": 2,
   "metadata": {},
   "outputs": [],
   "source": [
    "child_care = pd.read_csv(r'C:\\Users\\Omistaja\\nys-children-in-foster-care-annually\\children-in-foster-care-annually-beginning-1994.csv').dropna()"
   ]
  },
  {
   "cell_type": "markdown",
   "metadata": {},
   "source": [
    "The purpose of this data set is to provide information on the total number of admissions and discharges of children in foster care, the type of care they reviece, and other related metrices. The data set can be downloaded here https://www.kaggle.com/new-york-state/nys-children-in-foster-care-annually \n",
    "\n",
    "For this excercise we will tryt to predict Discharges using regressor. "
   ]
  },
  {
   "cell_type": "code",
   "execution_count": 3,
   "metadata": {
    "scrolled": true
   },
   "outputs": [
    {
     "data": {
      "text/html": [
       "<div>\n",
       "<style scoped>\n",
       "    .dataframe tbody tr th:only-of-type {\n",
       "        vertical-align: middle;\n",
       "    }\n",
       "\n",
       "    .dataframe tbody tr th {\n",
       "        vertical-align: top;\n",
       "    }\n",
       "\n",
       "    .dataframe thead th {\n",
       "        text-align: right;\n",
       "    }\n",
       "</style>\n",
       "<table border=\"1\" class=\"dataframe\">\n",
       "  <thead>\n",
       "    <tr style=\"text-align: right;\">\n",
       "      <th></th>\n",
       "      <th>County</th>\n",
       "      <th>Year</th>\n",
       "      <th>Adoptive Home</th>\n",
       "      <th>Agency Operated Boarding Home</th>\n",
       "      <th>Approved Relative Home</th>\n",
       "      <th>Foster Boarding Home</th>\n",
       "      <th>Group Home</th>\n",
       "      <th>Group Residence</th>\n",
       "      <th>Institution</th>\n",
       "      <th>Supervised Independent Living</th>\n",
       "      <th>Other</th>\n",
       "      <th>Total Days In Care</th>\n",
       "      <th>Admissions</th>\n",
       "      <th>Discharges</th>\n",
       "      <th>Children In Care</th>\n",
       "      <th>Number of Children Served</th>\n",
       "      <th>Indicated CPS Reports</th>\n",
       "    </tr>\n",
       "  </thead>\n",
       "  <tbody>\n",
       "    <tr>\n",
       "      <th>0</th>\n",
       "      <td>ALBANY</td>\n",
       "      <td>2017</td>\n",
       "      <td>0</td>\n",
       "      <td>965</td>\n",
       "      <td>2598</td>\n",
       "      <td>48637</td>\n",
       "      <td>5207</td>\n",
       "      <td>1488</td>\n",
       "      <td>16017</td>\n",
       "      <td>692</td>\n",
       "      <td>232</td>\n",
       "      <td>75836</td>\n",
       "      <td>158</td>\n",
       "      <td>130.0</td>\n",
       "      <td>199</td>\n",
       "      <td>402</td>\n",
       "      <td>602.0</td>\n",
       "    </tr>\n",
       "    <tr>\n",
       "      <th>1</th>\n",
       "      <td>ALLEGANY</td>\n",
       "      <td>2017</td>\n",
       "      <td>0</td>\n",
       "      <td>585</td>\n",
       "      <td>5596</td>\n",
       "      <td>11320</td>\n",
       "      <td>0</td>\n",
       "      <td>0</td>\n",
       "      <td>2615</td>\n",
       "      <td>285</td>\n",
       "      <td>0</td>\n",
       "      <td>20401</td>\n",
       "      <td>22</td>\n",
       "      <td>46.0</td>\n",
       "      <td>58</td>\n",
       "      <td>77</td>\n",
       "      <td>89.0</td>\n",
       "    </tr>\n",
       "    <tr>\n",
       "      <th>2</th>\n",
       "      <td>BROOME</td>\n",
       "      <td>2017</td>\n",
       "      <td>0</td>\n",
       "      <td>393</td>\n",
       "      <td>6171</td>\n",
       "      <td>53256</td>\n",
       "      <td>8419</td>\n",
       "      <td>451</td>\n",
       "      <td>13870</td>\n",
       "      <td>3828</td>\n",
       "      <td>468</td>\n",
       "      <td>86856</td>\n",
       "      <td>136</td>\n",
       "      <td>108.0</td>\n",
       "      <td>241</td>\n",
       "      <td>385</td>\n",
       "      <td>1016.0</td>\n",
       "    </tr>\n",
       "    <tr>\n",
       "      <th>3</th>\n",
       "      <td>CATTARAUGUS</td>\n",
       "      <td>2017</td>\n",
       "      <td>0</td>\n",
       "      <td>1006</td>\n",
       "      <td>2747</td>\n",
       "      <td>14925</td>\n",
       "      <td>132</td>\n",
       "      <td>0</td>\n",
       "      <td>3949</td>\n",
       "      <td>106</td>\n",
       "      <td>256</td>\n",
       "      <td>23121</td>\n",
       "      <td>45</td>\n",
       "      <td>80.0</td>\n",
       "      <td>66</td>\n",
       "      <td>113</td>\n",
       "      <td>320.0</td>\n",
       "    </tr>\n",
       "    <tr>\n",
       "      <th>4</th>\n",
       "      <td>CAYUGA</td>\n",
       "      <td>2017</td>\n",
       "      <td>0</td>\n",
       "      <td>337</td>\n",
       "      <td>0</td>\n",
       "      <td>15543</td>\n",
       "      <td>92</td>\n",
       "      <td>155</td>\n",
       "      <td>5067</td>\n",
       "      <td>455</td>\n",
       "      <td>0</td>\n",
       "      <td>21649</td>\n",
       "      <td>40</td>\n",
       "      <td>42.0</td>\n",
       "      <td>58</td>\n",
       "      <td>120</td>\n",
       "      <td>208.0</td>\n",
       "    </tr>\n",
       "  </tbody>\n",
       "</table>\n",
       "</div>"
      ],
      "text/plain": [
       "        County  Year  Adoptive Home  Agency Operated Boarding Home  \\\n",
       "0       ALBANY  2017              0                            965   \n",
       "1     ALLEGANY  2017              0                            585   \n",
       "2       BROOME  2017              0                            393   \n",
       "3  CATTARAUGUS  2017              0                           1006   \n",
       "4       CAYUGA  2017              0                            337   \n",
       "\n",
       "    Approved Relative Home   Foster Boarding Home   Group Home  \\\n",
       "0                     2598                  48637         5207   \n",
       "1                     5596                  11320            0   \n",
       "2                     6171                  53256         8419   \n",
       "3                     2747                  14925          132   \n",
       "4                        0                  15543           92   \n",
       "\n",
       "    Group Residence  Institution   Supervised Independent Living  Other  \\\n",
       "0              1488        16017                             692    232   \n",
       "1                 0         2615                             285      0   \n",
       "2               451        13870                            3828    468   \n",
       "3                 0         3949                             106    256   \n",
       "4               155         5067                             455      0   \n",
       "\n",
       "   Total Days In Care  Admissions  Discharges  Children In Care  \\\n",
       "0               75836         158       130.0               199   \n",
       "1               20401          22        46.0                58   \n",
       "2               86856         136       108.0               241   \n",
       "3               23121          45        80.0                66   \n",
       "4               21649          40        42.0                58   \n",
       "\n",
       "   Number of Children Served  Indicated CPS Reports  \n",
       "0                        402                  602.0  \n",
       "1                         77                   89.0  \n",
       "2                        385                 1016.0  \n",
       "3                        113                  320.0  \n",
       "4                        120                  208.0  "
      ]
     },
     "execution_count": 3,
     "metadata": {},
     "output_type": "execute_result"
    }
   ],
   "source": [
    "child_care.head()"
   ]
  },
  {
   "cell_type": "code",
   "execution_count": 4,
   "metadata": {},
   "outputs": [],
   "source": [
    "# lets avoid the only non numeric column\n",
    "child_care = child_care.drop('County', 1)"
   ]
  },
  {
   "cell_type": "code",
   "execution_count": 5,
   "metadata": {},
   "outputs": [
    {
     "data": {
      "text/plain": [
       "(1403, 16)"
      ]
     },
     "execution_count": 5,
     "metadata": {},
     "output_type": "execute_result"
    }
   ],
   "source": [
    "child_care.shape"
   ]
  },
  {
   "cell_type": "code",
   "execution_count": 6,
   "metadata": {
    "scrolled": true
   },
   "outputs": [
    {
     "data": {
      "text/plain": [
       "Year                                int64\n",
       "Adoptive Home                       int64\n",
       "Agency Operated Boarding Home       int64\n",
       " Approved Relative Home             int64\n",
       " Foster Boarding Home               int64\n",
       " Group Home                         int64\n",
       " Group Residence                    int64\n",
       "Institution                         int64\n",
       " Supervised Independent Living      int64\n",
       "Other                               int64\n",
       "Total Days In Care                  int64\n",
       "Admissions                          int64\n",
       "Discharges                        float64\n",
       "Children In Care                    int64\n",
       "Number of Children Served           int64\n",
       "Indicated CPS Reports             float64\n",
       "dtype: object"
      ]
     },
     "execution_count": 6,
     "metadata": {},
     "output_type": "execute_result"
    }
   ],
   "source": [
    "# Check data type\n",
    "child_care.dtypes"
   ]
  },
  {
   "cell_type": "markdown",
   "metadata": {},
   "source": [
    "### Comparing Random Forest and Decision Tree algorithms \n",
    "\n",
    "### 1. Using the raw data\n"
   ]
  },
  {
   "cell_type": "code",
   "execution_count": 7,
   "metadata": {},
   "outputs": [],
   "source": [
    "# Let's use all variables and apply pca \n",
    "X = child_care.drop('Discharges', 1)\n",
    "Y = child_care['Discharges'] "
   ]
  },
  {
   "cell_type": "code",
   "execution_count": 8,
   "metadata": {},
   "outputs": [],
   "source": [
    "from sklearn.model_selection import train_test_split\n",
    "x_train, x_test, y_train, y_test = train_test_split(X, Y, test_size = 0.2, random_state = 0)"
   ]
  },
  {
   "cell_type": "markdown",
   "metadata": {},
   "source": [
    "#### Decision tree"
   ]
  },
  {
   "cell_type": "code",
   "execution_count": 9,
   "metadata": {},
   "outputs": [
    {
     "name": "stdout",
     "output_type": "stream",
     "text": [
      "[0.99204767 0.97316862 0.98373446 0.99065008 0.99389431 0.97821466\n",
      " 0.97143231 0.99305388 0.9960625  0.99786922]\n",
      "--- 0.21862741333333333 seconds ---\n"
     ]
    }
   ],
   "source": [
    "import time\n",
    "start_time = time.clock()\n",
    "regressor = DecisionTreeRegressor(random_state=0)\n",
    "regressor.fit(x_train, y_train)\n",
    "y_ = regressor.predict(x_test)\n",
    "\n",
    "score_tree = cross_val_score(regressor, X, Y, cv=10)\n",
    "print(score_tree)\n",
    "print(\"--- %s seconds ---\" % (time.clock() - start_time))"
   ]
  },
  {
   "cell_type": "markdown",
   "metadata": {},
   "source": [
    "#### Random forest"
   ]
  },
  {
   "cell_type": "code",
   "execution_count": 11,
   "metadata": {},
   "outputs": [
    {
     "name": "stdout",
     "output_type": "stream",
     "text": [
      "[0.97384792 0.99067861 0.98255792 0.98671177 0.99496693 0.95606318\n",
      " 0.99355206 0.98872688 0.99741922 0.99559668]\n",
      "--- 0.5375270399999863 seconds ---\n"
     ]
    }
   ],
   "source": [
    "start_time = time.clock()\n",
    "x_train, y_train = make_regression(n_features=15, n_informative=2, random_state=0, shuffle=False)\n",
    "regr = RandomForestRegressor(max_depth=5, random_state=0)\n",
    "regr.fit(x_train, y_train)\n",
    "Y_ = regr.predict(x_test)\n",
    "\n",
    "score_forest = cross_val_score(regr, X, Y, cv=10)\n",
    "print(score_forest)\n",
    "print(\"--- %s seconds ---\" % (time.clock() - start_time))"
   ]
  },
  {
   "cell_type": "markdown",
   "metadata": {},
   "source": [
    "The random forest algorithm takes more than twice as much time to run as the decision tree algorithm. "
   ]
  },
  {
   "cell_type": "markdown",
   "metadata": {},
   "source": [
    "### 2.Using PCA "
   ]
  },
  {
   "cell_type": "code",
   "execution_count": 12,
   "metadata": {},
   "outputs": [],
   "source": [
    "# pca requires this \n",
    "X_nor = StandardScaler().fit_transform(X)"
   ]
  },
  {
   "cell_type": "code",
   "execution_count": 13,
   "metadata": {},
   "outputs": [],
   "source": [
    "# five components explain allmost all of the varience \n",
    "pca =PCA(n_components=5)"
   ]
  },
  {
   "cell_type": "code",
   "execution_count": 14,
   "metadata": {},
   "outputs": [
    {
     "name": "stdout",
     "output_type": "stream",
     "text": [
      "[0.77383099 0.84847266 0.91104799 0.95564556 0.98262387]\n"
     ]
    }
   ],
   "source": [
    "X_pca = pca.fit_transform(X_nor)\n",
    "print(pca.explained_variance_ratio_.cumsum())"
   ]
  },
  {
   "cell_type": "code",
   "execution_count": 15,
   "metadata": {},
   "outputs": [],
   "source": [
    "X_train1, X_test1, Y_train1, Y_test1 = train_test_split(X_pca, Y, test_size = 0.2, random_state = 0)"
   ]
  },
  {
   "cell_type": "markdown",
   "metadata": {},
   "source": [
    "#### Decision Tree"
   ]
  },
  {
   "cell_type": "code",
   "execution_count": 16,
   "metadata": {},
   "outputs": [
    {
     "name": "stdout",
     "output_type": "stream",
     "text": [
      "[0.98415518 0.99257293 0.98497597 0.99485666 0.97473199 0.98455885\n",
      " 0.97402008 0.99235562 0.99558184 0.99329543]\n",
      "--- 0.10849493333333271 seconds ---\n"
     ]
    }
   ],
   "source": [
    "start_time = time.clock()\n",
    "regr2 = DecisionTreeRegressor(random_state=0)\n",
    "regr2.fit(X_train1, Y_train1)\n",
    "y_ = regr2.predict(X_test1)\n",
    "\n",
    "score_tree = cross_val_score(regr2, X_pca, Y, cv=10)\n",
    "print(score_tree)\n",
    "print(\"--- %s seconds ---\" % (time.clock() - start_time))"
   ]
  },
  {
   "cell_type": "markdown",
   "metadata": {},
   "source": [
    "#### Random Forest"
   ]
  },
  {
   "cell_type": "code",
   "execution_count": 17,
   "metadata": {},
   "outputs": [
    {
     "name": "stdout",
     "output_type": "stream",
     "text": [
      "[0.96694004 0.99648392 0.9682422  0.9890833  0.99339856 0.9898025\n",
      " 0.97701399 0.98006366 0.99864959 0.99498602]\n",
      "--- 0.30844159999999476 seconds ---\n"
     ]
    }
   ],
   "source": [
    "start_time = time.clock()\n",
    "X_train1, Y_train1 = make_regression(n_features=5, n_informative=2, random_state=0, shuffle=False)\n",
    "regr3 = RandomForestRegressor(max_depth=5, random_state=0)\n",
    "regr3.fit(X_train1, Y_train1)\n",
    "Y_ = regr3.predict(X_test1)\n",
    "\n",
    "score_forest = cross_val_score(regr3, X_pca, Y, cv=10)\n",
    "print(score_forest)\n",
    "print(\"--- %s seconds ---\" % (time.clock() - start_time))"
   ]
  },
  {
   "cell_type": "markdown",
   "metadata": {},
   "source": [
    "The randon forest algorithm takes more time to run. "
   ]
  },
  {
   "cell_type": "markdown",
   "metadata": {},
   "source": [
    "### 3. Using Select K best"
   ]
  },
  {
   "cell_type": "code",
   "execution_count": 19,
   "metadata": {},
   "outputs": [],
   "source": [
    "# using chi squared test to select best features\n",
    "selection = SelectKBest(score_func=chi2, k=5)\n",
    "X_features = selection.fit(X, Y).transform(X)"
   ]
  },
  {
   "cell_type": "code",
   "execution_count": 20,
   "metadata": {},
   "outputs": [],
   "source": [
    "x_train2, x_test2, y_train2, y_tes2 = train_test_split(X_features, Y, test_size = 0.2, random_state = 0)"
   ]
  },
  {
   "cell_type": "markdown",
   "metadata": {},
   "source": [
    "#### Decision Tree"
   ]
  },
  {
   "cell_type": "code",
   "execution_count": 21,
   "metadata": {},
   "outputs": [
    {
     "name": "stdout",
     "output_type": "stream",
     "text": [
      "[0.99056243 0.9852936  0.98309361 0.98995698 0.99314615 0.97287147\n",
      " 0.96304211 0.99264767 0.99570308 0.99722881]\n",
      "--- 0.10223701333333679 seconds ---\n"
     ]
    }
   ],
   "source": [
    "start_time = time.clock()\n",
    "regr5 = DecisionTreeRegressor(random_state=0)\n",
    "regr5.fit(x_train2, y_train2)\n",
    "y_ = regr5.predict(x_test2)\n",
    "\n",
    "score_tree = cross_val_score(regr5, X_features, Y, cv=10)\n",
    "print(score_tree)\n",
    "print(\"--- %s seconds ---\" % (time.clock() - start_time))"
   ]
  },
  {
   "cell_type": "markdown",
   "metadata": {},
   "source": [
    "#### Random Forest "
   ]
  },
  {
   "cell_type": "code",
   "execution_count": 22,
   "metadata": {},
   "outputs": [
    {
     "name": "stdout",
     "output_type": "stream",
     "text": [
      "[0.98669888 0.99572783 0.99588006 0.99061081 0.99727062 0.98528803\n",
      " 0.99519749 0.99665789 0.99783617 0.9933284 ]\n",
      "--- 0.3049881599999935 seconds ---\n"
     ]
    }
   ],
   "source": [
    "start_time = time.clock()\n",
    "x_train2, y_train2 = make_regression(n_features=5, n_informative=2, random_state=0, shuffle=False)\n",
    "regr4 = RandomForestRegressor(max_depth=5, random_state=0)\n",
    "regr4.fit(x_train2, y_train2)\n",
    "Y_ = regr4.predict(x_test2)\n",
    "\n",
    "score_forest = cross_val_score(regr4, X_features, Y, cv=10)\n",
    "print(score_forest)\n",
    "print(\"--- %s seconds ---\" % (time.clock() - start_time))"
   ]
  },
  {
   "cell_type": "markdown",
   "metadata": {},
   "source": [
    "Both models have very igh accuracy and the Random Forest algorithm takes more than twice time to excute than the Decision Tree algorithm. This data sets has only 1403 rows and I expect that the difference in the time it takes the two algorithms to excute will be much bigger with larger data sets.   "
   ]
  }
 ],
 "metadata": {
  "kernelspec": {
   "display_name": "Python 3",
   "language": "python",
   "name": "python3"
  },
  "language_info": {
   "codemirror_mode": {
    "name": "ipython",
    "version": 3
   },
   "file_extension": ".py",
   "mimetype": "text/x-python",
   "name": "python",
   "nbconvert_exporter": "python",
   "pygments_lexer": "ipython3",
   "version": "3.6.4"
  }
 },
 "nbformat": 4,
 "nbformat_minor": 2
}
