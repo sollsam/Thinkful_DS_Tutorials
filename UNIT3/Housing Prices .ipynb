{
 "cells": [
  {
   "cell_type": "markdown",
   "metadata": {},
   "source": [
    "# Predicting Melbourne Housing Prices \n",
    "\n",
    "Create a model to predict a house's value. We want to be able to understand what creates value in a house, as though we were a real estate developer."
   ]
  },
  {
   "cell_type": "code",
   "execution_count": 76,
   "metadata": {},
   "outputs": [],
   "source": [
    "# Import Libraries \n",
    "\n",
    "import numpy as np\n",
    "import pandas as pd\n",
    "import matplotlib.pyplot as plt\n",
    "import seaborn as sns\n",
    "import time\n",
    "from sklearn.decomposition import PCA \n",
    "\n",
    "#Regressors\n",
    "from sklearn.linear_model import LinearRegression\n",
    "from sklearn.neighbors import KNeighborsRegressor\n",
    "from sklearn.linear_model import LogisticRegression\n",
    "from sklearn.tree import DecisionTreeRegressor\n",
    "from sklearn.ensemble import RandomForestRegressor\n",
    "from sklearn.linear_model import Ridge, Lasso \n",
    "from sklearn.svm import SVR\n",
    "from sklearn.ensemble import GradientBoostingRegressor\n",
    "\n",
    "\n",
    "from sklearn.metrics import mean_squared_error\n",
    "from sklearn.preprocessing import StandardScaler\n",
    "from sklearn.feature_selection import SelectKBest\n",
    "from sklearn.model_selection import GridSearchCV\n",
    "from sklearn.model_selection import train_test_split\n",
    "from sklearn import preprocessing\n",
    "from sklearn.metrics import r2_score\n",
    "from sklearn.model_selection import cross_val_score\n",
    "%matplotlib inline \n",
    "sns.set_style('white')"
   ]
  },
  {
   "cell_type": "code",
   "execution_count": 2,
   "metadata": {
    "scrolled": false
   },
   "outputs": [
    {
     "data": {
      "text/html": [
       "<div>\n",
       "<style scoped>\n",
       "    .dataframe tbody tr th:only-of-type {\n",
       "        vertical-align: middle;\n",
       "    }\n",
       "\n",
       "    .dataframe tbody tr th {\n",
       "        vertical-align: top;\n",
       "    }\n",
       "\n",
       "    .dataframe thead th {\n",
       "        text-align: right;\n",
       "    }\n",
       "</style>\n",
       "<table border=\"1\" class=\"dataframe\">\n",
       "  <thead>\n",
       "    <tr style=\"text-align: right;\">\n",
       "      <th></th>\n",
       "      <th>Suburb</th>\n",
       "      <th>Address</th>\n",
       "      <th>Rooms</th>\n",
       "      <th>Type</th>\n",
       "      <th>Price</th>\n",
       "      <th>Method</th>\n",
       "      <th>SellerG</th>\n",
       "      <th>Date</th>\n",
       "      <th>Distance</th>\n",
       "      <th>Postcode</th>\n",
       "      <th>Bedroom2</th>\n",
       "      <th>Bathroom</th>\n",
       "      <th>Car</th>\n",
       "      <th>Landsize</th>\n",
       "      <th>BuildingArea</th>\n",
       "      <th>YearBuilt</th>\n",
       "      <th>CouncilArea</th>\n",
       "      <th>Lattitude</th>\n",
       "      <th>Longtitude</th>\n",
       "      <th>Regionname</th>\n",
       "      <th>Propertycount</th>\n",
       "    </tr>\n",
       "  </thead>\n",
       "  <tbody>\n",
       "    <tr>\n",
       "      <th>0</th>\n",
       "      <td>Abbotsford</td>\n",
       "      <td>68 Studley St</td>\n",
       "      <td>2</td>\n",
       "      <td>h</td>\n",
       "      <td>NaN</td>\n",
       "      <td>SS</td>\n",
       "      <td>Jellis</td>\n",
       "      <td>3/09/2016</td>\n",
       "      <td>2.5</td>\n",
       "      <td>3067.0</td>\n",
       "      <td>2.0</td>\n",
       "      <td>1.0</td>\n",
       "      <td>1.0</td>\n",
       "      <td>126.0</td>\n",
       "      <td>NaN</td>\n",
       "      <td>NaN</td>\n",
       "      <td>Yarra City Council</td>\n",
       "      <td>-37.8014</td>\n",
       "      <td>144.9958</td>\n",
       "      <td>Northern Metropolitan</td>\n",
       "      <td>4019.0</td>\n",
       "    </tr>\n",
       "    <tr>\n",
       "      <th>1</th>\n",
       "      <td>Abbotsford</td>\n",
       "      <td>85 Turner St</td>\n",
       "      <td>2</td>\n",
       "      <td>h</td>\n",
       "      <td>1480000.0</td>\n",
       "      <td>S</td>\n",
       "      <td>Biggin</td>\n",
       "      <td>3/12/2016</td>\n",
       "      <td>2.5</td>\n",
       "      <td>3067.0</td>\n",
       "      <td>2.0</td>\n",
       "      <td>1.0</td>\n",
       "      <td>1.0</td>\n",
       "      <td>202.0</td>\n",
       "      <td>NaN</td>\n",
       "      <td>NaN</td>\n",
       "      <td>Yarra City Council</td>\n",
       "      <td>-37.7996</td>\n",
       "      <td>144.9984</td>\n",
       "      <td>Northern Metropolitan</td>\n",
       "      <td>4019.0</td>\n",
       "    </tr>\n",
       "    <tr>\n",
       "      <th>2</th>\n",
       "      <td>Abbotsford</td>\n",
       "      <td>25 Bloomburg St</td>\n",
       "      <td>2</td>\n",
       "      <td>h</td>\n",
       "      <td>1035000.0</td>\n",
       "      <td>S</td>\n",
       "      <td>Biggin</td>\n",
       "      <td>4/02/2016</td>\n",
       "      <td>2.5</td>\n",
       "      <td>3067.0</td>\n",
       "      <td>2.0</td>\n",
       "      <td>1.0</td>\n",
       "      <td>0.0</td>\n",
       "      <td>156.0</td>\n",
       "      <td>79.0</td>\n",
       "      <td>1900.0</td>\n",
       "      <td>Yarra City Council</td>\n",
       "      <td>-37.8079</td>\n",
       "      <td>144.9934</td>\n",
       "      <td>Northern Metropolitan</td>\n",
       "      <td>4019.0</td>\n",
       "    </tr>\n",
       "    <tr>\n",
       "      <th>3</th>\n",
       "      <td>Abbotsford</td>\n",
       "      <td>18/659 Victoria St</td>\n",
       "      <td>3</td>\n",
       "      <td>u</td>\n",
       "      <td>NaN</td>\n",
       "      <td>VB</td>\n",
       "      <td>Rounds</td>\n",
       "      <td>4/02/2016</td>\n",
       "      <td>2.5</td>\n",
       "      <td>3067.0</td>\n",
       "      <td>3.0</td>\n",
       "      <td>2.0</td>\n",
       "      <td>1.0</td>\n",
       "      <td>0.0</td>\n",
       "      <td>NaN</td>\n",
       "      <td>NaN</td>\n",
       "      <td>Yarra City Council</td>\n",
       "      <td>-37.8114</td>\n",
       "      <td>145.0116</td>\n",
       "      <td>Northern Metropolitan</td>\n",
       "      <td>4019.0</td>\n",
       "    </tr>\n",
       "    <tr>\n",
       "      <th>4</th>\n",
       "      <td>Abbotsford</td>\n",
       "      <td>5 Charles St</td>\n",
       "      <td>3</td>\n",
       "      <td>h</td>\n",
       "      <td>1465000.0</td>\n",
       "      <td>SP</td>\n",
       "      <td>Biggin</td>\n",
       "      <td>4/03/2017</td>\n",
       "      <td>2.5</td>\n",
       "      <td>3067.0</td>\n",
       "      <td>3.0</td>\n",
       "      <td>2.0</td>\n",
       "      <td>0.0</td>\n",
       "      <td>134.0</td>\n",
       "      <td>150.0</td>\n",
       "      <td>1900.0</td>\n",
       "      <td>Yarra City Council</td>\n",
       "      <td>-37.8093</td>\n",
       "      <td>144.9944</td>\n",
       "      <td>Northern Metropolitan</td>\n",
       "      <td>4019.0</td>\n",
       "    </tr>\n",
       "  </tbody>\n",
       "</table>\n",
       "</div>"
      ],
      "text/plain": [
       "       Suburb             Address  Rooms Type      Price Method SellerG  \\\n",
       "0  Abbotsford       68 Studley St      2    h        NaN     SS  Jellis   \n",
       "1  Abbotsford        85 Turner St      2    h  1480000.0      S  Biggin   \n",
       "2  Abbotsford     25 Bloomburg St      2    h  1035000.0      S  Biggin   \n",
       "3  Abbotsford  18/659 Victoria St      3    u        NaN     VB  Rounds   \n",
       "4  Abbotsford        5 Charles St      3    h  1465000.0     SP  Biggin   \n",
       "\n",
       "        Date  Distance  Postcode  Bedroom2  Bathroom  Car  Landsize  \\\n",
       "0  3/09/2016       2.5    3067.0       2.0       1.0  1.0     126.0   \n",
       "1  3/12/2016       2.5    3067.0       2.0       1.0  1.0     202.0   \n",
       "2  4/02/2016       2.5    3067.0       2.0       1.0  0.0     156.0   \n",
       "3  4/02/2016       2.5    3067.0       3.0       2.0  1.0       0.0   \n",
       "4  4/03/2017       2.5    3067.0       3.0       2.0  0.0     134.0   \n",
       "\n",
       "   BuildingArea  YearBuilt         CouncilArea  Lattitude  Longtitude  \\\n",
       "0           NaN        NaN  Yarra City Council   -37.8014    144.9958   \n",
       "1           NaN        NaN  Yarra City Council   -37.7996    144.9984   \n",
       "2          79.0     1900.0  Yarra City Council   -37.8079    144.9934   \n",
       "3           NaN        NaN  Yarra City Council   -37.8114    145.0116   \n",
       "4         150.0     1900.0  Yarra City Council   -37.8093    144.9944   \n",
       "\n",
       "              Regionname  Propertycount  \n",
       "0  Northern Metropolitan         4019.0  \n",
       "1  Northern Metropolitan         4019.0  \n",
       "2  Northern Metropolitan         4019.0  \n",
       "3  Northern Metropolitan         4019.0  \n",
       "4  Northern Metropolitan         4019.0  "
      ]
     },
     "execution_count": 2,
     "metadata": {},
     "output_type": "execute_result"
    }
   ],
   "source": [
    "# load and preview data set \n",
    "housing_original = pd.read_csv('Melbourne_housing_FULL.csv')\n",
    "pd.options.display.max_columns = 50\n",
    "housing_original.head()"
   ]
  },
  {
   "cell_type": "markdown",
   "metadata": {},
   "source": [
    "### About the Data\n",
    "\n",
    "Suburb: Suburb\n",
    "\n",
    "Address: Address\n",
    "\n",
    "Rooms: Number of rooms\n",
    "\n",
    "Price: Price in Australian dollars\n",
    "\n",
    "Method: S - property sold; SP - property sold prior; PI - property passed in; PN - sold prior not disclosed; SN - sold not disclosed; NB - no bid; VB - vendor bid; W - withdrawn prior to auction; SA - sold after auction; SS - sold after auction price not disclosed. N/A - price or highest bid not available.\n",
    "\n",
    "Type: br - bedroom(s); h - house,cottage,villa, semi,terrace; u - unit, duplex; t - townhouse; dev site - development site; o res - other residential.\n",
    "\n",
    "SellerG: Real Estate Agent\n",
    "\n",
    "Date: Date sold\n",
    "\n",
    "Distance: Distance from CBD in Kilometres\n",
    "\n",
    "Regionname: General Region (West, North West, North, North east ...etc)\n",
    "\n",
    "Propertycount: Number of properties that exist in the suburb.\n",
    "\n",
    "Bedroom2 : Scraped # of Bedrooms (from different source)\n",
    "\n",
    "Bathroom: Number of Bathrooms\n",
    "\n",
    "Car: Number of carspots\n",
    "\n",
    "Landsize: Land Size in Metres\n",
    "\n",
    "BuildingArea: Building Size in Metres\n",
    "\n",
    "YearBuilt: Year the house was built\n",
    "\n",
    "CouncilArea: Governing council for the area\n",
    "\n",
    "Lattitude: Self explanitory\n",
    "\n",
    "Longtitude: Self explanitory"
   ]
  },
  {
   "cell_type": "markdown",
   "metadata": {},
   "source": [
    "### Data Exploration and Feature Engineering "
   ]
  },
  {
   "cell_type": "code",
   "execution_count": 3,
   "metadata": {},
   "outputs": [
    {
     "data": {
      "text/plain": [
       "(34857, 21)"
      ]
     },
     "execution_count": 3,
     "metadata": {},
     "output_type": "execute_result"
    }
   ],
   "source": [
    "# Check shape of the data \n",
    "housing_original.shape"
   ]
  },
  {
   "cell_type": "code",
   "execution_count": 4,
   "metadata": {},
   "outputs": [
    {
     "name": "stdout",
     "output_type": "stream",
     "text": [
      "<class 'pandas.core.frame.DataFrame'>\n",
      "RangeIndex: 34857 entries, 0 to 34856\n",
      "Data columns (total 21 columns):\n",
      "Suburb           34857 non-null object\n",
      "Address          34857 non-null object\n",
      "Rooms            34857 non-null int64\n",
      "Type             34857 non-null object\n",
      "Price            27247 non-null float64\n",
      "Method           34857 non-null object\n",
      "SellerG          34857 non-null object\n",
      "Date             34857 non-null object\n",
      "Distance         34856 non-null float64\n",
      "Postcode         34856 non-null float64\n",
      "Bedroom2         26640 non-null float64\n",
      "Bathroom         26631 non-null float64\n",
      "Car              26129 non-null float64\n",
      "Landsize         23047 non-null float64\n",
      "BuildingArea     13742 non-null float64\n",
      "YearBuilt        15551 non-null float64\n",
      "CouncilArea      34854 non-null object\n",
      "Lattitude        26881 non-null float64\n",
      "Longtitude       26881 non-null float64\n",
      "Regionname       34854 non-null object\n",
      "Propertycount    34854 non-null float64\n",
      "dtypes: float64(12), int64(1), object(8)\n",
      "memory usage: 5.6+ MB\n"
     ]
    }
   ],
   "source": [
    "housing_original.info()"
   ]
  },
  {
   "cell_type": "code",
   "execution_count": 5,
   "metadata": {},
   "outputs": [],
   "source": [
    "# Converting date to a date object\n",
    "housing_original['Date'] = pd.to_datetime(housing_original['Date'])"
   ]
  },
  {
   "cell_type": "code",
   "execution_count": 6,
   "metadata": {
    "scrolled": true
   },
   "outputs": [
    {
     "data": {
      "text/html": [
       "<div>\n",
       "<style scoped>\n",
       "    .dataframe tbody tr th:only-of-type {\n",
       "        vertical-align: middle;\n",
       "    }\n",
       "\n",
       "    .dataframe tbody tr th {\n",
       "        vertical-align: top;\n",
       "    }\n",
       "\n",
       "    .dataframe thead th {\n",
       "        text-align: right;\n",
       "    }\n",
       "</style>\n",
       "<table border=\"1\" class=\"dataframe\">\n",
       "  <thead>\n",
       "    <tr style=\"text-align: right;\">\n",
       "      <th></th>\n",
       "      <th>Rooms</th>\n",
       "      <th>Price</th>\n",
       "      <th>Distance</th>\n",
       "      <th>Postcode</th>\n",
       "      <th>Bedroom2</th>\n",
       "      <th>Bathroom</th>\n",
       "      <th>Car</th>\n",
       "      <th>Landsize</th>\n",
       "      <th>BuildingArea</th>\n",
       "      <th>YearBuilt</th>\n",
       "      <th>Lattitude</th>\n",
       "      <th>Longtitude</th>\n",
       "      <th>Propertycount</th>\n",
       "    </tr>\n",
       "  </thead>\n",
       "  <tbody>\n",
       "    <tr>\n",
       "      <th>count</th>\n",
       "      <td>34857.000000</td>\n",
       "      <td>2.724700e+04</td>\n",
       "      <td>34856.000000</td>\n",
       "      <td>34856.000000</td>\n",
       "      <td>26640.000000</td>\n",
       "      <td>26631.000000</td>\n",
       "      <td>26129.000000</td>\n",
       "      <td>23047.000000</td>\n",
       "      <td>13742.00000</td>\n",
       "      <td>15551.000000</td>\n",
       "      <td>26881.000000</td>\n",
       "      <td>26881.000000</td>\n",
       "      <td>34854.000000</td>\n",
       "    </tr>\n",
       "    <tr>\n",
       "      <th>mean</th>\n",
       "      <td>3.031012</td>\n",
       "      <td>1.050173e+06</td>\n",
       "      <td>11.184929</td>\n",
       "      <td>3116.062859</td>\n",
       "      <td>3.084647</td>\n",
       "      <td>1.624798</td>\n",
       "      <td>1.728845</td>\n",
       "      <td>593.598993</td>\n",
       "      <td>160.25640</td>\n",
       "      <td>1965.289885</td>\n",
       "      <td>-37.810634</td>\n",
       "      <td>145.001851</td>\n",
       "      <td>7572.888306</td>\n",
       "    </tr>\n",
       "    <tr>\n",
       "      <th>std</th>\n",
       "      <td>0.969933</td>\n",
       "      <td>6.414671e+05</td>\n",
       "      <td>6.788892</td>\n",
       "      <td>109.023903</td>\n",
       "      <td>0.980690</td>\n",
       "      <td>0.724212</td>\n",
       "      <td>1.010771</td>\n",
       "      <td>3398.841946</td>\n",
       "      <td>401.26706</td>\n",
       "      <td>37.328178</td>\n",
       "      <td>0.090279</td>\n",
       "      <td>0.120169</td>\n",
       "      <td>4428.090313</td>\n",
       "    </tr>\n",
       "    <tr>\n",
       "      <th>min</th>\n",
       "      <td>1.000000</td>\n",
       "      <td>8.500000e+04</td>\n",
       "      <td>0.000000</td>\n",
       "      <td>3000.000000</td>\n",
       "      <td>0.000000</td>\n",
       "      <td>0.000000</td>\n",
       "      <td>0.000000</td>\n",
       "      <td>0.000000</td>\n",
       "      <td>0.00000</td>\n",
       "      <td>1196.000000</td>\n",
       "      <td>-38.190430</td>\n",
       "      <td>144.423790</td>\n",
       "      <td>83.000000</td>\n",
       "    </tr>\n",
       "    <tr>\n",
       "      <th>25%</th>\n",
       "      <td>2.000000</td>\n",
       "      <td>6.350000e+05</td>\n",
       "      <td>6.400000</td>\n",
       "      <td>3051.000000</td>\n",
       "      <td>2.000000</td>\n",
       "      <td>1.000000</td>\n",
       "      <td>1.000000</td>\n",
       "      <td>224.000000</td>\n",
       "      <td>102.00000</td>\n",
       "      <td>1940.000000</td>\n",
       "      <td>-37.862950</td>\n",
       "      <td>144.933500</td>\n",
       "      <td>4385.000000</td>\n",
       "    </tr>\n",
       "    <tr>\n",
       "      <th>50%</th>\n",
       "      <td>3.000000</td>\n",
       "      <td>8.700000e+05</td>\n",
       "      <td>10.300000</td>\n",
       "      <td>3103.000000</td>\n",
       "      <td>3.000000</td>\n",
       "      <td>2.000000</td>\n",
       "      <td>2.000000</td>\n",
       "      <td>521.000000</td>\n",
       "      <td>136.00000</td>\n",
       "      <td>1970.000000</td>\n",
       "      <td>-37.807600</td>\n",
       "      <td>145.007800</td>\n",
       "      <td>6763.000000</td>\n",
       "    </tr>\n",
       "    <tr>\n",
       "      <th>75%</th>\n",
       "      <td>4.000000</td>\n",
       "      <td>1.295000e+06</td>\n",
       "      <td>14.000000</td>\n",
       "      <td>3156.000000</td>\n",
       "      <td>4.000000</td>\n",
       "      <td>2.000000</td>\n",
       "      <td>2.000000</td>\n",
       "      <td>670.000000</td>\n",
       "      <td>188.00000</td>\n",
       "      <td>2000.000000</td>\n",
       "      <td>-37.754100</td>\n",
       "      <td>145.071900</td>\n",
       "      <td>10412.000000</td>\n",
       "    </tr>\n",
       "    <tr>\n",
       "      <th>max</th>\n",
       "      <td>16.000000</td>\n",
       "      <td>1.120000e+07</td>\n",
       "      <td>48.100000</td>\n",
       "      <td>3978.000000</td>\n",
       "      <td>30.000000</td>\n",
       "      <td>12.000000</td>\n",
       "      <td>26.000000</td>\n",
       "      <td>433014.000000</td>\n",
       "      <td>44515.00000</td>\n",
       "      <td>2106.000000</td>\n",
       "      <td>-37.390200</td>\n",
       "      <td>145.526350</td>\n",
       "      <td>21650.000000</td>\n",
       "    </tr>\n",
       "  </tbody>\n",
       "</table>\n",
       "</div>"
      ],
      "text/plain": [
       "              Rooms         Price      Distance      Postcode      Bedroom2  \\\n",
       "count  34857.000000  2.724700e+04  34856.000000  34856.000000  26640.000000   \n",
       "mean       3.031012  1.050173e+06     11.184929   3116.062859      3.084647   \n",
       "std        0.969933  6.414671e+05      6.788892    109.023903      0.980690   \n",
       "min        1.000000  8.500000e+04      0.000000   3000.000000      0.000000   \n",
       "25%        2.000000  6.350000e+05      6.400000   3051.000000      2.000000   \n",
       "50%        3.000000  8.700000e+05     10.300000   3103.000000      3.000000   \n",
       "75%        4.000000  1.295000e+06     14.000000   3156.000000      4.000000   \n",
       "max       16.000000  1.120000e+07     48.100000   3978.000000     30.000000   \n",
       "\n",
       "           Bathroom           Car       Landsize  BuildingArea     YearBuilt  \\\n",
       "count  26631.000000  26129.000000   23047.000000   13742.00000  15551.000000   \n",
       "mean       1.624798      1.728845     593.598993     160.25640   1965.289885   \n",
       "std        0.724212      1.010771    3398.841946     401.26706     37.328178   \n",
       "min        0.000000      0.000000       0.000000       0.00000   1196.000000   \n",
       "25%        1.000000      1.000000     224.000000     102.00000   1940.000000   \n",
       "50%        2.000000      2.000000     521.000000     136.00000   1970.000000   \n",
       "75%        2.000000      2.000000     670.000000     188.00000   2000.000000   \n",
       "max       12.000000     26.000000  433014.000000   44515.00000   2106.000000   \n",
       "\n",
       "          Lattitude    Longtitude  Propertycount  \n",
       "count  26881.000000  26881.000000   34854.000000  \n",
       "mean     -37.810634    145.001851    7572.888306  \n",
       "std        0.090279      0.120169    4428.090313  \n",
       "min      -38.190430    144.423790      83.000000  \n",
       "25%      -37.862950    144.933500    4385.000000  \n",
       "50%      -37.807600    145.007800    6763.000000  \n",
       "75%      -37.754100    145.071900   10412.000000  \n",
       "max      -37.390200    145.526350   21650.000000  "
      ]
     },
     "execution_count": 6,
     "metadata": {},
     "output_type": "execute_result"
    }
   ],
   "source": [
    "# Examine properties of variebles \n",
    "housing_original.describe()"
   ]
  },
  {
   "cell_type": "markdown",
   "metadata": {},
   "source": [
    "We can see that some of the values are not accurate. There are houses whose bathroom count is zero, building area is zero, and built in year 2106. let's examine them more and fix the error. "
   ]
  },
  {
   "cell_type": "code",
   "execution_count": 7,
   "metadata": {},
   "outputs": [
    {
     "data": {
      "text/html": [
       "<div>\n",
       "<style scoped>\n",
       "    .dataframe tbody tr th:only-of-type {\n",
       "        vertical-align: middle;\n",
       "    }\n",
       "\n",
       "    .dataframe tbody tr th {\n",
       "        vertical-align: top;\n",
       "    }\n",
       "\n",
       "    .dataframe thead th {\n",
       "        text-align: right;\n",
       "    }\n",
       "</style>\n",
       "<table border=\"1\" class=\"dataframe\">\n",
       "  <thead>\n",
       "    <tr style=\"text-align: right;\">\n",
       "      <th></th>\n",
       "      <th>Suburb</th>\n",
       "      <th>Address</th>\n",
       "      <th>Rooms</th>\n",
       "      <th>Type</th>\n",
       "      <th>Price</th>\n",
       "      <th>Method</th>\n",
       "      <th>SellerG</th>\n",
       "      <th>Date</th>\n",
       "      <th>Distance</th>\n",
       "      <th>Postcode</th>\n",
       "      <th>Bedroom2</th>\n",
       "      <th>Bathroom</th>\n",
       "      <th>Car</th>\n",
       "      <th>Landsize</th>\n",
       "      <th>BuildingArea</th>\n",
       "      <th>YearBuilt</th>\n",
       "      <th>CouncilArea</th>\n",
       "      <th>Lattitude</th>\n",
       "      <th>Longtitude</th>\n",
       "      <th>Regionname</th>\n",
       "      <th>Propertycount</th>\n",
       "    </tr>\n",
       "  </thead>\n",
       "  <tbody>\n",
       "    <tr>\n",
       "      <th>2096</th>\n",
       "      <td>Brighton East</td>\n",
       "      <td>8 Thomas St</td>\n",
       "      <td>2</td>\n",
       "      <td>h</td>\n",
       "      <td>1310000.0</td>\n",
       "      <td>S</td>\n",
       "      <td>Buxton</td>\n",
       "      <td>2016-09-24</td>\n",
       "      <td>10.7</td>\n",
       "      <td>3187.0</td>\n",
       "      <td>4.0</td>\n",
       "      <td>3.0</td>\n",
       "      <td>2.0</td>\n",
       "      <td>302.0</td>\n",
       "      <td>250.0</td>\n",
       "      <td>2018.0</td>\n",
       "      <td>Bayside City Council</td>\n",
       "      <td>-37.91820</td>\n",
       "      <td>145.02310</td>\n",
       "      <td>Southern Metropolitan</td>\n",
       "      <td>6938.0</td>\n",
       "    </tr>\n",
       "    <tr>\n",
       "      <th>2453</th>\n",
       "      <td>Bulleen</td>\n",
       "      <td>3 Maringa St</td>\n",
       "      <td>4</td>\n",
       "      <td>h</td>\n",
       "      <td>NaN</td>\n",
       "      <td>SP</td>\n",
       "      <td>Ray</td>\n",
       "      <td>2016-07-11</td>\n",
       "      <td>11.8</td>\n",
       "      <td>3105.0</td>\n",
       "      <td>4.0</td>\n",
       "      <td>2.0</td>\n",
       "      <td>2.0</td>\n",
       "      <td>729.0</td>\n",
       "      <td>255.0</td>\n",
       "      <td>2106.0</td>\n",
       "      <td>Manningham City Council</td>\n",
       "      <td>-37.76370</td>\n",
       "      <td>145.08810</td>\n",
       "      <td>Eastern Metropolitan</td>\n",
       "      <td>4480.0</td>\n",
       "    </tr>\n",
       "    <tr>\n",
       "      <th>31564</th>\n",
       "      <td>Bulleen</td>\n",
       "      <td>22 Derreck Av</td>\n",
       "      <td>4</td>\n",
       "      <td>h</td>\n",
       "      <td>1310000.0</td>\n",
       "      <td>VB</td>\n",
       "      <td>Jellis</td>\n",
       "      <td>2018-03-03</td>\n",
       "      <td>10.8</td>\n",
       "      <td>3105.0</td>\n",
       "      <td>4.0</td>\n",
       "      <td>3.0</td>\n",
       "      <td>2.0</td>\n",
       "      <td>358.0</td>\n",
       "      <td>243.0</td>\n",
       "      <td>2018.0</td>\n",
       "      <td>Manningham City Council</td>\n",
       "      <td>-37.76281</td>\n",
       "      <td>145.09159</td>\n",
       "      <td>Eastern Metropolitan</td>\n",
       "      <td>4480.0</td>\n",
       "    </tr>\n",
       "    <tr>\n",
       "      <th>33033</th>\n",
       "      <td>Bentleigh</td>\n",
       "      <td>1 Wyuna Ct</td>\n",
       "      <td>3</td>\n",
       "      <td>h</td>\n",
       "      <td>1100000.0</td>\n",
       "      <td>VB</td>\n",
       "      <td>Woodards</td>\n",
       "      <td>2018-03-17</td>\n",
       "      <td>11.4</td>\n",
       "      <td>3204.0</td>\n",
       "      <td>3.0</td>\n",
       "      <td>1.0</td>\n",
       "      <td>4.0</td>\n",
       "      <td>635.0</td>\n",
       "      <td>242.0</td>\n",
       "      <td>2019.0</td>\n",
       "      <td>Glen Eira City Council</td>\n",
       "      <td>-37.92963</td>\n",
       "      <td>145.03666</td>\n",
       "      <td>Southern Metropolitan</td>\n",
       "      <td>6795.0</td>\n",
       "    </tr>\n",
       "    <tr>\n",
       "      <th>34760</th>\n",
       "      <td>Sunshine North</td>\n",
       "      <td>40 Warwick Rd</td>\n",
       "      <td>3</td>\n",
       "      <td>h</td>\n",
       "      <td>890000.0</td>\n",
       "      <td>S</td>\n",
       "      <td>Ray</td>\n",
       "      <td>2018-02-24</td>\n",
       "      <td>10.5</td>\n",
       "      <td>3020.0</td>\n",
       "      <td>3.0</td>\n",
       "      <td>2.0</td>\n",
       "      <td>2.0</td>\n",
       "      <td>695.0</td>\n",
       "      <td>153.0</td>\n",
       "      <td>2018.0</td>\n",
       "      <td>Brimbank City Council</td>\n",
       "      <td>-37.76883</td>\n",
       "      <td>144.83974</td>\n",
       "      <td>Western Metropolitan</td>\n",
       "      <td>4217.0</td>\n",
       "    </tr>\n",
       "    <tr>\n",
       "      <th>34853</th>\n",
       "      <td>Yarraville</td>\n",
       "      <td>29A Murray St</td>\n",
       "      <td>2</td>\n",
       "      <td>h</td>\n",
       "      <td>888000.0</td>\n",
       "      <td>SP</td>\n",
       "      <td>Sweeney</td>\n",
       "      <td>2018-02-24</td>\n",
       "      <td>6.3</td>\n",
       "      <td>3013.0</td>\n",
       "      <td>2.0</td>\n",
       "      <td>2.0</td>\n",
       "      <td>1.0</td>\n",
       "      <td>98.0</td>\n",
       "      <td>104.0</td>\n",
       "      <td>2018.0</td>\n",
       "      <td>Maribyrnong City Council</td>\n",
       "      <td>-37.81551</td>\n",
       "      <td>144.88826</td>\n",
       "      <td>Western Metropolitan</td>\n",
       "      <td>6543.0</td>\n",
       "    </tr>\n",
       "  </tbody>\n",
       "</table>\n",
       "</div>"
      ],
      "text/plain": [
       "               Suburb        Address  Rooms Type      Price Method   SellerG  \\\n",
       "2096    Brighton East    8 Thomas St      2    h  1310000.0      S    Buxton   \n",
       "2453          Bulleen   3 Maringa St      4    h        NaN     SP       Ray   \n",
       "31564         Bulleen  22 Derreck Av      4    h  1310000.0     VB    Jellis   \n",
       "33033       Bentleigh     1 Wyuna Ct      3    h  1100000.0     VB  Woodards   \n",
       "34760  Sunshine North  40 Warwick Rd      3    h   890000.0      S       Ray   \n",
       "34853      Yarraville  29A Murray St      2    h   888000.0     SP   Sweeney   \n",
       "\n",
       "            Date  Distance  Postcode  Bedroom2  Bathroom  Car  Landsize  \\\n",
       "2096  2016-09-24      10.7    3187.0       4.0       3.0  2.0     302.0   \n",
       "2453  2016-07-11      11.8    3105.0       4.0       2.0  2.0     729.0   \n",
       "31564 2018-03-03      10.8    3105.0       4.0       3.0  2.0     358.0   \n",
       "33033 2018-03-17      11.4    3204.0       3.0       1.0  4.0     635.0   \n",
       "34760 2018-02-24      10.5    3020.0       3.0       2.0  2.0     695.0   \n",
       "34853 2018-02-24       6.3    3013.0       2.0       2.0  1.0      98.0   \n",
       "\n",
       "       BuildingArea  YearBuilt               CouncilArea  Lattitude  \\\n",
       "2096          250.0     2018.0      Bayside City Council  -37.91820   \n",
       "2453          255.0     2106.0   Manningham City Council  -37.76370   \n",
       "31564         243.0     2018.0   Manningham City Council  -37.76281   \n",
       "33033         242.0     2019.0    Glen Eira City Council  -37.92963   \n",
       "34760         153.0     2018.0     Brimbank City Council  -37.76883   \n",
       "34853         104.0     2018.0  Maribyrnong City Council  -37.81551   \n",
       "\n",
       "       Longtitude             Regionname  Propertycount  \n",
       "2096    145.02310  Southern Metropolitan         6938.0  \n",
       "2453    145.08810   Eastern Metropolitan         4480.0  \n",
       "31564   145.09159   Eastern Metropolitan         4480.0  \n",
       "33033   145.03666  Southern Metropolitan         6795.0  \n",
       "34760   144.83974   Western Metropolitan         4217.0  \n",
       "34853   144.88826   Western Metropolitan         6543.0  "
      ]
     },
     "execution_count": 7,
     "metadata": {},
     "output_type": "execute_result"
    }
   ],
   "source": [
    "# Houses with future building dates \n",
    "housing_future=housing_original[housing_original['YearBuilt'] > 2017]\n",
    "housing_future"
   ]
  },
  {
   "cell_type": "markdown",
   "metadata": {},
   "source": [
    "Years 2017 and above represent future years for the dataset. While it is still possible for houses which will be completed in the near future to be sold earlier, houses with building year of 2106 clearly indicates that all other future years are entered by mistake and we'll remove them. "
   ]
  },
  {
   "cell_type": "code",
   "execution_count": 8,
   "metadata": {},
   "outputs": [],
   "source": [
    "# Remove future build years\n",
    "housing = housing_original[housing_original['YearBuilt']<2018]"
   ]
  },
  {
   "cell_type": "code",
   "execution_count": 9,
   "metadata": {
    "scrolled": false
   },
   "outputs": [
    {
     "data": {
      "text/html": [
       "<div>\n",
       "<style scoped>\n",
       "    .dataframe tbody tr th:only-of-type {\n",
       "        vertical-align: middle;\n",
       "    }\n",
       "\n",
       "    .dataframe tbody tr th {\n",
       "        vertical-align: top;\n",
       "    }\n",
       "\n",
       "    .dataframe thead th {\n",
       "        text-align: right;\n",
       "    }\n",
       "</style>\n",
       "<table border=\"1\" class=\"dataframe\">\n",
       "  <thead>\n",
       "    <tr style=\"text-align: right;\">\n",
       "      <th></th>\n",
       "      <th>Suburb</th>\n",
       "      <th>Address</th>\n",
       "      <th>Rooms</th>\n",
       "      <th>Type</th>\n",
       "      <th>Price</th>\n",
       "      <th>Method</th>\n",
       "      <th>SellerG</th>\n",
       "      <th>Date</th>\n",
       "      <th>Distance</th>\n",
       "      <th>Postcode</th>\n",
       "      <th>Bedroom2</th>\n",
       "      <th>Bathroom</th>\n",
       "      <th>Car</th>\n",
       "      <th>Landsize</th>\n",
       "      <th>BuildingArea</th>\n",
       "      <th>YearBuilt</th>\n",
       "      <th>CouncilArea</th>\n",
       "      <th>Lattitude</th>\n",
       "      <th>Longtitude</th>\n",
       "      <th>Regionname</th>\n",
       "      <th>Propertycount</th>\n",
       "    </tr>\n",
       "  </thead>\n",
       "  <tbody>\n",
       "    <tr>\n",
       "      <th>25</th>\n",
       "      <td>Abbotsford</td>\n",
       "      <td>123/56 Nicholson St</td>\n",
       "      <td>2</td>\n",
       "      <td>u</td>\n",
       "      <td>750000.0</td>\n",
       "      <td>S</td>\n",
       "      <td>Biggin</td>\n",
       "      <td>2016-12-11</td>\n",
       "      <td>2.5</td>\n",
       "      <td>3067.0</td>\n",
       "      <td>2.0</td>\n",
       "      <td>2.0</td>\n",
       "      <td>1.0</td>\n",
       "      <td>0.0</td>\n",
       "      <td>94.0</td>\n",
       "      <td>2009.0</td>\n",
       "      <td>Yarra City Council</td>\n",
       "      <td>-37.8078</td>\n",
       "      <td>144.9965</td>\n",
       "      <td>Northern Metropolitan</td>\n",
       "      <td>4019.0</td>\n",
       "    </tr>\n",
       "    <tr>\n",
       "      <th>31</th>\n",
       "      <td>Abbotsford</td>\n",
       "      <td>16/11 Nicholson St</td>\n",
       "      <td>3</td>\n",
       "      <td>u</td>\n",
       "      <td>NaN</td>\n",
       "      <td>PI</td>\n",
       "      <td>Philip</td>\n",
       "      <td>2016-04-16</td>\n",
       "      <td>2.5</td>\n",
       "      <td>3067.0</td>\n",
       "      <td>3.0</td>\n",
       "      <td>2.0</td>\n",
       "      <td>2.0</td>\n",
       "      <td>0.0</td>\n",
       "      <td>129.0</td>\n",
       "      <td>2010.0</td>\n",
       "      <td>Yarra City Council</td>\n",
       "      <td>-37.8093</td>\n",
       "      <td>144.9959</td>\n",
       "      <td>Northern Metropolitan</td>\n",
       "      <td>4019.0</td>\n",
       "    </tr>\n",
       "    <tr>\n",
       "      <th>40</th>\n",
       "      <td>Abbotsford</td>\n",
       "      <td>13/11 Nicholson St</td>\n",
       "      <td>3</td>\n",
       "      <td>t</td>\n",
       "      <td>900000.0</td>\n",
       "      <td>S</td>\n",
       "      <td>Beller</td>\n",
       "      <td>2017-03-18</td>\n",
       "      <td>2.5</td>\n",
       "      <td>3067.0</td>\n",
       "      <td>3.0</td>\n",
       "      <td>2.0</td>\n",
       "      <td>2.0</td>\n",
       "      <td>0.0</td>\n",
       "      <td>NaN</td>\n",
       "      <td>2010.0</td>\n",
       "      <td>Yarra City Council</td>\n",
       "      <td>-37.8093</td>\n",
       "      <td>144.9959</td>\n",
       "      <td>Northern Metropolitan</td>\n",
       "      <td>4019.0</td>\n",
       "    </tr>\n",
       "    <tr>\n",
       "      <th>42</th>\n",
       "      <td>Abbotsford</td>\n",
       "      <td>6/219 Nicholson St</td>\n",
       "      <td>2</td>\n",
       "      <td>u</td>\n",
       "      <td>500000.0</td>\n",
       "      <td>S</td>\n",
       "      <td>Collins</td>\n",
       "      <td>2016-06-18</td>\n",
       "      <td>2.5</td>\n",
       "      <td>3067.0</td>\n",
       "      <td>2.0</td>\n",
       "      <td>1.0</td>\n",
       "      <td>1.0</td>\n",
       "      <td>0.0</td>\n",
       "      <td>60.0</td>\n",
       "      <td>1970.0</td>\n",
       "      <td>Yarra City Council</td>\n",
       "      <td>-37.8015</td>\n",
       "      <td>144.9972</td>\n",
       "      <td>Northern Metropolitan</td>\n",
       "      <td>4019.0</td>\n",
       "    </tr>\n",
       "    <tr>\n",
       "      <th>57</th>\n",
       "      <td>Abbotsford</td>\n",
       "      <td>11/205 Gipps St</td>\n",
       "      <td>1</td>\n",
       "      <td>u</td>\n",
       "      <td>470000.0</td>\n",
       "      <td>S</td>\n",
       "      <td>Nelson</td>\n",
       "      <td>2016-07-26</td>\n",
       "      <td>2.5</td>\n",
       "      <td>3067.0</td>\n",
       "      <td>1.0</td>\n",
       "      <td>1.0</td>\n",
       "      <td>1.0</td>\n",
       "      <td>0.0</td>\n",
       "      <td>50.0</td>\n",
       "      <td>2013.0</td>\n",
       "      <td>Yarra City Council</td>\n",
       "      <td>-37.8055</td>\n",
       "      <td>144.9961</td>\n",
       "      <td>Northern Metropolitan</td>\n",
       "      <td>4019.0</td>\n",
       "    </tr>\n",
       "  </tbody>\n",
       "</table>\n",
       "</div>"
      ],
      "text/plain": [
       "        Suburb              Address  Rooms Type     Price Method  SellerG  \\\n",
       "25  Abbotsford  123/56 Nicholson St      2    u  750000.0      S   Biggin   \n",
       "31  Abbotsford   16/11 Nicholson St      3    u       NaN     PI   Philip   \n",
       "40  Abbotsford   13/11 Nicholson St      3    t  900000.0      S   Beller   \n",
       "42  Abbotsford   6/219 Nicholson St      2    u  500000.0      S  Collins   \n",
       "57  Abbotsford      11/205 Gipps St      1    u  470000.0      S   Nelson   \n",
       "\n",
       "         Date  Distance  Postcode  Bedroom2  Bathroom  Car  Landsize  \\\n",
       "25 2016-12-11       2.5    3067.0       2.0       2.0  1.0       0.0   \n",
       "31 2016-04-16       2.5    3067.0       3.0       2.0  2.0       0.0   \n",
       "40 2017-03-18       2.5    3067.0       3.0       2.0  2.0       0.0   \n",
       "42 2016-06-18       2.5    3067.0       2.0       1.0  1.0       0.0   \n",
       "57 2016-07-26       2.5    3067.0       1.0       1.0  1.0       0.0   \n",
       "\n",
       "    BuildingArea  YearBuilt         CouncilArea  Lattitude  Longtitude  \\\n",
       "25          94.0     2009.0  Yarra City Council   -37.8078    144.9965   \n",
       "31         129.0     2010.0  Yarra City Council   -37.8093    144.9959   \n",
       "40           NaN     2010.0  Yarra City Council   -37.8093    144.9959   \n",
       "42          60.0     1970.0  Yarra City Council   -37.8015    144.9972   \n",
       "57          50.0     2013.0  Yarra City Council   -37.8055    144.9961   \n",
       "\n",
       "               Regionname  Propertycount  \n",
       "25  Northern Metropolitan         4019.0  \n",
       "31  Northern Metropolitan         4019.0  \n",
       "40  Northern Metropolitan         4019.0  \n",
       "42  Northern Metropolitan         4019.0  \n",
       "57  Northern Metropolitan         4019.0  "
      ]
     },
     "execution_count": 9,
     "metadata": {},
     "output_type": "execute_result"
    }
   ],
   "source": [
    "# First five houses with zero Landsize\n",
    "housing[housing['Landsize']==0].head()"
   ]
  },
  {
   "cell_type": "markdown",
   "metadata": {},
   "source": [
    "Lnad size might refer to the amount of land between the house and the edge of the property and hence for houses built very close to their border line with the street or whatever is next to them, a zero value might be valid.  "
   ]
  },
  {
   "cell_type": "code",
   "execution_count": 10,
   "metadata": {
    "scrolled": true
   },
   "outputs": [
    {
     "data": {
      "text/plain": [
       "74"
      ]
     },
     "execution_count": 10,
     "metadata": {},
     "output_type": "execute_result"
    }
   ],
   "source": [
    "# number of houses with zero BuildingArea\n",
    "len(housing[housing['BuildingArea']==0])"
   ]
  },
  {
   "cell_type": "code",
   "execution_count": 11,
   "metadata": {},
   "outputs": [],
   "source": [
    "housing = housing[housing['BuildingArea']!=0]"
   ]
  },
  {
   "cell_type": "code",
   "execution_count": 12,
   "metadata": {
    "scrolled": true
   },
   "outputs": [
    {
     "data": {
      "text/html": [
       "<div>\n",
       "<style scoped>\n",
       "    .dataframe tbody tr th:only-of-type {\n",
       "        vertical-align: middle;\n",
       "    }\n",
       "\n",
       "    .dataframe tbody tr th {\n",
       "        vertical-align: top;\n",
       "    }\n",
       "\n",
       "    .dataframe thead th {\n",
       "        text-align: right;\n",
       "    }\n",
       "</style>\n",
       "<table border=\"1\" class=\"dataframe\">\n",
       "  <thead>\n",
       "    <tr style=\"text-align: right;\">\n",
       "      <th></th>\n",
       "      <th>Suburb</th>\n",
       "      <th>Address</th>\n",
       "      <th>Rooms</th>\n",
       "      <th>Type</th>\n",
       "      <th>Price</th>\n",
       "      <th>Method</th>\n",
       "      <th>SellerG</th>\n",
       "      <th>Date</th>\n",
       "      <th>Distance</th>\n",
       "      <th>Postcode</th>\n",
       "      <th>Bedroom2</th>\n",
       "      <th>Bathroom</th>\n",
       "      <th>Car</th>\n",
       "      <th>Landsize</th>\n",
       "      <th>BuildingArea</th>\n",
       "      <th>YearBuilt</th>\n",
       "      <th>CouncilArea</th>\n",
       "      <th>Lattitude</th>\n",
       "      <th>Longtitude</th>\n",
       "      <th>Regionname</th>\n",
       "      <th>Propertycount</th>\n",
       "    </tr>\n",
       "  </thead>\n",
       "  <tbody>\n",
       "    <tr>\n",
       "      <th>2716</th>\n",
       "      <td>Camberwell</td>\n",
       "      <td>5 Nicholsdale Rd</td>\n",
       "      <td>4</td>\n",
       "      <td>h</td>\n",
       "      <td>1400000.0</td>\n",
       "      <td>PI</td>\n",
       "      <td>Jellis</td>\n",
       "      <td>2016-04-16</td>\n",
       "      <td>7.8</td>\n",
       "      <td>3124.0</td>\n",
       "      <td>3.0</td>\n",
       "      <td>0.0</td>\n",
       "      <td>0.0</td>\n",
       "      <td>693.0</td>\n",
       "      <td>NaN</td>\n",
       "      <td>1935.0</td>\n",
       "      <td>Boroondara City Council</td>\n",
       "      <td>-37.8360</td>\n",
       "      <td>145.0914</td>\n",
       "      <td>Southern Metropolitan</td>\n",
       "      <td>8920.0</td>\n",
       "    </tr>\n",
       "    <tr>\n",
       "      <th>13058</th>\n",
       "      <td>Ivanhoe</td>\n",
       "      <td>1/53 Norman St</td>\n",
       "      <td>3</td>\n",
       "      <td>t</td>\n",
       "      <td>1060000.0</td>\n",
       "      <td>S</td>\n",
       "      <td>Purplebricks</td>\n",
       "      <td>2017-04-29</td>\n",
       "      <td>7.9</td>\n",
       "      <td>3079.0</td>\n",
       "      <td>3.0</td>\n",
       "      <td>0.0</td>\n",
       "      <td>0.0</td>\n",
       "      <td>219.0</td>\n",
       "      <td>NaN</td>\n",
       "      <td>1980.0</td>\n",
       "      <td>Banyule City Council</td>\n",
       "      <td>-37.7679</td>\n",
       "      <td>145.0466</td>\n",
       "      <td>Eastern Metropolitan</td>\n",
       "      <td>5549.0</td>\n",
       "    </tr>\n",
       "  </tbody>\n",
       "</table>\n",
       "</div>"
      ],
      "text/plain": [
       "           Suburb           Address  Rooms Type      Price Method  \\\n",
       "2716   Camberwell  5 Nicholsdale Rd      4    h  1400000.0     PI   \n",
       "13058     Ivanhoe    1/53 Norman St      3    t  1060000.0      S   \n",
       "\n",
       "            SellerG       Date  Distance  Postcode  Bedroom2  Bathroom  Car  \\\n",
       "2716         Jellis 2016-04-16       7.8    3124.0       3.0       0.0  0.0   \n",
       "13058  Purplebricks 2017-04-29       7.9    3079.0       3.0       0.0  0.0   \n",
       "\n",
       "       Landsize  BuildingArea  YearBuilt              CouncilArea  Lattitude  \\\n",
       "2716      693.0           NaN     1935.0  Boroondara City Council   -37.8360   \n",
       "13058     219.0           NaN     1980.0     Banyule City Council   -37.7679   \n",
       "\n",
       "       Longtitude             Regionname  Propertycount  \n",
       "2716     145.0914  Southern Metropolitan         8920.0  \n",
       "13058    145.0466   Eastern Metropolitan         5549.0  "
      ]
     },
     "execution_count": 12,
     "metadata": {},
     "output_type": "execute_result"
    }
   ],
   "source": [
    "# houses with zero bathroom count\n",
    "housing[housing['Bathroom']==0].head()"
   ]
  },
  {
   "cell_type": "code",
   "execution_count": 13,
   "metadata": {},
   "outputs": [],
   "source": [
    "# Setting all properties with zero bathrooms to one\n",
    "housing.Bathroom = housing.Bathroom.map(lambda x: x if x>0 else 1)"
   ]
  },
  {
   "cell_type": "code",
   "execution_count": 14,
   "metadata": {
    "scrolled": false
   },
   "outputs": [
    {
     "data": {
      "text/html": [
       "<div>\n",
       "<style scoped>\n",
       "    .dataframe tbody tr th:only-of-type {\n",
       "        vertical-align: middle;\n",
       "    }\n",
       "\n",
       "    .dataframe tbody tr th {\n",
       "        vertical-align: top;\n",
       "    }\n",
       "\n",
       "    .dataframe thead th {\n",
       "        text-align: right;\n",
       "    }\n",
       "</style>\n",
       "<table border=\"1\" class=\"dataframe\">\n",
       "  <thead>\n",
       "    <tr style=\"text-align: right;\">\n",
       "      <th></th>\n",
       "      <th>Rooms</th>\n",
       "      <th>Price</th>\n",
       "      <th>Distance</th>\n",
       "      <th>Postcode</th>\n",
       "      <th>Bedroom2</th>\n",
       "      <th>Bathroom</th>\n",
       "      <th>Car</th>\n",
       "      <th>Landsize</th>\n",
       "      <th>BuildingArea</th>\n",
       "      <th>YearBuilt</th>\n",
       "      <th>Lattitude</th>\n",
       "      <th>Longtitude</th>\n",
       "      <th>Propertycount</th>\n",
       "    </tr>\n",
       "  </thead>\n",
       "  <tbody>\n",
       "    <tr>\n",
       "      <th>count</th>\n",
       "      <td>15471.000000</td>\n",
       "      <td>1.201900e+04</td>\n",
       "      <td>15471.000000</td>\n",
       "      <td>15471.000000</td>\n",
       "      <td>15471.000000</td>\n",
       "      <td>15471.000000</td>\n",
       "      <td>15220.000000</td>\n",
       "      <td>13655.000000</td>\n",
       "      <td>13158.000000</td>\n",
       "      <td>15471.000000</td>\n",
       "      <td>15462.000000</td>\n",
       "      <td>15462.000000</td>\n",
       "      <td>15471.000000</td>\n",
       "    </tr>\n",
       "    <tr>\n",
       "      <th>mean</th>\n",
       "      <td>3.107298</td>\n",
       "      <td>1.077202e+06</td>\n",
       "      <td>11.143468</td>\n",
       "      <td>3116.987331</td>\n",
       "      <td>3.088941</td>\n",
       "      <td>1.670286</td>\n",
       "      <td>1.703417</td>\n",
       "      <td>531.295496</td>\n",
       "      <td>154.748288</td>\n",
       "      <td>1965.224808</td>\n",
       "      <td>-37.809518</td>\n",
       "      <td>144.998947</td>\n",
       "      <td>7519.485748</td>\n",
       "    </tr>\n",
       "    <tr>\n",
       "      <th>std</th>\n",
       "      <td>0.986656</td>\n",
       "      <td>6.714761e+05</td>\n",
       "      <td>6.940604</td>\n",
       "      <td>115.133547</td>\n",
       "      <td>1.008997</td>\n",
       "      <td>0.735257</td>\n",
       "      <td>1.000861</td>\n",
       "      <td>1054.712411</td>\n",
       "      <td>88.466134</td>\n",
       "      <td>37.323282</td>\n",
       "      <td>0.090024</td>\n",
       "      <td>0.119848</td>\n",
       "      <td>4304.344446</td>\n",
       "    </tr>\n",
       "    <tr>\n",
       "      <th>min</th>\n",
       "      <td>1.000000</td>\n",
       "      <td>8.500000e+04</td>\n",
       "      <td>0.000000</td>\n",
       "      <td>3000.000000</td>\n",
       "      <td>0.000000</td>\n",
       "      <td>1.000000</td>\n",
       "      <td>0.000000</td>\n",
       "      <td>0.000000</td>\n",
       "      <td>0.010000</td>\n",
       "      <td>1196.000000</td>\n",
       "      <td>-38.190430</td>\n",
       "      <td>144.423790</td>\n",
       "      <td>249.000000</td>\n",
       "    </tr>\n",
       "    <tr>\n",
       "      <th>25%</th>\n",
       "      <td>2.000000</td>\n",
       "      <td>6.320000e+05</td>\n",
       "      <td>6.300000</td>\n",
       "      <td>3047.000000</td>\n",
       "      <td>2.000000</td>\n",
       "      <td>1.000000</td>\n",
       "      <td>1.000000</td>\n",
       "      <td>203.500000</td>\n",
       "      <td>103.000000</td>\n",
       "      <td>1940.000000</td>\n",
       "      <td>-37.861300</td>\n",
       "      <td>144.930665</td>\n",
       "      <td>4442.000000</td>\n",
       "    </tr>\n",
       "    <tr>\n",
       "      <th>50%</th>\n",
       "      <td>3.000000</td>\n",
       "      <td>8.850000e+05</td>\n",
       "      <td>10.100000</td>\n",
       "      <td>3101.000000</td>\n",
       "      <td>3.000000</td>\n",
       "      <td>2.000000</td>\n",
       "      <td>2.000000</td>\n",
       "      <td>470.000000</td>\n",
       "      <td>136.000000</td>\n",
       "      <td>1970.000000</td>\n",
       "      <td>-37.807800</td>\n",
       "      <td>145.004690</td>\n",
       "      <td>6763.000000</td>\n",
       "    </tr>\n",
       "    <tr>\n",
       "      <th>75%</th>\n",
       "      <td>4.000000</td>\n",
       "      <td>1.320000e+06</td>\n",
       "      <td>14.000000</td>\n",
       "      <td>3155.000000</td>\n",
       "      <td>4.000000</td>\n",
       "      <td>2.000000</td>\n",
       "      <td>2.000000</td>\n",
       "      <td>658.000000</td>\n",
       "      <td>186.937500</td>\n",
       "      <td>2000.000000</td>\n",
       "      <td>-37.755100</td>\n",
       "      <td>145.068723</td>\n",
       "      <td>10331.000000</td>\n",
       "    </tr>\n",
       "    <tr>\n",
       "      <th>max</th>\n",
       "      <td>12.000000</td>\n",
       "      <td>9.000000e+06</td>\n",
       "      <td>48.100000</td>\n",
       "      <td>3978.000000</td>\n",
       "      <td>30.000000</td>\n",
       "      <td>12.000000</td>\n",
       "      <td>26.000000</td>\n",
       "      <td>42800.000000</td>\n",
       "      <td>3112.000000</td>\n",
       "      <td>2017.000000</td>\n",
       "      <td>-37.390200</td>\n",
       "      <td>145.526350</td>\n",
       "      <td>21650.000000</td>\n",
       "    </tr>\n",
       "  </tbody>\n",
       "</table>\n",
       "</div>"
      ],
      "text/plain": [
       "              Rooms         Price      Distance      Postcode      Bedroom2  \\\n",
       "count  15471.000000  1.201900e+04  15471.000000  15471.000000  15471.000000   \n",
       "mean       3.107298  1.077202e+06     11.143468   3116.987331      3.088941   \n",
       "std        0.986656  6.714761e+05      6.940604    115.133547      1.008997   \n",
       "min        1.000000  8.500000e+04      0.000000   3000.000000      0.000000   \n",
       "25%        2.000000  6.320000e+05      6.300000   3047.000000      2.000000   \n",
       "50%        3.000000  8.850000e+05     10.100000   3101.000000      3.000000   \n",
       "75%        4.000000  1.320000e+06     14.000000   3155.000000      4.000000   \n",
       "max       12.000000  9.000000e+06     48.100000   3978.000000     30.000000   \n",
       "\n",
       "           Bathroom           Car      Landsize  BuildingArea     YearBuilt  \\\n",
       "count  15471.000000  15220.000000  13655.000000  13158.000000  15471.000000   \n",
       "mean       1.670286      1.703417    531.295496    154.748288   1965.224808   \n",
       "std        0.735257      1.000861   1054.712411     88.466134     37.323282   \n",
       "min        1.000000      0.000000      0.000000      0.010000   1196.000000   \n",
       "25%        1.000000      1.000000    203.500000    103.000000   1940.000000   \n",
       "50%        2.000000      2.000000    470.000000    136.000000   1970.000000   \n",
       "75%        2.000000      2.000000    658.000000    186.937500   2000.000000   \n",
       "max       12.000000     26.000000  42800.000000   3112.000000   2017.000000   \n",
       "\n",
       "          Lattitude    Longtitude  Propertycount  \n",
       "count  15462.000000  15462.000000   15471.000000  \n",
       "mean     -37.809518    144.998947    7519.485748  \n",
       "std        0.090024      0.119848    4304.344446  \n",
       "min      -38.190430    144.423790     249.000000  \n",
       "25%      -37.861300    144.930665    4442.000000  \n",
       "50%      -37.807800    145.004690    6763.000000  \n",
       "75%      -37.755100    145.068723   10331.000000  \n",
       "max      -37.390200    145.526350   21650.000000  "
      ]
     },
     "execution_count": 14,
     "metadata": {},
     "output_type": "execute_result"
    }
   ],
   "source": [
    "# Confirm removals\n",
    "housing.describe()"
   ]
  },
  {
   "cell_type": "code",
   "execution_count": 15,
   "metadata": {
    "scrolled": false
   },
   "outputs": [
    {
     "data": {
      "text/plain": [
       "Suburb              0\n",
       "Address             0\n",
       "Rooms               0\n",
       "Type                0\n",
       "Price            3452\n",
       "Method              0\n",
       "SellerG             0\n",
       "Date                0\n",
       "Distance            0\n",
       "Postcode            0\n",
       "Bedroom2            0\n",
       "Bathroom            0\n",
       "Car               251\n",
       "Landsize         1816\n",
       "BuildingArea     2313\n",
       "YearBuilt           0\n",
       "CouncilArea         0\n",
       "Lattitude           9\n",
       "Longtitude          9\n",
       "Regionname          0\n",
       "Propertycount       0\n",
       "dtype: int64"
      ]
     },
     "execution_count": 15,
     "metadata": {},
     "output_type": "execute_result"
    }
   ],
   "source": [
    "housing.isnull().sum()"
   ]
  },
  {
   "cell_type": "code",
   "execution_count": 16,
   "metadata": {},
   "outputs": [],
   "source": [
    "#Drop missing values\n",
    "housing = housing.dropna()"
   ]
  },
  {
   "cell_type": "code",
   "execution_count": 17,
   "metadata": {},
   "outputs": [
    {
     "data": {
      "text/plain": [
       "Suburb           0\n",
       "Address          0\n",
       "Rooms            0\n",
       "Type             0\n",
       "Price            0\n",
       "Method           0\n",
       "SellerG          0\n",
       "Date             0\n",
       "Distance         0\n",
       "Postcode         0\n",
       "Bedroom2         0\n",
       "Bathroom         0\n",
       "Car              0\n",
       "Landsize         0\n",
       "BuildingArea     0\n",
       "YearBuilt        0\n",
       "CouncilArea      0\n",
       "Lattitude        0\n",
       "Longtitude       0\n",
       "Regionname       0\n",
       "Propertycount    0\n",
       "dtype: int64"
      ]
     },
     "execution_count": 17,
     "metadata": {},
     "output_type": "execute_result"
    }
   ],
   "source": [
    "# Confirm missing values \n",
    "housing.isnull().sum()"
   ]
  },
  {
   "cell_type": "code",
   "execution_count": 18,
   "metadata": {},
   "outputs": [],
   "source": [
    "# Add age variable\n",
    "housing['Age'] = 2017 - housing['YearBuilt']\n",
    "\n",
    "# Identify historic homes\n",
    "housing['Historic'] = np.where(housing['Age']>=50,'Historic','Contemporary')\n",
    "\n",
    "# Convert to Category\n",
    "housing['Historic'] = housing['Historic'].astype('object')"
   ]
  },
  {
   "cell_type": "code",
   "execution_count": 20,
   "metadata": {},
   "outputs": [
    {
     "data": {
      "text/html": [
       "<div>\n",
       "<style scoped>\n",
       "    .dataframe tbody tr th:only-of-type {\n",
       "        vertical-align: middle;\n",
       "    }\n",
       "\n",
       "    .dataframe tbody tr th {\n",
       "        vertical-align: top;\n",
       "    }\n",
       "\n",
       "    .dataframe thead th {\n",
       "        text-align: right;\n",
       "    }\n",
       "</style>\n",
       "<table border=\"1\" class=\"dataframe\">\n",
       "  <thead>\n",
       "    <tr style=\"text-align: right;\">\n",
       "      <th></th>\n",
       "      <th>Suburb</th>\n",
       "      <th>Address</th>\n",
       "      <th>Rooms</th>\n",
       "      <th>Type</th>\n",
       "      <th>Price</th>\n",
       "      <th>Method</th>\n",
       "      <th>SellerG</th>\n",
       "      <th>Date</th>\n",
       "      <th>Distance</th>\n",
       "      <th>Postcode</th>\n",
       "      <th>Bedroom2</th>\n",
       "      <th>Bathroom</th>\n",
       "      <th>Car</th>\n",
       "      <th>Landsize</th>\n",
       "      <th>BuildingArea</th>\n",
       "      <th>YearBuilt</th>\n",
       "      <th>CouncilArea</th>\n",
       "      <th>Lattitude</th>\n",
       "      <th>Longtitude</th>\n",
       "      <th>Regionname</th>\n",
       "      <th>Propertycount</th>\n",
       "      <th>Age</th>\n",
       "      <th>Historic</th>\n",
       "    </tr>\n",
       "  </thead>\n",
       "  <tbody>\n",
       "    <tr>\n",
       "      <th>16424</th>\n",
       "      <td>Mount Waverley</td>\n",
       "      <td>5 Armstrong St</td>\n",
       "      <td>3</td>\n",
       "      <td>h</td>\n",
       "      <td>1200000.0</td>\n",
       "      <td>VB</td>\n",
       "      <td>McGrath</td>\n",
       "      <td>2017-06-24</td>\n",
       "      <td>14.2</td>\n",
       "      <td>3149.0</td>\n",
       "      <td>3.0</td>\n",
       "      <td>1.0</td>\n",
       "      <td>4.0</td>\n",
       "      <td>807.0</td>\n",
       "      <td>117.0</td>\n",
       "      <td>1196.0</td>\n",
       "      <td>Monash City Council</td>\n",
       "      <td>-37.86788</td>\n",
       "      <td>145.12121</td>\n",
       "      <td>Eastern Metropolitan</td>\n",
       "      <td>13366.0</td>\n",
       "      <td>821.0</td>\n",
       "      <td>Historic</td>\n",
       "    </tr>\n",
       "  </tbody>\n",
       "</table>\n",
       "</div>"
      ],
      "text/plain": [
       "               Suburb         Address  Rooms Type      Price Method  SellerG  \\\n",
       "16424  Mount Waverley  5 Armstrong St      3    h  1200000.0     VB  McGrath   \n",
       "\n",
       "            Date  Distance  Postcode  Bedroom2  Bathroom  Car  Landsize  \\\n",
       "16424 2017-06-24      14.2    3149.0       3.0       1.0  4.0     807.0   \n",
       "\n",
       "       BuildingArea  YearBuilt          CouncilArea  Lattitude  Longtitude  \\\n",
       "16424         117.0     1196.0  Monash City Council  -37.86788   145.12121   \n",
       "\n",
       "                 Regionname  Propertycount    Age  Historic  \n",
       "16424  Eastern Metropolitan        13366.0  821.0  Historic  "
      ]
     },
     "execution_count": 20,
     "metadata": {},
     "output_type": "execute_result"
    }
   ],
   "source": [
    "old = housing[housing['Age'] > 500]\n",
    "old"
   ]
  },
  {
   "cell_type": "code",
   "execution_count": 21,
   "metadata": {},
   "outputs": [],
   "source": [
    "housing = housing[housing['Age']<500]"
   ]
  },
  {
   "cell_type": "code",
   "execution_count": 22,
   "metadata": {},
   "outputs": [
    {
     "data": {
      "text/html": [
       "<div>\n",
       "<style scoped>\n",
       "    .dataframe tbody tr th:only-of-type {\n",
       "        vertical-align: middle;\n",
       "    }\n",
       "\n",
       "    .dataframe tbody tr th {\n",
       "        vertical-align: top;\n",
       "    }\n",
       "\n",
       "    .dataframe thead th {\n",
       "        text-align: right;\n",
       "    }\n",
       "</style>\n",
       "<table border=\"1\" class=\"dataframe\">\n",
       "  <thead>\n",
       "    <tr style=\"text-align: right;\">\n",
       "      <th></th>\n",
       "      <th>Suburb</th>\n",
       "      <th>Address</th>\n",
       "      <th>Rooms</th>\n",
       "      <th>Type</th>\n",
       "      <th>Price</th>\n",
       "      <th>Method</th>\n",
       "      <th>SellerG</th>\n",
       "      <th>Date</th>\n",
       "      <th>Distance</th>\n",
       "      <th>Postcode</th>\n",
       "      <th>Bedroom2</th>\n",
       "      <th>Bathroom</th>\n",
       "      <th>Car</th>\n",
       "      <th>Landsize</th>\n",
       "      <th>BuildingArea</th>\n",
       "      <th>YearBuilt</th>\n",
       "      <th>CouncilArea</th>\n",
       "      <th>Lattitude</th>\n",
       "      <th>Longtitude</th>\n",
       "      <th>Regionname</th>\n",
       "      <th>Propertycount</th>\n",
       "      <th>Age</th>\n",
       "      <th>Historic</th>\n",
       "    </tr>\n",
       "  </thead>\n",
       "  <tbody>\n",
       "    <tr>\n",
       "      <th>2</th>\n",
       "      <td>Abbotsford</td>\n",
       "      <td>25 Bloomburg St</td>\n",
       "      <td>2</td>\n",
       "      <td>h</td>\n",
       "      <td>1035000.0</td>\n",
       "      <td>S</td>\n",
       "      <td>Biggin</td>\n",
       "      <td>2016-04-02</td>\n",
       "      <td>2.5</td>\n",
       "      <td>3067.0</td>\n",
       "      <td>2.0</td>\n",
       "      <td>1.0</td>\n",
       "      <td>0.0</td>\n",
       "      <td>156.0</td>\n",
       "      <td>79.0</td>\n",
       "      <td>1900.0</td>\n",
       "      <td>Yarra City Council</td>\n",
       "      <td>-37.8079</td>\n",
       "      <td>144.9934</td>\n",
       "      <td>Northern Metropolitan</td>\n",
       "      <td>4019.0</td>\n",
       "      <td>117.0</td>\n",
       "      <td>Historic</td>\n",
       "    </tr>\n",
       "    <tr>\n",
       "      <th>4</th>\n",
       "      <td>Abbotsford</td>\n",
       "      <td>5 Charles St</td>\n",
       "      <td>3</td>\n",
       "      <td>h</td>\n",
       "      <td>1465000.0</td>\n",
       "      <td>SP</td>\n",
       "      <td>Biggin</td>\n",
       "      <td>2017-04-03</td>\n",
       "      <td>2.5</td>\n",
       "      <td>3067.0</td>\n",
       "      <td>3.0</td>\n",
       "      <td>2.0</td>\n",
       "      <td>0.0</td>\n",
       "      <td>134.0</td>\n",
       "      <td>150.0</td>\n",
       "      <td>1900.0</td>\n",
       "      <td>Yarra City Council</td>\n",
       "      <td>-37.8093</td>\n",
       "      <td>144.9944</td>\n",
       "      <td>Northern Metropolitan</td>\n",
       "      <td>4019.0</td>\n",
       "      <td>117.0</td>\n",
       "      <td>Historic</td>\n",
       "    </tr>\n",
       "    <tr>\n",
       "      <th>6</th>\n",
       "      <td>Abbotsford</td>\n",
       "      <td>55a Park St</td>\n",
       "      <td>4</td>\n",
       "      <td>h</td>\n",
       "      <td>1600000.0</td>\n",
       "      <td>VB</td>\n",
       "      <td>Nelson</td>\n",
       "      <td>2016-04-06</td>\n",
       "      <td>2.5</td>\n",
       "      <td>3067.0</td>\n",
       "      <td>3.0</td>\n",
       "      <td>1.0</td>\n",
       "      <td>2.0</td>\n",
       "      <td>120.0</td>\n",
       "      <td>142.0</td>\n",
       "      <td>2014.0</td>\n",
       "      <td>Yarra City Council</td>\n",
       "      <td>-37.8072</td>\n",
       "      <td>144.9941</td>\n",
       "      <td>Northern Metropolitan</td>\n",
       "      <td>4019.0</td>\n",
       "      <td>3.0</td>\n",
       "      <td>Contemporary</td>\n",
       "    </tr>\n",
       "    <tr>\n",
       "      <th>11</th>\n",
       "      <td>Abbotsford</td>\n",
       "      <td>124 Yarra St</td>\n",
       "      <td>3</td>\n",
       "      <td>h</td>\n",
       "      <td>1876000.0</td>\n",
       "      <td>S</td>\n",
       "      <td>Nelson</td>\n",
       "      <td>2016-07-05</td>\n",
       "      <td>2.5</td>\n",
       "      <td>3067.0</td>\n",
       "      <td>4.0</td>\n",
       "      <td>2.0</td>\n",
       "      <td>0.0</td>\n",
       "      <td>245.0</td>\n",
       "      <td>210.0</td>\n",
       "      <td>1910.0</td>\n",
       "      <td>Yarra City Council</td>\n",
       "      <td>-37.8024</td>\n",
       "      <td>144.9993</td>\n",
       "      <td>Northern Metropolitan</td>\n",
       "      <td>4019.0</td>\n",
       "      <td>107.0</td>\n",
       "      <td>Historic</td>\n",
       "    </tr>\n",
       "    <tr>\n",
       "      <th>14</th>\n",
       "      <td>Abbotsford</td>\n",
       "      <td>98 Charles St</td>\n",
       "      <td>2</td>\n",
       "      <td>h</td>\n",
       "      <td>1636000.0</td>\n",
       "      <td>S</td>\n",
       "      <td>Nelson</td>\n",
       "      <td>2016-08-10</td>\n",
       "      <td>2.5</td>\n",
       "      <td>3067.0</td>\n",
       "      <td>2.0</td>\n",
       "      <td>1.0</td>\n",
       "      <td>2.0</td>\n",
       "      <td>256.0</td>\n",
       "      <td>107.0</td>\n",
       "      <td>1890.0</td>\n",
       "      <td>Yarra City Council</td>\n",
       "      <td>-37.8060</td>\n",
       "      <td>144.9954</td>\n",
       "      <td>Northern Metropolitan</td>\n",
       "      <td>4019.0</td>\n",
       "      <td>127.0</td>\n",
       "      <td>Historic</td>\n",
       "    </tr>\n",
       "  </tbody>\n",
       "</table>\n",
       "</div>"
      ],
      "text/plain": [
       "        Suburb          Address  Rooms Type      Price Method SellerG  \\\n",
       "2   Abbotsford  25 Bloomburg St      2    h  1035000.0      S  Biggin   \n",
       "4   Abbotsford     5 Charles St      3    h  1465000.0     SP  Biggin   \n",
       "6   Abbotsford      55a Park St      4    h  1600000.0     VB  Nelson   \n",
       "11  Abbotsford     124 Yarra St      3    h  1876000.0      S  Nelson   \n",
       "14  Abbotsford    98 Charles St      2    h  1636000.0      S  Nelson   \n",
       "\n",
       "         Date  Distance  Postcode  Bedroom2  Bathroom  Car  Landsize  \\\n",
       "2  2016-04-02       2.5    3067.0       2.0       1.0  0.0     156.0   \n",
       "4  2017-04-03       2.5    3067.0       3.0       2.0  0.0     134.0   \n",
       "6  2016-04-06       2.5    3067.0       3.0       1.0  2.0     120.0   \n",
       "11 2016-07-05       2.5    3067.0       4.0       2.0  0.0     245.0   \n",
       "14 2016-08-10       2.5    3067.0       2.0       1.0  2.0     256.0   \n",
       "\n",
       "    BuildingArea  YearBuilt         CouncilArea  Lattitude  Longtitude  \\\n",
       "2           79.0     1900.0  Yarra City Council   -37.8079    144.9934   \n",
       "4          150.0     1900.0  Yarra City Council   -37.8093    144.9944   \n",
       "6          142.0     2014.0  Yarra City Council   -37.8072    144.9941   \n",
       "11         210.0     1910.0  Yarra City Council   -37.8024    144.9993   \n",
       "14         107.0     1890.0  Yarra City Council   -37.8060    144.9954   \n",
       "\n",
       "               Regionname  Propertycount    Age      Historic  \n",
       "2   Northern Metropolitan         4019.0  117.0      Historic  \n",
       "4   Northern Metropolitan         4019.0  117.0      Historic  \n",
       "6   Northern Metropolitan         4019.0    3.0  Contemporary  \n",
       "11  Northern Metropolitan         4019.0  107.0      Historic  \n",
       "14  Northern Metropolitan         4019.0  127.0      Historic  "
      ]
     },
     "execution_count": 22,
     "metadata": {},
     "output_type": "execute_result"
    }
   ],
   "source": [
    "# Confirm changes \n",
    "housing.head()"
   ]
  },
  {
   "cell_type": "markdown",
   "metadata": {},
   "source": [
    "\n",
    "To account for seasonality of sales, let's add a 'month', and 'year' features by extracting from 'Date' which is sales date. "
   ]
  },
  {
   "cell_type": "code",
   "execution_count": 23,
   "metadata": {},
   "outputs": [],
   "source": [
    "housing['Year'] = pd.DatetimeIndex(housing['Date']).year\n",
    "housing['Month'] = pd.DatetimeIndex(housing['Date']).month"
   ]
  },
  {
   "cell_type": "markdown",
   "metadata": {},
   "source": [
    "The target variable we are trying to predict is 'Price' which is the selling price of houses in Australian Dollars. Let's check the distribution with a histogram and box plot. "
   ]
  },
  {
   "cell_type": "code",
   "execution_count": 24,
   "metadata": {
    "scrolled": false
   },
   "outputs": [
    {
     "name": "stderr",
     "output_type": "stream",
     "text": [
      "C:\\Program Files (x86)\\Microsoft Visual Studio\\Shared\\Anaconda3_64\\lib\\site-packages\\matplotlib\\axes\\_axes.py:6462: UserWarning: The 'normed' kwarg is deprecated, and has been replaced by the 'density' kwarg.\n",
      "  warnings.warn(\"The 'normed' kwarg is deprecated, and has been \"\n"
     ]
    },
    {
     "data": {
      "text/plain": [
       "<matplotlib.axes._subplots.AxesSubplot at 0x29c56af5a90>"
      ]
     },
     "execution_count": 24,
     "metadata": {},
     "output_type": "execute_result"
    },
    {
     "data": {
      "image/png": "[encoded data removed]",
      "text/plain": [
       "<Figure size 1152x504 with 1 Axes>"
      ]
     },
     "metadata": {},
     "output_type": "display_data"
    }
   ],
   "source": [
    "plt.figure(figsize=(16,7))\n",
    "sns.distplot(housing['Price'] ,hist_kws=dict(edgecolor=\"k\"))"
   ]
  },
  {
   "cell_type": "markdown",
   "metadata": {},
   "source": [
    "Let's examine how price relates to different variables"
   ]
  },
  {
   "cell_type": "code",
   "execution_count": 25,
   "metadata": {
    "scrolled": false
   },
   "outputs": [
    {
     "data": {
      "image/png": "[encoded data removed]",
      "text/plain": [
       "<Figure size 720x432 with 1 Axes>"
      ]
     },
     "metadata": {},
     "output_type": "display_data"
    }
   ],
   "source": [
    "plt.figure(figsize=(10,6))\n",
    "\n",
    "sns.boxplot(x='Type', y='Price', data=housing)\n",
    "plt.title('Type vs. Price')\n",
    "\n",
    "plt.show()"
   ]
  },
  {
   "cell_type": "code",
   "execution_count": null,
   "metadata": {},
   "outputs": [],
   "source": []
  },
  {
   "cell_type": "markdown",
   "metadata": {},
   "source": [
    "The price pattern shows some variations among different house types and hence house type is a good predictor of price."
   ]
  },
  {
   "cell_type": "code",
   "execution_count": 26,
   "metadata": {},
   "outputs": [
    {
     "data": {
      "image/png": "[encoded data removed]",
      "text/plain": [
       "<Figure size 720x432 with 1 Axes>"
      ]
     },
     "metadata": {},
     "output_type": "display_data"
    }
   ],
   "source": [
    "plt.figure(figsize=(10,6))\n",
    "\n",
    "sns.boxplot(x='Method', y='Price', data=housing)\n",
    "plt.title('Method vs. Price')\n",
    "\n",
    "plt.show()"
   ]
  },
  {
   "cell_type": "markdown",
   "metadata": {},
   "source": [
    "Three of the method types have similar median price. Some methods such as Sold propertys(S), vendor bid (VB) have higher price than properties sold after auction price not disclosed (SS) hence Method is a good predictor of price. "
   ]
  },
  {
   "cell_type": "code",
   "execution_count": 27,
   "metadata": {},
   "outputs": [
    {
     "data": {
      "image/png": "[encoded data removed]",
      "text/plain": [
       "<Figure size 936x504 with 1 Axes>"
      ]
     },
     "metadata": {},
     "output_type": "display_data"
    }
   ],
   "source": [
    "sns.set(rc={'figure.figsize':(13, 7)})\n",
    "sns.boxplot(x='Regionname', y='Price',\n",
    "                 data=housing, palette='PRGn')\n",
    "plt.title('Region Name vs. Price')\n",
    "plt.xticks(rotation=90)\n",
    "plt.show()"
   ]
  },
  {
   "cell_type": "markdown",
   "metadata": {},
   "source": [
    "We expect that house prices will be different in different regions of any city and that region would be a good indicator of prices. Southern metropolitan has the most expensive houses in the city and Western Victoria region has lowest priced houses As shown above. The log price has the better symetry as shown below.  "
   ]
  },
  {
   "cell_type": "code",
   "execution_count": 90,
   "metadata": {},
   "outputs": [
    {
     "data": {
      "image/png": "[encoded data removed]",
      "text/plain": [
       "<Figure size 1008x576 with 1 Axes>"
      ]
     },
     "metadata": {},
     "output_type": "display_data"
    }
   ],
   "source": [
    "sns.set(rc={'figure.figsize':(14, 8)})\n",
    "sns.boxplot(x='CouncilArea', y='Price',\n",
    "                 data=housing, palette='PRGn')\n",
    "plt.title('Council Area vs. Price')\n",
    "plt.xticks(rotation=90)\n",
    "plt.show()"
   ]
  },
  {
   "cell_type": "markdown",
   "metadata": {},
   "source": [
    "We expect high colinearity between Region Name and Council Area as both of them refer to a geographic location. \n",
    "\n",
    "From the plots we've seen so far, we observe that there are many outlier values. The reason looks like actual difference in the range of prices than an error in the data and as a result we will leave the outliers untouched and expect that some of the most robust models we'll use will handle them. "
   ]
  },
  {
   "cell_type": "markdown",
   "metadata": {},
   "source": [
    "Earlier we hae added a 'Month' and 'Year' features by extracting them from the date of sales. Let's now see how sales price changes in different months of the year and in the years available in the data. "
   ]
  },
  {
   "cell_type": "code",
   "execution_count": 29,
   "metadata": {},
   "outputs": [
    {
     "data": {
      "image/png": "[encoded data removed]",
      "text/plain": [
       "<Figure size 1008x576 with 1 Axes>"
      ]
     },
     "metadata": {},
     "output_type": "display_data"
    }
   ],
   "source": [
    "# how does sales vary by month?\n",
    "sns.barplot(x='Month', y='Price', data=housing)\n",
    "plt.title('Sales price vs Sales Month')\n",
    "plt.xlabel('Month of the year')\n",
    "plt.ylabel('Price')\n",
    "plt.show()"
   ]
  },
  {
   "cell_type": "markdown",
   "metadata": {},
   "source": [
    "Houses sold in December seem to be slightly more expensive and houses sold in January and July have notabily lower prices than the rest. We expect the sales month to be a fairly good indicator or price. The price shows only negligible difference in the three years given. It is not a good indicator and we will not use it in our models. "
   ]
  },
  {
   "cell_type": "code",
   "execution_count": 30,
   "metadata": {
    "scrolled": false
   },
   "outputs": [
    {
     "data": {
      "image/png": "[encoded data removed]",
      "text/plain": [
       "<Figure size 720x432 with 1 Axes>"
      ]
     },
     "metadata": {},
     "output_type": "display_data"
    }
   ],
   "source": [
    "# \n",
    "sns.set(rc={'figure.figsize':(10, 6)})\n",
    "sns.barplot(x='Year', y='Price', data=housing)\n",
    "plt.title('Sales price vs Sales Year')\n",
    "plt.xlabel('Month of the year')\n",
    "plt.ylabel('Price')\n",
    "plt.show()"
   ]
  },
  {
   "cell_type": "markdown",
   "metadata": {},
   "source": [
    "No significant difference in pric of housing in the three years "
   ]
  },
  {
   "cell_type": "code",
   "execution_count": 31,
   "metadata": {},
   "outputs": [
    {
     "data": {
      "image/png": "[encoded data removed]",
      "text/plain": [
       "<Figure size 720x432 with 1 Axes>"
      ]
     },
     "metadata": {},
     "output_type": "display_data"
    }
   ],
   "source": [
    "plt.figure(figsize=(10,6))\n",
    "\n",
    "sns.boxplot(x='Historic', y='Price', data=housing)\n",
    "plt.title('Type vs. Price')\n",
    "\n",
    "plt.show()"
   ]
  },
  {
   "cell_type": "markdown",
   "metadata": {},
   "source": [
    "Historic houses which are older than 50 years have higher selling price "
   ]
  },
  {
   "cell_type": "markdown",
   "metadata": {},
   "source": [
    "Now let's examine the relationship between selling price and some of continious variables. "
   ]
  },
  {
   "cell_type": "code",
   "execution_count": 32,
   "metadata": {},
   "outputs": [
    {
     "data": {
      "image/png": "[encoded data removed]",
      "text/plain": [
       "<Figure size 1152x720 with 9 Axes>"
      ]
     },
     "metadata": {},
     "output_type": "display_data"
    }
   ],
   "source": [
    "housing_con = ['Rooms', 'Distance', 'Bedroom2', 'Bathroom', 'Car', 'YearBuilt', 'Landsize', 'BuildingArea', 'Propertycount']\n",
    "plt.figure(figsize=(16,10))\n",
    "i=1\n",
    "\n",
    "for col in housing[housing_con]:\n",
    "    plt.subplot(3,3,i)\n",
    "    plt.scatter(x=housing[col], y=housing['Price'])\n",
    "    plt.xlabel(col)\n",
    "    plt.ylabel('Price')\n",
    "    plt.title('Price vs. {}'.format(col))\n",
    "    i+=1\n",
    "\n",
    "plt.tight_layout()\n",
    "plt.show()"
   ]
  },
  {
   "cell_type": "markdown",
   "metadata": {},
   "source": [
    "<b>Observations</b>\n",
    "\n",
    "Price increases with the number of rooms (and bedrooms) for upto five rooms. House prices starts decreasing when the number of rooms goes beyond five. One possible explanation could be that (looking at the distance vs price graph) houses with many rooms need more land area to build which is affordable away from the city center. But again the longer the distance from the city (Distance variable) the cheaper the house gets. That could make the concentration of houses with many rooms away from the city and number of rooms will have less and less effect on the price of the house.\n",
    "\n",
    "Land size and building area is similar to most houses. Parking spots also have positive corelation to some degree and the corelation is lost after the number of spots exceeds five. The property count doesn't show a clear trend with the price. "
   ]
  },
  {
   "cell_type": "markdown",
   "metadata": {},
   "source": [
    "### Correlation"
   ]
  },
  {
   "cell_type": "code",
   "execution_count": 33,
   "metadata": {},
   "outputs": [
    {
     "data": {
      "text/plain": [
       "Text(0.5,1,'Correlation')"
      ]
     },
     "execution_count": 33,
     "metadata": {},
     "output_type": "execute_result"
    },
    {
     "data": {
      "image/png": "[encoded data removed]",
      "text/plain": [
       "<Figure size 1080x576 with 2 Axes>"
      ]
     },
     "metadata": {},
     "output_type": "display_data"
    }
   ],
   "source": [
    "plt.figure(figsize=(15,8))\n",
    "sns.heatmap(housing.corr(),linewidth = 1,annot= True)\n",
    "plt.title('Correlation')"
   ]
  },
  {
   "cell_type": "markdown",
   "metadata": {},
   "source": [
    "Variables Rooms, Bedroom2, and Bathroom are relatively closely corelated as they show to measure the same things. Overall the variables have low collinearity. We will use Principal Component Analysis to further cut the number of predicters to a smaller set of uncorelated featurs.   "
   ]
  },
  {
   "cell_type": "code",
   "execution_count": 34,
   "metadata": {},
   "outputs": [],
   "source": [
    "# Remove unwanted or similar features. \n",
    "housing_m = housing.drop(['Date', 'Method', 'Suburb', 'CouncilArea', 'Address', 'Bedroom2', 'SellerG', 'Postcode', 'Historic'], axis=1)"
   ]
  },
  {
   "cell_type": "code",
   "execution_count": 35,
   "metadata": {
    "scrolled": true
   },
   "outputs": [
    {
     "data": {
      "text/html": [
       "<div>\n",
       "<style scoped>\n",
       "    .dataframe tbody tr th:only-of-type {\n",
       "        vertical-align: middle;\n",
       "    }\n",
       "\n",
       "    .dataframe tbody tr th {\n",
       "        vertical-align: top;\n",
       "    }\n",
       "\n",
       "    .dataframe thead th {\n",
       "        text-align: right;\n",
       "    }\n",
       "</style>\n",
       "<table border=\"1\" class=\"dataframe\">\n",
       "  <thead>\n",
       "    <tr style=\"text-align: right;\">\n",
       "      <th></th>\n",
       "      <th>Rooms</th>\n",
       "      <th>Type</th>\n",
       "      <th>Price</th>\n",
       "      <th>Distance</th>\n",
       "      <th>Bathroom</th>\n",
       "      <th>Car</th>\n",
       "      <th>Landsize</th>\n",
       "      <th>BuildingArea</th>\n",
       "      <th>YearBuilt</th>\n",
       "      <th>Lattitude</th>\n",
       "      <th>Longtitude</th>\n",
       "      <th>Regionname</th>\n",
       "      <th>Propertycount</th>\n",
       "      <th>Age</th>\n",
       "      <th>Year</th>\n",
       "      <th>Month</th>\n",
       "    </tr>\n",
       "  </thead>\n",
       "  <tbody>\n",
       "    <tr>\n",
       "      <th>2</th>\n",
       "      <td>2</td>\n",
       "      <td>h</td>\n",
       "      <td>1035000.0</td>\n",
       "      <td>2.5</td>\n",
       "      <td>1.0</td>\n",
       "      <td>0.0</td>\n",
       "      <td>156.0</td>\n",
       "      <td>79.0</td>\n",
       "      <td>1900.0</td>\n",
       "      <td>-37.8079</td>\n",
       "      <td>144.9934</td>\n",
       "      <td>Northern Metropolitan</td>\n",
       "      <td>4019.0</td>\n",
       "      <td>117.0</td>\n",
       "      <td>2016</td>\n",
       "      <td>4</td>\n",
       "    </tr>\n",
       "    <tr>\n",
       "      <th>4</th>\n",
       "      <td>3</td>\n",
       "      <td>h</td>\n",
       "      <td>1465000.0</td>\n",
       "      <td>2.5</td>\n",
       "      <td>2.0</td>\n",
       "      <td>0.0</td>\n",
       "      <td>134.0</td>\n",
       "      <td>150.0</td>\n",
       "      <td>1900.0</td>\n",
       "      <td>-37.8093</td>\n",
       "      <td>144.9944</td>\n",
       "      <td>Northern Metropolitan</td>\n",
       "      <td>4019.0</td>\n",
       "      <td>117.0</td>\n",
       "      <td>2017</td>\n",
       "      <td>4</td>\n",
       "    </tr>\n",
       "  </tbody>\n",
       "</table>\n",
       "</div>"
      ],
      "text/plain": [
       "   Rooms Type      Price  Distance  Bathroom  Car  Landsize  BuildingArea  \\\n",
       "2      2    h  1035000.0       2.5       1.0  0.0     156.0          79.0   \n",
       "4      3    h  1465000.0       2.5       2.0  0.0     134.0         150.0   \n",
       "\n",
       "   YearBuilt  Lattitude  Longtitude             Regionname  Propertycount  \\\n",
       "2     1900.0   -37.8079    144.9934  Northern Metropolitan         4019.0   \n",
       "4     1900.0   -37.8093    144.9944  Northern Metropolitan         4019.0   \n",
       "\n",
       "     Age  Year  Month  \n",
       "2  117.0  2016      4  \n",
       "4  117.0  2017      4  "
      ]
     },
     "execution_count": 35,
     "metadata": {},
     "output_type": "execute_result"
    }
   ],
   "source": [
    "housing_m.head(2)"
   ]
  },
  {
   "cell_type": "code",
   "execution_count": 36,
   "metadata": {},
   "outputs": [],
   "source": [
    "# Our target variable is Price\n",
    "X = housing_m.drop('Price', 1)\n",
    "Y = housing_m['Price']\n",
    "X = pd.get_dummies(X)"
   ]
  },
  {
   "cell_type": "code",
   "execution_count": 37,
   "metadata": {},
   "outputs": [
    {
     "data": {
      "text/plain": [
       "(8836,)"
      ]
     },
     "execution_count": 37,
     "metadata": {},
     "output_type": "execute_result"
    }
   ],
   "source": [
    "Y.shape"
   ]
  },
  {
   "cell_type": "code",
   "execution_count": 39,
   "metadata": {},
   "outputs": [
    {
     "data": {
      "text/html": [
       "<div>\n",
       "<style scoped>\n",
       "    .dataframe tbody tr th:only-of-type {\n",
       "        vertical-align: middle;\n",
       "    }\n",
       "\n",
       "    .dataframe tbody tr th {\n",
       "        vertical-align: top;\n",
       "    }\n",
       "\n",
       "    .dataframe thead th {\n",
       "        text-align: right;\n",
       "    }\n",
       "</style>\n",
       "<table border=\"1\" class=\"dataframe\">\n",
       "  <thead>\n",
       "    <tr style=\"text-align: right;\">\n",
       "      <th></th>\n",
       "      <th>Rooms</th>\n",
       "      <th>Distance</th>\n",
       "      <th>Bathroom</th>\n",
       "      <th>Car</th>\n",
       "      <th>Landsize</th>\n",
       "      <th>BuildingArea</th>\n",
       "      <th>YearBuilt</th>\n",
       "      <th>Lattitude</th>\n",
       "      <th>Longtitude</th>\n",
       "      <th>Propertycount</th>\n",
       "      <th>Age</th>\n",
       "      <th>Year</th>\n",
       "      <th>Month</th>\n",
       "      <th>Type_h</th>\n",
       "      <th>Type_t</th>\n",
       "      <th>Type_u</th>\n",
       "      <th>Regionname_Eastern Metropolitan</th>\n",
       "      <th>Regionname_Eastern Victoria</th>\n",
       "      <th>Regionname_Northern Metropolitan</th>\n",
       "      <th>Regionname_Northern Victoria</th>\n",
       "      <th>Regionname_South-Eastern Metropolitan</th>\n",
       "      <th>Regionname_Southern Metropolitan</th>\n",
       "      <th>Regionname_Western Metropolitan</th>\n",
       "      <th>Regionname_Western Victoria</th>\n",
       "    </tr>\n",
       "  </thead>\n",
       "  <tbody>\n",
       "    <tr>\n",
       "      <th>2</th>\n",
       "      <td>2</td>\n",
       "      <td>2.5</td>\n",
       "      <td>1.0</td>\n",
       "      <td>0.0</td>\n",
       "      <td>156.0</td>\n",
       "      <td>79.0</td>\n",
       "      <td>1900.0</td>\n",
       "      <td>-37.8079</td>\n",
       "      <td>144.9934</td>\n",
       "      <td>4019.0</td>\n",
       "      <td>117.0</td>\n",
       "      <td>2016</td>\n",
       "      <td>4</td>\n",
       "      <td>1</td>\n",
       "      <td>0</td>\n",
       "      <td>0</td>\n",
       "      <td>0</td>\n",
       "      <td>0</td>\n",
       "      <td>1</td>\n",
       "      <td>0</td>\n",
       "      <td>0</td>\n",
       "      <td>0</td>\n",
       "      <td>0</td>\n",
       "      <td>0</td>\n",
       "    </tr>\n",
       "    <tr>\n",
       "      <th>4</th>\n",
       "      <td>3</td>\n",
       "      <td>2.5</td>\n",
       "      <td>2.0</td>\n",
       "      <td>0.0</td>\n",
       "      <td>134.0</td>\n",
       "      <td>150.0</td>\n",
       "      <td>1900.0</td>\n",
       "      <td>-37.8093</td>\n",
       "      <td>144.9944</td>\n",
       "      <td>4019.0</td>\n",
       "      <td>117.0</td>\n",
       "      <td>2017</td>\n",
       "      <td>4</td>\n",
       "      <td>1</td>\n",
       "      <td>0</td>\n",
       "      <td>0</td>\n",
       "      <td>0</td>\n",
       "      <td>0</td>\n",
       "      <td>1</td>\n",
       "      <td>0</td>\n",
       "      <td>0</td>\n",
       "      <td>0</td>\n",
       "      <td>0</td>\n",
       "      <td>0</td>\n",
       "    </tr>\n",
       "    <tr>\n",
       "      <th>6</th>\n",
       "      <td>4</td>\n",
       "      <td>2.5</td>\n",
       "      <td>1.0</td>\n",
       "      <td>2.0</td>\n",
       "      <td>120.0</td>\n",
       "      <td>142.0</td>\n",
       "      <td>2014.0</td>\n",
       "      <td>-37.8072</td>\n",
       "      <td>144.9941</td>\n",
       "      <td>4019.0</td>\n",
       "      <td>3.0</td>\n",
       "      <td>2016</td>\n",
       "      <td>4</td>\n",
       "      <td>1</td>\n",
       "      <td>0</td>\n",
       "      <td>0</td>\n",
       "      <td>0</td>\n",
       "      <td>0</td>\n",
       "      <td>1</td>\n",
       "      <td>0</td>\n",
       "      <td>0</td>\n",
       "      <td>0</td>\n",
       "      <td>0</td>\n",
       "      <td>0</td>\n",
       "    </tr>\n",
       "    <tr>\n",
       "      <th>11</th>\n",
       "      <td>3</td>\n",
       "      <td>2.5</td>\n",
       "      <td>2.0</td>\n",
       "      <td>0.0</td>\n",
       "      <td>245.0</td>\n",
       "      <td>210.0</td>\n",
       "      <td>1910.0</td>\n",
       "      <td>-37.8024</td>\n",
       "      <td>144.9993</td>\n",
       "      <td>4019.0</td>\n",
       "      <td>107.0</td>\n",
       "      <td>2016</td>\n",
       "      <td>7</td>\n",
       "      <td>1</td>\n",
       "      <td>0</td>\n",
       "      <td>0</td>\n",
       "      <td>0</td>\n",
       "      <td>0</td>\n",
       "      <td>1</td>\n",
       "      <td>0</td>\n",
       "      <td>0</td>\n",
       "      <td>0</td>\n",
       "      <td>0</td>\n",
       "      <td>0</td>\n",
       "    </tr>\n",
       "    <tr>\n",
       "      <th>14</th>\n",
       "      <td>2</td>\n",
       "      <td>2.5</td>\n",
       "      <td>1.0</td>\n",
       "      <td>2.0</td>\n",
       "      <td>256.0</td>\n",
       "      <td>107.0</td>\n",
       "      <td>1890.0</td>\n",
       "      <td>-37.8060</td>\n",
       "      <td>144.9954</td>\n",
       "      <td>4019.0</td>\n",
       "      <td>127.0</td>\n",
       "      <td>2016</td>\n",
       "      <td>8</td>\n",
       "      <td>1</td>\n",
       "      <td>0</td>\n",
       "      <td>0</td>\n",
       "      <td>0</td>\n",
       "      <td>0</td>\n",
       "      <td>1</td>\n",
       "      <td>0</td>\n",
       "      <td>0</td>\n",
       "      <td>0</td>\n",
       "      <td>0</td>\n",
       "      <td>0</td>\n",
       "    </tr>\n",
       "  </tbody>\n",
       "</table>\n",
       "</div>"
      ],
      "text/plain": [
       "    Rooms  Distance  Bathroom  Car  Landsize  BuildingArea  YearBuilt  \\\n",
       "2       2       2.5       1.0  0.0     156.0          79.0     1900.0   \n",
       "4       3       2.5       2.0  0.0     134.0         150.0     1900.0   \n",
       "6       4       2.5       1.0  2.0     120.0         142.0     2014.0   \n",
       "11      3       2.5       2.0  0.0     245.0         210.0     1910.0   \n",
       "14      2       2.5       1.0  2.0     256.0         107.0     1890.0   \n",
       "\n",
       "    Lattitude  Longtitude  Propertycount    Age  Year  Month  Type_h  Type_t  \\\n",
       "2    -37.8079    144.9934         4019.0  117.0  2016      4       1       0   \n",
       "4    -37.8093    144.9944         4019.0  117.0  2017      4       1       0   \n",
       "6    -37.8072    144.9941         4019.0    3.0  2016      4       1       0   \n",
       "11   -37.8024    144.9993         4019.0  107.0  2016      7       1       0   \n",
       "14   -37.8060    144.9954         4019.0  127.0  2016      8       1       0   \n",
       "\n",
       "    Type_u  Regionname_Eastern Metropolitan  Regionname_Eastern Victoria  \\\n",
       "2        0                                0                            0   \n",
       "4        0                                0                            0   \n",
       "6        0                                0                            0   \n",
       "11       0                                0                            0   \n",
       "14       0                                0                            0   \n",
       "\n",
       "    Regionname_Northern Metropolitan  Regionname_Northern Victoria  \\\n",
       "2                                  1                             0   \n",
       "4                                  1                             0   \n",
       "6                                  1                             0   \n",
       "11                                 1                             0   \n",
       "14                                 1                             0   \n",
       "\n",
       "    Regionname_South-Eastern Metropolitan  Regionname_Southern Metropolitan  \\\n",
       "2                                       0                                 0   \n",
       "4                                       0                                 0   \n",
       "6                                       0                                 0   \n",
       "11                                      0                                 0   \n",
       "14                                      0                                 0   \n",
       "\n",
       "    Regionname_Western Metropolitan  Regionname_Western Victoria  \n",
       "2                                 0                            0  \n",
       "4                                 0                            0  \n",
       "6                                 0                            0  \n",
       "11                                0                            0  \n",
       "14                                0                            0  "
      ]
     },
     "execution_count": 39,
     "metadata": {},
     "output_type": "execute_result"
    }
   ],
   "source": [
    "X.head()"
   ]
  },
  {
   "cell_type": "markdown",
   "metadata": {},
   "source": [
    "### Try the model without applying PCA and Select K Best"
   ]
  },
  {
   "cell_type": "code",
   "execution_count": 48,
   "metadata": {},
   "outputs": [],
   "source": [
    "# Split\n",
    "X_train_raw, X_test_raw, y_train_raw, y_test_raw = train_test_split(X, Y, test_size = 0.3, random_state = 0)"
   ]
  },
  {
   "cell_type": "markdown",
   "metadata": {},
   "source": [
    "### Linear Regression "
   ]
  },
  {
   "cell_type": "code",
   "execution_count": 49,
   "metadata": {},
   "outputs": [
    {
     "name": "stdout",
     "output_type": "stream",
     "text": [
      "0.6295332657092486\n",
      "R2 score: 0.633339540920216\n",
      "MSE: 172032957695.54843\n",
      "--- 0.13310981679352096 seconds ---\n"
     ]
    }
   ],
   "source": [
    "# Initialize and fit \n",
    "start_time = time.clock()\n",
    "regressor = LinearRegression()\n",
    "regressor.fit(X_train_raw, y_train_raw)\n",
    "\n",
    "# Pridict Y\n",
    "Y_linear_raw = regressor.predict(X_test_raw)\n",
    "\n",
    "\n",
    "# Scores \n",
    "\n",
    "# Cross validation\n",
    "score = cross_val_score(regressor, X, Y, cv=10).mean()\n",
    "print(score)\n",
    "\n",
    "# R squered value\n",
    "R2 = r2_score(y_test_raw, Y_linear_raw)\n",
    "print('R2 score:', R2)\n",
    "\n",
    "# MSE\n",
    "print('MSE:', mean_squared_error(y_test_raw, Y_linear_raw))\n",
    "\n",
    "print(\"--- %s seconds ---\" % (time.clock() - start_time))"
   ]
  },
  {
   "cell_type": "markdown",
   "metadata": {},
   "source": [
    "The R2 score of 0.63 suggests that not enough varience in the target varieble is explained by the model. Linear regression assumes low collinearity between predictors and target varieble. We have seen in the correlation heatmap that some of the variebles are somehow correlated. "
   ]
  },
  {
   "cell_type": "markdown",
   "metadata": {},
   "source": [
    "### Random Forest"
   ]
  },
  {
   "cell_type": "code",
   "execution_count": 96,
   "metadata": {},
   "outputs": [
    {
     "name": "stdout",
     "output_type": "stream",
     "text": [
      "[0.78953149 0.80654204 0.72050929 0.75407683 0.76834725 0.80957319\n",
      " 0.6446614  0.7537976  0.81106705 0.82754761]\n",
      "R2 score: 0.8143390351053676\n",
      "MSE: 87110033625.09564\n",
      "--- 387.4196912724001 seconds ---\n"
     ]
    }
   ],
   "source": [
    "# Decision tree using GridSearchCV to tune parameters\n",
    "start_time = time.clock()\n",
    "\n",
    "#tree_para = {'criterion':['gini','entropy'],'max_depth':[4,5,6,7,8,9,10,11,12,15,20,30,40,50,70,90,120,150,500]}\n",
    "forest_para = {'max_depth': np.arange(10, 100)}\n",
    "\n",
    "forest = GridSearchCV(RandomForestRegressor(), forest_para, cv=10)\n",
    "grid_fit = forest.fit(X_train_raw, y_train_raw)\n",
    "\n",
    "best_forest_raw = grid_fit.best_estimator_\n",
    "Y_forest = best_forest_raw.predict(X_test_raw)\n",
    "\n",
    "# Cross validation\n",
    "score_forest = cross_val_score(best_forest_raw, X, Y, cv=10)\n",
    "print(score_forest)\n",
    "\n",
    "# R squered value\n",
    "R2_forest = r2_score(y_test_raw, Y_forest)\n",
    "print('R2 score:', R2_forest)\n",
    "\n",
    "# MSE\n",
    "print('MSE:', mean_squared_error(y_test_raw, Y_forest))\n",
    "\n",
    "print(\"--- %s seconds ---\" % (time.clock() - start_time))"
   ]
  },
  {
   "cell_type": "code",
   "execution_count": 97,
   "metadata": {},
   "outputs": [
    {
     "data": {
      "text/plain": [
       "0.7685653752441406"
      ]
     },
     "execution_count": 97,
     "metadata": {},
     "output_type": "execute_result"
    }
   ],
   "source": [
    "score_forest.mean()"
   ]
  },
  {
   "cell_type": "markdown",
   "metadata": {},
   "source": [
    "The Random Forest model explains more of the varience in the target variable than decision tree and performs better in all other measures. This is due to the way random forest works by making a lot of trees and taking a vote from each tree. "
   ]
  },
  {
   "cell_type": "markdown",
   "metadata": {},
   "source": [
    "### Dimentionality reduction using PCA and Select K best"
   ]
  },
  {
   "cell_type": "code",
   "execution_count": 40,
   "metadata": {},
   "outputs": [],
   "source": [
    "# Select 14 of the 24 features based on f_regression test\n",
    "# This gave the best result after many trials \n",
    "from sklearn.feature_selection import f_regression\n",
    "selection = SelectKBest(score_func=f_regression, k=14)\n",
    "X_kbest = selection.fit(X, Y).transform(X)"
   ]
  },
  {
   "cell_type": "code",
   "execution_count": 41,
   "metadata": {},
   "outputs": [],
   "source": [
    "# transform  \n",
    "X_kbest_tra = StandardScaler().fit_transform(X_kbest)"
   ]
  },
  {
   "cell_type": "code",
   "execution_count": 42,
   "metadata": {},
   "outputs": [],
   "source": [
    "# Initiate pca\n",
    "pca =PCA(n_components=12)"
   ]
  },
  {
   "cell_type": "code",
   "execution_count": 43,
   "metadata": {},
   "outputs": [
    {
     "name": "stdout",
     "output_type": "stream",
     "text": [
      "Varience expained by principal components: [0.23938086 0.41495093 0.57883398 0.69430143 0.77614083 0.82850616\n",
      " 0.86816744 0.90151696 0.93217408 0.95973521 0.97949124 0.99317148]\n"
     ]
    }
   ],
   "source": [
    "# Fit with selected features\n",
    "X_pca = pca.fit_transform(X_kbest_tra)\n",
    "\n",
    "# Varience in pca\n",
    "varience = pca.explained_variance_ratio_.cumsum()\n",
    "print('Varience expained by principal components:', varience)"
   ]
  },
  {
   "cell_type": "markdown",
   "metadata": {},
   "source": [
    "We used SelectkBest based on f_regression score. f_regression works by calculating the correlation between each regressor and the target. It is then converted to an F score then to a p-value.\n",
    "\n",
    "In our model, for the number of principal components to explain most of the varience, it has to be close to the number of features selected by select k best method. As a result we will only get minimal reduction using PCA. "
   ]
  },
  {
   "cell_type": "markdown",
   "metadata": {},
   "source": [
    "### Train-test split\n",
    "For all models, we'll use 70% of the data for training and the rest for testing"
   ]
  },
  {
   "cell_type": "code",
   "execution_count": 44,
   "metadata": {},
   "outputs": [],
   "source": [
    "X_train, X_test, y_train, y_test = train_test_split(X_pca, Y, test_size = 0.3, random_state = 42)"
   ]
  },
  {
   "cell_type": "markdown",
   "metadata": {},
   "source": [
    "\n",
    "### 1. Linear Regression"
   ]
  },
  {
   "cell_type": "code",
   "execution_count": 45,
   "metadata": {
    "scrolled": true
   },
   "outputs": [
    {
     "name": "stdout",
     "output_type": "stream",
     "text": [
      "[0.57420466 0.69934723 0.68033766 0.60029839 0.63467046 0.63094041\n",
      " 0.48133492 0.62730342 0.63591138 0.67093718]\n",
      "R2 score: 0.6696981314825386\n",
      "MSE: 148502352646.85333\n",
      "--- 0.05092226172683167 seconds ---\n"
     ]
    }
   ],
   "source": [
    "# Initialize and fit \n",
    "start_time = time.clock()\n",
    "regressor = LinearRegression()\n",
    "regressor.fit(X_train, y_train)\n",
    "\n",
    "# Pridict Y\n",
    "Y_linear = regressor.predict(X_test)\n",
    "\n",
    "# Scores \n",
    "\n",
    "# Cross validation\n",
    "score = cross_val_score(regressor, X_pca, Y, cv=10)\n",
    "print(score)\n",
    "\n",
    "# R squered value\n",
    "R2 = r2_score(y_test, Y_linear)\n",
    "print('R2 score:', R2)\n",
    "\n",
    "# MSE\n",
    "print('MSE:', mean_squared_error(y_test, Y_linear))\n",
    "\n",
    "print(\"--- %s seconds ---\" % (time.clock() - start_time))"
   ]
  },
  {
   "cell_type": "code",
   "execution_count": 91,
   "metadata": {},
   "outputs": [
    {
     "name": "stdout",
     "output_type": "stream",
     "text": [
      "0.6295332657092486\n"
     ]
    }
   ],
   "source": [
    "# score on average\n",
    "print(score.mean())"
   ]
  },
  {
   "cell_type": "markdown",
   "metadata": {},
   "source": [
    "The model hasn't improved much after dimentionality reduction. The distribution of errors is consistent for all predictors but it is skewed towards the left. "
   ]
  },
  {
   "cell_type": "code",
   "execution_count": 46,
   "metadata": {},
   "outputs": [
    {
     "data": {
      "image/png": "[encoded data removed]",
      "text/plain": [
       "<Figure size 720x432 with 1 Axes>"
      ]
     },
     "metadata": {},
     "output_type": "display_data"
    }
   ],
   "source": [
    "# Normality test\n",
    "actual = Y\n",
    "predicted = Y_linear\n",
    "residual = actual[len(predicted)] - predicted # length of actual is different from\n",
    "# predicted because of the holdout split\n",
    "plt.hist(residual)\n",
    "plt.xlabel('Predicted')\n",
    "plt.ylabel('Residual')\n",
    "plt.title('Distribution of residue')\n",
    "plt.show()"
   ]
  },
  {
   "cell_type": "code",
   "execution_count": 47,
   "metadata": {
    "scrolled": false
   },
   "outputs": [
    {
     "data": {
      "image/png": "[encoded data removed]",
      "text/plain": [
       "<Figure size 720x432 with 1 Axes>"
      ]
     },
     "metadata": {},
     "output_type": "display_data"
    }
   ],
   "source": [
    "# Homoscedasticity test \n",
    "plt.scatter(predicted, residual)\n",
    "plt.xlabel('Predicted')\n",
    "plt.ylabel('Residual')\n",
    "plt.title('The distribution of errors looks consistent')\n",
    "plt.show()"
   ]
  },
  {
   "cell_type": "markdown",
   "metadata": {},
   "source": [
    "### 2. KNN regressor "
   ]
  },
  {
   "cell_type": "code",
   "execution_count": 63,
   "metadata": {},
   "outputs": [
    {
     "name": "stdout",
     "output_type": "stream",
     "text": [
      "[0.73224574 0.77529216 0.74482614 0.71336714 0.72733305 0.72099613\n",
      " 0.6185305  0.71425017 0.74459029 0.78168598]\n",
      "R2 score: 0.7586800430406402\n",
      "MSE: 108496453592.44408\n",
      "--- 1.495152851268358 seconds ---\n"
     ]
    }
   ],
   "source": [
    "#Knn regression model\n",
    "\n",
    "start_time = time.clock()\n",
    "knn = KNeighborsRegressor(n_neighbors = 25)\n",
    "knn.fit(X_train, y_train)\n",
    "\n",
    "# Pridict Y\n",
    "Y_knn = knn.predict(X_test)\n",
    "\n",
    "# Scores \n",
    "\n",
    "# Cross validation\n",
    "score_knn = cross_val_score(knn, X_pca, Y, cv=10)\n",
    "print(score_knn)\n",
    "\n",
    "# R squered value\n",
    "R2_knn = r2_score(y_test, Y_knn)\n",
    "print('R2 score:', R2_knn)\n",
    "\n",
    "# MSE\n",
    "print('MSE:', mean_squared_error(y_test, Y_knn))\n",
    "\n",
    "print(\"--- %s seconds ---\" % (time.clock() - start_time))"
   ]
  },
  {
   "cell_type": "code",
   "execution_count": 64,
   "metadata": {},
   "outputs": [
    {
     "data": {
      "text/plain": [
       "0.7273117291435429"
      ]
     },
     "execution_count": 64,
     "metadata": {},
     "output_type": "execute_result"
    }
   ],
   "source": [
    "score_knn.mean()"
   ]
  },
  {
   "cell_type": "markdown",
   "metadata": {},
   "source": [
    "KNN is a more robust model than the linear model above. The model takes the average vote from each neighbour to make prediction and as a result the varience in the target varieble explained by the model has increased. We also get a lower MSE than the linear model. Since MSE is a loss functions, a good model will have a lower MSE error. "
   ]
  },
  {
   "cell_type": "markdown",
   "metadata": {},
   "source": [
    "### 3. Decision Tree"
   ]
  },
  {
   "cell_type": "code",
   "execution_count": 52,
   "metadata": {},
   "outputs": [
    {
     "name": "stdout",
     "output_type": "stream",
     "text": [
      "[0.55149396 0.52159259 0.57474137 0.6115848  0.50706101 0.58862681\n",
      " 0.41909366 0.63072855 0.5943705  0.48178181]\n",
      "R2 score: 0.6230692259353166\n",
      "MSE: 169466515538.78787\n",
      "--- 1173.606168578632 seconds ---\n"
     ]
    }
   ],
   "source": [
    "# Decision tree using GridSearchCV to tune parameters\n",
    "start_time = time.clock()\n",
    "\n",
    "tree_para = {'max_depth': np.arange(10, 100)}\n",
    "\n",
    "tree = GridSearchCV(DecisionTreeRegressor(random_state=0), tree_para, cv=10)\n",
    "grid_fit = tree.fit(X_train, y_train)\n",
    "\n",
    "best_tree = grid_fit.best_estimator_\n",
    "Y_tree = best_tree.predict(X_test)\n",
    "\n",
    "# Cross validation\n",
    "score_tree = cross_val_score(tree, X_pca, Y, cv=10)\n",
    "print(score_tree)\n",
    "\n",
    "# R squered value\n",
    "R2_tree = r2_score(y_test, Y_tree)\n",
    "print('R2 score:', R2_tree)\n",
    "\n",
    "# MSE\n",
    "print('MSE:', mean_squared_error(y_test, Y_tree))\n",
    "\n",
    "print(\"--- %s seconds ---\" % (time.clock() - start_time))"
   ]
  },
  {
   "cell_type": "code",
   "execution_count": 66,
   "metadata": {},
   "outputs": [
    {
     "data": {
      "text/plain": [
       "0.5481075058308265"
      ]
     },
     "execution_count": 66,
     "metadata": {},
     "output_type": "execute_result"
    }
   ],
   "source": [
    "score_tree.mean()"
   ]
  },
  {
   "cell_type": "markdown",
   "metadata": {},
   "source": [
    "Decision tree takes longer runtime than KNN and linear models. But it has a lower performance than the two. Decision trees are prone to overfitting when fitted to larger datasets.  "
   ]
  },
  {
   "cell_type": "markdown",
   "metadata": {},
   "source": [
    "### 4. Random Forest"
   ]
  },
  {
   "cell_type": "code",
   "execution_count": 61,
   "metadata": {},
   "outputs": [
    {
     "name": "stdout",
     "output_type": "stream",
     "text": [
      "[0.80679148 0.80399455 0.70922061 0.76586921 0.79420695 0.80616242\n",
      " 0.65568753 0.79437062 0.8411794  0.83350089]\n",
      "R2 score: 0.7652422073033276\n",
      "MSE: 105546131707.07858\n",
      "--- 530.5463678064516 seconds ---\n"
     ]
    }
   ],
   "source": [
    "# Decision tree using GridSearchCV to tune parameters\n",
    "start_time = time.clock()\n",
    "\n",
    "#tree_para = {'criterion':['gini','entropy'],'max_depth':[4,5,6,7,8,9,10,11,12,15,20,30,40,50,70,90,120,150,500]}\n",
    "forest_para = {'max_depth': np.arange(10, 100)}\n",
    "\n",
    "forest = GridSearchCV(RandomForestRegressor(), forest_para, cv=10)\n",
    "grid_fit = forest.fit(X_train, y_train)\n",
    "\n",
    "best_forest = grid_fit.best_estimator_\n",
    "Y_forest = best_forest.predict(X_test)\n",
    "\n",
    "# Cross validation\n",
    "score_forest = cross_val_score(best_forest, X, Y, cv=10)\n",
    "print(score_forest)\n",
    "\n",
    "# R squered value\n",
    "R2_forest = r2_score(y_test, Y_forest)\n",
    "print('R2 score:', R2_forest)\n",
    "\n",
    "# MSE\n",
    "print('MSE:', mean_squared_error(y_test, Y_forest))\n",
    "\n",
    "print(\"--- %s seconds ---\" % (time.clock() - start_time))"
   ]
  },
  {
   "cell_type": "code",
   "execution_count": 60,
   "metadata": {
    "scrolled": true
   },
   "outputs": [
    {
     "data": {
      "text/plain": [
       "0.7742314494738797"
      ]
     },
     "execution_count": 60,
     "metadata": {},
     "output_type": "execute_result"
    }
   ],
   "source": [
    "score_forest.mean()"
   ]
  },
  {
   "cell_type": "markdown",
   "metadata": {},
   "source": [
    "The random forest model we built earlier with original features has a slightly better performance score than the one above with reduced dimentions. It had lower MSE and higher r squared value. It seems like the by retaining all the information in the predictors, we were able to get a better result and that dimentionality reduction might not always result in a better performance.  "
   ]
  },
  {
   "cell_type": "markdown",
   "metadata": {},
   "source": [
    "### 5. Ridge Regression"
   ]
  },
  {
   "cell_type": "code",
   "execution_count": 56,
   "metadata": {
    "scrolled": true
   },
   "outputs": [
    {
     "name": "stdout",
     "output_type": "stream",
     "text": [
      "[0.57423471 0.69934402 0.68033431 0.60029677 0.63466591 0.63094012\n",
      " 0.48135675 0.62731257 0.63591775 0.67093167]\n",
      "R2 score: 0.6696987252267441\n",
      "MSE: 148502085701.91663\n",
      "--- 0.06821336243774567 seconds ---\n"
     ]
    }
   ],
   "source": [
    "# set timer, fit model \n",
    "start_time = time.clock()\n",
    "ridge = Ridge()\n",
    "ridge.fit(X_train, y_train)\n",
    "\n",
    "Y_ridge = ridge.predict(X_test)\n",
    "\n",
    "# Cross validation\n",
    "score_ridge = cross_val_score(ridge, X_pca, Y, cv=10)\n",
    "print(score_ridge)\n",
    "\n",
    "# R squered value\n",
    "R2_ridge = r2_score(y_test, Y_ridge)\n",
    "print('R2 score:', R2_ridge)\n",
    "\n",
    "# MSE\n",
    "print('MSE:', mean_squared_error(y_test, Y_ridge))\n",
    "\n",
    "print(\"--- %s seconds ---\" % (time.clock() - start_time))"
   ]
  },
  {
   "cell_type": "code",
   "execution_count": 93,
   "metadata": {},
   "outputs": [
    {
     "name": "stdout",
     "output_type": "stream",
     "text": [
      "0.623533457028757\n"
     ]
    }
   ],
   "source": [
    "print((score_ridge).mean())"
   ]
  },
  {
   "cell_type": "markdown",
   "metadata": {},
   "source": [
    "Ridge regression works by penalizing large coeficints of predictors which could result from multicilinearity. Since the collinearity in our data is reduced with PCA, the Ridge model hasn't improved the results of the linear regression model we used earlier. "
   ]
  },
  {
   "cell_type": "markdown",
   "metadata": {},
   "source": [
    "### 6. Gradient Boosting Algorithm "
   ]
  },
  {
   "cell_type": "markdown",
   "metadata": {},
   "source": [
    "learning_rate\n",
    "This determines the impact of each tree on the final outcome (step 2.4). GBM works by starting with an initial estimate which is updated using the output of each tree. The learning parameter controls the magnitude of this change in the estimates.\n",
    "Lower values are generally preferred as they make the model robust to the specific characteristics of tree and thus allowing it to generalize well.\n",
    "Lower values would require higher number of trees to model all the relations and will be computationally expensive.\n",
    "\n",
    "n_estimators\n",
    "The number of sequential trees to be modeled (step 2)\n",
    "Though GBM is fairly robust at higher number of trees but it can still overfit at a point. Hence, this should be tuned using CV for a particular learning rate.\n",
    "\n",
    "subsample\n",
    "The fraction of observations to be selected for each tree. Selection is done by random sampling.\n",
    "Values slightly less than 1 make the model robust by reducing the variance.\n",
    "Typical values ~0.8 generally work fine but can be fine-tuned further."
   ]
  },
  {
   "cell_type": "code",
   "execution_count": 85,
   "metadata": {
    "scrolled": false
   },
   "outputs": [
    {
     "name": "stdout",
     "output_type": "stream",
     "text": [
      "{'learning_rate': [0.1, 0.05, 0.02, 0.01], 'max_depth': [4, 6, 8], 'min_samples_leaf': [20, 50, 100, 150]}\n",
      "Fitting 5 folds for each of 180 candidates, totalling 900 fits\n"
     ]
    },
    {
     "name": "stderr",
     "output_type": "stream",
     "text": [
      "[Parallel(n_jobs=-1)]: Done  24 tasks      | elapsed:   44.3s\n",
      "[Parallel(n_jobs=-1)]: Done 120 tasks      | elapsed:  3.5min\n",
      "[Parallel(n_jobs=-1)]: Done 280 tasks      | elapsed:  9.1min\n",
      "[Parallel(n_jobs=-1)]: Done 504 tasks      | elapsed: 16.7min\n",
      "[Parallel(n_jobs=-1)]: Done 792 tasks      | elapsed: 27.7min\n",
      "[Parallel(n_jobs=-1)]: Done 900 out of 900 | elapsed: 33.0min finished\n"
     ]
    },
    {
     "name": "stdout",
     "output_type": "stream",
     "text": [
      "Fitting 5 folds for each of 180 candidates, totalling 900 fits\n"
     ]
    },
    {
     "name": "stderr",
     "output_type": "stream",
     "text": [
      "[Parallel(n_jobs=-1)]: Done  24 tasks      | elapsed:   42.3s\n",
      "[Parallel(n_jobs=-1)]: Done 120 tasks      | elapsed:  3.7min\n",
      "[Parallel(n_jobs=-1)]: Done 280 tasks      | elapsed: 10.0min\n",
      "[Parallel(n_jobs=-1)]: Done 504 tasks      | elapsed: 18.5min\n",
      "[Parallel(n_jobs=-1)]: Done 792 tasks      | elapsed: 30.2min\n",
      "[Parallel(n_jobs=-1)]: Done 900 out of 900 | elapsed: 36.1min finished\n"
     ]
    },
    {
     "name": "stdout",
     "output_type": "stream",
     "text": [
      "Fitting 5 folds for each of 180 candidates, totalling 900 fits\n"
     ]
    },
    {
     "name": "stderr",
     "output_type": "stream",
     "text": [
      "[Parallel(n_jobs=-1)]: Done  24 tasks      | elapsed:   42.1s\n",
      "[Parallel(n_jobs=-1)]: Done 120 tasks      | elapsed:  3.7min\n",
      "[Parallel(n_jobs=-1)]: Done 280 tasks      | elapsed:  9.8min\n",
      "[Parallel(n_jobs=-1)]: Done 504 tasks      | elapsed: 18.5min\n",
      "[Parallel(n_jobs=-1)]: Done 792 tasks      | elapsed: 30.3min\n",
      "[Parallel(n_jobs=-1)]: Done 900 out of 900 | elapsed: 36.3min finished\n"
     ]
    },
    {
     "name": "stdout",
     "output_type": "stream",
     "text": [
      "Fitting 5 folds for each of 180 candidates, totalling 900 fits\n"
     ]
    },
    {
     "name": "stderr",
     "output_type": "stream",
     "text": [
      "[Parallel(n_jobs=-1)]: Done  24 tasks      | elapsed:   42.1s\n",
      "[Parallel(n_jobs=-1)]: Done 120 tasks      | elapsed:  3.7min\n",
      "[Parallel(n_jobs=-1)]: Done 280 tasks      | elapsed:  9.8min\n",
      "[Parallel(n_jobs=-1)]: Done 504 tasks      | elapsed: 18.4min\n",
      "[Parallel(n_jobs=-1)]: Done 792 tasks      | elapsed: 30.1min\n",
      "[Parallel(n_jobs=-1)]: Done 900 out of 900 | elapsed: 36.2min finished\n"
     ]
    },
    {
     "name": "stdout",
     "output_type": "stream",
     "text": [
      "Fitting 5 folds for each of 180 candidates, totalling 900 fits\n"
     ]
    },
    {
     "name": "stderr",
     "output_type": "stream",
     "text": [
      "[Parallel(n_jobs=-1)]: Done  24 tasks      | elapsed:   44.7s\n",
      "[Parallel(n_jobs=-1)]: Done 120 tasks      | elapsed:  3.7min\n",
      "[Parallel(n_jobs=-1)]: Done 280 tasks      | elapsed:  9.9min\n",
      "[Parallel(n_jobs=-1)]: Done 504 tasks      | elapsed: 18.4min\n",
      "[Parallel(n_jobs=-1)]: Done 792 tasks      | elapsed: 29.9min\n",
      "[Parallel(n_jobs=-1)]: Done 900 out of 900 | elapsed: 36.0min finished\n"
     ]
    },
    {
     "name": "stdout",
     "output_type": "stream",
     "text": [
      "Fitting 5 folds for each of 180 candidates, totalling 900 fits\n"
     ]
    },
    {
     "name": "stderr",
     "output_type": "stream",
     "text": [
      "[Parallel(n_jobs=-1)]: Done  24 tasks      | elapsed:   54.1s\n",
      "[Parallel(n_jobs=-1)]: Done 120 tasks      | elapsed:  3.9min\n",
      "[Parallel(n_jobs=-1)]: Done 280 tasks      | elapsed: 10.0min\n",
      "[Parallel(n_jobs=-1)]: Done 504 tasks      | elapsed: 18.6min\n",
      "[Parallel(n_jobs=-1)]: Done 792 tasks      | elapsed: 30.4min\n",
      "[Parallel(n_jobs=-1)]: Done 900 out of 900 | elapsed: 36.5min finished\n"
     ]
    },
    {
     "name": "stdout",
     "output_type": "stream",
     "text": [
      "[0.78168161 0.77608076 0.77628844 0.72207456 0.81002836]\n",
      "MSE: 95078835628.4490\n",
      "0.7885237741706127\n",
      "--- 12903.54311233839 seconds ---\n"
     ]
    }
   ],
   "source": [
    "start_time = time.clock()\n",
    "params = {'n_estimators': [300, 400, 500], 'learning_rate': [0.1, 0.05, 0.02, 0.01],\n",
    "              'max_depth': [4, 6, 8],\n",
    "              'min_samples_leaf': [2, 5, 10, 20, 50]}\n",
    "              #'max_features': [1.0, 0.3, 0.1]\n",
    "                                \n",
    "print(gb_grid_params)\n",
    "\n",
    "clf = GradientBoostingRegressor(n_estimators = 400)\n",
    "\n",
    "gb_clf = GridSearchCV(clf,\n",
    "                   params,\n",
    "                   cv=5,\n",
    "                   scoring='explained_variance',\n",
    "                   verbose = 3,\n",
    "                   n_jobs= -1);\n",
    "gb_clf.fit(X_train, y_train)\n",
    "predict_train = gb_clf.predict(X_train)\n",
    "predict_test = gb_clf.predict(X_test)\n",
    "\n",
    "# Evaluations\n",
    "score_gb = cross_val_score(gb_clf, X_pca, Y, cv=5)\n",
    "print(score_gb)\n",
    "\n",
    "# Meansquare error\n",
    "mse = mean_squared_error(y_test, gb_clf.predict(X_test))\n",
    "print(\"MSE: %.4f\" % mse)\n",
    "\n",
    "# R square\n",
    "R2_gb = r2_score(y_test, gb_clf.predict(X_test))\n",
    "print(R2_gb)\n",
    "\n",
    "\n",
    "\n",
    "print(\"--- %s seconds ---\" % (time.clock() - start_time))"
   ]
  },
  {
   "cell_type": "code",
   "execution_count": 89,
   "metadata": {},
   "outputs": [
    {
     "data": {
      "text/plain": [
       "0.7732307471977311"
      ]
     },
     "execution_count": 89,
     "metadata": {},
     "output_type": "execute_result"
    }
   ],
   "source": [
    "score_gb.mean()"
   ]
  },
  {
   "cell_type": "markdown",
   "metadata": {},
   "source": [
    "Gradient boosting takes much longer time to run because it build trees sequentially. We used a five fold cross validation to cut on run time. It has good, MSE, and r square scores. Random forest regression with original features has a slightly better score. \n"
   ]
  },
  {
   "cell_type": "markdown",
   "metadata": {},
   "source": [
    "### Feature importance"
   ]
  },
  {
   "cell_type": "code",
   "execution_count": 98,
   "metadata": {},
   "outputs": [
    {
     "data": {
      "image/png": "[encoded data removed]",
      "text/plain": [
       "<Figure size 1008x576 with 1 Axes>"
      ]
     },
     "metadata": {},
     "output_type": "display_data"
    }
   ],
   "source": [
    "feature_importance = best_forest_raw.feature_importances_\n",
    "\n",
    "# Make importances relative to max importance.\n",
    "feature_importance = 100.0 * (feature_importance / feature_importance.max())\n",
    "sorted_idx = np.argsort(feature_importance)\n",
    "pos = np.arange(sorted_idx.shape[0]) + .5\n",
    "plt.subplot(1, 2, 2)\n",
    "plt.barh(pos, feature_importance[sorted_idx], align='center')\n",
    "plt.yticks(pos, X.columns[sorted_idx])\n",
    "plt.xlabel('Relative Importance')\n",
    "plt.title('Variable Importance')\n",
    "plt.show()"
   ]
  },
  {
   "cell_type": "markdown",
   "metadata": {},
   "source": [
    "### Conclusion"
   ]
  },
  {
   "cell_type": "markdown",
   "metadata": {},
   "source": [
    "The recommended model for predicting prices is Random Forest Regression. PCA and Select K Best did not result in a better result than the model fit on the original features. \n",
    "\n",
    "The feature importance from Random Forest may not be reliable when categorical features are present because Random Forest is biased in favor of features with many levels. But, since our data has limited categorical features with many levels, we can use the model to identify feature importance.\n",
    "\n",
    "<ul>The most important factors which affect price are:</ul>\n",
    "<ol>Building area</ol>\n",
    "<ol>Region name</ol>\n",
    "<ol>Distance from Melbourne CBD</ol>\n",
    "<ol>Age of the house, and</ol>\n",
    "<ol>Location as represented by lattitude and longtitude coordinates</ol>\n"
   ]
  },
  {
   "cell_type": "code",
   "execution_count": null,
   "metadata": {},
   "outputs": [],
   "source": []
  }
 ],
 "metadata": {
  "kernelspec": {
   "display_name": "Python 3",
   "language": "python",
   "name": "python3"
  },
  "language_info": {
   "codemirror_mode": {
    "name": "ipython",
    "version": 3
   },
   "file_extension": ".py",
   "mimetype": "text/x-python",
   "name": "python",
   "nbconvert_exporter": "python",
   "pygments_lexer": "ipython3",
   "version": "3.6.5"
  }
 },
 "nbformat": 4,
 "nbformat_minor": 2
}
