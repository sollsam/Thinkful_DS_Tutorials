{
 "cells": [
  {
   "cell_type": "markdown",
   "metadata": {},
   "source": [
    "## Challenge\n",
    "\n",
    "Now take your Keras skills and go build another neural network. Pick your data set, but it should be one of abstract types, possibly even nonnumeric, and use Keras to make five implementations of your network. Compare them both in computational complexity as well as in accuracy and given that tradeoff decide which one you like best.\n",
    "\n",
    "Your dataset should be sufficiently large for a neural network to perform well (samples should really be in the thousands here) and try to pick something that takes advantage of neural networks’ ability to have both feature extraction and supervised capabilities, so don’t pick something with an easy to consume list of features already generated for you (though neural networks can still be useful in those contexts).\n",
    "\n",
    "Note that if you want to use an unprocessed image dataset, scikit-image is a useful package for converting to importable numerics."
   ]
  },
  {
   "cell_type": "markdown",
   "metadata": {},
   "source": [
    "We'll use a dataset containing images os 81 different fruits and implement keras to predict fruit types. The dataset is available in the link below.\n",
    "https://www.kaggle.com/moltean/fruits"
   ]
  },
  {
   "cell_type": "code",
   "execution_count": 1,
   "metadata": {},
   "outputs": [
    {
     "name": "stderr",
     "output_type": "stream",
     "text": [
      "C:\\Program Files (x86)\\Microsoft Visual Studio\\Shared\\Anaconda3_64\\lib\\site-packages\\h5py\\__init__.py:36: FutureWarning: Conversion of the second argument of issubdtype from `float` to `np.floating` is deprecated. In future, it will be treated as `np.float64 == np.dtype(float).type`.\n",
      "  from ._conv import register_converters as _register_converters\n",
      "Using TensorFlow backend.\n"
     ]
    }
   ],
   "source": [
    "import pandas as pd\n",
    "import numpy as np\n",
    "import matplotlib.pyplot as plt\n",
    "%matplotlib inline \n",
    "import tensorflow as tf\n",
    "import keras \n",
    "\n",
    "# Import various componenets for model building\n",
    "from keras.models import Sequential\n",
    "from keras.layers import Dense, Dropout, Flatten, Conv2D, MaxPooling2D\n",
    "from keras.layers import LSTM, Input, TimeDistributed\n",
    "from keras.models import Model\n",
    "from keras.optimizers import RMSprop\n",
    "\n",
    "import os\n",
    "import cv2\n",
    "import glob\n",
    "\n",
    "# Import the backend\n",
    "from keras import backend as K"
   ]
  },
  {
   "cell_type": "markdown",
   "metadata": {},
   "source": [
    "The training and tests are already available in separate folders. "
   ]
  },
  {
   "cell_type": "code",
   "execution_count": 2,
   "metadata": {},
   "outputs": [],
   "source": [
    "#Importing the training set\n",
    "train_fruit_img = []\n",
    "train_labels = [] \n",
    "for fruit_path in glob.glob(\"../Omistaja/*/fruits-360/Training/*\"):\n",
    "    fruit_label = fruit_path.split(\"\\\\\")[-1]\n",
    "    for image_path in glob.glob(os.path.join(fruit_path, \"*.jpg\")):\n",
    "        image = cv2.imread(image_path, cv2.IMREAD_COLOR)\n",
    "        # Shrink\n",
    "        image = cv2.resize(image, (50, 50))\n",
    "        image = cv2.cvtColor(image, cv2.COLOR_BGR2RGB)\n",
    "        \n",
    "        train_fruit_img.append(image)\n",
    "        train_labels.append(fruit_label)\n",
    "train_fruit_img = np.array(train_fruit_img)\n",
    "train_labels = np.array(train_labels)"
   ]
  },
  {
   "cell_type": "code",
   "execution_count": 3,
   "metadata": {},
   "outputs": [
    {
     "data": {
      "text/plain": [
       "array(['Apple Braeburn', 'Apple Braeburn', 'Apple Braeburn', ...,\n",
       "       'Walnut', 'Walnut', 'Walnut'], dtype='<U19')"
      ]
     },
     "execution_count": 3,
     "metadata": {},
     "output_type": "execute_result"
    }
   ],
   "source": [
    "#Inspect labels\n",
    "train_labels"
   ]
  },
  {
   "cell_type": "code",
   "execution_count": 4,
   "metadata": {
    "scrolled": false
   },
   "outputs": [
    {
     "data": {
      "text/plain": [
       "'../Omistaja\\\\fruits\\\\fruits-360\\\\Training\\\\Walnut'"
      ]
     },
     "execution_count": 4,
     "metadata": {},
     "output_type": "execute_result"
    }
   ],
   "source": [
    "fruit_path"
   ]
  },
  {
   "cell_type": "code",
   "execution_count": 5,
   "metadata": {},
   "outputs": [],
   "source": [
    "#Importing the test set\n",
    "test_fruit_img = []\n",
    "test_labels = [] \n",
    "for fruit_path in glob.glob(\"../Omistaja/*/fruits-360/Test/*\"):\n",
    "    fruit_label = fruit_path.split(\"\\\\\")[-1]\n",
    "    for image_path in glob.glob(os.path.join(fruit_path, \"*.jpg\")):\n",
    "        image = cv2.imread(image_path, cv2.IMREAD_COLOR)\n",
    "        \n",
    "        image = cv2.resize(image, (50, 50))\n",
    "        image = cv2.cvtColor(image, cv2.COLOR_BGR2RGB)\n",
    "        \n",
    "        test_fruit_img.append(image)\n",
    "        test_labels.append(fruit_label)\n",
    "test_fruit_img = np.array(test_fruit_img)\n",
    "test_labels = np.array(test_labels)"
   ]
  },
  {
   "cell_type": "code",
   "execution_count": 6,
   "metadata": {},
   "outputs": [],
   "source": [
    "# create labels dictionary \n",
    "label_to_id = {v: i for i,v in enumerate(np.unique(train_labels))}\n",
    "id_to_label = {v: k for k, v in label_to_id.items()}"
   ]
  },
  {
   "cell_type": "code",
   "execution_count": 7,
   "metadata": {},
   "outputs": [
    {
     "data": {
      "text/plain": [
       "{0: 'Apple Braeburn',\n",
       " 1: 'Apple Golden 1',\n",
       " 2: 'Apple Golden 2',\n",
       " 3: 'Apple Golden 3',\n",
       " 4: 'Apple Granny Smith',\n",
       " 5: 'Apple Red 1',\n",
       " 6: 'Apple Red 2',\n",
       " 7: 'Apple Red 3',\n",
       " 8: 'Apple Red Delicious',\n",
       " 9: 'Apple Red Yellow',\n",
       " 10: 'Apricot',\n",
       " 11: 'Avocado',\n",
       " 12: 'Avocado ripe',\n",
       " 13: 'Banana',\n",
       " 14: 'Banana Red',\n",
       " 15: 'Cactus fruit',\n",
       " 16: 'Cantaloupe 1',\n",
       " 17: 'Cantaloupe 2',\n",
       " 18: 'Carambula',\n",
       " 19: 'Cherry 1',\n",
       " 20: 'Cherry 2',\n",
       " 21: 'Cherry Rainier',\n",
       " 22: 'Cherry Wax Black',\n",
       " 23: 'Cherry Wax Red',\n",
       " 24: 'Cherry Wax Yellow',\n",
       " 25: 'Clementine',\n",
       " 26: 'Cocos',\n",
       " 27: 'Dates',\n",
       " 28: 'Granadilla',\n",
       " 29: 'Grape Pink',\n",
       " 30: 'Grape White',\n",
       " 31: 'Grape White 2',\n",
       " 32: 'Grapefruit Pink',\n",
       " 33: 'Grapefruit White',\n",
       " 34: 'Guava',\n",
       " 35: 'Huckleberry',\n",
       " 36: 'Kaki',\n",
       " 37: 'Kiwi',\n",
       " 38: 'Kumquats',\n",
       " 39: 'Lemon',\n",
       " 40: 'Lemon Meyer',\n",
       " 41: 'Limes',\n",
       " 42: 'Lychee',\n",
       " 43: 'Mandarine',\n",
       " 44: 'Mango',\n",
       " 45: 'Maracuja',\n",
       " 46: 'Melon Piel de Sapo',\n",
       " 47: 'Mulberry',\n",
       " 48: 'Nectarine',\n",
       " 49: 'Orange',\n",
       " 50: 'Papaya',\n",
       " 51: 'Passion Fruit',\n",
       " 52: 'Peach',\n",
       " 53: 'Peach Flat',\n",
       " 54: 'Pear',\n",
       " 55: 'Pear Abate',\n",
       " 56: 'Pear Monster',\n",
       " 57: 'Pear Williams',\n",
       " 58: 'Pepino',\n",
       " 59: 'Physalis',\n",
       " 60: 'Physalis with Husk',\n",
       " 61: 'Pineapple',\n",
       " 62: 'Pineapple Mini',\n",
       " 63: 'Pitahaya Red',\n",
       " 64: 'Plum',\n",
       " 65: 'Pomegranate',\n",
       " 66: 'Quince',\n",
       " 67: 'Rambutan',\n",
       " 68: 'Raspberry',\n",
       " 69: 'Salak',\n",
       " 70: 'Strawberry',\n",
       " 71: 'Strawberry Wedge',\n",
       " 72: 'Tamarillo',\n",
       " 73: 'Tangelo',\n",
       " 74: 'Tomato 1',\n",
       " 75: 'Tomato 2',\n",
       " 76: 'Tomato 3',\n",
       " 77: 'Tomato 4',\n",
       " 78: 'Tomato Cherry Red',\n",
       " 79: 'Tomato Maroon',\n",
       " 80: 'Walnut'}"
      ]
     },
     "execution_count": 7,
     "metadata": {},
     "output_type": "execute_result"
    }
   ],
   "source": [
    "# 81 of fruit types\n",
    "id_to_label"
   ]
  },
  {
   "cell_type": "code",
   "execution_count": 8,
   "metadata": {},
   "outputs": [
    {
     "data": {
      "text/plain": [
       "array([ 0,  0,  0, ..., 80, 80, 80])"
      ]
     },
     "execution_count": 8,
     "metadata": {},
     "output_type": "execute_result"
    }
   ],
   "source": [
    "train_labels_id = np.array([label_to_id[i] for i in train_labels])\n",
    "test_labels_id = np.array([label_to_id[i] for i in test_labels])\n",
    "test_labels_id\n"
   ]
  },
  {
   "cell_type": "code",
   "execution_count": 11,
   "metadata": {},
   "outputs": [],
   "source": [
    "# Normalize values to 1 from 0 to 255 (256 values of pixels)\n",
    "train_fruit_img, test_fruit_img = train_fruit_img / 255.0, test_fruit_img / 255.0 \n"
   ]
  },
  {
   "cell_type": "code",
   "execution_count": 12,
   "metadata": {},
   "outputs": [
    {
     "data": {
      "text/plain": [
       "<matplotlib.image.AxesImage at 0x189f363f160>"
      ]
     },
     "execution_count": 12,
     "metadata": {},
     "output_type": "execute_result"
    },
    {
     "data": {
      "image/png": "[encoded data removed]",
      "text/plain": [
       "<Figure size 432x288 with 1 Axes>"
      ]
     },
     "metadata": {},
     "output_type": "display_data"
    }
   ],
   "source": [
    "# show sample image\n",
    "plt.imshow(train_fruit_img[100])"
   ]
  },
  {
   "cell_type": "code",
   "execution_count": 25,
   "metadata": {},
   "outputs": [],
   "source": [
    "# Assigning train and test\n",
    "X_train, X_test = train_fruit_img, test_fruit_img\n",
    "y_train, y_test = train_labels_id, test_labels_id"
   ]
  },
  {
   "cell_type": "code",
   "execution_count": 14,
   "metadata": {},
   "outputs": [],
   "source": [
    "# Convert to float32 for type consistency\n",
    "X_train = X_train.astype('float32')\n",
    "X_test = X_test.astype('float32')"
   ]
  },
  {
   "cell_type": "code",
   "execution_count": 28,
   "metadata": {},
   "outputs": [
    {
     "name": "stdout",
     "output_type": "stream",
     "text": [
      "Original Sizes: (41322, 50, 50, 3) (13877, 50, 50, 3) (41322, 81) (13877, 81)\n",
      "Flattened: (41322, 7500) (13877, 7500)\n"
     ]
    }
   ],
   "source": [
    "#Reshaping to flattened arrays\n",
    "X_train_flat = X_train.reshape(X_train.shape[0], 50*50*3)\n",
    "X_test_flat = X_test.reshape(X_test.shape[0], 50*50*3)\n",
    "\n",
    "# Convert class vectors to binary class matrices\n",
    "# create 81 binary columns ofr each label\n",
    "y_train = keras.utils.to_categorical(y_train, 81, dtype='float')\n",
    "y_test = keras.utils.to_categorical(y_test, 81, dtype='float')\n",
    "\n",
    "print('Original Sizes:', X_train.shape, X_test.shape, y_train.shape, y_test.shape)\n",
    "print('Flattened:', X_train_flat.shape, X_test_flat.shape)"
   ]
  },
  {
   "cell_type": "markdown",
   "metadata": {},
   "source": [
    "## Multi Layer Perceptron\n",
    "\n",
    "We'll use a sequential model using layers of 128 and 64 nodes respectively with a Rectified Linear Unit activation funcion and a dropout of 0.1"
   ]
  },
  {
   "cell_type": "code",
   "execution_count": 29,
   "metadata": {},
   "outputs": [
    {
     "name": "stdout",
     "output_type": "stream",
     "text": [
      "_________________________________________________________________\n",
      "Layer (type)                 Output Shape              Param #   \n",
      "=================================================================\n",
      "dense_1 (Dense)              (None, 128)               960128    \n",
      "_________________________________________________________________\n",
      "dropout_1 (Dropout)          (None, 128)               0         \n",
      "_________________________________________________________________\n",
      "dense_2 (Dense)              (None, 64)                8256      \n",
      "_________________________________________________________________\n",
      "dropout_2 (Dropout)          (None, 64)                0         \n",
      "_________________________________________________________________\n",
      "dense_3 (Dense)              (None, 81)                5265      \n",
      "=================================================================\n",
      "Total params: 973,649\n",
      "Trainable params: 973,649\n",
      "Non-trainable params: 0\n",
      "_________________________________________________________________\n",
      "Train on 41322 samples, validate on 13877 samples\n",
      "Epoch 1/10\n",
      "41322/41322 [==============================] - 25s 611us/step - loss: 3.1882 - acc: 0.1938 - val_loss: 1.6782 - val_acc: 0.5119\n",
      "Epoch 2/10\n",
      "41322/41322 [==============================] - 14s 328us/step - loss: 1.7532 - acc: 0.4698 - val_loss: 1.1047 - val_acc: 0.6639\n",
      "Epoch 3/10\n",
      "41322/41322 [==============================] - 13s 315us/step - loss: 1.3546 - acc: 0.5818 - val_loss: 0.8481 - val_acc: 0.7396\n",
      "Epoch 4/10\n",
      "41322/41322 [==============================] - 16s 396us/step - loss: 1.1465 - acc: 0.6441 - val_loss: 0.8920 - val_acc: 0.6942\n",
      "Epoch 5/10\n",
      "41322/41322 [==============================] - 12s 301us/step - loss: 1.0092 - acc: 0.6827 - val_loss: 0.6589 - val_acc: 0.8241\n",
      "Epoch 6/10\n",
      "41322/41322 [==============================] - 13s 311us/step - loss: 0.9063 - acc: 0.7141 - val_loss: 0.5401 - val_acc: 0.8429\n",
      "Epoch 7/10\n",
      "41322/41322 [==============================] - 14s 338us/step - loss: 0.8426 - acc: 0.7361 - val_loss: 0.7177 - val_acc: 0.7551\n",
      "Epoch 8/10\n",
      "41322/41322 [==============================] - 18s 444us/step - loss: 0.7729 - acc: 0.7585 - val_loss: 0.4667 - val_acc: 0.8523\n",
      "Epoch 9/10\n",
      "41322/41322 [==============================] - 15s 367us/step - loss: 0.7307 - acc: 0.7714 - val_loss: 0.6549 - val_acc: 0.7837\n",
      "Epoch 10/10\n",
      "41322/41322 [==============================] - 13s 309us/step - loss: 0.6838 - acc: 0.7876 - val_loss: 0.5338 - val_acc: 0.8254\n",
      "Test loss: 0.5337951074654697\n",
      "Test accuracy: 0.8253945377242919\n"
     ]
    }
   ],
   "source": [
    "# Start with a simple sequential model\n",
    "model = Sequential()\n",
    "\n",
    "# Add dense layers to create a fully connected MLP\n",
    "# Note that we specify an input shape for the first layer, but only the first layer.\n",
    "# Relu is the activation function used\n",
    "model.add(Dense(128, activation='relu', input_shape=(X_train_flat.shape[1],)))\n",
    "# Dropout layers remove features and fight overfitting\n",
    "model.add(Dropout(0.1))\n",
    "model.add(Dense(64, activation='relu'))\n",
    "model.add(Dropout(0.1))\n",
    "# End with a number of units equal to the number of classes we have for our outcome\n",
    "model.add(Dense(81, activation='softmax'))\n",
    "\n",
    "model.summary()\n",
    "\n",
    "# Compile the model to put it all together.\n",
    "model.compile(loss='categorical_crossentropy',\n",
    "              optimizer=RMSprop(),\n",
    "              metrics=['accuracy'])\n",
    "\n",
    "\n",
    "history = model.fit(X_train_flat, y_train,\n",
    "                    batch_size=128,\n",
    "                    epochs=10,\n",
    "                    verbose=1,\n",
    "                    validation_data=(X_test_flat, y_test))\n",
    "score = model.evaluate(X_test_flat, y_test, verbose=0)\n",
    "print('Test loss:', score[0])\n",
    "print('Test accuracy:', score[1])"
   ]
  },
  {
   "cell_type": "markdown",
   "metadata": {},
   "source": [
    "Let's modify the model by adding more dense layers.Each layer will have: 256, 256, 128, and 64, nodes respectively. We'll still use the Rectified Linear Unit activation funcion."
   ]
  },
  {
   "cell_type": "markdown",
   "metadata": {},
   "source": [
    "## Multi Layer Perceptron with dense layers"
   ]
  },
  {
   "cell_type": "code",
   "execution_count": 30,
   "metadata": {},
   "outputs": [
    {
     "name": "stdout",
     "output_type": "stream",
     "text": [
      "_________________________________________________________________\n",
      "Layer (type)                 Output Shape              Param #   \n",
      "=================================================================\n",
      "dense_4 (Dense)              (None, 256)               1920256   \n",
      "_________________________________________________________________\n",
      "dropout_3 (Dropout)          (None, 256)               0         \n",
      "_________________________________________________________________\n",
      "dense_5 (Dense)              (None, 256)               65792     \n",
      "_________________________________________________________________\n",
      "dropout_4 (Dropout)          (None, 256)               0         \n",
      "_________________________________________________________________\n",
      "dense_6 (Dense)              (None, 128)               32896     \n",
      "_________________________________________________________________\n",
      "dropout_5 (Dropout)          (None, 128)               0         \n",
      "_________________________________________________________________\n",
      "dense_7 (Dense)              (None, 64)                8256      \n",
      "_________________________________________________________________\n",
      "dropout_6 (Dropout)          (None, 64)                0         \n",
      "_________________________________________________________________\n",
      "dense_8 (Dense)              (None, 81)                5265      \n",
      "=================================================================\n",
      "Total params: 2,032,465\n",
      "Trainable params: 2,032,465\n",
      "Non-trainable params: 0\n",
      "_________________________________________________________________\n",
      "Train on 41322 samples, validate on 13877 samples\n",
      "Epoch 1/10\n",
      "41322/41322 [==============================] - 30s 733us/step - loss: 3.1577 - acc: 0.1804 - val_loss: 2.0634 - val_acc: 0.3868\n",
      "Epoch 2/10\n",
      "41322/41322 [==============================] - 21s 513us/step - loss: 1.5653 - acc: 0.4994 - val_loss: 0.8033 - val_acc: 0.7455\n",
      "Epoch 3/10\n",
      "41322/41322 [==============================] - 20s 493us/step - loss: 1.0481 - acc: 0.6589 - val_loss: 0.6029 - val_acc: 0.8020\n",
      "Epoch 4/10\n",
      "41322/41322 [==============================] - 20s 491us/step - loss: 0.8160 - acc: 0.7341 - val_loss: 0.5994 - val_acc: 0.7984\n",
      "Epoch 5/10\n",
      "41322/41322 [==============================] - 20s 491us/step - loss: 0.6645 - acc: 0.7800 - val_loss: 0.5402 - val_acc: 0.8335\n",
      "Epoch 6/10\n",
      "41322/41322 [==============================] - 21s 503us/step - loss: 0.5764 - acc: 0.8102 - val_loss: 0.5549 - val_acc: 0.8206\n",
      "Epoch 7/10\n",
      "41322/41322 [==============================] - 20s 494us/step - loss: 0.4990 - acc: 0.8380 - val_loss: 0.5385 - val_acc: 0.8234\n",
      "Epoch 8/10\n",
      "41322/41322 [==============================] - 20s 494us/step - loss: 0.4448 - acc: 0.8555 - val_loss: 0.3502 - val_acc: 0.8792\n",
      "Epoch 9/10\n",
      "41322/41322 [==============================] - 20s 492us/step - loss: 0.4131 - acc: 0.8653 - val_loss: 0.3264 - val_acc: 0.9064\n",
      "Epoch 10/10\n",
      "41322/41322 [==============================] - 20s 494us/step - loss: 0.3741 - acc: 0.8786 - val_loss: 0.4025 - val_acc: 0.8726\n",
      "Test loss: 0.40246581971165507\n",
      "Test accuracy: 0.8725949412697269\n"
     ]
    }
   ],
   "source": [
    "# Start with a simple sequential model\n",
    "model = Sequential()\n",
    "\n",
    "# Add dense layers to create a fully connected MLP\n",
    "# Note that we specify an input shape for the first layer, but only the first layer.\n",
    "# Relu is the activation function used\n",
    "model.add(Dense(256, activation='relu', input_shape=(X_train_flat.shape[1],)))\n",
    "# Dropout layers remove features and fight overfitting\n",
    "model.add(Dropout(0.1))\n",
    "model.add(Dense(256, activation='relu'))\n",
    "model.add(Dropout(0.1))\n",
    "model.add(Dense(128, activation='relu'))\n",
    "model.add(Dropout(0.1))\n",
    "model.add(Dense(64, activation='relu'))\n",
    "model.add(Dropout(0.1))\n",
    "# End with a number of units equal to the number of classes we have for our outcome\n",
    "model.add(Dense(81, activation='softmax'))\n",
    "\n",
    "model.summary()\n",
    "\n",
    "# Compile the model to put it all together.\n",
    "model.compile(loss='categorical_crossentropy',\n",
    "              optimizer=RMSprop(),\n",
    "              metrics=['accuracy'])\n",
    "\n",
    "\n",
    "history = model.fit(X_train_flat, y_train,\n",
    "                    batch_size=128,\n",
    "                    epochs=10,\n",
    "                    verbose=1,\n",
    "                    validation_data=(X_test_flat, y_test))\n",
    "score = model.evaluate(X_test_flat, y_test, verbose=0)\n",
    "print('Test loss:', score[0])\n",
    "print('Test accuracy:', score[1])"
   ]
  },
  {
   "cell_type": "markdown",
   "metadata": {},
   "source": [
    "We've managed to increase the accuracy by adding more layers with more nodes. Now let's use Convolutional Neural Networks and try to increse the accuracy. "
   ]
  },
  {
   "cell_type": "markdown",
   "metadata": {},
   "source": [
    "## Convolutional Neural Networks"
   ]
  },
  {
   "cell_type": "markdown",
   "metadata": {},
   "source": [
    "We'll build a Convolutional Neural Network. "
   ]
  },
  {
   "cell_type": "code",
   "execution_count": 36,
   "metadata": {},
   "outputs": [
    {
     "name": "stdout",
     "output_type": "stream",
     "text": [
      "Train on 41322 samples, validate on 13877 samples\n",
      "Epoch 1/10\n",
      "41322/41322 [==============================] - 447s 11ms/step - loss: 3.2145 - acc: 0.1949 - val_loss: 1.0897 - val_acc: 0.6889\n",
      "Epoch 2/10\n",
      "41322/41322 [==============================] - 431s 10ms/step - loss: 1.0717 - acc: 0.6567 - val_loss: 0.3127 - val_acc: 0.8970\n",
      "Epoch 3/10\n",
      "41322/41322 [==============================] - 424s 10ms/step - loss: 0.5167 - acc: 0.8231 - val_loss: 0.2411 - val_acc: 0.9199\n",
      "Epoch 4/10\n",
      "41322/41322 [==============================] - 420s 10ms/step - loss: 0.3511 - acc: 0.8777 - val_loss: 0.1761 - val_acc: 0.9476\n",
      "Epoch 5/10\n",
      "41322/41322 [==============================] - 419s 10ms/step - loss: 0.2714 - acc: 0.9026 - val_loss: 0.1404 - val_acc: 0.9581\n",
      "Epoch 6/10\n",
      "41322/41322 [==============================] - 419s 10ms/step - loss: 0.2175 - acc: 0.9211 - val_loss: 0.1385 - val_acc: 0.9515\n",
      "Epoch 7/10\n",
      "41322/41322 [==============================] - 418s 10ms/step - loss: 0.1873 - acc: 0.9328 - val_loss: 0.1365 - val_acc: 0.9592\n",
      "Epoch 8/10\n",
      "41322/41322 [==============================] - 420s 10ms/step - loss: 0.1666 - acc: 0.9383 - val_loss: 0.1203 - val_acc: 0.9642\n",
      "Epoch 9/10\n",
      "41322/41322 [==============================] - 419s 10ms/step - loss: 0.1506 - acc: 0.9444 - val_loss: 0.1325 - val_acc: 0.9651\n",
      "Epoch 10/10\n",
      "41322/41322 [==============================] - 428s 10ms/step - loss: 0.1356 - acc: 0.9482 - val_loss: 0.1035 - val_acc: 0.9686\n",
      "Test loss: 0.10345630674010495\n",
      "Test accuracy: 0.9685811054262449\n"
     ]
    }
   ],
   "source": [
    "# Building the Model\n",
    "num_classes = 81\n",
    "model = Sequential()\n",
    "# First convolutional layer, note the specification of shape\n",
    "model.add(Conv2D(32, kernel_size=(3, 3),\n",
    "                 activation='relu',\n",
    "                 input_shape=(50, 50, 3)))\n",
    "model.add(Conv2D(64, (3, 3), activation='relu'))\n",
    "model.add(MaxPooling2D(pool_size=(2, 2)))\n",
    "model.add(Dropout(0.25))\n",
    "model.add(Flatten())\n",
    "model.add(Dense(128, activation='relu'))\n",
    "model.add(Dropout(0.5))\n",
    "model.add(Dense(num_classes, activation='softmax'))\n",
    "\n",
    "model.compile(loss=keras.losses.categorical_crossentropy,\n",
    "              optimizer=keras.optimizers.Adadelta(),\n",
    "              metrics=['accuracy'])\n",
    "\n",
    "model.fit(X_train, y_train,\n",
    "          batch_size=128,\n",
    "          epochs=10,\n",
    "          verbose=1,\n",
    "          validation_data=(X_test, y_test))\n",
    "score = model.evaluate(X_test, y_test, verbose=0)\n",
    "print('Test loss:', score[0])\n",
    "print('Test accuracy:', score[1])"
   ]
  },
  {
   "cell_type": "markdown",
   "metadata": {},
   "source": [
    "## Conclusion\n",
    "\n",
    "Multi Layer Perceptron models run faster and return a reasonably good accuracy. For a higher accuracy Convolutional Neural Network model is a clear winner but it comes with higher runtime.  "
   ]
  }
 ],
 "metadata": {
  "kernelspec": {
   "display_name": "Python 3",
   "language": "python",
   "name": "python3"
  },
  "language_info": {
   "codemirror_mode": {
    "name": "ipython",
    "version": 3
   },
   "file_extension": ".py",
   "mimetype": "text/x-python",
   "name": "python",
   "nbconvert_exporter": "python",
   "pygments_lexer": "ipython3",
   "version": "3.6.5"
  }
 },
 "nbformat": 4,
 "nbformat_minor": 2
}
